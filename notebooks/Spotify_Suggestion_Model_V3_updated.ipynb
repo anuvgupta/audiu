{
  "cells": [
    {
      "cell_type": "markdown",
      "metadata": {
        "id": "n7CFK0vovSNF"
      },
      "source": [
        "# Spotify Suggestion Model V3"
      ]
    },
    {
      "cell_type": "markdown",
      "metadata": {
        "id": "QK7_salHtjAo"
      },
      "source": [
        "## Infrastructure"
      ]
    },
    {
      "cell_type": "code",
      "execution_count": 2,
      "metadata": {
        "id": "0qdIGCbJiiqQ"
      },
      "outputs": [
        {
          "name": "stdout",
          "output_type": "stream",
          "text": [
            "Requirement already satisfied: spotipy in /Users/anuv/miniforge3/envs/mlp/lib/python3.8/site-packages (2.19.0)\n",
            "Requirement already satisfied: requests>=2.25.0 in /Users/anuv/miniforge3/envs/mlp/lib/python3.8/site-packages (from spotipy) (2.27.1)\n",
            "Requirement already satisfied: six>=1.15.0 in /Users/anuv/miniforge3/envs/mlp/lib/python3.8/site-packages (from spotipy) (1.16.0)\n",
            "Requirement already satisfied: urllib3>=1.26.0 in /Users/anuv/miniforge3/envs/mlp/lib/python3.8/site-packages (from spotipy) (1.26.9)\n",
            "Requirement already satisfied: certifi>=2017.4.17 in /Users/anuv/miniforge3/envs/mlp/lib/python3.8/site-packages (from requests>=2.25.0->spotipy) (2021.10.8)\n",
            "Requirement already satisfied: charset-normalizer~=2.0.0 in /Users/anuv/miniforge3/envs/mlp/lib/python3.8/site-packages (from requests>=2.25.0->spotipy) (2.0.12)\n",
            "Requirement already satisfied: idna<4,>=2.5 in /Users/anuv/miniforge3/envs/mlp/lib/python3.8/site-packages (from requests>=2.25.0->spotipy) (3.3)\n"
          ]
        }
      ],
      "source": [
        "import sys\n",
        "!{sys.executable} -m pip install spotipy\n",
        "# !{sys.executable} -m pip install tensorflow\n",
        "# !{sys.executable} -m pip install pandas numpy scikit-learn keras scikeras[tensorflow]"
      ]
    },
    {
      "cell_type": "code",
      "execution_count": 3,
      "metadata": {
        "id": "66Ln0z2NilEK"
      },
      "outputs": [],
      "source": [
        "username = \"agwx2\"\n",
        "cid = \"17c11cf9271f4980a85e6aab83cba6bb\" \n",
        "secret = \"015c9abf126340a7981e7ba64dbe7828\"\n",
        "# good_playlist_id = \"61BmnG6d7ifmj8Dr5tuCBK\"\n",
        "# bad_playlist_ids = \"53FPslFSIAGvVyERcNG4J3\"\n",
        "# source_playlist_id = \"5ghFHvZmV4FDK5YLeZQRu9\"\n",
        "good_playlist_ids = [\n",
        "    \"37i9dQZF1DX48TTZL62Yht\",   # Hip Hop Favourites\n",
        "    \"37i9dQZF1EQnqst5TRi17F\",   # Hip Hop Mix\n",
        "    \"37i9dQZF1DX7FY5ma9162x\",   # R&B Favourites\n",
        "    \"37i9dQZF1EQoqCH7BwIYb7\",   # R&B Mix\n",
        "    \"53FPslFSIAGvVyERcNG4J3\",   # Trap/R&B (personal mix)\n",
        "    # \"37i9dQZF1DWWEcRhUVtL8n\"    # Indie Pop\n",
        "]\n",
        "bad_playlist_ids = [\n",
        "    \"37i9dQZF1EQpj7X7UK8OOF\",   # Rock Mix\n",
        "    \"37i9dQZF1DX1kCIzMYtzum\",   # EDM\n",
        "    \"37i9dQZF1DXbITWG1ZJKYt\",   # Jazz Classics\n",
        "    \"37i9dQZF1EQmPV0vrce2QZ\",   # Country Mix\n",
        "    \"37i9dQZF1EQncLwOalG3K7\",   # Pop Mix\n",
        "    \"61BmnG6d7ifmj8Dr5tuCBK\"    # Classic Rock (personal mix)\n",
        "]\n",
        "source_playlist_ids = [\n",
        "    # \"37i9dQZF1DXb57FjYWz00c\",   # 80s Hits\n",
        "    # \"37i9dQZF1EQn2GRFTFMl2A\",   # 90s Mix\n",
        "    # \"37i9dQZF1DWUZv12GM5cFk\",   # 2000s Hits\n",
        "    # \"37i9dQZF1DXc6IFF23C9jj\",   # 2010s Hits\n",
        "    \"5ghFHvZmV4FDK5YLeZQRu9\",   # Top 100 (personal mix)\n",
        "]\n",
        "source_playlist_id = source_playlist_ids[0]"
      ]
    },
    {
      "cell_type": "code",
      "execution_count": 4,
      "metadata": {
        "id": "Zv-9hy3IimF4"
      },
      "outputs": [],
      "source": [
        "import time\n",
        "\n",
        "import spotipy\n",
        "import spotipy.util as util\n",
        "from spotipy.oauth2 import SpotifyClientCredentials\n",
        "\n",
        "import pandas as pd\n",
        "from sklearn.metrics import accuracy_score, mean_squared_error, r2_score\n",
        "from sklearn.model_selection import StratifiedKFold, cross_val_score, train_test_split\n",
        "\n",
        "from sklearn.neighbors import KNeighborsClassifier\n",
        "from sklearn.tree import DecisionTreeClassifier\n",
        "from sklearn.ensemble import RandomForestClassifier, AdaBoostClassifier, GradientBoostingClassifier, StackingClassifier\n",
        "from sklearn.linear_model import LinearRegression, LogisticRegression\n",
        "\n",
        "from keras.models import Sequential\n",
        "from keras.layers import Dense\n",
        "from sklearn.preprocessing import StandardScaler\n",
        "from sklearn.pipeline import Pipeline\n",
        "\n",
        "# from keras.wrappers.scikit_learn import KerasClassifier\n",
        "from scikeras.wrappers import KerasClassifier"
      ]
    },
    {
      "cell_type": "code",
      "execution_count": 5,
      "metadata": {},
      "outputs": [],
      "source": [
        "def cross_val_analysis(model, x_train, y_train, k = 10, output = True):\n",
        "    kfold = StratifiedKFold(n_splits=k, shuffle=True)\n",
        "    results = cross_val_score(model, x_train, y_train, cv=kfold)\n",
        "    if output:\n",
        "        print(\"Cross-Validation Score Standardized: %.2f%% (%.2f%%)\" %\n",
        "            (results.mean() * 100, results.std() * 100))\n",
        "    return (results.mean() * 100)\n"
      ]
    },
    {
      "cell_type": "markdown",
      "metadata": {
        "id": "DzcmdM3xtoWp"
      },
      "source": [
        "## Data Collection"
      ]
    },
    {
      "cell_type": "code",
      "execution_count": 6,
      "metadata": {
        "id": "4yjbU7XGis6h"
      },
      "outputs": [],
      "source": [
        "sp_cred = SpotifyClientCredentials(\n",
        "    client_id=cid,\n",
        "    client_secret=secret\n",
        ")\n",
        "sp = spotipy.Spotify(client_credentials_manager=sp_cred)"
      ]
    },
    {
      "cell_type": "code",
      "execution_count": 7,
      "metadata": {
        "colab": {
          "base_uri": "https://localhost:8080/"
        },
        "id": "MlI1GrsRi3l3",
        "outputId": "b4b5e8e9-7439-43e8-a2ce-9ead02d6fcc4"
      },
      "outputs": [
        {
          "name": "stdout",
          "output_type": "stream",
          "text": [
            "100\n",
            "50\n",
            "100\n",
            "50\n",
            "217\n",
            "\n",
            "517\n",
            "2BcMwX1MPV6ZHP4tUT9uq6\n"
          ]
        }
      ],
      "source": [
        "all_good_ids = []\n",
        "for good_playlist_id in good_playlist_ids:\n",
        "  good_playlist = sp.user_playlist(username, good_playlist_id)\n",
        "  good_tracks = good_playlist[\"tracks\"]\n",
        "  good_songs = good_tracks[\"items\"]\n",
        "\n",
        "  while good_tracks['next']:\n",
        "      good_tracks = sp.next(good_tracks)\n",
        "      for item in good_tracks[\"items\"]:\n",
        "          good_songs.append(item)\n",
        "\n",
        "  good_ids = []\n",
        "  for i in range(len(good_songs)):\n",
        "      good_ids.append(good_songs[i]['track']['id'])\n",
        "  print(len(good_ids))\n",
        "  all_good_ids += good_ids\n",
        "print(\"\")\n",
        "print(len(all_good_ids))\n",
        "print(all_good_ids[0])"
      ]
    },
    {
      "cell_type": "code",
      "execution_count": 8,
      "metadata": {
        "colab": {
          "base_uri": "https://localhost:8080/"
        },
        "id": "tmxlK5lqjXu5",
        "outputId": "88b82104-fe98-49b6-ff26-aed9bdb8be6c"
      },
      "outputs": [
        {
          "name": "stdout",
          "output_type": "stream",
          "text": [
            "50\n",
            "50\n",
            "250\n",
            "50\n",
            "50\n",
            "132\n",
            "\n",
            "582\n",
            "2WL6GQzPuK9Nrpy9XwNEbz\n"
          ]
        }
      ],
      "source": [
        "all_bad_ids = []\n",
        "for bad_playlist_id in bad_playlist_ids:\n",
        "  bad_playlist = sp.user_playlist(username, bad_playlist_id)\n",
        "  bad_tracks = bad_playlist[\"tracks\"]\n",
        "  bad_songs = bad_tracks[\"items\"]\n",
        "\n",
        "  while bad_tracks['next']:\n",
        "      bad_tracks = sp.next(bad_tracks)\n",
        "      for item in bad_tracks[\"items\"]:\n",
        "          bad_songs.append(item)\n",
        "\n",
        "  bad_ids = []\n",
        "  for i in range(len(bad_songs)):\n",
        "      bad_ids.append(bad_songs[i]['track']['id'])\n",
        "  print(len(bad_ids))\n",
        "  all_bad_ids += bad_ids\n",
        "print(\"\")\n",
        "print(len(all_bad_ids))\n",
        "print(all_bad_ids[0])"
      ]
    },
    {
      "cell_type": "code",
      "execution_count": 9,
      "metadata": {
        "colab": {
          "base_uri": "https://localhost:8080/"
        },
        "id": "22yVFnRptZTM",
        "outputId": "3a3f76fe-0985-423a-fdf7-dfdc9bcc0202"
      },
      "outputs": [
        {
          "name": "stdout",
          "output_type": "stream",
          "text": [
            "147\n",
            "0ipgd8PPFza3NNmN3Rn2uF\n"
          ]
        }
      ],
      "source": [
        "source_playlist = sp.user_playlist(username, source_playlist_id)\n",
        "source_tracks = source_playlist[\"tracks\"]\n",
        "source_songs = source_tracks[\"items\"]\n",
        "\n",
        "while source_tracks['next']:\n",
        "    source_tracks = sp.next(source_tracks)\n",
        "    for item in source_tracks[\"items\"]:\n",
        "        source_songs.append(item)\n",
        "\n",
        "source_ids = []\n",
        "for i in range(len(source_songs)):\n",
        "    if source_songs[i]['track'] != None:\n",
        "      source_ids.append(source_songs[i]['track']['id'])\n",
        "print(len(source_ids))\n",
        "print(source_ids[0])"
      ]
    },
    {
      "cell_type": "code",
      "execution_count": 10,
      "metadata": {
        "colab": {
          "base_uri": "https://localhost:8080/"
        },
        "id": "N7VQZzZ8jJ9D",
        "outputId": "f909629f-4efb-4451-af73-24ee9cf85f27"
      },
      "outputs": [
        {
          "name": "stdout",
          "output_type": "stream",
          "text": [
            "1099\n",
            "{'danceability': 0.849, 'energy': 0.424, 'key': 5, 'loudness': -9.579, 'mode': 0, 'speechiness': 0.324, 'acousticness': 0.0635, 'instrumentalness': 0, 'liveness': 0.0834, 'valence': 0.153, 'tempo': 145.887, 'type': 'audio_features', 'id': '2BcMwX1MPV6ZHP4tUT9uq6', 'uri': 'spotify:track:2BcMwX1MPV6ZHP4tUT9uq6', 'track_href': 'https://api.spotify.com/v1/tracks/2BcMwX1MPV6ZHP4tUT9uq6', 'analysis_url': 'https://api.spotify.com/v1/audio-analysis/2BcMwX1MPV6ZHP4tUT9uq6', 'duration_ms': 242966, 'time_signature': 4, 'target': 1}\n"
          ]
        }
      ],
      "source": [
        "training_features = []\n",
        "\n",
        "for i in range(0, len(all_good_ids), 50):\n",
        "  audio_features = sp.audio_features(all_good_ids[i : i + 50])\n",
        "  for track in audio_features:\n",
        "    if track != None:\n",
        "\n",
        "      track['target'] = 1\n",
        "      training_features.append(track)\n",
        "      # training_features[-1]['target'] = 1\n",
        "\n",
        "for i in range(0, len(all_bad_ids), 50):\n",
        "  audio_features = sp.audio_features(all_bad_ids[i : i + 50])\n",
        "  for track in audio_features:\n",
        "    if track != None:\n",
        "      track['target'] = 0\n",
        "      training_features.append(track)\n",
        "      # training_features[-1]['target'] = 0\n",
        "\n",
        "print(len(training_features))\n",
        "print(training_features[0])"
      ]
    },
    {
      "cell_type": "code",
      "execution_count": 11,
      "metadata": {
        "colab": {
          "base_uri": "https://localhost:8080/"
        },
        "id": "Qfv8qNtJt1bR",
        "outputId": "2c314cc8-f258-469c-f4f6-4e00f56b4473"
      },
      "outputs": [
        {
          "name": "stdout",
          "output_type": "stream",
          "text": [
            "147\n",
            "{'danceability': 0.816, 'energy': 0.754, 'key': 2, 'loudness': -5.922, 'mode': 1, 'speechiness': 0.152, 'acousticness': 0.163, 'instrumentalness': 0.00199, 'liveness': 0.105, 'valence': 0.704, 'tempo': 92.023, 'type': 'audio_features', 'id': '0ipgd8PPFza3NNmN3Rn2uF', 'uri': 'spotify:track:0ipgd8PPFza3NNmN3Rn2uF', 'track_href': 'https://api.spotify.com/v1/tracks/0ipgd8PPFza3NNmN3Rn2uF', 'analysis_url': 'https://api.spotify.com/v1/audio-analysis/0ipgd8PPFza3NNmN3Rn2uF', 'duration_ms': 125217, 'time_signature': 4, 'target': 0}\n"
          ]
        }
      ],
      "source": [
        "source_features = []\n",
        "for i in range(0, len(source_ids), 50):\n",
        "    audio_features = sp.audio_features(source_ids[i : i + 50])\n",
        "    for track in audio_features:\n",
        "        track['target'] = 0\n",
        "        source_features.append(track)\n",
        "        # source_features[-1]['target'] = 0  # arbitrary\n",
        "\n",
        "print(len(source_features))\n",
        "print(source_features[0])"
      ]
    },
    {
      "cell_type": "markdown",
      "metadata": {
        "id": "0dLN8eo3uiQV"
      },
      "source": [
        "## Data Preparation"
      ]
    },
    {
      "cell_type": "code",
      "execution_count": 12,
      "metadata": {
        "id": "mXJC5u2EkvBx"
      },
      "outputs": [],
      "source": [
        "trainingData = pd.DataFrame(training_features)"
      ]
    },
    {
      "cell_type": "code",
      "execution_count": 13,
      "metadata": {
        "colab": {
          "base_uri": "https://localhost:8080/",
          "height": 617
        },
        "id": "Y5mJO335pN6t",
        "outputId": "f2b427c0-4361-4d46-a10b-d5e7cd700d42"
      },
      "outputs": [
        {
          "data": {
            "text/html": [
              "<div>\n",
              "<style scoped>\n",
              "    .dataframe tbody tr th:only-of-type {\n",
              "        vertical-align: middle;\n",
              "    }\n",
              "\n",
              "    .dataframe tbody tr th {\n",
              "        vertical-align: top;\n",
              "    }\n",
              "\n",
              "    .dataframe thead th {\n",
              "        text-align: right;\n",
              "    }\n",
              "</style>\n",
              "<table border=\"1\" class=\"dataframe\">\n",
              "  <thead>\n",
              "    <tr style=\"text-align: right;\">\n",
              "      <th></th>\n",
              "      <th>danceability</th>\n",
              "      <th>energy</th>\n",
              "      <th>key</th>\n",
              "      <th>loudness</th>\n",
              "      <th>mode</th>\n",
              "      <th>speechiness</th>\n",
              "      <th>acousticness</th>\n",
              "      <th>instrumentalness</th>\n",
              "      <th>liveness</th>\n",
              "      <th>valence</th>\n",
              "      <th>tempo</th>\n",
              "      <th>type</th>\n",
              "      <th>id</th>\n",
              "      <th>uri</th>\n",
              "      <th>track_href</th>\n",
              "      <th>analysis_url</th>\n",
              "      <th>duration_ms</th>\n",
              "      <th>time_signature</th>\n",
              "      <th>target</th>\n",
              "    </tr>\n",
              "  </thead>\n",
              "  <tbody>\n",
              "    <tr>\n",
              "      <th>0</th>\n",
              "      <td>0.849</td>\n",
              "      <td>0.424</td>\n",
              "      <td>5</td>\n",
              "      <td>-9.579</td>\n",
              "      <td>0</td>\n",
              "      <td>0.3240</td>\n",
              "      <td>0.06350</td>\n",
              "      <td>0.000000</td>\n",
              "      <td>0.0834</td>\n",
              "      <td>0.153</td>\n",
              "      <td>145.887</td>\n",
              "      <td>audio_features</td>\n",
              "      <td>2BcMwX1MPV6ZHP4tUT9uq6</td>\n",
              "      <td>spotify:track:2BcMwX1MPV6ZHP4tUT9uq6</td>\n",
              "      <td>https://api.spotify.com/v1/tracks/2BcMwX1MPV6Z...</td>\n",
              "      <td>https://api.spotify.com/v1/audio-analysis/2BcM...</td>\n",
              "      <td>242966</td>\n",
              "      <td>4</td>\n",
              "      <td>1</td>\n",
              "    </tr>\n",
              "    <tr>\n",
              "      <th>1</th>\n",
              "      <td>0.676</td>\n",
              "      <td>0.609</td>\n",
              "      <td>2</td>\n",
              "      <td>-5.831</td>\n",
              "      <td>0</td>\n",
              "      <td>0.4810</td>\n",
              "      <td>0.07060</td>\n",
              "      <td>0.000000</td>\n",
              "      <td>0.1520</td>\n",
              "      <td>0.508</td>\n",
              "      <td>142.037</td>\n",
              "      <td>audio_features</td>\n",
              "      <td>5yY9lUy8nbvjM1Uyo1Uqoc</td>\n",
              "      <td>spotify:track:5yY9lUy8nbvjM1Uyo1Uqoc</td>\n",
              "      <td>https://api.spotify.com/v1/tracks/5yY9lUy8nbvj...</td>\n",
              "      <td>https://api.spotify.com/v1/audio-analysis/5yY9...</td>\n",
              "      <td>237735</td>\n",
              "      <td>4</td>\n",
              "      <td>1</td>\n",
              "    </tr>\n",
              "    <tr>\n",
              "      <th>2</th>\n",
              "      <td>0.677</td>\n",
              "      <td>0.557</td>\n",
              "      <td>1</td>\n",
              "      <td>-8.409</td>\n",
              "      <td>1</td>\n",
              "      <td>0.0694</td>\n",
              "      <td>0.00508</td>\n",
              "      <td>0.000008</td>\n",
              "      <td>0.0984</td>\n",
              "      <td>0.100</td>\n",
              "      <td>150.127</td>\n",
              "      <td>audio_features</td>\n",
              "      <td>62Yo3FDddWY8ydu6PW2wyz</td>\n",
              "      <td>spotify:track:62Yo3FDddWY8ydu6PW2wyz</td>\n",
              "      <td>https://api.spotify.com/v1/tracks/62Yo3FDddWY8...</td>\n",
              "      <td>https://api.spotify.com/v1/audio-analysis/62Yo...</td>\n",
              "      <td>206385</td>\n",
              "      <td>4</td>\n",
              "      <td>1</td>\n",
              "    </tr>\n",
              "    <tr>\n",
              "      <th>3</th>\n",
              "      <td>0.861</td>\n",
              "      <td>0.656</td>\n",
              "      <td>4</td>\n",
              "      <td>-7.867</td>\n",
              "      <td>0</td>\n",
              "      <td>0.4250</td>\n",
              "      <td>0.10400</td>\n",
              "      <td>0.000000</td>\n",
              "      <td>0.0986</td>\n",
              "      <td>0.331</td>\n",
              "      <td>88.967</td>\n",
              "      <td>audio_features</td>\n",
              "      <td>5W8jRrZ6tWrTrqnKRtIQBf</td>\n",
              "      <td>spotify:track:5W8jRrZ6tWrTrqnKRtIQBf</td>\n",
              "      <td>https://api.spotify.com/v1/tracks/5W8jRrZ6tWrT...</td>\n",
              "      <td>https://api.spotify.com/v1/audio-analysis/5W8j...</td>\n",
              "      <td>218210</td>\n",
              "      <td>4</td>\n",
              "      <td>1</td>\n",
              "    </tr>\n",
              "    <tr>\n",
              "      <th>4</th>\n",
              "      <td>0.643</td>\n",
              "      <td>0.403</td>\n",
              "      <td>1</td>\n",
              "      <td>-11.254</td>\n",
              "      <td>0</td>\n",
              "      <td>0.4100</td>\n",
              "      <td>0.34300</td>\n",
              "      <td>0.000000</td>\n",
              "      <td>0.1380</td>\n",
              "      <td>0.111</td>\n",
              "      <td>98.540</td>\n",
              "      <td>audio_features</td>\n",
              "      <td>1fxYz1s15pyZLsJT0Hdh1m</td>\n",
              "      <td>spotify:track:1fxYz1s15pyZLsJT0Hdh1m</td>\n",
              "      <td>https://api.spotify.com/v1/tracks/1fxYz1s15pyZ...</td>\n",
              "      <td>https://api.spotify.com/v1/audio-analysis/1fxY...</td>\n",
              "      <td>174682</td>\n",
              "      <td>4</td>\n",
              "      <td>1</td>\n",
              "    </tr>\n",
              "    <tr>\n",
              "      <th>...</th>\n",
              "      <td>...</td>\n",
              "      <td>...</td>\n",
              "      <td>...</td>\n",
              "      <td>...</td>\n",
              "      <td>...</td>\n",
              "      <td>...</td>\n",
              "      <td>...</td>\n",
              "      <td>...</td>\n",
              "      <td>...</td>\n",
              "      <td>...</td>\n",
              "      <td>...</td>\n",
              "      <td>...</td>\n",
              "      <td>...</td>\n",
              "      <td>...</td>\n",
              "      <td>...</td>\n",
              "      <td>...</td>\n",
              "      <td>...</td>\n",
              "      <td>...</td>\n",
              "      <td>...</td>\n",
              "    </tr>\n",
              "    <tr>\n",
              "      <th>1094</th>\n",
              "      <td>0.547</td>\n",
              "      <td>0.987</td>\n",
              "      <td>8</td>\n",
              "      <td>-3.146</td>\n",
              "      <td>1</td>\n",
              "      <td>0.0839</td>\n",
              "      <td>0.00191</td>\n",
              "      <td>0.006190</td>\n",
              "      <td>0.3220</td>\n",
              "      <td>0.901</td>\n",
              "      <td>79.976</td>\n",
              "      <td>audio_features</td>\n",
              "      <td>6HjE9DWhhPLSlmIMEyZzRc</td>\n",
              "      <td>spotify:track:6HjE9DWhhPLSlmIMEyZzRc</td>\n",
              "      <td>https://api.spotify.com/v1/tracks/6HjE9DWhhPLS...</td>\n",
              "      <td>https://api.spotify.com/v1/audio-analysis/6HjE...</td>\n",
              "      <td>178627</td>\n",
              "      <td>4</td>\n",
              "      <td>0</td>\n",
              "    </tr>\n",
              "    <tr>\n",
              "      <th>1095</th>\n",
              "      <td>0.469</td>\n",
              "      <td>0.537</td>\n",
              "      <td>9</td>\n",
              "      <td>-10.421</td>\n",
              "      <td>1</td>\n",
              "      <td>0.1520</td>\n",
              "      <td>0.02410</td>\n",
              "      <td>0.002010</td>\n",
              "      <td>0.2690</td>\n",
              "      <td>0.783</td>\n",
              "      <td>124.193</td>\n",
              "      <td>audio_features</td>\n",
              "      <td>3aoDEt6zSuYQ47gzarlaVo</td>\n",
              "      <td>spotify:track:3aoDEt6zSuYQ47gzarlaVo</td>\n",
              "      <td>https://api.spotify.com/v1/tracks/3aoDEt6zSuYQ...</td>\n",
              "      <td>https://api.spotify.com/v1/audio-analysis/3aoD...</td>\n",
              "      <td>382834</td>\n",
              "      <td>1</td>\n",
              "      <td>0</td>\n",
              "    </tr>\n",
              "    <tr>\n",
              "      <th>1096</th>\n",
              "      <td>0.322</td>\n",
              "      <td>0.265</td>\n",
              "      <td>2</td>\n",
              "      <td>-13.398</td>\n",
              "      <td>1</td>\n",
              "      <td>0.0302</td>\n",
              "      <td>0.07260</td>\n",
              "      <td>0.340000</td>\n",
              "      <td>0.3660</td>\n",
              "      <td>0.207</td>\n",
              "      <td>133.577</td>\n",
              "      <td>audio_features</td>\n",
              "      <td>2gCf9PqIvpKbxwfJMBWwbn</td>\n",
              "      <td>spotify:track:2gCf9PqIvpKbxwfJMBWwbn</td>\n",
              "      <td>https://api.spotify.com/v1/tracks/2gCf9PqIvpKb...</td>\n",
              "      <td>https://api.spotify.com/v1/audio-analysis/2gCf...</td>\n",
              "      <td>226667</td>\n",
              "      <td>4</td>\n",
              "      <td>0</td>\n",
              "    </tr>\n",
              "    <tr>\n",
              "      <th>1097</th>\n",
              "      <td>0.373</td>\n",
              "      <td>0.453</td>\n",
              "      <td>9</td>\n",
              "      <td>-9.224</td>\n",
              "      <td>1</td>\n",
              "      <td>0.0419</td>\n",
              "      <td>0.26100</td>\n",
              "      <td>0.000046</td>\n",
              "      <td>0.1600</td>\n",
              "      <td>0.418</td>\n",
              "      <td>95.384</td>\n",
              "      <td>audio_features</td>\n",
              "      <td>4nla8cAvm6AQFnNou9WiR1</td>\n",
              "      <td>spotify:track:4nla8cAvm6AQFnNou9WiR1</td>\n",
              "      <td>https://api.spotify.com/v1/tracks/4nla8cAvm6AQ...</td>\n",
              "      <td>https://api.spotify.com/v1/audio-analysis/4nla...</td>\n",
              "      <td>196841</td>\n",
              "      <td>4</td>\n",
              "      <td>0</td>\n",
              "    </tr>\n",
              "    <tr>\n",
              "      <th>1098</th>\n",
              "      <td>0.659</td>\n",
              "      <td>0.838</td>\n",
              "      <td>1</td>\n",
              "      <td>-10.933</td>\n",
              "      <td>0</td>\n",
              "      <td>0.0328</td>\n",
              "      <td>0.18100</td>\n",
              "      <td>0.006660</td>\n",
              "      <td>0.3880</td>\n",
              "      <td>0.619</td>\n",
              "      <td>108.552</td>\n",
              "      <td>audio_features</td>\n",
              "      <td>4F1esmkLF97197hL1Ty8bx</td>\n",
              "      <td>spotify:track:4F1esmkLF97197hL1Ty8bx</td>\n",
              "      <td>https://api.spotify.com/v1/tracks/4F1esmkLF971...</td>\n",
              "      <td>https://api.spotify.com/v1/audio-analysis/4F1e...</td>\n",
              "      <td>240400</td>\n",
              "      <td>4</td>\n",
              "      <td>0</td>\n",
              "    </tr>\n",
              "  </tbody>\n",
              "</table>\n",
              "<p>1099 rows × 19 columns</p>\n",
              "</div>"
            ],
            "text/plain": [
              "      danceability  energy  key  loudness  mode  speechiness  acousticness  \\\n",
              "0            0.849   0.424    5    -9.579     0       0.3240       0.06350   \n",
              "1            0.676   0.609    2    -5.831     0       0.4810       0.07060   \n",
              "2            0.677   0.557    1    -8.409     1       0.0694       0.00508   \n",
              "3            0.861   0.656    4    -7.867     0       0.4250       0.10400   \n",
              "4            0.643   0.403    1   -11.254     0       0.4100       0.34300   \n",
              "...            ...     ...  ...       ...   ...          ...           ...   \n",
              "1094         0.547   0.987    8    -3.146     1       0.0839       0.00191   \n",
              "1095         0.469   0.537    9   -10.421     1       0.1520       0.02410   \n",
              "1096         0.322   0.265    2   -13.398     1       0.0302       0.07260   \n",
              "1097         0.373   0.453    9    -9.224     1       0.0419       0.26100   \n",
              "1098         0.659   0.838    1   -10.933     0       0.0328       0.18100   \n",
              "\n",
              "      instrumentalness  liveness  valence    tempo            type  \\\n",
              "0             0.000000    0.0834    0.153  145.887  audio_features   \n",
              "1             0.000000    0.1520    0.508  142.037  audio_features   \n",
              "2             0.000008    0.0984    0.100  150.127  audio_features   \n",
              "3             0.000000    0.0986    0.331   88.967  audio_features   \n",
              "4             0.000000    0.1380    0.111   98.540  audio_features   \n",
              "...                ...       ...      ...      ...             ...   \n",
              "1094          0.006190    0.3220    0.901   79.976  audio_features   \n",
              "1095          0.002010    0.2690    0.783  124.193  audio_features   \n",
              "1096          0.340000    0.3660    0.207  133.577  audio_features   \n",
              "1097          0.000046    0.1600    0.418   95.384  audio_features   \n",
              "1098          0.006660    0.3880    0.619  108.552  audio_features   \n",
              "\n",
              "                          id                                   uri  \\\n",
              "0     2BcMwX1MPV6ZHP4tUT9uq6  spotify:track:2BcMwX1MPV6ZHP4tUT9uq6   \n",
              "1     5yY9lUy8nbvjM1Uyo1Uqoc  spotify:track:5yY9lUy8nbvjM1Uyo1Uqoc   \n",
              "2     62Yo3FDddWY8ydu6PW2wyz  spotify:track:62Yo3FDddWY8ydu6PW2wyz   \n",
              "3     5W8jRrZ6tWrTrqnKRtIQBf  spotify:track:5W8jRrZ6tWrTrqnKRtIQBf   \n",
              "4     1fxYz1s15pyZLsJT0Hdh1m  spotify:track:1fxYz1s15pyZLsJT0Hdh1m   \n",
              "...                      ...                                   ...   \n",
              "1094  6HjE9DWhhPLSlmIMEyZzRc  spotify:track:6HjE9DWhhPLSlmIMEyZzRc   \n",
              "1095  3aoDEt6zSuYQ47gzarlaVo  spotify:track:3aoDEt6zSuYQ47gzarlaVo   \n",
              "1096  2gCf9PqIvpKbxwfJMBWwbn  spotify:track:2gCf9PqIvpKbxwfJMBWwbn   \n",
              "1097  4nla8cAvm6AQFnNou9WiR1  spotify:track:4nla8cAvm6AQFnNou9WiR1   \n",
              "1098  4F1esmkLF97197hL1Ty8bx  spotify:track:4F1esmkLF97197hL1Ty8bx   \n",
              "\n",
              "                                             track_href  \\\n",
              "0     https://api.spotify.com/v1/tracks/2BcMwX1MPV6Z...   \n",
              "1     https://api.spotify.com/v1/tracks/5yY9lUy8nbvj...   \n",
              "2     https://api.spotify.com/v1/tracks/62Yo3FDddWY8...   \n",
              "3     https://api.spotify.com/v1/tracks/5W8jRrZ6tWrT...   \n",
              "4     https://api.spotify.com/v1/tracks/1fxYz1s15pyZ...   \n",
              "...                                                 ...   \n",
              "1094  https://api.spotify.com/v1/tracks/6HjE9DWhhPLS...   \n",
              "1095  https://api.spotify.com/v1/tracks/3aoDEt6zSuYQ...   \n",
              "1096  https://api.spotify.com/v1/tracks/2gCf9PqIvpKb...   \n",
              "1097  https://api.spotify.com/v1/tracks/4nla8cAvm6AQ...   \n",
              "1098  https://api.spotify.com/v1/tracks/4F1esmkLF971...   \n",
              "\n",
              "                                           analysis_url  duration_ms  \\\n",
              "0     https://api.spotify.com/v1/audio-analysis/2BcM...       242966   \n",
              "1     https://api.spotify.com/v1/audio-analysis/5yY9...       237735   \n",
              "2     https://api.spotify.com/v1/audio-analysis/62Yo...       206385   \n",
              "3     https://api.spotify.com/v1/audio-analysis/5W8j...       218210   \n",
              "4     https://api.spotify.com/v1/audio-analysis/1fxY...       174682   \n",
              "...                                                 ...          ...   \n",
              "1094  https://api.spotify.com/v1/audio-analysis/6HjE...       178627   \n",
              "1095  https://api.spotify.com/v1/audio-analysis/3aoD...       382834   \n",
              "1096  https://api.spotify.com/v1/audio-analysis/2gCf...       226667   \n",
              "1097  https://api.spotify.com/v1/audio-analysis/4nla...       196841   \n",
              "1098  https://api.spotify.com/v1/audio-analysis/4F1e...       240400   \n",
              "\n",
              "      time_signature  target  \n",
              "0                  4       1  \n",
              "1                  4       1  \n",
              "2                  4       1  \n",
              "3                  4       1  \n",
              "4                  4       1  \n",
              "...              ...     ...  \n",
              "1094               4       0  \n",
              "1095               1       0  \n",
              "1096               4       0  \n",
              "1097               4       0  \n",
              "1098               4       0  \n",
              "\n",
              "[1099 rows x 19 columns]"
            ]
          },
          "execution_count": 13,
          "metadata": {},
          "output_type": "execute_result"
        }
      ],
      "source": [
        "trainingData"
      ]
    },
    {
      "cell_type": "code",
      "execution_count": 14,
      "metadata": {
        "id": "tnmUDrrhkzSv"
      },
      "outputs": [],
      "source": [
        "train, test = train_test_split(trainingData, test_size = 0.15)"
      ]
    },
    {
      "cell_type": "code",
      "execution_count": 15,
      "metadata": {
        "id": "tzjJXNrwk2b4"
      },
      "outputs": [],
      "source": [
        "target_features = [\"danceability\", \"loudness\", \"valence\", \"energy\", \"instrumentalness\", \"acousticness\", \"key\", \"speechiness\", \"duration_ms\"]\n",
        "\n",
        "x_total = trainingData[target_features]\n",
        "y_total = trainingData[\"target\"]\n",
        "x_train = train[target_features]\n",
        "y_train = train[\"target\"]\n",
        "x_test = test[target_features]\n",
        "y_test = test[\"target\"]"
      ]
    },
    {
      "cell_type": "code",
      "execution_count": 16,
      "metadata": {
        "colab": {
          "base_uri": "https://localhost:8080/",
          "height": 423
        },
        "id": "CIc_1Sb_pPOf",
        "outputId": "b8571f86-374c-4594-afa8-3ac0225b07cc"
      },
      "outputs": [
        {
          "data": {
            "text/html": [
              "<div>\n",
              "<style scoped>\n",
              "    .dataframe tbody tr th:only-of-type {\n",
              "        vertical-align: middle;\n",
              "    }\n",
              "\n",
              "    .dataframe tbody tr th {\n",
              "        vertical-align: top;\n",
              "    }\n",
              "\n",
              "    .dataframe thead th {\n",
              "        text-align: right;\n",
              "    }\n",
              "</style>\n",
              "<table border=\"1\" class=\"dataframe\">\n",
              "  <thead>\n",
              "    <tr style=\"text-align: right;\">\n",
              "      <th></th>\n",
              "      <th>danceability</th>\n",
              "      <th>loudness</th>\n",
              "      <th>valence</th>\n",
              "      <th>energy</th>\n",
              "      <th>instrumentalness</th>\n",
              "      <th>acousticness</th>\n",
              "      <th>key</th>\n",
              "      <th>speechiness</th>\n",
              "      <th>duration_ms</th>\n",
              "    </tr>\n",
              "  </thead>\n",
              "  <tbody>\n",
              "    <tr>\n",
              "      <th>33</th>\n",
              "      <td>0.928</td>\n",
              "      <td>-10.196</td>\n",
              "      <td>0.7450</td>\n",
              "      <td>0.341</td>\n",
              "      <td>0.000000</td>\n",
              "      <td>0.0614</td>\n",
              "      <td>11</td>\n",
              "      <td>0.1030</td>\n",
              "      <td>170233</td>\n",
              "    </tr>\n",
              "    <tr>\n",
              "      <th>560</th>\n",
              "      <td>0.744</td>\n",
              "      <td>-7.719</td>\n",
              "      <td>0.6600</td>\n",
              "      <td>0.502</td>\n",
              "      <td>0.000228</td>\n",
              "      <td>0.1830</td>\n",
              "      <td>5</td>\n",
              "      <td>0.0359</td>\n",
              "      <td>348227</td>\n",
              "    </tr>\n",
              "    <tr>\n",
              "      <th>181</th>\n",
              "      <td>0.712</td>\n",
              "      <td>-6.174</td>\n",
              "      <td>0.4520</td>\n",
              "      <td>0.703</td>\n",
              "      <td>0.000000</td>\n",
              "      <td>0.0287</td>\n",
              "      <td>4</td>\n",
              "      <td>0.1990</td>\n",
              "      <td>202247</td>\n",
              "    </tr>\n",
              "    <tr>\n",
              "      <th>46</th>\n",
              "      <td>0.694</td>\n",
              "      <td>-2.066</td>\n",
              "      <td>0.6900</td>\n",
              "      <td>0.708</td>\n",
              "      <td>0.000000</td>\n",
              "      <td>0.2460</td>\n",
              "      <td>0</td>\n",
              "      <td>0.1370</td>\n",
              "      <td>131587</td>\n",
              "    </tr>\n",
              "    <tr>\n",
              "      <th>509</th>\n",
              "      <td>0.841</td>\n",
              "      <td>-7.410</td>\n",
              "      <td>0.0978</td>\n",
              "      <td>0.479</td>\n",
              "      <td>0.000073</td>\n",
              "      <td>0.5450</td>\n",
              "      <td>6</td>\n",
              "      <td>0.0925</td>\n",
              "      <td>175409</td>\n",
              "    </tr>\n",
              "    <tr>\n",
              "      <th>...</th>\n",
              "      <td>...</td>\n",
              "      <td>...</td>\n",
              "      <td>...</td>\n",
              "      <td>...</td>\n",
              "      <td>...</td>\n",
              "      <td>...</td>\n",
              "      <td>...</td>\n",
              "      <td>...</td>\n",
              "      <td>...</td>\n",
              "    </tr>\n",
              "    <tr>\n",
              "      <th>860</th>\n",
              "      <td>0.460</td>\n",
              "      <td>-7.153</td>\n",
              "      <td>0.5150</td>\n",
              "      <td>0.633</td>\n",
              "      <td>0.000000</td>\n",
              "      <td>0.6130</td>\n",
              "      <td>5</td>\n",
              "      <td>0.0404</td>\n",
              "      <td>503787</td>\n",
              "    </tr>\n",
              "    <tr>\n",
              "      <th>380</th>\n",
              "      <td>0.604</td>\n",
              "      <td>-5.979</td>\n",
              "      <td>0.2870</td>\n",
              "      <td>0.673</td>\n",
              "      <td>0.000033</td>\n",
              "      <td>0.0268</td>\n",
              "      <td>1</td>\n",
              "      <td>0.0545</td>\n",
              "      <td>197573</td>\n",
              "    </tr>\n",
              "    <tr>\n",
              "      <th>995</th>\n",
              "      <td>0.453</td>\n",
              "      <td>-9.848</td>\n",
              "      <td>0.6410</td>\n",
              "      <td>0.731</td>\n",
              "      <td>0.003950</td>\n",
              "      <td>0.0557</td>\n",
              "      <td>5</td>\n",
              "      <td>0.0345</td>\n",
              "      <td>420067</td>\n",
              "    </tr>\n",
              "    <tr>\n",
              "      <th>379</th>\n",
              "      <td>0.705</td>\n",
              "      <td>-6.477</td>\n",
              "      <td>0.3770</td>\n",
              "      <td>0.784</td>\n",
              "      <td>0.000000</td>\n",
              "      <td>0.0133</td>\n",
              "      <td>2</td>\n",
              "      <td>0.2710</td>\n",
              "      <td>264853</td>\n",
              "    </tr>\n",
              "    <tr>\n",
              "      <th>474</th>\n",
              "      <td>0.814</td>\n",
              "      <td>-7.001</td>\n",
              "      <td>0.5400</td>\n",
              "      <td>0.527</td>\n",
              "      <td>0.000512</td>\n",
              "      <td>0.1790</td>\n",
              "      <td>9</td>\n",
              "      <td>0.3280</td>\n",
              "      <td>153733</td>\n",
              "    </tr>\n",
              "  </tbody>\n",
              "</table>\n",
              "<p>934 rows × 9 columns</p>\n",
              "</div>"
            ],
            "text/plain": [
              "     danceability  loudness  valence  energy  instrumentalness  acousticness  \\\n",
              "33          0.928   -10.196   0.7450   0.341          0.000000        0.0614   \n",
              "560         0.744    -7.719   0.6600   0.502          0.000228        0.1830   \n",
              "181         0.712    -6.174   0.4520   0.703          0.000000        0.0287   \n",
              "46          0.694    -2.066   0.6900   0.708          0.000000        0.2460   \n",
              "509         0.841    -7.410   0.0978   0.479          0.000073        0.5450   \n",
              "..            ...       ...      ...     ...               ...           ...   \n",
              "860         0.460    -7.153   0.5150   0.633          0.000000        0.6130   \n",
              "380         0.604    -5.979   0.2870   0.673          0.000033        0.0268   \n",
              "995         0.453    -9.848   0.6410   0.731          0.003950        0.0557   \n",
              "379         0.705    -6.477   0.3770   0.784          0.000000        0.0133   \n",
              "474         0.814    -7.001   0.5400   0.527          0.000512        0.1790   \n",
              "\n",
              "     key  speechiness  duration_ms  \n",
              "33    11       0.1030       170233  \n",
              "560    5       0.0359       348227  \n",
              "181    4       0.1990       202247  \n",
              "46     0       0.1370       131587  \n",
              "509    6       0.0925       175409  \n",
              "..   ...          ...          ...  \n",
              "860    5       0.0404       503787  \n",
              "380    1       0.0545       197573  \n",
              "995    5       0.0345       420067  \n",
              "379    2       0.2710       264853  \n",
              "474    9       0.3280       153733  \n",
              "\n",
              "[934 rows x 9 columns]"
            ]
          },
          "execution_count": 16,
          "metadata": {},
          "output_type": "execute_result"
        }
      ],
      "source": [
        "x_train"
      ]
    },
    {
      "cell_type": "code",
      "execution_count": 17,
      "metadata": {
        "colab": {
          "base_uri": "https://localhost:8080/"
        },
        "id": "jBIgqGofpS9m",
        "outputId": "540741fb-af7c-4553-edce-60983cf04389"
      },
      "outputs": [
        {
          "data": {
            "text/plain": [
              "33     1\n",
              "560    0\n",
              "181    1\n",
              "46     1\n",
              "509    1\n",
              "      ..\n",
              "860    0\n",
              "380    1\n",
              "995    0\n",
              "379    1\n",
              "474    1\n",
              "Name: target, Length: 934, dtype: int64"
            ]
          },
          "execution_count": 17,
          "metadata": {},
          "output_type": "execute_result"
        }
      ],
      "source": [
        "y_train"
      ]
    },
    {
      "cell_type": "code",
      "execution_count": 18,
      "metadata": {
        "colab": {
          "base_uri": "https://localhost:8080/",
          "height": 423
        },
        "id": "UTJHfAmopUvQ",
        "outputId": "8ebf3a4b-5d1d-4a45-d3f1-572a8747eebc"
      },
      "outputs": [
        {
          "data": {
            "text/html": [
              "<div>\n",
              "<style scoped>\n",
              "    .dataframe tbody tr th:only-of-type {\n",
              "        vertical-align: middle;\n",
              "    }\n",
              "\n",
              "    .dataframe tbody tr th {\n",
              "        vertical-align: top;\n",
              "    }\n",
              "\n",
              "    .dataframe thead th {\n",
              "        text-align: right;\n",
              "    }\n",
              "</style>\n",
              "<table border=\"1\" class=\"dataframe\">\n",
              "  <thead>\n",
              "    <tr style=\"text-align: right;\">\n",
              "      <th></th>\n",
              "      <th>danceability</th>\n",
              "      <th>loudness</th>\n",
              "      <th>valence</th>\n",
              "      <th>energy</th>\n",
              "      <th>instrumentalness</th>\n",
              "      <th>acousticness</th>\n",
              "      <th>key</th>\n",
              "      <th>speechiness</th>\n",
              "      <th>duration_ms</th>\n",
              "    </tr>\n",
              "  </thead>\n",
              "  <tbody>\n",
              "    <tr>\n",
              "      <th>748</th>\n",
              "      <td>0.277</td>\n",
              "      <td>-18.442</td>\n",
              "      <td>0.285</td>\n",
              "      <td>0.242</td>\n",
              "      <td>0.464000</td>\n",
              "      <td>0.69400</td>\n",
              "      <td>4</td>\n",
              "      <td>0.0342</td>\n",
              "      <td>824133</td>\n",
              "    </tr>\n",
              "    <tr>\n",
              "      <th>64</th>\n",
              "      <td>0.850</td>\n",
              "      <td>-8.032</td>\n",
              "      <td>0.424</td>\n",
              "      <td>0.505</td>\n",
              "      <td>0.009830</td>\n",
              "      <td>0.00220</td>\n",
              "      <td>1</td>\n",
              "      <td>0.0625</td>\n",
              "      <td>164467</td>\n",
              "    </tr>\n",
              "    <tr>\n",
              "      <th>175</th>\n",
              "      <td>0.723</td>\n",
              "      <td>-5.926</td>\n",
              "      <td>0.618</td>\n",
              "      <td>0.574</td>\n",
              "      <td>0.000000</td>\n",
              "      <td>0.00970</td>\n",
              "      <td>2</td>\n",
              "      <td>0.0372</td>\n",
              "      <td>194667</td>\n",
              "    </tr>\n",
              "    <tr>\n",
              "      <th>417</th>\n",
              "      <td>0.775</td>\n",
              "      <td>-6.839</td>\n",
              "      <td>0.176</td>\n",
              "      <td>0.494</td>\n",
              "      <td>0.000000</td>\n",
              "      <td>0.03890</td>\n",
              "      <td>8</td>\n",
              "      <td>0.2590</td>\n",
              "      <td>184443</td>\n",
              "    </tr>\n",
              "    <tr>\n",
              "      <th>480</th>\n",
              "      <td>0.713</td>\n",
              "      <td>-4.513</td>\n",
              "      <td>0.206</td>\n",
              "      <td>0.620</td>\n",
              "      <td>0.000001</td>\n",
              "      <td>0.17100</td>\n",
              "      <td>0</td>\n",
              "      <td>0.0422</td>\n",
              "      <td>211785</td>\n",
              "    </tr>\n",
              "    <tr>\n",
              "      <th>...</th>\n",
              "      <td>...</td>\n",
              "      <td>...</td>\n",
              "      <td>...</td>\n",
              "      <td>...</td>\n",
              "      <td>...</td>\n",
              "      <td>...</td>\n",
              "      <td>...</td>\n",
              "      <td>...</td>\n",
              "      <td>...</td>\n",
              "    </tr>\n",
              "    <tr>\n",
              "      <th>1011</th>\n",
              "      <td>0.579</td>\n",
              "      <td>-9.484</td>\n",
              "      <td>0.609</td>\n",
              "      <td>0.508</td>\n",
              "      <td>0.000494</td>\n",
              "      <td>0.00574</td>\n",
              "      <td>2</td>\n",
              "      <td>0.0270</td>\n",
              "      <td>391376</td>\n",
              "    </tr>\n",
              "    <tr>\n",
              "      <th>485</th>\n",
              "      <td>0.804</td>\n",
              "      <td>-8.018</td>\n",
              "      <td>0.342</td>\n",
              "      <td>0.632</td>\n",
              "      <td>0.000134</td>\n",
              "      <td>0.00186</td>\n",
              "      <td>10</td>\n",
              "      <td>0.0726</td>\n",
              "      <td>217027</td>\n",
              "    </tr>\n",
              "    <tr>\n",
              "      <th>183</th>\n",
              "      <td>0.627</td>\n",
              "      <td>-8.529</td>\n",
              "      <td>0.848</td>\n",
              "      <td>0.618</td>\n",
              "      <td>0.000000</td>\n",
              "      <td>0.05580</td>\n",
              "      <td>2</td>\n",
              "      <td>0.0437</td>\n",
              "      <td>197443</td>\n",
              "    </tr>\n",
              "    <tr>\n",
              "      <th>639</th>\n",
              "      <td>0.710</td>\n",
              "      <td>-8.948</td>\n",
              "      <td>0.580</td>\n",
              "      <td>0.318</td>\n",
              "      <td>0.000380</td>\n",
              "      <td>0.86700</td>\n",
              "      <td>0</td>\n",
              "      <td>0.0432</td>\n",
              "      <td>194240</td>\n",
              "    </tr>\n",
              "    <tr>\n",
              "      <th>915</th>\n",
              "      <td>0.611</td>\n",
              "      <td>-8.256</td>\n",
              "      <td>0.730</td>\n",
              "      <td>0.524</td>\n",
              "      <td>0.000000</td>\n",
              "      <td>0.68000</td>\n",
              "      <td>8</td>\n",
              "      <td>0.0350</td>\n",
              "      <td>250053</td>\n",
              "    </tr>\n",
              "  </tbody>\n",
              "</table>\n",
              "<p>165 rows × 9 columns</p>\n",
              "</div>"
            ],
            "text/plain": [
              "      danceability  loudness  valence  energy  instrumentalness  acousticness  \\\n",
              "748          0.277   -18.442    0.285   0.242          0.464000       0.69400   \n",
              "64           0.850    -8.032    0.424   0.505          0.009830       0.00220   \n",
              "175          0.723    -5.926    0.618   0.574          0.000000       0.00970   \n",
              "417          0.775    -6.839    0.176   0.494          0.000000       0.03890   \n",
              "480          0.713    -4.513    0.206   0.620          0.000001       0.17100   \n",
              "...            ...       ...      ...     ...               ...           ...   \n",
              "1011         0.579    -9.484    0.609   0.508          0.000494       0.00574   \n",
              "485          0.804    -8.018    0.342   0.632          0.000134       0.00186   \n",
              "183          0.627    -8.529    0.848   0.618          0.000000       0.05580   \n",
              "639          0.710    -8.948    0.580   0.318          0.000380       0.86700   \n",
              "915          0.611    -8.256    0.730   0.524          0.000000       0.68000   \n",
              "\n",
              "      key  speechiness  duration_ms  \n",
              "748     4       0.0342       824133  \n",
              "64      1       0.0625       164467  \n",
              "175     2       0.0372       194667  \n",
              "417     8       0.2590       184443  \n",
              "480     0       0.0422       211785  \n",
              "...   ...          ...          ...  \n",
              "1011    2       0.0270       391376  \n",
              "485    10       0.0726       217027  \n",
              "183     2       0.0437       197443  \n",
              "639     0       0.0432       194240  \n",
              "915     8       0.0350       250053  \n",
              "\n",
              "[165 rows x 9 columns]"
            ]
          },
          "execution_count": 18,
          "metadata": {},
          "output_type": "execute_result"
        }
      ],
      "source": [
        "x_test"
      ]
    },
    {
      "cell_type": "code",
      "execution_count": 19,
      "metadata": {
        "colab": {
          "base_uri": "https://localhost:8080/"
        },
        "id": "xb5berAfpZp9",
        "outputId": "c20ed62b-76f0-4e8f-ecf2-8e29561652ff"
      },
      "outputs": [
        {
          "data": {
            "text/plain": [
              "748     0\n",
              "64      1\n",
              "175     1\n",
              "417     1\n",
              "480     1\n",
              "       ..\n",
              "1011    0\n",
              "485     1\n",
              "183     1\n",
              "639     0\n",
              "915     0\n",
              "Name: target, Length: 165, dtype: int64"
            ]
          },
          "execution_count": 19,
          "metadata": {},
          "output_type": "execute_result"
        }
      ],
      "source": [
        "y_test"
      ]
    },
    {
      "cell_type": "markdown",
      "metadata": {
        "id": "312pbWMAumua"
      },
      "source": [
        "## Model Evaluation"
      ]
    },
    {
      "cell_type": "markdown",
      "metadata": {
        "id": "VEGoAt1lrb-m"
      },
      "source": [
        "### Random Forest"
      ]
    },
    {
      "cell_type": "code",
      "execution_count": 20,
      "metadata": {
        "colab": {
          "base_uri": "https://localhost:8080/"
        },
        "id": "zBPsaj7mrdR5",
        "outputId": "710b4247-9fc4-4dd4-8ee4-b2819895dd41"
      },
      "outputs": [
        {
          "name": "stdout",
          "output_type": "stream",
          "text": [
            "Accuracy using Random Forest:  87.88 %\n",
            "Mean squared error: 0.12\n",
            "Time Spent: 0.12sec total, 0.115sec training, 0.005sec inference\n",
            "Cross-Validation Score Standardized: 89.63% (1.88%)\n",
            "Time Spent (Cross-Val): 1.166sec total\n"
          ]
        }
      ],
      "source": [
        "# random forest combines multiple decision trees and uses bagging\n",
        "# (training multiple trees on different sections of training data, averaging the result)\n",
        "rfc = RandomForestClassifier(n_jobs=1, random_state=1)\n",
        "ts_train_start = time.time()\n",
        "rfc.fit(x_train, y_train)\n",
        "ts_train_end = time.time()\n",
        "\n",
        "ts_inference_start = ts_train_end\n",
        "rfc_pred = rfc.predict(x_test)\n",
        "ts_inference_end = time.time()\n",
        "\n",
        "score = accuracy_score(y_test, rfc_pred) * 100\n",
        "print(\"Accuracy using Random Forest: \", round(score, 2), \"%\")\n",
        "print('Mean squared error: %.2f' % mean_squared_error(y_test, rfc_pred))\n",
        "print(\"Time Spent: {}sec total, {}sec training, {}sec inference\".format(\n",
        "    round(ts_inference_end - ts_train_start, 3), round(ts_train_end - ts_train_start, 3), round(ts_inference_end - ts_inference_start, 3)))\n",
        "ts_cv_start = time.time()\n",
        "cv_score = cross_val_analysis(rfc, x_total, y_total)\n",
        "ts_cv_end = time.time()\n",
        "print(\"Time Spent (Cross-Val): {}sec total\".format(round(ts_cv_end - ts_cv_start, 3)))"
      ]
    },
    {
      "cell_type": "markdown",
      "metadata": {
        "id": "llMokWbT2rYX"
      },
      "source": [
        "Measured Accuracy: 92.12 % / 90.81 %  \n",
        "Not bad  "
      ]
    },
    {
      "cell_type": "markdown",
      "metadata": {
        "id": "9zoUecGcAfMd"
      },
      "source": [
        "### Gradient Boosting"
      ]
    },
    {
      "cell_type": "code",
      "execution_count": 21,
      "metadata": {
        "colab": {
          "base_uri": "https://localhost:8080/"
        },
        "id": "Qs9ABJuAlirT",
        "outputId": "d4088c1b-971a-4984-936f-adabed729be6"
      },
      "outputs": [
        {
          "name": "stdout",
          "output_type": "stream",
          "text": [
            "Accuracy using Gradient Boost:  87.27 %\n",
            "Mean squared error: 0.13\n",
            "Time Spent: 0.06sec total, 0.059sec training, 0.001sec inference\n",
            "Cross-Validation Score Standardized: 89.17% (2.80%)\n",
            "Time Spent (Cross-Val): 0.617sec total\n"
          ]
        }
      ],
      "source": [
        "# I <3 gradient boost\n",
        "gbc = GradientBoostingClassifier(n_estimators=100, learning_rate=.1, max_depth=1, random_state=1)\n",
        "ts_train_start = time.time()\n",
        "gbc.fit(x_train, y_train)\n",
        "ts_train_end = time.time()\n",
        "\n",
        "ts_inference_start = ts_train_end\n",
        "gbc_pred = gbc.predict(x_test)\n",
        "ts_inference_end = time.time()\n",
        "\n",
        "score = accuracy_score(y_test, gbc_pred) * 100\n",
        "print(\"Accuracy using Gradient Boost: \", round(score, 2), \"%\")\n",
        "print('Mean squared error: %.2f' % mean_squared_error(y_test, gbc_pred))\n",
        "print(\"Time Spent: {}sec total, {}sec training, {}sec inference\".format(\n",
        "    round(ts_inference_end - ts_train_start, 3), round(ts_train_end - ts_train_start, 3), round(ts_inference_end - ts_inference_start, 3)))\n",
        "ts_cv_start = time.time()\n",
        "cv_score = cross_val_analysis(gbc, x_total, y_total)\n",
        "ts_cv_end = time.time()\n",
        "print(\"Time Spent (Cross-Val): {}sec total\".format(round(ts_cv_end - ts_cv_start, 3)))"
      ]
    },
    {
      "cell_type": "markdown",
      "metadata": {
        "id": "RcenLfJ82ouB"
      },
      "source": [
        "Measured Accuracy: 90.3 % / 90.26 %  \n",
        "Not bad, slightly worse than Random Forest  "
      ]
    },
    {
      "cell_type": "markdown",
      "metadata": {
        "id": "ZEB8ISelq_LY"
      },
      "source": [
        "### Gradient Boosting w/ Manual Stacking (Random Forest)"
      ]
    },
    {
      "cell_type": "code",
      "execution_count": 22,
      "metadata": {
        "id": "N5RYFAlqsWNN"
      },
      "outputs": [],
      "source": [
        "x_train_rfc = (x_train.iloc[0:int(len(x_train) / 2)]).copy()\n",
        "y_train_rfc = (y_train.iloc[0:int(len(y_train) / 2)]).copy()\n",
        "x_train_gbc = (x_train.iloc[int(len(x_train) / 2):len(x_train)]).copy()\n",
        "y_train_gbc = (y_train.iloc[int(len(y_train) / 2):len(y_train)]).copy()"
      ]
    },
    {
      "cell_type": "code",
      "execution_count": 23,
      "metadata": {
        "id": "2k71EKAjuuby"
      },
      "outputs": [],
      "source": [
        "x_test_rfc = x_train_gbc\n",
        "y_test_rfc = y_train_gbc\n",
        "x_test_gbc = x_test.copy()\n",
        "y_test_gbc = y_test.copy()"
      ]
    },
    {
      "cell_type": "code",
      "execution_count": 24,
      "metadata": {
        "colab": {
          "base_uri": "https://localhost:8080/"
        },
        "id": "w2ozr-rLtTdI",
        "outputId": "8ba7b0c8-fb93-4db4-8e13-288f73ca99ef"
      },
      "outputs": [
        {
          "name": "stdout",
          "output_type": "stream",
          "text": [
            "Accuracy using Random Forest:  89.94 %\n",
            "Mean squared error: 0.10\n",
            "Time Spent: 0.078sec total, 0.072sec training, 0.006sec inference\n",
            "Cross-Validation Score Standardized: 89.90% (2.55%)\n",
            "Time Spent (Cross-Val): 1.164sec total\n"
          ]
        }
      ],
      "source": [
        "rfc_stack = RandomForestClassifier(n_jobs=1, random_state=1)\n",
        "ts_train_start = time.time()\n",
        "rfc_stack.fit(x_train_rfc, y_train_rfc)\n",
        "ts_train_end = time.time()\n",
        "\n",
        "ts_inference_start = ts_train_end\n",
        "rfc_stack_pred_train = rfc_stack.predict(x_test_rfc)\n",
        "ts_inference_end = time.time()\n",
        "\n",
        "score = accuracy_score(y_test_rfc, rfc_stack_pred_train) * 100\n",
        "print(\"Accuracy using Random Forest: \", round(score, 2), \"%\")\n",
        "print('Mean squared error: %.2f' %\n",
        "      mean_squared_error(y_test_rfc, rfc_stack_pred_train))\n",
        "print(\"Time Spent: {}sec total, {}sec training, {}sec inference\".format(\n",
        "    round(ts_inference_end - ts_train_start, 3), round(ts_train_end - ts_train_start, 3), round(ts_inference_end - ts_inference_start, 3)))\n",
        "ts_cv_start = time.time()\n",
        "cv_score = cross_val_analysis(rfc_stack, x_total, y_total)\n",
        "ts_cv_end = time.time()\n",
        "print(\"Time Spent (Cross-Val): {}sec total\".format(round(ts_cv_end - ts_cv_start, 3)))"
      ]
    },
    {
      "cell_type": "code",
      "execution_count": 25,
      "metadata": {
        "id": "bo_yrxK4vSJc"
      },
      "outputs": [],
      "source": [
        "rfc_stack_pred_test = rfc_stack.predict(x_test_gbc)"
      ]
    },
    {
      "cell_type": "code",
      "execution_count": 26,
      "metadata": {
        "id": "qoY1wcz1ttrB"
      },
      "outputs": [],
      "source": [
        "# stack\n",
        "x_train_gbc['rfc_stack_pred'] = rfc_stack_pred_train.tolist()\n",
        "x_test_gbc['rfc_stack_pred'] = rfc_stack_pred_test.tolist()"
      ]
    },
    {
      "cell_type": "code",
      "execution_count": 27,
      "metadata": {
        "colab": {
          "base_uri": "https://localhost:8080/",
          "height": 423
        },
        "id": "_2HtMc-MvFYF",
        "outputId": "8db05fe4-2a2c-4330-cbb8-5fe6a31c913f"
      },
      "outputs": [
        {
          "data": {
            "text/html": [
              "<div>\n",
              "<style scoped>\n",
              "    .dataframe tbody tr th:only-of-type {\n",
              "        vertical-align: middle;\n",
              "    }\n",
              "\n",
              "    .dataframe tbody tr th {\n",
              "        vertical-align: top;\n",
              "    }\n",
              "\n",
              "    .dataframe thead th {\n",
              "        text-align: right;\n",
              "    }\n",
              "</style>\n",
              "<table border=\"1\" class=\"dataframe\">\n",
              "  <thead>\n",
              "    <tr style=\"text-align: right;\">\n",
              "      <th></th>\n",
              "      <th>danceability</th>\n",
              "      <th>loudness</th>\n",
              "      <th>valence</th>\n",
              "      <th>energy</th>\n",
              "      <th>instrumentalness</th>\n",
              "      <th>acousticness</th>\n",
              "      <th>key</th>\n",
              "      <th>speechiness</th>\n",
              "      <th>duration_ms</th>\n",
              "      <th>rfc_stack_pred</th>\n",
              "    </tr>\n",
              "  </thead>\n",
              "  <tbody>\n",
              "    <tr>\n",
              "      <th>567</th>\n",
              "      <td>0.665</td>\n",
              "      <td>-5.931</td>\n",
              "      <td>0.0389</td>\n",
              "      <td>0.738</td>\n",
              "      <td>0.005980</td>\n",
              "      <td>0.01240</td>\n",
              "      <td>0</td>\n",
              "      <td>0.0379</td>\n",
              "      <td>214071</td>\n",
              "      <td>0</td>\n",
              "    </tr>\n",
              "    <tr>\n",
              "      <th>1076</th>\n",
              "      <td>0.263</td>\n",
              "      <td>-9.757</td>\n",
              "      <td>0.7140</td>\n",
              "      <td>0.840</td>\n",
              "      <td>0.356000</td>\n",
              "      <td>0.00676</td>\n",
              "      <td>9</td>\n",
              "      <td>0.0527</td>\n",
              "      <td>228267</td>\n",
              "      <td>0</td>\n",
              "    </tr>\n",
              "    <tr>\n",
              "      <th>0</th>\n",
              "      <td>0.849</td>\n",
              "      <td>-9.579</td>\n",
              "      <td>0.1530</td>\n",
              "      <td>0.424</td>\n",
              "      <td>0.000000</td>\n",
              "      <td>0.06350</td>\n",
              "      <td>5</td>\n",
              "      <td>0.3240</td>\n",
              "      <td>242966</td>\n",
              "      <td>1</td>\n",
              "    </tr>\n",
              "    <tr>\n",
              "      <th>508</th>\n",
              "      <td>0.763</td>\n",
              "      <td>-6.405</td>\n",
              "      <td>0.3490</td>\n",
              "      <td>0.726</td>\n",
              "      <td>0.000000</td>\n",
              "      <td>0.25900</td>\n",
              "      <td>1</td>\n",
              "      <td>0.2820</td>\n",
              "      <td>126346</td>\n",
              "      <td>1</td>\n",
              "    </tr>\n",
              "    <tr>\n",
              "      <th>743</th>\n",
              "      <td>0.464</td>\n",
              "      <td>-12.435</td>\n",
              "      <td>0.2820</td>\n",
              "      <td>0.305</td>\n",
              "      <td>0.084600</td>\n",
              "      <td>0.93600</td>\n",
              "      <td>3</td>\n",
              "      <td>0.0316</td>\n",
              "      <td>255227</td>\n",
              "      <td>0</td>\n",
              "    </tr>\n",
              "    <tr>\n",
              "      <th>...</th>\n",
              "      <td>...</td>\n",
              "      <td>...</td>\n",
              "      <td>...</td>\n",
              "      <td>...</td>\n",
              "      <td>...</td>\n",
              "      <td>...</td>\n",
              "      <td>...</td>\n",
              "      <td>...</td>\n",
              "      <td>...</td>\n",
              "      <td>...</td>\n",
              "    </tr>\n",
              "    <tr>\n",
              "      <th>860</th>\n",
              "      <td>0.460</td>\n",
              "      <td>-7.153</td>\n",
              "      <td>0.5150</td>\n",
              "      <td>0.633</td>\n",
              "      <td>0.000000</td>\n",
              "      <td>0.61300</td>\n",
              "      <td>5</td>\n",
              "      <td>0.0404</td>\n",
              "      <td>503787</td>\n",
              "      <td>0</td>\n",
              "    </tr>\n",
              "    <tr>\n",
              "      <th>380</th>\n",
              "      <td>0.604</td>\n",
              "      <td>-5.979</td>\n",
              "      <td>0.2870</td>\n",
              "      <td>0.673</td>\n",
              "      <td>0.000033</td>\n",
              "      <td>0.02680</td>\n",
              "      <td>1</td>\n",
              "      <td>0.0545</td>\n",
              "      <td>197573</td>\n",
              "      <td>1</td>\n",
              "    </tr>\n",
              "    <tr>\n",
              "      <th>995</th>\n",
              "      <td>0.453</td>\n",
              "      <td>-9.848</td>\n",
              "      <td>0.6410</td>\n",
              "      <td>0.731</td>\n",
              "      <td>0.003950</td>\n",
              "      <td>0.05570</td>\n",
              "      <td>5</td>\n",
              "      <td>0.0345</td>\n",
              "      <td>420067</td>\n",
              "      <td>0</td>\n",
              "    </tr>\n",
              "    <tr>\n",
              "      <th>379</th>\n",
              "      <td>0.705</td>\n",
              "      <td>-6.477</td>\n",
              "      <td>0.3770</td>\n",
              "      <td>0.784</td>\n",
              "      <td>0.000000</td>\n",
              "      <td>0.01330</td>\n",
              "      <td>2</td>\n",
              "      <td>0.2710</td>\n",
              "      <td>264853</td>\n",
              "      <td>1</td>\n",
              "    </tr>\n",
              "    <tr>\n",
              "      <th>474</th>\n",
              "      <td>0.814</td>\n",
              "      <td>-7.001</td>\n",
              "      <td>0.5400</td>\n",
              "      <td>0.527</td>\n",
              "      <td>0.000512</td>\n",
              "      <td>0.17900</td>\n",
              "      <td>9</td>\n",
              "      <td>0.3280</td>\n",
              "      <td>153733</td>\n",
              "      <td>1</td>\n",
              "    </tr>\n",
              "  </tbody>\n",
              "</table>\n",
              "<p>467 rows × 10 columns</p>\n",
              "</div>"
            ],
            "text/plain": [
              "      danceability  loudness  valence  energy  instrumentalness  acousticness  \\\n",
              "567          0.665    -5.931   0.0389   0.738          0.005980       0.01240   \n",
              "1076         0.263    -9.757   0.7140   0.840          0.356000       0.00676   \n",
              "0            0.849    -9.579   0.1530   0.424          0.000000       0.06350   \n",
              "508          0.763    -6.405   0.3490   0.726          0.000000       0.25900   \n",
              "743          0.464   -12.435   0.2820   0.305          0.084600       0.93600   \n",
              "...            ...       ...      ...     ...               ...           ...   \n",
              "860          0.460    -7.153   0.5150   0.633          0.000000       0.61300   \n",
              "380          0.604    -5.979   0.2870   0.673          0.000033       0.02680   \n",
              "995          0.453    -9.848   0.6410   0.731          0.003950       0.05570   \n",
              "379          0.705    -6.477   0.3770   0.784          0.000000       0.01330   \n",
              "474          0.814    -7.001   0.5400   0.527          0.000512       0.17900   \n",
              "\n",
              "      key  speechiness  duration_ms  rfc_stack_pred  \n",
              "567     0       0.0379       214071               0  \n",
              "1076    9       0.0527       228267               0  \n",
              "0       5       0.3240       242966               1  \n",
              "508     1       0.2820       126346               1  \n",
              "743     3       0.0316       255227               0  \n",
              "...   ...          ...          ...             ...  \n",
              "860     5       0.0404       503787               0  \n",
              "380     1       0.0545       197573               1  \n",
              "995     5       0.0345       420067               0  \n",
              "379     2       0.2710       264853               1  \n",
              "474     9       0.3280       153733               1  \n",
              "\n",
              "[467 rows x 10 columns]"
            ]
          },
          "execution_count": 27,
          "metadata": {},
          "output_type": "execute_result"
        }
      ],
      "source": [
        "x_train_gbc"
      ]
    },
    {
      "cell_type": "code",
      "execution_count": 28,
      "metadata": {
        "colab": {
          "base_uri": "https://localhost:8080/",
          "height": 423
        },
        "id": "t8Te7Pw4vpsF",
        "outputId": "29cdb94f-f4a4-4c7b-b602-f44232365107"
      },
      "outputs": [
        {
          "data": {
            "text/html": [
              "<div>\n",
              "<style scoped>\n",
              "    .dataframe tbody tr th:only-of-type {\n",
              "        vertical-align: middle;\n",
              "    }\n",
              "\n",
              "    .dataframe tbody tr th {\n",
              "        vertical-align: top;\n",
              "    }\n",
              "\n",
              "    .dataframe thead th {\n",
              "        text-align: right;\n",
              "    }\n",
              "</style>\n",
              "<table border=\"1\" class=\"dataframe\">\n",
              "  <thead>\n",
              "    <tr style=\"text-align: right;\">\n",
              "      <th></th>\n",
              "      <th>danceability</th>\n",
              "      <th>loudness</th>\n",
              "      <th>valence</th>\n",
              "      <th>energy</th>\n",
              "      <th>instrumentalness</th>\n",
              "      <th>acousticness</th>\n",
              "      <th>key</th>\n",
              "      <th>speechiness</th>\n",
              "      <th>duration_ms</th>\n",
              "      <th>rfc_stack_pred</th>\n",
              "    </tr>\n",
              "  </thead>\n",
              "  <tbody>\n",
              "    <tr>\n",
              "      <th>748</th>\n",
              "      <td>0.277</td>\n",
              "      <td>-18.442</td>\n",
              "      <td>0.285</td>\n",
              "      <td>0.242</td>\n",
              "      <td>0.464000</td>\n",
              "      <td>0.69400</td>\n",
              "      <td>4</td>\n",
              "      <td>0.0342</td>\n",
              "      <td>824133</td>\n",
              "      <td>0</td>\n",
              "    </tr>\n",
              "    <tr>\n",
              "      <th>64</th>\n",
              "      <td>0.850</td>\n",
              "      <td>-8.032</td>\n",
              "      <td>0.424</td>\n",
              "      <td>0.505</td>\n",
              "      <td>0.009830</td>\n",
              "      <td>0.00220</td>\n",
              "      <td>1</td>\n",
              "      <td>0.0625</td>\n",
              "      <td>164467</td>\n",
              "      <td>1</td>\n",
              "    </tr>\n",
              "    <tr>\n",
              "      <th>175</th>\n",
              "      <td>0.723</td>\n",
              "      <td>-5.926</td>\n",
              "      <td>0.618</td>\n",
              "      <td>0.574</td>\n",
              "      <td>0.000000</td>\n",
              "      <td>0.00970</td>\n",
              "      <td>2</td>\n",
              "      <td>0.0372</td>\n",
              "      <td>194667</td>\n",
              "      <td>1</td>\n",
              "    </tr>\n",
              "    <tr>\n",
              "      <th>417</th>\n",
              "      <td>0.775</td>\n",
              "      <td>-6.839</td>\n",
              "      <td>0.176</td>\n",
              "      <td>0.494</td>\n",
              "      <td>0.000000</td>\n",
              "      <td>0.03890</td>\n",
              "      <td>8</td>\n",
              "      <td>0.2590</td>\n",
              "      <td>184443</td>\n",
              "      <td>1</td>\n",
              "    </tr>\n",
              "    <tr>\n",
              "      <th>480</th>\n",
              "      <td>0.713</td>\n",
              "      <td>-4.513</td>\n",
              "      <td>0.206</td>\n",
              "      <td>0.620</td>\n",
              "      <td>0.000001</td>\n",
              "      <td>0.17100</td>\n",
              "      <td>0</td>\n",
              "      <td>0.0422</td>\n",
              "      <td>211785</td>\n",
              "      <td>1</td>\n",
              "    </tr>\n",
              "    <tr>\n",
              "      <th>...</th>\n",
              "      <td>...</td>\n",
              "      <td>...</td>\n",
              "      <td>...</td>\n",
              "      <td>...</td>\n",
              "      <td>...</td>\n",
              "      <td>...</td>\n",
              "      <td>...</td>\n",
              "      <td>...</td>\n",
              "      <td>...</td>\n",
              "      <td>...</td>\n",
              "    </tr>\n",
              "    <tr>\n",
              "      <th>1011</th>\n",
              "      <td>0.579</td>\n",
              "      <td>-9.484</td>\n",
              "      <td>0.609</td>\n",
              "      <td>0.508</td>\n",
              "      <td>0.000494</td>\n",
              "      <td>0.00574</td>\n",
              "      <td>2</td>\n",
              "      <td>0.0270</td>\n",
              "      <td>391376</td>\n",
              "      <td>0</td>\n",
              "    </tr>\n",
              "    <tr>\n",
              "      <th>485</th>\n",
              "      <td>0.804</td>\n",
              "      <td>-8.018</td>\n",
              "      <td>0.342</td>\n",
              "      <td>0.632</td>\n",
              "      <td>0.000134</td>\n",
              "      <td>0.00186</td>\n",
              "      <td>10</td>\n",
              "      <td>0.0726</td>\n",
              "      <td>217027</td>\n",
              "      <td>1</td>\n",
              "    </tr>\n",
              "    <tr>\n",
              "      <th>183</th>\n",
              "      <td>0.627</td>\n",
              "      <td>-8.529</td>\n",
              "      <td>0.848</td>\n",
              "      <td>0.618</td>\n",
              "      <td>0.000000</td>\n",
              "      <td>0.05580</td>\n",
              "      <td>2</td>\n",
              "      <td>0.0437</td>\n",
              "      <td>197443</td>\n",
              "      <td>0</td>\n",
              "    </tr>\n",
              "    <tr>\n",
              "      <th>639</th>\n",
              "      <td>0.710</td>\n",
              "      <td>-8.948</td>\n",
              "      <td>0.580</td>\n",
              "      <td>0.318</td>\n",
              "      <td>0.000380</td>\n",
              "      <td>0.86700</td>\n",
              "      <td>0</td>\n",
              "      <td>0.0432</td>\n",
              "      <td>194240</td>\n",
              "      <td>0</td>\n",
              "    </tr>\n",
              "    <tr>\n",
              "      <th>915</th>\n",
              "      <td>0.611</td>\n",
              "      <td>-8.256</td>\n",
              "      <td>0.730</td>\n",
              "      <td>0.524</td>\n",
              "      <td>0.000000</td>\n",
              "      <td>0.68000</td>\n",
              "      <td>8</td>\n",
              "      <td>0.0350</td>\n",
              "      <td>250053</td>\n",
              "      <td>0</td>\n",
              "    </tr>\n",
              "  </tbody>\n",
              "</table>\n",
              "<p>165 rows × 10 columns</p>\n",
              "</div>"
            ],
            "text/plain": [
              "      danceability  loudness  valence  energy  instrumentalness  acousticness  \\\n",
              "748          0.277   -18.442    0.285   0.242          0.464000       0.69400   \n",
              "64           0.850    -8.032    0.424   0.505          0.009830       0.00220   \n",
              "175          0.723    -5.926    0.618   0.574          0.000000       0.00970   \n",
              "417          0.775    -6.839    0.176   0.494          0.000000       0.03890   \n",
              "480          0.713    -4.513    0.206   0.620          0.000001       0.17100   \n",
              "...            ...       ...      ...     ...               ...           ...   \n",
              "1011         0.579    -9.484    0.609   0.508          0.000494       0.00574   \n",
              "485          0.804    -8.018    0.342   0.632          0.000134       0.00186   \n",
              "183          0.627    -8.529    0.848   0.618          0.000000       0.05580   \n",
              "639          0.710    -8.948    0.580   0.318          0.000380       0.86700   \n",
              "915          0.611    -8.256    0.730   0.524          0.000000       0.68000   \n",
              "\n",
              "      key  speechiness  duration_ms  rfc_stack_pred  \n",
              "748     4       0.0342       824133               0  \n",
              "64      1       0.0625       164467               1  \n",
              "175     2       0.0372       194667               1  \n",
              "417     8       0.2590       184443               1  \n",
              "480     0       0.0422       211785               1  \n",
              "...   ...          ...          ...             ...  \n",
              "1011    2       0.0270       391376               0  \n",
              "485    10       0.0726       217027               1  \n",
              "183     2       0.0437       197443               0  \n",
              "639     0       0.0432       194240               0  \n",
              "915     8       0.0350       250053               0  \n",
              "\n",
              "[165 rows x 10 columns]"
            ]
          },
          "execution_count": 28,
          "metadata": {},
          "output_type": "execute_result"
        }
      ],
      "source": [
        "x_test_gbc"
      ]
    },
    {
      "cell_type": "code",
      "execution_count": 29,
      "metadata": {
        "colab": {
          "base_uri": "https://localhost:8080/"
        },
        "id": "7z4xgvKXq-qO",
        "outputId": "4a1f7f98-dcec-459a-df72-7518c9933211"
      },
      "outputs": [
        {
          "name": "stdout",
          "output_type": "stream",
          "text": [
            "Accuracy using Gradient Boost:  87.27 %\n",
            "Mean squared error: 0.13\n",
            "Time Spent: 0.033sec total, 0.032sec training, 0.001sec inference\n"
          ]
        }
      ],
      "source": [
        "gbc_stack = GradientBoostingClassifier(n_estimators=100, learning_rate=.1, max_depth=1, random_state=1)\n",
        "ts_train_start = time.time()\n",
        "gbc_stack.fit(x_train_gbc, y_train_gbc)\n",
        "ts_train_end = time.time()\n",
        "\n",
        "ts_inference_start = ts_train_end\n",
        "gbc_stack_pred = gbc_stack.predict(x_test_gbc)\n",
        "ts_inference_end = time.time()\n",
        "\n",
        "score = accuracy_score(y_test_gbc, gbc_stack_pred) * 100\n",
        "print(\"Accuracy using Gradient Boost: \", round(score, 2), \"%\")\n",
        "print('Mean squared error: %.2f' % mean_squared_error(y_test_gbc, gbc_stack_pred))\n",
        "print(\"Time Spent: {}sec total, {}sec training, {}sec inference\".format(\n",
        "    round(ts_inference_end - ts_train_start, 3), round(ts_train_end - ts_train_start, 3), round(ts_inference_end - ts_inference_start, 3)))"
      ]
    },
    {
      "cell_type": "markdown",
      "metadata": {
        "id": "SaQBkLPI2aGt"
      },
      "source": [
        "Measured Accuracy: 91.52 %  \n",
        "In between Gradient Boost and Random Forest, which makes some intuitive sense  "
      ]
    },
    {
      "cell_type": "markdown",
      "metadata": {
        "id": "XhxUGWglrGfk"
      },
      "source": [
        "### Stacking Classifier"
      ]
    },
    {
      "cell_type": "code",
      "execution_count": 30,
      "metadata": {
        "colab": {
          "base_uri": "https://localhost:8080/"
        },
        "id": "EMIMN76GrFP-",
        "outputId": "bbc5d916-7783-422e-daeb-b330c30ec49c"
      },
      "outputs": [
        {
          "name": "stdout",
          "output_type": "stream",
          "text": [
            "Accuracy using Gradient Boost:  88.48 %\n",
            "Mean squared error: 0.12\n",
            "Time Spent: 0.373sec total, 0.371sec training, 0.002sec inference\n",
            "Cross-Validation Score Standardized: 89.08% (3.89%)\n",
            "Time Spent (Cross-Val): 3.686sec total\n"
          ]
        }
      ],
      "source": [
        "base_learners = [\n",
        "  ('rf_1', RandomForestClassifier(n_estimators=10, random_state=42)),\n",
        "  ('rf_2', GradientBoostingClassifier(n_estimators=100,\n",
        "   learning_rate=.1, max_depth=1, random_state=1))\n",
        "]\n",
        "\n",
        "stk = StackingClassifier(estimators=base_learners, final_estimator=LogisticRegression())\n",
        "ts_train_start = time.time()\n",
        "stk.fit(x_train, y_train)\n",
        "ts_train_end = time.time()\n",
        "\n",
        "ts_inference_start = ts_train_end\n",
        "stk_pred = stk.predict(x_test)\n",
        "ts_inference_end = time.time()\n",
        "\n",
        "score = accuracy_score(y_test, stk_pred) * 100\n",
        "print(\"Accuracy using Gradient Boost: \", round(score, 2), \"%\")\n",
        "print('Mean squared error: %.2f' % mean_squared_error(y_test, stk_pred))\n",
        "print(\"Time Spent: {}sec total, {}sec training, {}sec inference\".format(\n",
        "    round(ts_inference_end - ts_train_start, 3), round(ts_train_end - ts_train_start, 3), round(ts_inference_end - ts_inference_start, 3)))\n",
        "ts_cv_start = time.time()\n",
        "cv_score = cross_val_analysis(stk, x_total, y_total)\n",
        "ts_cv_end = time.time()\n",
        "print(\"Time Spent (Cross-Val): {}sec total\".format(round(ts_cv_end - ts_cv_start, 3)))"
      ]
    },
    {
      "cell_type": "markdown",
      "metadata": {},
      "source": [
        "Measured Accuracy: 90.91 % / 89.63 %  \n",
        "Similar to/exact same as manual stacking example, which makes sense"
      ]
    },
    {
      "cell_type": "code",
      "execution_count": 32,
      "metadata": {},
      "outputs": [
        {
          "name": "stdout",
          "output_type": "stream",
          "text": [
            "Accuracy using Gradient Boost:  87.88 %\n",
            "Mean squared error: 0.12\n",
            "Time Spent: 0.088sec total, 0.086sec training, 0.002sec inference\n",
            "Cross-Validation Score Standardized: 88.35% (2.53%)\n",
            "Time Spent (Cross-Val): 0.824sec total\n"
          ]
        }
      ],
      "source": [
        "base_learners = [\n",
        "    ('rf_1', RandomForestClassifier(n_estimators=10, random_state=42)),\n",
        "    ('rf_2', KNeighborsClassifier(n_neighbors=5)),\n",
        "]\n",
        "\n",
        "stk = StackingClassifier(estimators=base_learners,\n",
        "                         final_estimator=LogisticRegression())\n",
        "ts_train_start = time.time()\n",
        "stk.fit(x_train, y_train)\n",
        "ts_train_end = time.time()\n",
        "\n",
        "ts_inference_start = ts_train_end\n",
        "stk_pred = stk.predict(x_test)\n",
        "ts_inference_end = time.time()\n",
        "\n",
        "score = accuracy_score(y_test, stk_pred) * 100\n",
        "print(\"Accuracy using Gradient Boost: \", round(score, 2), \"%\")\n",
        "print('Mean squared error: %.2f' % mean_squared_error(y_test, stk_pred))\n",
        "print(\"Time Spent: {}sec total, {}sec training, {}sec inference\".format(\n",
        "    round(ts_inference_end - ts_train_start, 3), round(ts_train_end - ts_train_start, 3), round(ts_inference_end - ts_inference_start, 3)))\n",
        "ts_cv_start = time.time()\n",
        "cv_score = cross_val_analysis(stk, x_total, y_total)\n",
        "ts_cv_end = time.time()\n",
        "print(\"Time Spent (Cross-Val): {}sec total\".format(round(ts_cv_end - ts_cv_start, 3)))"
      ]
    },
    {
      "cell_type": "markdown",
      "metadata": {
        "id": "10TzlFTk2OnD"
      },
      "source": [
        "Measured Accuracy: 90.3 % / 88.35 %    \n",
        "Better than Random Forest alone\n"
      ]
    },
    {
      "cell_type": "code",
      "execution_count": 33,
      "metadata": {
        "colab": {
          "base_uri": "https://localhost:8080/"
        },
        "id": "jnzuwB4UxnVI",
        "outputId": "2c76e832-60bd-4150-fae4-c361a0687690"
      },
      "outputs": [
        {
          "name": "stdout",
          "output_type": "stream",
          "text": [
            "Accuracy using Gradient Boost:  87.88 %\n",
            "Mean squared error: 0.12\n",
            "Time Spent: 0.366sec total, 0.364sec training, 0.002sec inference\n",
            "Cross-Validation Score Standardized: 88.90% (2.78%)\n",
            "Time Spent (Cross-Val): 3.751sec total\n"
          ]
        }
      ],
      "source": [
        "base_learners = [\n",
        "  ('rf_1', RandomForestClassifier(n_estimators=10, random_state=42)),\n",
        "  ('rf_2', KNeighborsClassifier(n_neighbors=5)),             \n",
        "  ('rf_3', GradientBoostingClassifier(n_estimators=100, learning_rate=.1, max_depth=1, random_state=1))\n",
        "]\n",
        "\n",
        "stk = StackingClassifier(estimators=base_learners, final_estimator=LogisticRegression())\n",
        "ts_train_start = time.time()\n",
        "stk.fit(x_train, y_train)\n",
        "ts_train_end = time.time()\n",
        "\n",
        "ts_inference_start = ts_train_end\n",
        "stk_pred = stk.predict(x_test)\n",
        "ts_inference_end = time.time()\n",
        "\n",
        "\n",
        "score = accuracy_score(y_test, stk_pred) * 100\n",
        "print(\"Accuracy using Gradient Boost: \", round(score, 2), \"%\")\n",
        "print('Mean squared error: %.2f' % mean_squared_error(y_test, stk_pred))\n",
        "print(\"Time Spent: {}sec total, {}sec training, {}sec inference\".format(\n",
        "    round(ts_inference_end - ts_train_start, 3), round(ts_train_end - ts_train_start, 3), round(ts_inference_end - ts_inference_start, 3)))\n",
        "ts_cv_start = time.time()\n",
        "cv_score = cross_val_analysis(stk, x_total, y_total)\n",
        "ts_cv_end = time.time()\n",
        "print(\"Time Spent (Cross-Val): {}sec total\".format(round(ts_cv_end - ts_cv_start, 3)))"
      ]
    },
    {
      "cell_type": "markdown",
      "metadata": {
        "id": "uVYS-V322TuQ"
      },
      "source": [
        "Measured Accuracy: 90.91 % / 89.81 %  \n",
        "Not as good as with all 3, but could potentially be better generalized"
      ]
    },
    {
      "cell_type": "markdown",
      "metadata": {
        "id": "vFxMNx4wAh_G"
      },
      "source": [
        "### Neural Networks"
      ]
    },
    {
      "cell_type": "markdown",
      "metadata": {
        "id": "uE8TBKtJBcq4"
      },
      "source": [
        "#### Baseline"
      ]
    },
    {
      "cell_type": "code",
      "execution_count": 34,
      "metadata": {
        "id": "NIxykyhUjoeK"
      },
      "outputs": [],
      "source": [
        "def keras_nn_baseline_model_small():\n",
        "  model = Sequential()\n",
        "  model.add(Dense(9, input_dim=9, activation='relu'))\n",
        "  model.add(Dense(1, activation='sigmoid'))\n",
        "  model.compile(loss='binary_crossentropy', optimizer='adam', metrics=['accuracy'])\n",
        "  return model"
      ]
    },
    {
      "cell_type": "code",
      "execution_count": 35,
      "metadata": {
        "id": "JCHjgGWp01iR"
      },
      "outputs": [],
      "source": [
        "def keras_nn_baseline_model_big():\n",
        "  model = Sequential()\n",
        "  model.add(Dense(9, input_dim=9, activation='relu'))\n",
        "  model.add(Dense(18, input_dim=9, activation='relu'))\n",
        "  model.add(Dense(90, input_dim=18, activation='sigmoid'))\n",
        "  model.add(Dense(1, activation='sigmoid'))\n",
        "  model.compile(loss='binary_crossentropy', optimizer='adam', metrics=['accuracy'])\n",
        "  return model"
      ]
    },
    {
      "cell_type": "code",
      "execution_count": 36,
      "metadata": {
        "id": "gpllzZRBlxmp"
      },
      "outputs": [],
      "source": [
        "def keras_nn_baseline_model_shaped():\n",
        "  model = Sequential()\n",
        "  model.add(Dense(5, input_dim=9, activation='relu'))\n",
        "  model.add(Dense(60, input_dim=5, activation='sigmoid'))\n",
        "  model.add(Dense(5, input_dim=60, activation='relu'))\n",
        "  model.add(Dense(1, activation='sigmoid'))\n",
        "  model.compile(loss='binary_crossentropy', optimizer='adam', metrics=['accuracy'])\n",
        "  return model"
      ]
    },
    {
      "cell_type": "code",
      "execution_count": 37,
      "metadata": {},
      "outputs": [],
      "source": [
        "keras_nn_baseline_models = [\n",
        "    keras_nn_baseline_model_small, keras_nn_baseline_model_big, keras_nn_baseline_model_shaped\n",
        "]\n",
        "keras_nn_baseline_model_names = [\n",
        "    \"keras_nn_baseline_model_small\", \"keras_nn_baseline_model_big\", \"keras_nn_baseline_model_shaped\"\n",
        "]\n",
        "\n",
        "num_training_epochs = 100  # 200\n",
        "batch_size = 5"
      ]
    },
    {
      "cell_type": "markdown",
      "metadata": {
        "id": "L80OacIGx71q"
      },
      "source": [
        "#### Pipeline w/ Normalization"
      ]
    },
    {
      "cell_type": "code",
      "execution_count": 37,
      "metadata": {
        "colab": {
          "base_uri": "https://localhost:8080/"
        },
        "id": "6zY6LyunBZnV",
        "outputId": "7d3308bb-910b-45ac-ed71-3ea2855d46fb"
      },
      "outputs": [
        {
          "name": "stderr",
          "output_type": "stream",
          "text": [
            "/var/folders/fj/p935y7bd3cb5yqyrsf3bmdc40000gn/T/ipykernel_60305/2933901061.py:5: DeprecationWarning: KerasClassifier is deprecated, use Sci-Keras (https://github.com/adriangb/scikeras) instead. See https://www.adriangb.com/scikeras/stable/migration.html for help migrating.\n",
            "  estimators.append(('mlp', KerasClassifier(build_fn=keras_nn_baseline_model,\n",
            "2022-05-05 00:52:08.269602: I tensorflow/core/common_runtime/pluggable_device/pluggable_device_factory.cc:305] Could not identify NUMA node of platform GPU ID 0, defaulting to 0. Your kernel may not have been built with NUMA support.\n",
            "2022-05-05 00:52:08.269761: I tensorflow/core/common_runtime/pluggable_device/pluggable_device_factory.cc:271] Created TensorFlow device (/job:localhost/replica:0/task:0/device:GPU:0 with 0 MB memory) -> physical PluggableDevice (device: 0, name: METAL, pci bus id: <undefined>)\n",
            "2022-05-05 00:52:08.436579: W tensorflow/core/platform/profile_utils/cpu_utils.cc:128] Failed to get CPU frequency: 0 Hz\n"
          ]
        },
        {
          "name": "stdout",
          "output_type": "stream",
          "text": [
            "Running Training & Inference for Keras NN Model \"keras_nn_baseline_model_small\"\n",
            "Metal device set to: Apple M1 Pro\n",
            "\n",
            "systemMemory: 16.00 GB\n",
            "maxCacheSize: 5.33 GB\n",
            "\n"
          ]
        },
        {
          "name": "stderr",
          "output_type": "stream",
          "text": [
            "2022-05-05 00:52:08.615358: I tensorflow/core/grappler/optimizers/custom_graph_optimizer_registry.cc:113] Plugin optimizer for device_type GPU is enabled.\n",
            "2022-05-05 00:53:01.875919: I tensorflow/core/grappler/optimizers/custom_graph_optimizer_registry.cc:113] Plugin optimizer for device_type GPU is enabled.\n",
            "/var/folders/fj/p935y7bd3cb5yqyrsf3bmdc40000gn/T/ipykernel_60305/2933901061.py:5: DeprecationWarning: KerasClassifier is deprecated, use Sci-Keras (https://github.com/adriangb/scikeras) instead. See https://www.adriangb.com/scikeras/stable/migration.html for help migrating.\n",
            "  estimators.append(('mlp', KerasClassifier(build_fn=keras_nn_baseline_model,\n"
          ]
        },
        {
          "name": "stdout",
          "output_type": "stream",
          "text": [
            "Accuracy using Keras:  89.7 %\n",
            "Mean squared error: 0.08\n",
            "Time Spent: 53.656sec total, 53.531sec training, 0.126sec inference\n",
            " \n",
            "Running Training & Inference for Keras NN Model \"keras_nn_baseline_model_big\"\n"
          ]
        },
        {
          "name": "stderr",
          "output_type": "stream",
          "text": [
            "2022-05-05 00:53:02.127031: I tensorflow/core/grappler/optimizers/custom_graph_optimizer_registry.cc:113] Plugin optimizer for device_type GPU is enabled.\n"
          ]
        }
      ],
      "source": [
        "for keras_nn_baseline_model, keras_nn_baseline_model_name in zip(keras_nn_baseline_models, keras_nn_baseline_model_names):\n",
        "    # build pipeline\n",
        "    estimators = []\n",
        "    estimators.append(('standardize', StandardScaler()))\n",
        "    estimators.append(('mlp', KerasClassifier(build_fn=keras_nn_baseline_model,\n",
        "                    epochs=num_training_epochs, batch_size=batch_size, verbose=0)))\n",
        "    keras_pipeline = Pipeline(estimators)\n",
        "    print('Running Training & Inference for Keras NN Model \"{}\"'.format(\n",
        "        keras_nn_baseline_model_name))\n",
        "    # train model\n",
        "    ts_train_start = time.time()\n",
        "    keras_pipeline.fit(x_train, y_train)\n",
        "    ts_train_end = time.time()\n",
        "    # inference w model\n",
        "    ts_inference_start = ts_train_end\n",
        "    keras_pipeline_pred = keras_pipeline.predict(x_test)\n",
        "    ts_inference_end = time.time()\n",
        "    # validation accuracy\n",
        "    score = accuracy_score(y_test, keras_pipeline_pred) * 100\n",
        "    print(\"Accuracy using Keras: \", round(score, 2), \"%\")\n",
        "    print('Mean squared error: %.2f' % mean_squared_error(y_test, stk_pred))\n",
        "    print(\"Time Spent: {}sec total, {}sec training, {}sec inference\".format(\n",
        "        round(ts_inference_end - ts_train_start, 3), round(ts_train_end - ts_train_start, 3), round(ts_inference_end - ts_inference_start, 3)))\n",
        "    print(\" \")\n"
      ]
    },
    {
      "cell_type": "markdown",
      "metadata": {},
      "source": [
        "***Accuracy & Timing Data Saved from Training & Inference on M1 Pro 2021 16in (2 Runs)*** \n",
        "\n",
        "**keras_nn_baseline_model_small**  \n",
        "Accuracy using Keras:  89.7 %, 91.52 %  \n",
        "Mean squared error: 0.09, 0.09  \n",
        "Time Spent: 78.995sec(78.943sec-tr,0.051sec-inf), 79.888sec(79.834sec-tr,0.054sec-inf)  \n",
        "&nbsp;  \n",
        "&nbsp;  \n",
        "**keras_nn_baseline_model_big**  \n",
        "Accuracy using Keras:  91.52 %, 90.3 %  \n",
        "Mean squared error: 0.09, 0.09  \n",
        "Time Spent: 94.644sec(94.58sec-tr,0.063sec-inf), 95.661sec(95.591sec-tr,0.069sec-inf)  \n",
        "&nbsp;  \n",
        "&nbsp;  \n",
        "**keras_nn_baseline_model_shaped**  \n",
        "Accuracy using Keras:  90.91 %, 89.09 %  \n",
        "Mean squared error: 0.09, 0.09  \n",
        "Time Spent: 94.325sec(94.256sec-tr,0.07sec-inf), 94.198sec(94.131sec-tr,0.067sec-inf)  "
      ]
    },
    {
      "cell_type": "code",
      "execution_count": null,
      "metadata": {},
      "outputs": [
        {
          "name": "stderr",
          "output_type": "stream",
          "text": [
            "/var/folders/fj/p935y7bd3cb5yqyrsf3bmdc40000gn/T/ipykernel_75456/3623421867.py:5: DeprecationWarning: KerasClassifier is deprecated, use Sci-Keras (https://github.com/adriangb/scikeras) instead. See https://www.adriangb.com/scikeras/stable/migration.html for help migrating.\n",
            "  estimators.append(('mlp', KerasClassifier(build_fn=keras_nn_baseline_model,\n"
          ]
        },
        {
          "name": "stdout",
          "output_type": "stream",
          "text": [
            "Running Cross-Validation Analysis for Keras NN Model \"keras_nn_baseline_model_small\"\n"
          ]
        },
        {
          "name": "stderr",
          "output_type": "stream",
          "text": [
            "2022-05-04 15:20:50.605938: I tensorflow/core/grappler/optimizers/custom_graph_optimizer_registry.cc:113] Plugin optimizer for device_type GPU is enabled.\n",
            "2022-05-04 15:22:14.839378: I tensorflow/core/grappler/optimizers/custom_graph_optimizer_registry.cc:113] Plugin optimizer for device_type GPU is enabled.\n",
            "2022-05-04 15:22:15.124136: I tensorflow/core/grappler/optimizers/custom_graph_optimizer_registry.cc:113] Plugin optimizer for device_type GPU is enabled.\n",
            "2022-05-04 15:23:37.631220: I tensorflow/core/grappler/optimizers/custom_graph_optimizer_registry.cc:113] Plugin optimizer for device_type GPU is enabled.\n",
            "2022-05-04 15:23:37.888941: I tensorflow/core/grappler/optimizers/custom_graph_optimizer_registry.cc:113] Plugin optimizer for device_type GPU is enabled.\n",
            "2022-05-04 15:25:01.573027: I tensorflow/core/grappler/optimizers/custom_graph_optimizer_registry.cc:113] Plugin optimizer for device_type GPU is enabled.\n",
            "2022-05-04 15:25:01.828442: I tensorflow/core/grappler/optimizers/custom_graph_optimizer_registry.cc:113] Plugin optimizer for device_type GPU is enabled.\n",
            "2022-05-04 15:26:26.580992: I tensorflow/core/grappler/optimizers/custom_graph_optimizer_registry.cc:113] Plugin optimizer for device_type GPU is enabled.\n",
            "2022-05-04 15:26:26.832464: I tensorflow/core/grappler/optimizers/custom_graph_optimizer_registry.cc:113] Plugin optimizer for device_type GPU is enabled.\n",
            "2022-05-04 15:27:50.382962: I tensorflow/core/grappler/optimizers/custom_graph_optimizer_registry.cc:113] Plugin optimizer for device_type GPU is enabled.\n",
            "2022-05-04 15:27:50.665562: I tensorflow/core/grappler/optimizers/custom_graph_optimizer_registry.cc:113] Plugin optimizer for device_type GPU is enabled.\n",
            "2022-05-04 15:29:12.968904: I tensorflow/core/grappler/optimizers/custom_graph_optimizer_registry.cc:113] Plugin optimizer for device_type GPU is enabled.\n",
            "2022-05-04 15:29:13.246642: I tensorflow/core/grappler/optimizers/custom_graph_optimizer_registry.cc:113] Plugin optimizer for device_type GPU is enabled.\n",
            "2022-05-04 15:30:35.510905: I tensorflow/core/grappler/optimizers/custom_graph_optimizer_registry.cc:113] Plugin optimizer for device_type GPU is enabled.\n",
            "2022-05-04 15:30:35.766901: I tensorflow/core/grappler/optimizers/custom_graph_optimizer_registry.cc:113] Plugin optimizer for device_type GPU is enabled.\n",
            "2022-05-04 15:31:59.955646: I tensorflow/core/grappler/optimizers/custom_graph_optimizer_registry.cc:113] Plugin optimizer for device_type GPU is enabled.\n",
            "2022-05-04 15:32:00.227555: I tensorflow/core/grappler/optimizers/custom_graph_optimizer_registry.cc:113] Plugin optimizer for device_type GPU is enabled.\n",
            "2022-05-04 15:33:22.578445: I tensorflow/core/grappler/optimizers/custom_graph_optimizer_registry.cc:113] Plugin optimizer for device_type GPU is enabled.\n",
            "2022-05-04 15:33:22.847625: I tensorflow/core/grappler/optimizers/custom_graph_optimizer_registry.cc:113] Plugin optimizer for device_type GPU is enabled.\n",
            "2022-05-04 15:34:26.576379: I tensorflow/core/grappler/optimizers/custom_graph_optimizer_registry.cc:113] Plugin optimizer for device_type GPU is enabled.\n",
            "/var/folders/fj/p935y7bd3cb5yqyrsf3bmdc40000gn/T/ipykernel_75456/3623421867.py:5: DeprecationWarning: KerasClassifier is deprecated, use Sci-Keras (https://github.com/adriangb/scikeras) instead. See https://www.adriangb.com/scikeras/stable/migration.html for help migrating.\n",
            "  estimators.append(('mlp', KerasClassifier(build_fn=keras_nn_baseline_model,\n"
          ]
        },
        {
          "name": "stdout",
          "output_type": "stream",
          "text": [
            "Cross-Validation Score Standardized: 89.17% (2.61%)\n",
            "Time Spent (Cross-Val): 816.291sec total\n",
            " \n",
            "Running Cross-Validation Analysis for Keras NN Model \"keras_nn_baseline_model_big\"\n"
          ]
        },
        {
          "name": "stderr",
          "output_type": "stream",
          "text": [
            "2022-05-04 15:34:27.273813: I tensorflow/core/grappler/optimizers/custom_graph_optimizer_registry.cc:113] Plugin optimizer for device_type GPU is enabled.\n",
            "2022-05-04 15:36:04.704249: I tensorflow/core/grappler/optimizers/custom_graph_optimizer_registry.cc:113] Plugin optimizer for device_type GPU is enabled.\n",
            "2022-05-04 15:36:05.002347: I tensorflow/core/grappler/optimizers/custom_graph_optimizer_registry.cc:113] Plugin optimizer for device_type GPU is enabled.\n",
            "2022-05-04 15:37:42.567021: I tensorflow/core/grappler/optimizers/custom_graph_optimizer_registry.cc:113] Plugin optimizer for device_type GPU is enabled.\n",
            "2022-05-04 15:37:42.865753: I tensorflow/core/grappler/optimizers/custom_graph_optimizer_registry.cc:113] Plugin optimizer for device_type GPU is enabled.\n",
            "2022-05-04 15:39:23.234883: I tensorflow/core/grappler/optimizers/custom_graph_optimizer_registry.cc:113] Plugin optimizer for device_type GPU is enabled.\n",
            "2022-05-04 15:39:23.543189: I tensorflow/core/grappler/optimizers/custom_graph_optimizer_registry.cc:113] Plugin optimizer for device_type GPU is enabled.\n",
            "2022-05-04 15:41:04.400753: I tensorflow/core/grappler/optimizers/custom_graph_optimizer_registry.cc:113] Plugin optimizer for device_type GPU is enabled.\n",
            "2022-05-04 15:41:04.712743: I tensorflow/core/grappler/optimizers/custom_graph_optimizer_registry.cc:113] Plugin optimizer for device_type GPU is enabled.\n",
            "2022-05-04 15:42:42.644101: I tensorflow/core/grappler/optimizers/custom_graph_optimizer_registry.cc:113] Plugin optimizer for device_type GPU is enabled.\n",
            "2022-05-04 15:42:42.946781: I tensorflow/core/grappler/optimizers/custom_graph_optimizer_registry.cc:113] Plugin optimizer for device_type GPU is enabled.\n",
            "2022-05-04 15:44:19.902900: I tensorflow/core/grappler/optimizers/custom_graph_optimizer_registry.cc:113] Plugin optimizer for device_type GPU is enabled.\n",
            "2022-05-04 15:44:20.217326: I tensorflow/core/grappler/optimizers/custom_graph_optimizer_registry.cc:113] Plugin optimizer for device_type GPU is enabled.\n",
            "2022-05-04 15:45:59.942759: I tensorflow/core/grappler/optimizers/custom_graph_optimizer_registry.cc:113] Plugin optimizer for device_type GPU is enabled.\n",
            "2022-05-04 15:46:00.247475: I tensorflow/core/grappler/optimizers/custom_graph_optimizer_registry.cc:113] Plugin optimizer for device_type GPU is enabled.\n",
            "2022-05-04 15:47:43.712779: I tensorflow/core/grappler/optimizers/custom_graph_optimizer_registry.cc:113] Plugin optimizer for device_type GPU is enabled.\n",
            "2022-05-04 15:47:44.056819: I tensorflow/core/grappler/optimizers/custom_graph_optimizer_registry.cc:113] Plugin optimizer for device_type GPU is enabled.\n",
            "2022-05-04 15:49:25.147814: I tensorflow/core/grappler/optimizers/custom_graph_optimizer_registry.cc:113] Plugin optimizer for device_type GPU is enabled.\n",
            "2022-05-04 15:49:25.436051: I tensorflow/core/grappler/optimizers/custom_graph_optimizer_registry.cc:113] Plugin optimizer for device_type GPU is enabled.\n",
            "2022-05-04 15:50:43.216499: I tensorflow/core/grappler/optimizers/custom_graph_optimizer_registry.cc:113] Plugin optimizer for device_type GPU is enabled.\n",
            "/var/folders/fj/p935y7bd3cb5yqyrsf3bmdc40000gn/T/ipykernel_75456/3623421867.py:5: DeprecationWarning: KerasClassifier is deprecated, use Sci-Keras (https://github.com/adriangb/scikeras) instead. See https://www.adriangb.com/scikeras/stable/migration.html for help migrating.\n",
            "  estimators.append(('mlp', KerasClassifier(build_fn=keras_nn_baseline_model,\n"
          ]
        },
        {
          "name": "stdout",
          "output_type": "stream",
          "text": [
            "Cross-Validation Score Standardized: 89.36% (2.10%)\n",
            "Time Spent (Cross-Val): 976.67sec total\n",
            " \n",
            "Running Cross-Validation Analysis for Keras NN Model \"keras_nn_baseline_model_shaped\"\n"
          ]
        },
        {
          "name": "stderr",
          "output_type": "stream",
          "text": [
            "2022-05-04 15:50:43.585740: I tensorflow/core/grappler/optimizers/custom_graph_optimizer_registry.cc:113] Plugin optimizer for device_type GPU is enabled.\n",
            "2022-05-04 15:52:23.861503: I tensorflow/core/grappler/optimizers/custom_graph_optimizer_registry.cc:113] Plugin optimizer for device_type GPU is enabled.\n",
            "2022-05-04 15:52:24.195266: I tensorflow/core/grappler/optimizers/custom_graph_optimizer_registry.cc:113] Plugin optimizer for device_type GPU is enabled.\n",
            "2022-05-04 15:54:05.810837: I tensorflow/core/grappler/optimizers/custom_graph_optimizer_registry.cc:113] Plugin optimizer for device_type GPU is enabled.\n",
            "2022-05-04 15:54:06.129209: I tensorflow/core/grappler/optimizers/custom_graph_optimizer_registry.cc:113] Plugin optimizer for device_type GPU is enabled.\n",
            "2022-05-04 15:55:45.832802: I tensorflow/core/grappler/optimizers/custom_graph_optimizer_registry.cc:113] Plugin optimizer for device_type GPU is enabled.\n",
            "2022-05-04 15:55:46.519344: I tensorflow/core/grappler/optimizers/custom_graph_optimizer_registry.cc:113] Plugin optimizer for device_type GPU is enabled.\n",
            "2022-05-04 15:57:27.621691: I tensorflow/core/grappler/optimizers/custom_graph_optimizer_registry.cc:113] Plugin optimizer for device_type GPU is enabled.\n",
            "2022-05-04 15:57:27.955824: I tensorflow/core/grappler/optimizers/custom_graph_optimizer_registry.cc:113] Plugin optimizer for device_type GPU is enabled.\n",
            "2022-05-04 15:59:09.778937: I tensorflow/core/grappler/optimizers/custom_graph_optimizer_registry.cc:113] Plugin optimizer for device_type GPU is enabled.\n",
            "2022-05-04 15:59:10.073187: I tensorflow/core/grappler/optimizers/custom_graph_optimizer_registry.cc:113] Plugin optimizer for device_type GPU is enabled.\n",
            "2022-05-04 16:00:49.480755: I tensorflow/core/grappler/optimizers/custom_graph_optimizer_registry.cc:113] Plugin optimizer for device_type GPU is enabled.\n",
            "2022-05-04 16:00:49.789684: I tensorflow/core/grappler/optimizers/custom_graph_optimizer_registry.cc:113] Plugin optimizer for device_type GPU is enabled.\n",
            "2022-05-04 16:02:28.756870: I tensorflow/core/grappler/optimizers/custom_graph_optimizer_registry.cc:113] Plugin optimizer for device_type GPU is enabled.\n",
            "2022-05-04 16:02:29.070454: I tensorflow/core/grappler/optimizers/custom_graph_optimizer_registry.cc:113] Plugin optimizer for device_type GPU is enabled.\n",
            "2022-05-04 16:04:10.004146: I tensorflow/core/grappler/optimizers/custom_graph_optimizer_registry.cc:113] Plugin optimizer for device_type GPU is enabled.\n",
            "2022-05-04 16:04:10.316957: I tensorflow/core/grappler/optimizers/custom_graph_optimizer_registry.cc:113] Plugin optimizer for device_type GPU is enabled.\n",
            "2022-05-04 16:05:47.286106: I tensorflow/core/grappler/optimizers/custom_graph_optimizer_registry.cc:113] Plugin optimizer for device_type GPU is enabled.\n",
            "2022-05-04 16:05:47.583424: I tensorflow/core/grappler/optimizers/custom_graph_optimizer_registry.cc:113] Plugin optimizer for device_type GPU is enabled.\n"
          ]
        },
        {
          "name": "stdout",
          "output_type": "stream",
          "text": [
            "Cross-Validation Score Standardized: 81.90% (14.71%)\n",
            "Time Spent (Cross-Val): 978.022sec total\n",
            " \n"
          ]
        },
        {
          "name": "stderr",
          "output_type": "stream",
          "text": [
            "2022-05-04 16:07:01.237939: I tensorflow/core/grappler/optimizers/custom_graph_optimizer_registry.cc:113] Plugin optimizer for device_type GPU is enabled.\n"
          ]
        }
      ],
      "source": [
        "for keras_nn_baseline_model, keras_nn_baseline_model_name in zip(keras_nn_baseline_models, keras_nn_baseline_model_names):\n",
        "    # build pipeline\n",
        "    estimators = []\n",
        "    estimators.append(('standardize', StandardScaler()))\n",
        "    estimators.append(('mlp', KerasClassifier(build_fn=keras_nn_baseline_model,\n",
        "                                              epochs=num_training_epochs, batch_size=batch_size, verbose=0)))\n",
        "    keras_pipeline = Pipeline(estimators)\n",
        "    print('Running Cross-Validation Analysis for Keras NN Model \"{}\"'.format(keras_nn_baseline_model_name))\n",
        "    ts_cv_start = time.time()\n",
        "    cv_score = cross_val_analysis(keras_pipeline, x_total, y_total)\n",
        "    ts_cv_end = time.time()\n",
        "    print(\"Time Spent (Cross-Val): {}sec total\".format(round(ts_cv_end - ts_cv_start, 3)))\n",
        "    print(\" \")"
      ]
    },
    {
      "cell_type": "markdown",
      "metadata": {
        "id": "phMhkBsejgCv"
      },
      "source": [
        "**Cross-Validation Scores**  \n",
        "keras_nn_baseline_model_small: 89.17 % (816.291sec total)  \n",
        "keras_nn_baseline_model_big: 89.36 % (976.67sec total)  \n",
        "keras_nn_baseline_model_shaped: 81.90 % (978.022sec total)  "
      ]
    },
    {
      "cell_type": "markdown",
      "metadata": {
        "id": "P_V9rRgFyeBb"
      },
      "source": [
        "### Neural Networks w/ Stacking"
      ]
    },
    {
      "cell_type": "code",
      "execution_count": 38,
      "metadata": {
        "id": "RIBdCZbuy1rf"
      },
      "outputs": [],
      "source": [
        "def get_nn_classifier(baseline_model):\n",
        "  nn_clf = KerasClassifier(build_fn=baseline_model, epochs=num_training_epochs, batch_size=batch_size, verbose=0)\n",
        "  # nn_clf._estimator_type = \"classifier\"\n",
        "  estimators = []\n",
        "  estimators.append(('standardize', StandardScaler()))\n",
        "  estimators.append(('mlp', nn_clf))\n",
        "  pipeline = Pipeline(estimators)\n",
        "  return pipeline\n"
      ]
    },
    {
      "cell_type": "code",
      "execution_count": 39,
      "metadata": {
        "colab": {
          "base_uri": "https://localhost:8080/"
        },
        "id": "6ZK_iHurymSc",
        "outputId": "8881fae0-8d79-4919-c69f-b45bba915cbc"
      },
      "outputs": [
        {
          "name": "stderr",
          "output_type": "stream",
          "text": [
            "/Users/anuv/miniforge3/envs/mlp/lib/python3.8/site-packages/scikeras/wrappers.py:289: UserWarning: ``build_fn`` will be renamed to ``model`` in a future release, at which point use of ``build_fn`` will raise an Error instead.\n",
            "  warnings.warn(\n",
            "2022-05-05 19:47:31.824511: I tensorflow/core/common_runtime/pluggable_device/pluggable_device_factory.cc:305] Could not identify NUMA node of platform GPU ID 0, defaulting to 0. Your kernel may not have been built with NUMA support.\n",
            "2022-05-05 19:47:31.824622: I tensorflow/core/common_runtime/pluggable_device/pluggable_device_factory.cc:271] Created TensorFlow device (/job:localhost/replica:0/task:0/device:GPU:0 with 0 MB memory) -> physical PluggableDevice (device: 0, name: METAL, pci bus id: <undefined>)\n",
            "2022-05-05 19:47:31.910724: W tensorflow/core/platform/profile_utils/cpu_utils.cc:128] Failed to get CPU frequency: 0 Hz\n"
          ]
        },
        {
          "name": "stdout",
          "output_type": "stream",
          "text": [
            "Metal device set to: Apple M1 Pro\n",
            "\n",
            "systemMemory: 16.00 GB\n",
            "maxCacheSize: 5.33 GB\n",
            "\n"
          ]
        },
        {
          "name": "stderr",
          "output_type": "stream",
          "text": [
            "2022-05-05 19:47:32.124992: I tensorflow/core/grappler/optimizers/custom_graph_optimizer_registry.cc:113] Plugin optimizer for device_type GPU is enabled.\n",
            "/Users/anuv/miniforge3/envs/mlp/lib/python3.8/site-packages/scikeras/wrappers.py:289: UserWarning: ``build_fn`` will be renamed to ``model`` in a future release, at which point use of ``build_fn`` will raise an Error instead.\n",
            "  warnings.warn(\n",
            "2022-05-05 19:49:12.811720: I tensorflow/core/grappler/optimizers/custom_graph_optimizer_registry.cc:113] Plugin optimizer for device_type GPU is enabled.\n",
            "2022-05-05 19:50:32.599469: I tensorflow/core/grappler/optimizers/custom_graph_optimizer_registry.cc:113] Plugin optimizer for device_type GPU is enabled.\n",
            "/Users/anuv/miniforge3/envs/mlp/lib/python3.8/site-packages/scikeras/wrappers.py:289: UserWarning: ``build_fn`` will be renamed to ``model`` in a future release, at which point use of ``build_fn`` will raise an Error instead.\n",
            "  warnings.warn(\n",
            "2022-05-05 19:50:32.892349: I tensorflow/core/grappler/optimizers/custom_graph_optimizer_registry.cc:113] Plugin optimizer for device_type GPU is enabled.\n",
            "2022-05-05 19:51:50.551217: I tensorflow/core/grappler/optimizers/custom_graph_optimizer_registry.cc:113] Plugin optimizer for device_type GPU is enabled.\n",
            "/Users/anuv/miniforge3/envs/mlp/lib/python3.8/site-packages/scikeras/wrappers.py:289: UserWarning: ``build_fn`` will be renamed to ``model`` in a future release, at which point use of ``build_fn`` will raise an Error instead.\n",
            "  warnings.warn(\n",
            "2022-05-05 19:51:50.823963: I tensorflow/core/grappler/optimizers/custom_graph_optimizer_registry.cc:113] Plugin optimizer for device_type GPU is enabled.\n",
            "2022-05-05 19:53:07.916676: I tensorflow/core/grappler/optimizers/custom_graph_optimizer_registry.cc:113] Plugin optimizer for device_type GPU is enabled.\n",
            "/Users/anuv/miniforge3/envs/mlp/lib/python3.8/site-packages/scikeras/wrappers.py:289: UserWarning: ``build_fn`` will be renamed to ``model`` in a future release, at which point use of ``build_fn`` will raise an Error instead.\n",
            "  warnings.warn(\n",
            "2022-05-05 19:53:08.192954: I tensorflow/core/grappler/optimizers/custom_graph_optimizer_registry.cc:113] Plugin optimizer for device_type GPU is enabled.\n",
            "2022-05-05 19:54:25.892519: I tensorflow/core/grappler/optimizers/custom_graph_optimizer_registry.cc:113] Plugin optimizer for device_type GPU is enabled.\n",
            "/Users/anuv/miniforge3/envs/mlp/lib/python3.8/site-packages/scikeras/wrappers.py:289: UserWarning: ``build_fn`` will be renamed to ``model`` in a future release, at which point use of ``build_fn`` will raise an Error instead.\n",
            "  warnings.warn(\n",
            "2022-05-05 19:54:26.185574: I tensorflow/core/grappler/optimizers/custom_graph_optimizer_registry.cc:113] Plugin optimizer for device_type GPU is enabled.\n",
            "2022-05-05 19:55:44.072649: I tensorflow/core/grappler/optimizers/custom_graph_optimizer_registry.cc:113] Plugin optimizer for device_type GPU is enabled.\n",
            "2022-05-05 19:55:44.201762: I tensorflow/core/grappler/optimizers/custom_graph_optimizer_registry.cc:113] Plugin optimizer for device_type GPU is enabled.\n"
          ]
        },
        {
          "name": "stdout",
          "output_type": "stream",
          "text": [
            "Accuracy using NN & Stacking:  87.88 %\n",
            "Mean squared error: 0.12\n",
            "Time Spent: 492.53sec total, 492.423sec training, 0.106sec inference\n"
          ]
        }
      ],
      "source": [
        "base_learners = [\n",
        "  ('rf_1', RandomForestClassifier(n_estimators=10, random_state=42)),\n",
        "  ('rf_2', KNeighborsClassifier(n_neighbors=5)),             \n",
        "  ('rf_3', GradientBoostingClassifier(n_estimators=100, learning_rate=.1, max_depth=1, random_state=1)),\n",
        "  ('rf_4', get_nn_classifier(keras_nn_baseline_model_shaped))\n",
        "]\n",
        "\n",
        "nn_stk = StackingClassifier(estimators=base_learners, final_estimator=LogisticRegression())\n",
        "ts_train_start = time.time()\n",
        "nn_stk.fit(x_train, y_train)\n",
        "ts_train_end = time.time()\n",
        "\n",
        "ts_inference_start = ts_train_end\n",
        "nn_stk_pred = nn_stk.predict(x_test)\n",
        "ts_inference_end = time.time()\n",
        "\n",
        "\n",
        "score = accuracy_score(y_test, nn_stk_pred) * 100\n",
        "print(\"Accuracy using NN & Stacking: \", round(score, 2), \"%\")\n",
        "print('Mean squared error: %.2f' % mean_squared_error(y_test, nn_stk_pred))\n",
        "print(\"Time Spent: {}sec total, {}sec training, {}sec inference\".format(\n",
        "    round(ts_inference_end - ts_train_start, 3), round(ts_train_end - ts_train_start, 3), round(ts_inference_end - ts_inference_start, 3)))\n"
      ]
    },
    {
      "cell_type": "markdown",
      "metadata": {},
      "source": [
        "Accuracy using NN & Stacking:  90.3 %, 90.91 %  \n",
        "Mean squared error: 0.10, 0.09  \n",
        "Time Spent: 471.285sec(471.213sec-tr,0.072sec-inf), 479.528sec(479.419sec-tr,0.109sec-inf)  "
      ]
    },
    {
      "cell_type": "code",
      "execution_count": 43,
      "metadata": {},
      "outputs": [
        {
          "name": "stderr",
          "output_type": "stream",
          "text": [
            "/Users/anuv/miniforge3/envs/mlp/lib/python3.8/site-packages/scikeras/wrappers.py:289: UserWarning: ``build_fn`` will be renamed to ``model`` in a future release, at which point use of ``build_fn`` will raise an Error instead.\n",
            "  warnings.warn(\n",
            "2022-05-05 13:17:41.185851: I tensorflow/core/grappler/optimizers/custom_graph_optimizer_registry.cc:113] Plugin optimizer for device_type GPU is enabled.\n",
            "/Users/anuv/miniforge3/envs/mlp/lib/python3.8/site-packages/scikeras/wrappers.py:289: UserWarning: ``build_fn`` will be renamed to ``model`` in a future release, at which point use of ``build_fn`` will raise an Error instead.\n",
            "  warnings.warn(\n",
            "2022-05-05 13:19:23.273654: I tensorflow/core/grappler/optimizers/custom_graph_optimizer_registry.cc:113] Plugin optimizer for device_type GPU is enabled.\n",
            "2022-05-05 13:20:43.925745: I tensorflow/core/grappler/optimizers/custom_graph_optimizer_registry.cc:113] Plugin optimizer for device_type GPU is enabled.\n",
            "/Users/anuv/miniforge3/envs/mlp/lib/python3.8/site-packages/scikeras/wrappers.py:289: UserWarning: ``build_fn`` will be renamed to ``model`` in a future release, at which point use of ``build_fn`` will raise an Error instead.\n",
            "  warnings.warn(\n",
            "2022-05-05 13:20:44.223400: I tensorflow/core/grappler/optimizers/custom_graph_optimizer_registry.cc:113] Plugin optimizer for device_type GPU is enabled.\n",
            "2022-05-05 13:22:04.219084: I tensorflow/core/grappler/optimizers/custom_graph_optimizer_registry.cc:113] Plugin optimizer for device_type GPU is enabled.\n",
            "/Users/anuv/miniforge3/envs/mlp/lib/python3.8/site-packages/scikeras/wrappers.py:289: UserWarning: ``build_fn`` will be renamed to ``model`` in a future release, at which point use of ``build_fn`` will raise an Error instead.\n",
            "  warnings.warn(\n",
            "2022-05-05 13:22:04.504293: I tensorflow/core/grappler/optimizers/custom_graph_optimizer_registry.cc:113] Plugin optimizer for device_type GPU is enabled.\n",
            "2022-05-05 13:23:24.182742: I tensorflow/core/grappler/optimizers/custom_graph_optimizer_registry.cc:113] Plugin optimizer for device_type GPU is enabled.\n",
            "/Users/anuv/miniforge3/envs/mlp/lib/python3.8/site-packages/scikeras/wrappers.py:289: UserWarning: ``build_fn`` will be renamed to ``model`` in a future release, at which point use of ``build_fn`` will raise an Error instead.\n",
            "  warnings.warn(\n",
            "2022-05-05 13:23:24.747109: I tensorflow/core/grappler/optimizers/custom_graph_optimizer_registry.cc:113] Plugin optimizer for device_type GPU is enabled.\n",
            "2022-05-05 13:24:44.851092: I tensorflow/core/grappler/optimizers/custom_graph_optimizer_registry.cc:113] Plugin optimizer for device_type GPU is enabled.\n",
            "/Users/anuv/miniforge3/envs/mlp/lib/python3.8/site-packages/scikeras/wrappers.py:289: UserWarning: ``build_fn`` will be renamed to ``model`` in a future release, at which point use of ``build_fn`` will raise an Error instead.\n",
            "  warnings.warn(\n",
            "2022-05-05 13:24:45.131984: I tensorflow/core/grappler/optimizers/custom_graph_optimizer_registry.cc:113] Plugin optimizer for device_type GPU is enabled.\n",
            "2022-05-05 13:26:06.587464: I tensorflow/core/grappler/optimizers/custom_graph_optimizer_registry.cc:113] Plugin optimizer for device_type GPU is enabled.\n",
            "2022-05-05 13:26:06.707493: I tensorflow/core/grappler/optimizers/custom_graph_optimizer_registry.cc:113] Plugin optimizer for device_type GPU is enabled.\n",
            "/Users/anuv/miniforge3/envs/mlp/lib/python3.8/site-packages/scikeras/wrappers.py:289: UserWarning: ``build_fn`` will be renamed to ``model`` in a future release, at which point use of ``build_fn`` will raise an Error instead.\n",
            "  warnings.warn(\n",
            "2022-05-05 13:26:07.028831: I tensorflow/core/grappler/optimizers/custom_graph_optimizer_registry.cc:113] Plugin optimizer for device_type GPU is enabled.\n",
            "/Users/anuv/miniforge3/envs/mlp/lib/python3.8/site-packages/scikeras/wrappers.py:289: UserWarning: ``build_fn`` will be renamed to ``model`` in a future release, at which point use of ``build_fn`` will raise an Error instead.\n",
            "  warnings.warn(\n",
            "2022-05-05 13:27:47.486419: I tensorflow/core/grappler/optimizers/custom_graph_optimizer_registry.cc:113] Plugin optimizer for device_type GPU is enabled.\n",
            "2022-05-05 13:29:06.851697: I tensorflow/core/grappler/optimizers/custom_graph_optimizer_registry.cc:113] Plugin optimizer for device_type GPU is enabled.\n",
            "/Users/anuv/miniforge3/envs/mlp/lib/python3.8/site-packages/scikeras/wrappers.py:289: UserWarning: ``build_fn`` will be renamed to ``model`` in a future release, at which point use of ``build_fn`` will raise an Error instead.\n",
            "  warnings.warn(\n",
            "2022-05-05 13:29:07.129568: I tensorflow/core/grappler/optimizers/custom_graph_optimizer_registry.cc:113] Plugin optimizer for device_type GPU is enabled.\n",
            "2022-05-05 13:30:28.769660: I tensorflow/core/grappler/optimizers/custom_graph_optimizer_registry.cc:113] Plugin optimizer for device_type GPU is enabled.\n",
            "/Users/anuv/miniforge3/envs/mlp/lib/python3.8/site-packages/scikeras/wrappers.py:289: UserWarning: ``build_fn`` will be renamed to ``model`` in a future release, at which point use of ``build_fn`` will raise an Error instead.\n",
            "  warnings.warn(\n",
            "2022-05-05 13:30:29.067969: I tensorflow/core/grappler/optimizers/custom_graph_optimizer_registry.cc:113] Plugin optimizer for device_type GPU is enabled.\n",
            "2022-05-05 13:31:49.844355: I tensorflow/core/grappler/optimizers/custom_graph_optimizer_registry.cc:113] Plugin optimizer for device_type GPU is enabled.\n",
            "/Users/anuv/miniforge3/envs/mlp/lib/python3.8/site-packages/scikeras/wrappers.py:289: UserWarning: ``build_fn`` will be renamed to ``model`` in a future release, at which point use of ``build_fn`` will raise an Error instead.\n",
            "  warnings.warn(\n",
            "2022-05-05 13:31:50.131000: I tensorflow/core/grappler/optimizers/custom_graph_optimizer_registry.cc:113] Plugin optimizer for device_type GPU is enabled.\n",
            "2022-05-05 13:33:09.910575: I tensorflow/core/grappler/optimizers/custom_graph_optimizer_registry.cc:113] Plugin optimizer for device_type GPU is enabled.\n",
            "/Users/anuv/miniforge3/envs/mlp/lib/python3.8/site-packages/scikeras/wrappers.py:289: UserWarning: ``build_fn`` will be renamed to ``model`` in a future release, at which point use of ``build_fn`` will raise an Error instead.\n",
            "  warnings.warn(\n",
            "2022-05-05 13:33:10.648456: I tensorflow/core/grappler/optimizers/custom_graph_optimizer_registry.cc:113] Plugin optimizer for device_type GPU is enabled.\n",
            "2022-05-05 13:34:31.652008: I tensorflow/core/grappler/optimizers/custom_graph_optimizer_registry.cc:113] Plugin optimizer for device_type GPU is enabled.\n",
            "2022-05-05 13:34:31.767547: I tensorflow/core/grappler/optimizers/custom_graph_optimizer_registry.cc:113] Plugin optimizer for device_type GPU is enabled.\n",
            "/Users/anuv/miniforge3/envs/mlp/lib/python3.8/site-packages/scikeras/wrappers.py:289: UserWarning: ``build_fn`` will be renamed to ``model`` in a future release, at which point use of ``build_fn`` will raise an Error instead.\n",
            "  warnings.warn(\n",
            "2022-05-05 13:34:32.090403: I tensorflow/core/grappler/optimizers/custom_graph_optimizer_registry.cc:113] Plugin optimizer for device_type GPU is enabled.\n",
            "/Users/anuv/miniforge3/envs/mlp/lib/python3.8/site-packages/scikeras/wrappers.py:289: UserWarning: ``build_fn`` will be renamed to ``model`` in a future release, at which point use of ``build_fn`` will raise an Error instead.\n",
            "  warnings.warn(\n",
            "2022-05-05 13:36:13.363067: I tensorflow/core/grappler/optimizers/custom_graph_optimizer_registry.cc:113] Plugin optimizer for device_type GPU is enabled.\n",
            "2022-05-05 13:37:35.174726: I tensorflow/core/grappler/optimizers/custom_graph_optimizer_registry.cc:113] Plugin optimizer for device_type GPU is enabled.\n",
            "/Users/anuv/miniforge3/envs/mlp/lib/python3.8/site-packages/scikeras/wrappers.py:289: UserWarning: ``build_fn`` will be renamed to ``model`` in a future release, at which point use of ``build_fn`` will raise an Error instead.\n",
            "  warnings.warn(\n",
            "2022-05-05 13:37:35.481390: I tensorflow/core/grappler/optimizers/custom_graph_optimizer_registry.cc:113] Plugin optimizer for device_type GPU is enabled.\n",
            "2022-05-05 13:38:59.695083: I tensorflow/core/grappler/optimizers/custom_graph_optimizer_registry.cc:113] Plugin optimizer for device_type GPU is enabled.\n",
            "/Users/anuv/miniforge3/envs/mlp/lib/python3.8/site-packages/scikeras/wrappers.py:289: UserWarning: ``build_fn`` will be renamed to ``model`` in a future release, at which point use of ``build_fn`` will raise an Error instead.\n",
            "  warnings.warn(\n",
            "2022-05-05 13:38:59.977157: I tensorflow/core/grappler/optimizers/custom_graph_optimizer_registry.cc:113] Plugin optimizer for device_type GPU is enabled.\n",
            "2022-05-05 13:40:22.334864: I tensorflow/core/grappler/optimizers/custom_graph_optimizer_registry.cc:113] Plugin optimizer for device_type GPU is enabled.\n",
            "/Users/anuv/miniforge3/envs/mlp/lib/python3.8/site-packages/scikeras/wrappers.py:289: UserWarning: ``build_fn`` will be renamed to ``model`` in a future release, at which point use of ``build_fn`` will raise an Error instead.\n",
            "  warnings.warn(\n",
            "2022-05-05 13:40:22.619723: I tensorflow/core/grappler/optimizers/custom_graph_optimizer_registry.cc:113] Plugin optimizer for device_type GPU is enabled.\n",
            "2022-05-05 13:41:46.557618: I tensorflow/core/grappler/optimizers/custom_graph_optimizer_registry.cc:113] Plugin optimizer for device_type GPU is enabled.\n",
            "/Users/anuv/miniforge3/envs/mlp/lib/python3.8/site-packages/scikeras/wrappers.py:289: UserWarning: ``build_fn`` will be renamed to ``model`` in a future release, at which point use of ``build_fn`` will raise an Error instead.\n",
            "  warnings.warn(\n",
            "2022-05-05 13:41:46.851159: I tensorflow/core/grappler/optimizers/custom_graph_optimizer_registry.cc:113] Plugin optimizer for device_type GPU is enabled.\n",
            "2022-05-05 13:43:08.678118: I tensorflow/core/grappler/optimizers/custom_graph_optimizer_registry.cc:113] Plugin optimizer for device_type GPU is enabled.\n",
            "2022-05-05 13:43:08.802722: I tensorflow/core/grappler/optimizers/custom_graph_optimizer_registry.cc:113] Plugin optimizer for device_type GPU is enabled.\n",
            "/Users/anuv/miniforge3/envs/mlp/lib/python3.8/site-packages/scikeras/wrappers.py:289: UserWarning: ``build_fn`` will be renamed to ``model`` in a future release, at which point use of ``build_fn`` will raise an Error instead.\n",
            "  warnings.warn(\n",
            "2022-05-05 13:43:09.436990: I tensorflow/core/grappler/optimizers/custom_graph_optimizer_registry.cc:113] Plugin optimizer for device_type GPU is enabled.\n",
            "/Users/anuv/miniforge3/envs/mlp/lib/python3.8/site-packages/scikeras/wrappers.py:289: UserWarning: ``build_fn`` will be renamed to ``model`` in a future release, at which point use of ``build_fn`` will raise an Error instead.\n",
            "  warnings.warn(\n",
            "2022-05-05 13:44:51.876724: I tensorflow/core/grappler/optimizers/custom_graph_optimizer_registry.cc:113] Plugin optimizer for device_type GPU is enabled.\n",
            "2022-05-05 15:54:50.489620: I tensorflow/core/grappler/optimizers/custom_graph_optimizer_registry.cc:113] Plugin optimizer for device_type GPU is enabled.\n",
            "/Users/anuv/miniforge3/envs/mlp/lib/python3.8/site-packages/scikeras/wrappers.py:289: UserWarning: ``build_fn`` will be renamed to ``model`` in a future release, at which point use of ``build_fn`` will raise an Error instead.\n",
            "  warnings.warn(\n",
            "2022-05-05 15:54:50.768555: I tensorflow/core/grappler/optimizers/custom_graph_optimizer_registry.cc:113] Plugin optimizer for device_type GPU is enabled.\n",
            "2022-05-05 16:36:13.813980: I tensorflow/core/grappler/optimizers/custom_graph_optimizer_registry.cc:113] Plugin optimizer for device_type GPU is enabled.\n",
            "/Users/anuv/miniforge3/envs/mlp/lib/python3.8/site-packages/scikeras/wrappers.py:289: UserWarning: ``build_fn`` will be renamed to ``model`` in a future release, at which point use of ``build_fn`` will raise an Error instead.\n",
            "  warnings.warn(\n",
            "2022-05-05 16:36:14.102483: I tensorflow/core/grappler/optimizers/custom_graph_optimizer_registry.cc:113] Plugin optimizer for device_type GPU is enabled.\n",
            "2022-05-05 16:37:32.275768: I tensorflow/core/grappler/optimizers/custom_graph_optimizer_registry.cc:113] Plugin optimizer for device_type GPU is enabled.\n",
            "/Users/anuv/miniforge3/envs/mlp/lib/python3.8/site-packages/scikeras/wrappers.py:289: UserWarning: ``build_fn`` will be renamed to ``model`` in a future release, at which point use of ``build_fn`` will raise an Error instead.\n",
            "  warnings.warn(\n",
            "2022-05-05 16:37:32.548532: I tensorflow/core/grappler/optimizers/custom_graph_optimizer_registry.cc:113] Plugin optimizer for device_type GPU is enabled.\n",
            "2022-05-05 16:38:50.931654: I tensorflow/core/grappler/optimizers/custom_graph_optimizer_registry.cc:113] Plugin optimizer for device_type GPU is enabled.\n",
            "/Users/anuv/miniforge3/envs/mlp/lib/python3.8/site-packages/scikeras/wrappers.py:289: UserWarning: ``build_fn`` will be renamed to ``model`` in a future release, at which point use of ``build_fn`` will raise an Error instead.\n",
            "  warnings.warn(\n",
            "2022-05-05 16:38:51.218794: I tensorflow/core/grappler/optimizers/custom_graph_optimizer_registry.cc:113] Plugin optimizer for device_type GPU is enabled.\n",
            "2022-05-05 16:49:47.334174: I tensorflow/core/grappler/optimizers/custom_graph_optimizer_registry.cc:113] Plugin optimizer for device_type GPU is enabled.\n",
            "2022-05-05 16:49:47.452479: I tensorflow/core/grappler/optimizers/custom_graph_optimizer_registry.cc:113] Plugin optimizer for device_type GPU is enabled.\n",
            "/Users/anuv/miniforge3/envs/mlp/lib/python3.8/site-packages/scikeras/wrappers.py:289: UserWarning: ``build_fn`` will be renamed to ``model`` in a future release, at which point use of ``build_fn`` will raise an Error instead.\n",
            "  warnings.warn(\n",
            "2022-05-05 16:49:47.768609: I tensorflow/core/grappler/optimizers/custom_graph_optimizer_registry.cc:113] Plugin optimizer for device_type GPU is enabled.\n",
            "/Users/anuv/miniforge3/envs/mlp/lib/python3.8/site-packages/scikeras/wrappers.py:289: UserWarning: ``build_fn`` will be renamed to ``model`` in a future release, at which point use of ``build_fn`` will raise an Error instead.\n",
            "  warnings.warn(\n",
            "2022-05-05 18:09:17.689288: I tensorflow/core/grappler/optimizers/custom_graph_optimizer_registry.cc:113] Plugin optimizer for device_type GPU is enabled.\n",
            "2022-05-05 18:10:34.737792: I tensorflow/core/grappler/optimizers/custom_graph_optimizer_registry.cc:113] Plugin optimizer for device_type GPU is enabled.\n",
            "/Users/anuv/miniforge3/envs/mlp/lib/python3.8/site-packages/scikeras/wrappers.py:289: UserWarning: ``build_fn`` will be renamed to ``model`` in a future release, at which point use of ``build_fn`` will raise an Error instead.\n",
            "  warnings.warn(\n",
            "2022-05-05 18:10:35.355811: I tensorflow/core/grappler/optimizers/custom_graph_optimizer_registry.cc:113] Plugin optimizer for device_type GPU is enabled.\n",
            "2022-05-05 18:11:57.875353: I tensorflow/core/grappler/optimizers/custom_graph_optimizer_registry.cc:113] Plugin optimizer for device_type GPU is enabled.\n",
            "/Users/anuv/miniforge3/envs/mlp/lib/python3.8/site-packages/scikeras/wrappers.py:289: UserWarning: ``build_fn`` will be renamed to ``model`` in a future release, at which point use of ``build_fn`` will raise an Error instead.\n",
            "  warnings.warn(\n",
            "2022-05-05 18:11:58.174214: I tensorflow/core/grappler/optimizers/custom_graph_optimizer_registry.cc:113] Plugin optimizer for device_type GPU is enabled.\n",
            "2022-05-05 18:13:16.106194: I tensorflow/core/grappler/optimizers/custom_graph_optimizer_registry.cc:113] Plugin optimizer for device_type GPU is enabled.\n",
            "/Users/anuv/miniforge3/envs/mlp/lib/python3.8/site-packages/scikeras/wrappers.py:289: UserWarning: ``build_fn`` will be renamed to ``model`` in a future release, at which point use of ``build_fn`` will raise an Error instead.\n",
            "  warnings.warn(\n",
            "2022-05-05 18:13:16.388802: I tensorflow/core/grappler/optimizers/custom_graph_optimizer_registry.cc:113] Plugin optimizer for device_type GPU is enabled.\n",
            "2022-05-05 18:14:33.487219: I tensorflow/core/grappler/optimizers/custom_graph_optimizer_registry.cc:113] Plugin optimizer for device_type GPU is enabled.\n",
            "/Users/anuv/miniforge3/envs/mlp/lib/python3.8/site-packages/scikeras/wrappers.py:289: UserWarning: ``build_fn`` will be renamed to ``model`` in a future release, at which point use of ``build_fn`` will raise an Error instead.\n",
            "  warnings.warn(\n",
            "2022-05-05 18:14:33.859326: I tensorflow/core/grappler/optimizers/custom_graph_optimizer_registry.cc:113] Plugin optimizer for device_type GPU is enabled.\n",
            "2022-05-05 18:15:54.192419: I tensorflow/core/grappler/optimizers/custom_graph_optimizer_registry.cc:113] Plugin optimizer for device_type GPU is enabled.\n",
            "2022-05-05 18:15:54.316314: I tensorflow/core/grappler/optimizers/custom_graph_optimizer_registry.cc:113] Plugin optimizer for device_type GPU is enabled.\n",
            "/Users/anuv/miniforge3/envs/mlp/lib/python3.8/site-packages/scikeras/wrappers.py:289: UserWarning: ``build_fn`` will be renamed to ``model`` in a future release, at which point use of ``build_fn`` will raise an Error instead.\n",
            "  warnings.warn(\n",
            "2022-05-05 18:15:54.642255: I tensorflow/core/grappler/optimizers/custom_graph_optimizer_registry.cc:113] Plugin optimizer for device_type GPU is enabled.\n",
            "/Users/anuv/miniforge3/envs/mlp/lib/python3.8/site-packages/scikeras/wrappers.py:289: UserWarning: ``build_fn`` will be renamed to ``model`` in a future release, at which point use of ``build_fn`` will raise an Error instead.\n",
            "  warnings.warn(\n",
            "2022-05-05 18:17:30.411543: I tensorflow/core/grappler/optimizers/custom_graph_optimizer_registry.cc:113] Plugin optimizer for device_type GPU is enabled.\n",
            "2022-05-05 18:18:46.800999: I tensorflow/core/grappler/optimizers/custom_graph_optimizer_registry.cc:113] Plugin optimizer for device_type GPU is enabled.\n",
            "/Users/anuv/miniforge3/envs/mlp/lib/python3.8/site-packages/scikeras/wrappers.py:289: UserWarning: ``build_fn`` will be renamed to ``model`` in a future release, at which point use of ``build_fn`` will raise an Error instead.\n",
            "  warnings.warn(\n",
            "2022-05-05 18:18:47.076520: I tensorflow/core/grappler/optimizers/custom_graph_optimizer_registry.cc:113] Plugin optimizer for device_type GPU is enabled.\n",
            "2022-05-05 18:20:03.473475: I tensorflow/core/grappler/optimizers/custom_graph_optimizer_registry.cc:113] Plugin optimizer for device_type GPU is enabled.\n",
            "/Users/anuv/miniforge3/envs/mlp/lib/python3.8/site-packages/scikeras/wrappers.py:289: UserWarning: ``build_fn`` will be renamed to ``model`` in a future release, at which point use of ``build_fn`` will raise an Error instead.\n",
            "  warnings.warn(\n",
            "2022-05-05 18:20:04.100705: I tensorflow/core/grappler/optimizers/custom_graph_optimizer_registry.cc:113] Plugin optimizer for device_type GPU is enabled.\n",
            "2022-05-05 18:21:20.183638: I tensorflow/core/grappler/optimizers/custom_graph_optimizer_registry.cc:113] Plugin optimizer for device_type GPU is enabled.\n",
            "/Users/anuv/miniforge3/envs/mlp/lib/python3.8/site-packages/scikeras/wrappers.py:289: UserWarning: ``build_fn`` will be renamed to ``model`` in a future release, at which point use of ``build_fn`` will raise an Error instead.\n",
            "  warnings.warn(\n",
            "2022-05-05 18:21:20.457016: I tensorflow/core/grappler/optimizers/custom_graph_optimizer_registry.cc:113] Plugin optimizer for device_type GPU is enabled.\n",
            "2022-05-05 18:22:36.602705: I tensorflow/core/grappler/optimizers/custom_graph_optimizer_registry.cc:113] Plugin optimizer for device_type GPU is enabled.\n",
            "/Users/anuv/miniforge3/envs/mlp/lib/python3.8/site-packages/scikeras/wrappers.py:289: UserWarning: ``build_fn`` will be renamed to ``model`` in a future release, at which point use of ``build_fn`` will raise an Error instead.\n",
            "  warnings.warn(\n",
            "2022-05-05 18:22:36.877643: I tensorflow/core/grappler/optimizers/custom_graph_optimizer_registry.cc:113] Plugin optimizer for device_type GPU is enabled.\n",
            "2022-05-05 18:23:53.002336: I tensorflow/core/grappler/optimizers/custom_graph_optimizer_registry.cc:113] Plugin optimizer for device_type GPU is enabled.\n",
            "2022-05-05 18:23:53.121248: I tensorflow/core/grappler/optimizers/custom_graph_optimizer_registry.cc:113] Plugin optimizer for device_type GPU is enabled.\n",
            "/Users/anuv/miniforge3/envs/mlp/lib/python3.8/site-packages/scikeras/wrappers.py:289: UserWarning: ``build_fn`` will be renamed to ``model`` in a future release, at which point use of ``build_fn`` will raise an Error instead.\n",
            "  warnings.warn(\n",
            "2022-05-05 18:23:53.432381: I tensorflow/core/grappler/optimizers/custom_graph_optimizer_registry.cc:113] Plugin optimizer for device_type GPU is enabled.\n",
            "/Users/anuv/miniforge3/envs/mlp/lib/python3.8/site-packages/scikeras/wrappers.py:289: UserWarning: ``build_fn`` will be renamed to ``model`` in a future release, at which point use of ``build_fn`` will raise an Error instead.\n",
            "  warnings.warn(\n",
            "2022-05-05 18:25:28.467642: I tensorflow/core/grappler/optimizers/custom_graph_optimizer_registry.cc:113] Plugin optimizer for device_type GPU is enabled.\n",
            "2022-05-05 19:44:14.165398: I tensorflow/core/grappler/optimizers/custom_graph_optimizer_registry.cc:113] Plugin optimizer for device_type GPU is enabled.\n",
            "/Users/anuv/miniforge3/envs/mlp/lib/python3.8/site-packages/scikeras/wrappers.py:289: UserWarning: ``build_fn`` will be renamed to ``model`` in a future release, at which point use of ``build_fn`` will raise an Error instead.\n",
            "  warnings.warn(\n",
            "2022-05-05 19:44:14.646721: I tensorflow/core/grappler/optimizers/custom_graph_optimizer_registry.cc:113] Plugin optimizer for device_type GPU is enabled.\n",
            "2022-05-05 19:45:34.339150: I tensorflow/core/grappler/optimizers/custom_graph_optimizer_registry.cc:113] Plugin optimizer for device_type GPU is enabled.\n",
            "/Users/anuv/miniforge3/envs/mlp/lib/python3.8/site-packages/scikeras/wrappers.py:289: UserWarning: ``build_fn`` will be renamed to ``model`` in a future release, at which point use of ``build_fn`` will raise an Error instead.\n",
            "  warnings.warn(\n",
            "2022-05-05 19:45:34.634028: I tensorflow/core/grappler/optimizers/custom_graph_optimizer_registry.cc:113] Plugin optimizer for device_type GPU is enabled.\n"
          ]
        },
        {
          "ename": "KeyboardInterrupt",
          "evalue": "",
          "output_type": "error",
          "traceback": [
            "\u001b[0;31m---------------------------------------------------------------------------\u001b[0m",
            "\u001b[0;31mKeyboardInterrupt\u001b[0m                         Traceback (most recent call last)",
            "\u001b[1;32m/Users/anuv/Documents/GitHub/mlds/audiu/notebooks/Spotify_Suggestion_Model_V3_updated.ipynb Cell 62'\u001b[0m in \u001b[0;36m<cell line: 11>\u001b[0;34m()\u001b[0m\n\u001b[1;32m      <a href='vscode-notebook-cell:/Users/anuv/Documents/GitHub/mlds/audiu/notebooks/Spotify_Suggestion_Model_V3_updated.ipynb#ch0000062?line=7'>8</a>\u001b[0m nn_stk \u001b[39m=\u001b[39m StackingClassifier(estimators\u001b[39m=\u001b[39mbase_learners, final_estimator\u001b[39m=\u001b[39mLogisticRegression())\n\u001b[1;32m     <a href='vscode-notebook-cell:/Users/anuv/Documents/GitHub/mlds/audiu/notebooks/Spotify_Suggestion_Model_V3_updated.ipynb#ch0000062?line=9'>10</a>\u001b[0m ts_cv_start \u001b[39m=\u001b[39m time\u001b[39m.\u001b[39mtime()\n\u001b[0;32m---> <a href='vscode-notebook-cell:/Users/anuv/Documents/GitHub/mlds/audiu/notebooks/Spotify_Suggestion_Model_V3_updated.ipynb#ch0000062?line=10'>11</a>\u001b[0m cv_score \u001b[39m=\u001b[39m cross_val_analysis(nn_stk, x_total, y_total)\n\u001b[1;32m     <a href='vscode-notebook-cell:/Users/anuv/Documents/GitHub/mlds/audiu/notebooks/Spotify_Suggestion_Model_V3_updated.ipynb#ch0000062?line=11'>12</a>\u001b[0m ts_cv_end \u001b[39m=\u001b[39m time\u001b[39m.\u001b[39mtime()\n\u001b[1;32m     <a href='vscode-notebook-cell:/Users/anuv/Documents/GitHub/mlds/audiu/notebooks/Spotify_Suggestion_Model_V3_updated.ipynb#ch0000062?line=12'>13</a>\u001b[0m \u001b[39mprint\u001b[39m(\u001b[39m\"\u001b[39m\u001b[39mTime Spent (Cross-Val): \u001b[39m\u001b[39m{}\u001b[39;00m\u001b[39msec total\u001b[39m\u001b[39m\"\u001b[39m\u001b[39m.\u001b[39mformat(\u001b[39mround\u001b[39m(ts_cv_end \u001b[39m-\u001b[39m ts_cv_start, \u001b[39m3\u001b[39m)))\n",
            "\u001b[1;32m/Users/anuv/Documents/GitHub/mlds/audiu/notebooks/Spotify_Suggestion_Model_V3_updated.ipynb Cell 6'\u001b[0m in \u001b[0;36mcross_val_analysis\u001b[0;34m(model, x_train, y_train, k, output)\u001b[0m\n\u001b[1;32m      <a href='vscode-notebook-cell:/Users/anuv/Documents/GitHub/mlds/audiu/notebooks/Spotify_Suggestion_Model_V3_updated.ipynb#ch0000005?line=0'>1</a>\u001b[0m \u001b[39mdef\u001b[39;00m \u001b[39mcross_val_analysis\u001b[39m(model, x_train, y_train, k \u001b[39m=\u001b[39m \u001b[39m10\u001b[39m, output \u001b[39m=\u001b[39m \u001b[39mTrue\u001b[39;00m):\n\u001b[1;32m      <a href='vscode-notebook-cell:/Users/anuv/Documents/GitHub/mlds/audiu/notebooks/Spotify_Suggestion_Model_V3_updated.ipynb#ch0000005?line=1'>2</a>\u001b[0m     kfold \u001b[39m=\u001b[39m StratifiedKFold(n_splits\u001b[39m=\u001b[39mk, shuffle\u001b[39m=\u001b[39m\u001b[39mTrue\u001b[39;00m)\n\u001b[0;32m----> <a href='vscode-notebook-cell:/Users/anuv/Documents/GitHub/mlds/audiu/notebooks/Spotify_Suggestion_Model_V3_updated.ipynb#ch0000005?line=2'>3</a>\u001b[0m     results \u001b[39m=\u001b[39m cross_val_score(model, x_train, y_train, cv\u001b[39m=\u001b[39;49mkfold)\n\u001b[1;32m      <a href='vscode-notebook-cell:/Users/anuv/Documents/GitHub/mlds/audiu/notebooks/Spotify_Suggestion_Model_V3_updated.ipynb#ch0000005?line=3'>4</a>\u001b[0m     \u001b[39mif\u001b[39;00m output:\n\u001b[1;32m      <a href='vscode-notebook-cell:/Users/anuv/Documents/GitHub/mlds/audiu/notebooks/Spotify_Suggestion_Model_V3_updated.ipynb#ch0000005?line=4'>5</a>\u001b[0m         \u001b[39mprint\u001b[39m(\u001b[39m\"\u001b[39m\u001b[39mCross-Validation Score Standardized: \u001b[39m\u001b[39m%.2f\u001b[39;00m\u001b[39m%%\u001b[39;00m\u001b[39m (\u001b[39m\u001b[39m%.2f\u001b[39;00m\u001b[39m%%\u001b[39;00m\u001b[39m)\u001b[39m\u001b[39m\"\u001b[39m \u001b[39m%\u001b[39m\n\u001b[1;32m      <a href='vscode-notebook-cell:/Users/anuv/Documents/GitHub/mlds/audiu/notebooks/Spotify_Suggestion_Model_V3_updated.ipynb#ch0000005?line=5'>6</a>\u001b[0m             (results\u001b[39m.\u001b[39mmean() \u001b[39m*\u001b[39m \u001b[39m100\u001b[39m, results\u001b[39m.\u001b[39mstd() \u001b[39m*\u001b[39m \u001b[39m100\u001b[39m))\n",
            "File \u001b[0;32m~/miniforge3/envs/mlp/lib/python3.8/site-packages/sklearn/model_selection/_validation.py:509\u001b[0m, in \u001b[0;36mcross_val_score\u001b[0;34m(estimator, X, y, groups, scoring, cv, n_jobs, verbose, fit_params, pre_dispatch, error_score)\u001b[0m\n\u001b[1;32m    <a href='file:///Users/anuv/miniforge3/envs/mlp/lib/python3.8/site-packages/sklearn/model_selection/_validation.py?line=505'>506</a>\u001b[0m \u001b[39m# To ensure multimetric format is not supported\u001b[39;00m\n\u001b[1;32m    <a href='file:///Users/anuv/miniforge3/envs/mlp/lib/python3.8/site-packages/sklearn/model_selection/_validation.py?line=506'>507</a>\u001b[0m scorer \u001b[39m=\u001b[39m check_scoring(estimator, scoring\u001b[39m=\u001b[39mscoring)\n\u001b[0;32m--> <a href='file:///Users/anuv/miniforge3/envs/mlp/lib/python3.8/site-packages/sklearn/model_selection/_validation.py?line=508'>509</a>\u001b[0m cv_results \u001b[39m=\u001b[39m cross_validate(\n\u001b[1;32m    <a href='file:///Users/anuv/miniforge3/envs/mlp/lib/python3.8/site-packages/sklearn/model_selection/_validation.py?line=509'>510</a>\u001b[0m     estimator\u001b[39m=\u001b[39;49mestimator,\n\u001b[1;32m    <a href='file:///Users/anuv/miniforge3/envs/mlp/lib/python3.8/site-packages/sklearn/model_selection/_validation.py?line=510'>511</a>\u001b[0m     X\u001b[39m=\u001b[39;49mX,\n\u001b[1;32m    <a href='file:///Users/anuv/miniforge3/envs/mlp/lib/python3.8/site-packages/sklearn/model_selection/_validation.py?line=511'>512</a>\u001b[0m     y\u001b[39m=\u001b[39;49my,\n\u001b[1;32m    <a href='file:///Users/anuv/miniforge3/envs/mlp/lib/python3.8/site-packages/sklearn/model_selection/_validation.py?line=512'>513</a>\u001b[0m     groups\u001b[39m=\u001b[39;49mgroups,\n\u001b[1;32m    <a href='file:///Users/anuv/miniforge3/envs/mlp/lib/python3.8/site-packages/sklearn/model_selection/_validation.py?line=513'>514</a>\u001b[0m     scoring\u001b[39m=\u001b[39;49m{\u001b[39m\"\u001b[39;49m\u001b[39mscore\u001b[39;49m\u001b[39m\"\u001b[39;49m: scorer},\n\u001b[1;32m    <a href='file:///Users/anuv/miniforge3/envs/mlp/lib/python3.8/site-packages/sklearn/model_selection/_validation.py?line=514'>515</a>\u001b[0m     cv\u001b[39m=\u001b[39;49mcv,\n\u001b[1;32m    <a href='file:///Users/anuv/miniforge3/envs/mlp/lib/python3.8/site-packages/sklearn/model_selection/_validation.py?line=515'>516</a>\u001b[0m     n_jobs\u001b[39m=\u001b[39;49mn_jobs,\n\u001b[1;32m    <a href='file:///Users/anuv/miniforge3/envs/mlp/lib/python3.8/site-packages/sklearn/model_selection/_validation.py?line=516'>517</a>\u001b[0m     verbose\u001b[39m=\u001b[39;49mverbose,\n\u001b[1;32m    <a href='file:///Users/anuv/miniforge3/envs/mlp/lib/python3.8/site-packages/sklearn/model_selection/_validation.py?line=517'>518</a>\u001b[0m     fit_params\u001b[39m=\u001b[39;49mfit_params,\n\u001b[1;32m    <a href='file:///Users/anuv/miniforge3/envs/mlp/lib/python3.8/site-packages/sklearn/model_selection/_validation.py?line=518'>519</a>\u001b[0m     pre_dispatch\u001b[39m=\u001b[39;49mpre_dispatch,\n\u001b[1;32m    <a href='file:///Users/anuv/miniforge3/envs/mlp/lib/python3.8/site-packages/sklearn/model_selection/_validation.py?line=519'>520</a>\u001b[0m     error_score\u001b[39m=\u001b[39;49merror_score,\n\u001b[1;32m    <a href='file:///Users/anuv/miniforge3/envs/mlp/lib/python3.8/site-packages/sklearn/model_selection/_validation.py?line=520'>521</a>\u001b[0m )\n\u001b[1;32m    <a href='file:///Users/anuv/miniforge3/envs/mlp/lib/python3.8/site-packages/sklearn/model_selection/_validation.py?line=521'>522</a>\u001b[0m \u001b[39mreturn\u001b[39;00m cv_results[\u001b[39m\"\u001b[39m\u001b[39mtest_score\u001b[39m\u001b[39m\"\u001b[39m]\n",
            "File \u001b[0;32m~/miniforge3/envs/mlp/lib/python3.8/site-packages/sklearn/model_selection/_validation.py:267\u001b[0m, in \u001b[0;36mcross_validate\u001b[0;34m(estimator, X, y, groups, scoring, cv, n_jobs, verbose, fit_params, pre_dispatch, return_train_score, return_estimator, error_score)\u001b[0m\n\u001b[1;32m    <a href='file:///Users/anuv/miniforge3/envs/mlp/lib/python3.8/site-packages/sklearn/model_selection/_validation.py?line=263'>264</a>\u001b[0m \u001b[39m# We clone the estimator to make sure that all the folds are\u001b[39;00m\n\u001b[1;32m    <a href='file:///Users/anuv/miniforge3/envs/mlp/lib/python3.8/site-packages/sklearn/model_selection/_validation.py?line=264'>265</a>\u001b[0m \u001b[39m# independent, and that it is pickle-able.\u001b[39;00m\n\u001b[1;32m    <a href='file:///Users/anuv/miniforge3/envs/mlp/lib/python3.8/site-packages/sklearn/model_selection/_validation.py?line=265'>266</a>\u001b[0m parallel \u001b[39m=\u001b[39m Parallel(n_jobs\u001b[39m=\u001b[39mn_jobs, verbose\u001b[39m=\u001b[39mverbose, pre_dispatch\u001b[39m=\u001b[39mpre_dispatch)\n\u001b[0;32m--> <a href='file:///Users/anuv/miniforge3/envs/mlp/lib/python3.8/site-packages/sklearn/model_selection/_validation.py?line=266'>267</a>\u001b[0m results \u001b[39m=\u001b[39m parallel(\n\u001b[1;32m    <a href='file:///Users/anuv/miniforge3/envs/mlp/lib/python3.8/site-packages/sklearn/model_selection/_validation.py?line=267'>268</a>\u001b[0m     delayed(_fit_and_score)(\n\u001b[1;32m    <a href='file:///Users/anuv/miniforge3/envs/mlp/lib/python3.8/site-packages/sklearn/model_selection/_validation.py?line=268'>269</a>\u001b[0m         clone(estimator),\n\u001b[1;32m    <a href='file:///Users/anuv/miniforge3/envs/mlp/lib/python3.8/site-packages/sklearn/model_selection/_validation.py?line=269'>270</a>\u001b[0m         X,\n\u001b[1;32m    <a href='file:///Users/anuv/miniforge3/envs/mlp/lib/python3.8/site-packages/sklearn/model_selection/_validation.py?line=270'>271</a>\u001b[0m         y,\n\u001b[1;32m    <a href='file:///Users/anuv/miniforge3/envs/mlp/lib/python3.8/site-packages/sklearn/model_selection/_validation.py?line=271'>272</a>\u001b[0m         scorers,\n\u001b[1;32m    <a href='file:///Users/anuv/miniforge3/envs/mlp/lib/python3.8/site-packages/sklearn/model_selection/_validation.py?line=272'>273</a>\u001b[0m         train,\n\u001b[1;32m    <a href='file:///Users/anuv/miniforge3/envs/mlp/lib/python3.8/site-packages/sklearn/model_selection/_validation.py?line=273'>274</a>\u001b[0m         test,\n\u001b[1;32m    <a href='file:///Users/anuv/miniforge3/envs/mlp/lib/python3.8/site-packages/sklearn/model_selection/_validation.py?line=274'>275</a>\u001b[0m         verbose,\n\u001b[1;32m    <a href='file:///Users/anuv/miniforge3/envs/mlp/lib/python3.8/site-packages/sklearn/model_selection/_validation.py?line=275'>276</a>\u001b[0m         \u001b[39mNone\u001b[39;49;00m,\n\u001b[1;32m    <a href='file:///Users/anuv/miniforge3/envs/mlp/lib/python3.8/site-packages/sklearn/model_selection/_validation.py?line=276'>277</a>\u001b[0m         fit_params,\n\u001b[1;32m    <a href='file:///Users/anuv/miniforge3/envs/mlp/lib/python3.8/site-packages/sklearn/model_selection/_validation.py?line=277'>278</a>\u001b[0m         return_train_score\u001b[39m=\u001b[39;49mreturn_train_score,\n\u001b[1;32m    <a href='file:///Users/anuv/miniforge3/envs/mlp/lib/python3.8/site-packages/sklearn/model_selection/_validation.py?line=278'>279</a>\u001b[0m         return_times\u001b[39m=\u001b[39;49m\u001b[39mTrue\u001b[39;49;00m,\n\u001b[1;32m    <a href='file:///Users/anuv/miniforge3/envs/mlp/lib/python3.8/site-packages/sklearn/model_selection/_validation.py?line=279'>280</a>\u001b[0m         return_estimator\u001b[39m=\u001b[39;49mreturn_estimator,\n\u001b[1;32m    <a href='file:///Users/anuv/miniforge3/envs/mlp/lib/python3.8/site-packages/sklearn/model_selection/_validation.py?line=280'>281</a>\u001b[0m         error_score\u001b[39m=\u001b[39;49merror_score,\n\u001b[1;32m    <a href='file:///Users/anuv/miniforge3/envs/mlp/lib/python3.8/site-packages/sklearn/model_selection/_validation.py?line=281'>282</a>\u001b[0m     )\n\u001b[1;32m    <a href='file:///Users/anuv/miniforge3/envs/mlp/lib/python3.8/site-packages/sklearn/model_selection/_validation.py?line=282'>283</a>\u001b[0m     \u001b[39mfor\u001b[39;49;00m train, test \u001b[39min\u001b[39;49;00m cv\u001b[39m.\u001b[39;49msplit(X, y, groups)\n\u001b[1;32m    <a href='file:///Users/anuv/miniforge3/envs/mlp/lib/python3.8/site-packages/sklearn/model_selection/_validation.py?line=283'>284</a>\u001b[0m )\n\u001b[1;32m    <a href='file:///Users/anuv/miniforge3/envs/mlp/lib/python3.8/site-packages/sklearn/model_selection/_validation.py?line=285'>286</a>\u001b[0m _warn_about_fit_failures(results, error_score)\n\u001b[1;32m    <a href='file:///Users/anuv/miniforge3/envs/mlp/lib/python3.8/site-packages/sklearn/model_selection/_validation.py?line=287'>288</a>\u001b[0m \u001b[39m# For callabe scoring, the return type is only know after calling. If the\u001b[39;00m\n\u001b[1;32m    <a href='file:///Users/anuv/miniforge3/envs/mlp/lib/python3.8/site-packages/sklearn/model_selection/_validation.py?line=288'>289</a>\u001b[0m \u001b[39m# return type is a dictionary, the error scores can now be inserted with\u001b[39;00m\n\u001b[1;32m    <a href='file:///Users/anuv/miniforge3/envs/mlp/lib/python3.8/site-packages/sklearn/model_selection/_validation.py?line=289'>290</a>\u001b[0m \u001b[39m# the correct key.\u001b[39;00m\n",
            "File \u001b[0;32m~/miniforge3/envs/mlp/lib/python3.8/site-packages/joblib/parallel.py:1046\u001b[0m, in \u001b[0;36mParallel.__call__\u001b[0;34m(self, iterable)\u001b[0m\n\u001b[1;32m   <a href='file:///Users/anuv/miniforge3/envs/mlp/lib/python3.8/site-packages/joblib/parallel.py?line=1042'>1043</a>\u001b[0m \u001b[39mif\u001b[39;00m \u001b[39mself\u001b[39m\u001b[39m.\u001b[39mdispatch_one_batch(iterator):\n\u001b[1;32m   <a href='file:///Users/anuv/miniforge3/envs/mlp/lib/python3.8/site-packages/joblib/parallel.py?line=1043'>1044</a>\u001b[0m     \u001b[39mself\u001b[39m\u001b[39m.\u001b[39m_iterating \u001b[39m=\u001b[39m \u001b[39mself\u001b[39m\u001b[39m.\u001b[39m_original_iterator \u001b[39mis\u001b[39;00m \u001b[39mnot\u001b[39;00m \u001b[39mNone\u001b[39;00m\n\u001b[0;32m-> <a href='file:///Users/anuv/miniforge3/envs/mlp/lib/python3.8/site-packages/joblib/parallel.py?line=1045'>1046</a>\u001b[0m \u001b[39mwhile\u001b[39;00m \u001b[39mself\u001b[39;49m\u001b[39m.\u001b[39;49mdispatch_one_batch(iterator):\n\u001b[1;32m   <a href='file:///Users/anuv/miniforge3/envs/mlp/lib/python3.8/site-packages/joblib/parallel.py?line=1046'>1047</a>\u001b[0m     \u001b[39mpass\u001b[39;00m\n\u001b[1;32m   <a href='file:///Users/anuv/miniforge3/envs/mlp/lib/python3.8/site-packages/joblib/parallel.py?line=1048'>1049</a>\u001b[0m \u001b[39mif\u001b[39;00m pre_dispatch \u001b[39m==\u001b[39m \u001b[39m\"\u001b[39m\u001b[39mall\u001b[39m\u001b[39m\"\u001b[39m \u001b[39mor\u001b[39;00m n_jobs \u001b[39m==\u001b[39m \u001b[39m1\u001b[39m:\n\u001b[1;32m   <a href='file:///Users/anuv/miniforge3/envs/mlp/lib/python3.8/site-packages/joblib/parallel.py?line=1049'>1050</a>\u001b[0m     \u001b[39m# The iterable was consumed all at once by the above for loop.\u001b[39;00m\n\u001b[1;32m   <a href='file:///Users/anuv/miniforge3/envs/mlp/lib/python3.8/site-packages/joblib/parallel.py?line=1050'>1051</a>\u001b[0m     \u001b[39m# No need to wait for async callbacks to trigger to\u001b[39;00m\n\u001b[1;32m   <a href='file:///Users/anuv/miniforge3/envs/mlp/lib/python3.8/site-packages/joblib/parallel.py?line=1051'>1052</a>\u001b[0m     \u001b[39m# consumption.\u001b[39;00m\n",
            "File \u001b[0;32m~/miniforge3/envs/mlp/lib/python3.8/site-packages/joblib/parallel.py:861\u001b[0m, in \u001b[0;36mParallel.dispatch_one_batch\u001b[0;34m(self, iterator)\u001b[0m\n\u001b[1;32m    <a href='file:///Users/anuv/miniforge3/envs/mlp/lib/python3.8/site-packages/joblib/parallel.py?line=858'>859</a>\u001b[0m     \u001b[39mreturn\u001b[39;00m \u001b[39mFalse\u001b[39;00m\n\u001b[1;32m    <a href='file:///Users/anuv/miniforge3/envs/mlp/lib/python3.8/site-packages/joblib/parallel.py?line=859'>860</a>\u001b[0m \u001b[39melse\u001b[39;00m:\n\u001b[0;32m--> <a href='file:///Users/anuv/miniforge3/envs/mlp/lib/python3.8/site-packages/joblib/parallel.py?line=860'>861</a>\u001b[0m     \u001b[39mself\u001b[39;49m\u001b[39m.\u001b[39;49m_dispatch(tasks)\n\u001b[1;32m    <a href='file:///Users/anuv/miniforge3/envs/mlp/lib/python3.8/site-packages/joblib/parallel.py?line=861'>862</a>\u001b[0m     \u001b[39mreturn\u001b[39;00m \u001b[39mTrue\u001b[39;00m\n",
            "File \u001b[0;32m~/miniforge3/envs/mlp/lib/python3.8/site-packages/joblib/parallel.py:779\u001b[0m, in \u001b[0;36mParallel._dispatch\u001b[0;34m(self, batch)\u001b[0m\n\u001b[1;32m    <a href='file:///Users/anuv/miniforge3/envs/mlp/lib/python3.8/site-packages/joblib/parallel.py?line=776'>777</a>\u001b[0m \u001b[39mwith\u001b[39;00m \u001b[39mself\u001b[39m\u001b[39m.\u001b[39m_lock:\n\u001b[1;32m    <a href='file:///Users/anuv/miniforge3/envs/mlp/lib/python3.8/site-packages/joblib/parallel.py?line=777'>778</a>\u001b[0m     job_idx \u001b[39m=\u001b[39m \u001b[39mlen\u001b[39m(\u001b[39mself\u001b[39m\u001b[39m.\u001b[39m_jobs)\n\u001b[0;32m--> <a href='file:///Users/anuv/miniforge3/envs/mlp/lib/python3.8/site-packages/joblib/parallel.py?line=778'>779</a>\u001b[0m     job \u001b[39m=\u001b[39m \u001b[39mself\u001b[39;49m\u001b[39m.\u001b[39;49m_backend\u001b[39m.\u001b[39;49mapply_async(batch, callback\u001b[39m=\u001b[39;49mcb)\n\u001b[1;32m    <a href='file:///Users/anuv/miniforge3/envs/mlp/lib/python3.8/site-packages/joblib/parallel.py?line=779'>780</a>\u001b[0m     \u001b[39m# A job can complete so quickly than its callback is\u001b[39;00m\n\u001b[1;32m    <a href='file:///Users/anuv/miniforge3/envs/mlp/lib/python3.8/site-packages/joblib/parallel.py?line=780'>781</a>\u001b[0m     \u001b[39m# called before we get here, causing self._jobs to\u001b[39;00m\n\u001b[1;32m    <a href='file:///Users/anuv/miniforge3/envs/mlp/lib/python3.8/site-packages/joblib/parallel.py?line=781'>782</a>\u001b[0m     \u001b[39m# grow. To ensure correct results ordering, .insert is\u001b[39;00m\n\u001b[1;32m    <a href='file:///Users/anuv/miniforge3/envs/mlp/lib/python3.8/site-packages/joblib/parallel.py?line=782'>783</a>\u001b[0m     \u001b[39m# used (rather than .append) in the following line\u001b[39;00m\n\u001b[1;32m    <a href='file:///Users/anuv/miniforge3/envs/mlp/lib/python3.8/site-packages/joblib/parallel.py?line=783'>784</a>\u001b[0m     \u001b[39mself\u001b[39m\u001b[39m.\u001b[39m_jobs\u001b[39m.\u001b[39minsert(job_idx, job)\n",
            "File \u001b[0;32m~/miniforge3/envs/mlp/lib/python3.8/site-packages/joblib/_parallel_backends.py:208\u001b[0m, in \u001b[0;36mSequentialBackend.apply_async\u001b[0;34m(self, func, callback)\u001b[0m\n\u001b[1;32m    <a href='file:///Users/anuv/miniforge3/envs/mlp/lib/python3.8/site-packages/joblib/_parallel_backends.py?line=205'>206</a>\u001b[0m \u001b[39mdef\u001b[39;00m \u001b[39mapply_async\u001b[39m(\u001b[39mself\u001b[39m, func, callback\u001b[39m=\u001b[39m\u001b[39mNone\u001b[39;00m):\n\u001b[1;32m    <a href='file:///Users/anuv/miniforge3/envs/mlp/lib/python3.8/site-packages/joblib/_parallel_backends.py?line=206'>207</a>\u001b[0m     \u001b[39m\"\"\"Schedule a func to be run\"\"\"\u001b[39;00m\n\u001b[0;32m--> <a href='file:///Users/anuv/miniforge3/envs/mlp/lib/python3.8/site-packages/joblib/_parallel_backends.py?line=207'>208</a>\u001b[0m     result \u001b[39m=\u001b[39m ImmediateResult(func)\n\u001b[1;32m    <a href='file:///Users/anuv/miniforge3/envs/mlp/lib/python3.8/site-packages/joblib/_parallel_backends.py?line=208'>209</a>\u001b[0m     \u001b[39mif\u001b[39;00m callback:\n\u001b[1;32m    <a href='file:///Users/anuv/miniforge3/envs/mlp/lib/python3.8/site-packages/joblib/_parallel_backends.py?line=209'>210</a>\u001b[0m         callback(result)\n",
            "File \u001b[0;32m~/miniforge3/envs/mlp/lib/python3.8/site-packages/joblib/_parallel_backends.py:572\u001b[0m, in \u001b[0;36mImmediateResult.__init__\u001b[0;34m(self, batch)\u001b[0m\n\u001b[1;32m    <a href='file:///Users/anuv/miniforge3/envs/mlp/lib/python3.8/site-packages/joblib/_parallel_backends.py?line=568'>569</a>\u001b[0m \u001b[39mdef\u001b[39;00m \u001b[39m__init__\u001b[39m(\u001b[39mself\u001b[39m, batch):\n\u001b[1;32m    <a href='file:///Users/anuv/miniforge3/envs/mlp/lib/python3.8/site-packages/joblib/_parallel_backends.py?line=569'>570</a>\u001b[0m     \u001b[39m# Don't delay the application, to avoid keeping the input\u001b[39;00m\n\u001b[1;32m    <a href='file:///Users/anuv/miniforge3/envs/mlp/lib/python3.8/site-packages/joblib/_parallel_backends.py?line=570'>571</a>\u001b[0m     \u001b[39m# arguments in memory\u001b[39;00m\n\u001b[0;32m--> <a href='file:///Users/anuv/miniforge3/envs/mlp/lib/python3.8/site-packages/joblib/_parallel_backends.py?line=571'>572</a>\u001b[0m     \u001b[39mself\u001b[39m\u001b[39m.\u001b[39mresults \u001b[39m=\u001b[39m batch()\n",
            "File \u001b[0;32m~/miniforge3/envs/mlp/lib/python3.8/site-packages/joblib/parallel.py:262\u001b[0m, in \u001b[0;36mBatchedCalls.__call__\u001b[0;34m(self)\u001b[0m\n\u001b[1;32m    <a href='file:///Users/anuv/miniforge3/envs/mlp/lib/python3.8/site-packages/joblib/parallel.py?line=257'>258</a>\u001b[0m \u001b[39mdef\u001b[39;00m \u001b[39m__call__\u001b[39m(\u001b[39mself\u001b[39m):\n\u001b[1;32m    <a href='file:///Users/anuv/miniforge3/envs/mlp/lib/python3.8/site-packages/joblib/parallel.py?line=258'>259</a>\u001b[0m     \u001b[39m# Set the default nested backend to self._backend but do not set the\u001b[39;00m\n\u001b[1;32m    <a href='file:///Users/anuv/miniforge3/envs/mlp/lib/python3.8/site-packages/joblib/parallel.py?line=259'>260</a>\u001b[0m     \u001b[39m# change the default number of processes to -1\u001b[39;00m\n\u001b[1;32m    <a href='file:///Users/anuv/miniforge3/envs/mlp/lib/python3.8/site-packages/joblib/parallel.py?line=260'>261</a>\u001b[0m     \u001b[39mwith\u001b[39;00m parallel_backend(\u001b[39mself\u001b[39m\u001b[39m.\u001b[39m_backend, n_jobs\u001b[39m=\u001b[39m\u001b[39mself\u001b[39m\u001b[39m.\u001b[39m_n_jobs):\n\u001b[0;32m--> <a href='file:///Users/anuv/miniforge3/envs/mlp/lib/python3.8/site-packages/joblib/parallel.py?line=261'>262</a>\u001b[0m         \u001b[39mreturn\u001b[39;00m [func(\u001b[39m*\u001b[39margs, \u001b[39m*\u001b[39m\u001b[39m*\u001b[39mkwargs)\n\u001b[1;32m    <a href='file:///Users/anuv/miniforge3/envs/mlp/lib/python3.8/site-packages/joblib/parallel.py?line=262'>263</a>\u001b[0m                 \u001b[39mfor\u001b[39;00m func, args, kwargs \u001b[39min\u001b[39;00m \u001b[39mself\u001b[39m\u001b[39m.\u001b[39mitems]\n",
            "File \u001b[0;32m~/miniforge3/envs/mlp/lib/python3.8/site-packages/joblib/parallel.py:262\u001b[0m, in \u001b[0;36m<listcomp>\u001b[0;34m(.0)\u001b[0m\n\u001b[1;32m    <a href='file:///Users/anuv/miniforge3/envs/mlp/lib/python3.8/site-packages/joblib/parallel.py?line=257'>258</a>\u001b[0m \u001b[39mdef\u001b[39;00m \u001b[39m__call__\u001b[39m(\u001b[39mself\u001b[39m):\n\u001b[1;32m    <a href='file:///Users/anuv/miniforge3/envs/mlp/lib/python3.8/site-packages/joblib/parallel.py?line=258'>259</a>\u001b[0m     \u001b[39m# Set the default nested backend to self._backend but do not set the\u001b[39;00m\n\u001b[1;32m    <a href='file:///Users/anuv/miniforge3/envs/mlp/lib/python3.8/site-packages/joblib/parallel.py?line=259'>260</a>\u001b[0m     \u001b[39m# change the default number of processes to -1\u001b[39;00m\n\u001b[1;32m    <a href='file:///Users/anuv/miniforge3/envs/mlp/lib/python3.8/site-packages/joblib/parallel.py?line=260'>261</a>\u001b[0m     \u001b[39mwith\u001b[39;00m parallel_backend(\u001b[39mself\u001b[39m\u001b[39m.\u001b[39m_backend, n_jobs\u001b[39m=\u001b[39m\u001b[39mself\u001b[39m\u001b[39m.\u001b[39m_n_jobs):\n\u001b[0;32m--> <a href='file:///Users/anuv/miniforge3/envs/mlp/lib/python3.8/site-packages/joblib/parallel.py?line=261'>262</a>\u001b[0m         \u001b[39mreturn\u001b[39;00m [func(\u001b[39m*\u001b[39;49margs, \u001b[39m*\u001b[39;49m\u001b[39m*\u001b[39;49mkwargs)\n\u001b[1;32m    <a href='file:///Users/anuv/miniforge3/envs/mlp/lib/python3.8/site-packages/joblib/parallel.py?line=262'>263</a>\u001b[0m                 \u001b[39mfor\u001b[39;00m func, args, kwargs \u001b[39min\u001b[39;00m \u001b[39mself\u001b[39m\u001b[39m.\u001b[39mitems]\n",
            "File \u001b[0;32m~/miniforge3/envs/mlp/lib/python3.8/site-packages/sklearn/utils/fixes.py:216\u001b[0m, in \u001b[0;36m_FuncWrapper.__call__\u001b[0;34m(self, *args, **kwargs)\u001b[0m\n\u001b[1;32m    <a href='file:///Users/anuv/miniforge3/envs/mlp/lib/python3.8/site-packages/sklearn/utils/fixes.py?line=213'>214</a>\u001b[0m \u001b[39mdef\u001b[39;00m \u001b[39m__call__\u001b[39m(\u001b[39mself\u001b[39m, \u001b[39m*\u001b[39margs, \u001b[39m*\u001b[39m\u001b[39m*\u001b[39mkwargs):\n\u001b[1;32m    <a href='file:///Users/anuv/miniforge3/envs/mlp/lib/python3.8/site-packages/sklearn/utils/fixes.py?line=214'>215</a>\u001b[0m     \u001b[39mwith\u001b[39;00m config_context(\u001b[39m*\u001b[39m\u001b[39m*\u001b[39m\u001b[39mself\u001b[39m\u001b[39m.\u001b[39mconfig):\n\u001b[0;32m--> <a href='file:///Users/anuv/miniforge3/envs/mlp/lib/python3.8/site-packages/sklearn/utils/fixes.py?line=215'>216</a>\u001b[0m         \u001b[39mreturn\u001b[39;00m \u001b[39mself\u001b[39;49m\u001b[39m.\u001b[39;49mfunction(\u001b[39m*\u001b[39;49margs, \u001b[39m*\u001b[39;49m\u001b[39m*\u001b[39;49mkwargs)\n",
            "File \u001b[0;32m~/miniforge3/envs/mlp/lib/python3.8/site-packages/sklearn/model_selection/_validation.py:680\u001b[0m, in \u001b[0;36m_fit_and_score\u001b[0;34m(estimator, X, y, scorer, train, test, verbose, parameters, fit_params, return_train_score, return_parameters, return_n_test_samples, return_times, return_estimator, split_progress, candidate_progress, error_score)\u001b[0m\n\u001b[1;32m    <a href='file:///Users/anuv/miniforge3/envs/mlp/lib/python3.8/site-packages/sklearn/model_selection/_validation.py?line=677'>678</a>\u001b[0m         estimator\u001b[39m.\u001b[39mfit(X_train, \u001b[39m*\u001b[39m\u001b[39m*\u001b[39mfit_params)\n\u001b[1;32m    <a href='file:///Users/anuv/miniforge3/envs/mlp/lib/python3.8/site-packages/sklearn/model_selection/_validation.py?line=678'>679</a>\u001b[0m     \u001b[39melse\u001b[39;00m:\n\u001b[0;32m--> <a href='file:///Users/anuv/miniforge3/envs/mlp/lib/python3.8/site-packages/sklearn/model_selection/_validation.py?line=679'>680</a>\u001b[0m         estimator\u001b[39m.\u001b[39;49mfit(X_train, y_train, \u001b[39m*\u001b[39;49m\u001b[39m*\u001b[39;49mfit_params)\n\u001b[1;32m    <a href='file:///Users/anuv/miniforge3/envs/mlp/lib/python3.8/site-packages/sklearn/model_selection/_validation.py?line=681'>682</a>\u001b[0m \u001b[39mexcept\u001b[39;00m \u001b[39mException\u001b[39;00m:\n\u001b[1;32m    <a href='file:///Users/anuv/miniforge3/envs/mlp/lib/python3.8/site-packages/sklearn/model_selection/_validation.py?line=682'>683</a>\u001b[0m     \u001b[39m# Note fit time as time until error\u001b[39;00m\n\u001b[1;32m    <a href='file:///Users/anuv/miniforge3/envs/mlp/lib/python3.8/site-packages/sklearn/model_selection/_validation.py?line=683'>684</a>\u001b[0m     fit_time \u001b[39m=\u001b[39m time\u001b[39m.\u001b[39mtime() \u001b[39m-\u001b[39m start_time\n",
            "File \u001b[0;32m~/miniforge3/envs/mlp/lib/python3.8/site-packages/sklearn/ensemble/_stacking.py:488\u001b[0m, in \u001b[0;36mStackingClassifier.fit\u001b[0;34m(self, X, y, sample_weight)\u001b[0m\n\u001b[1;32m    <a href='file:///Users/anuv/miniforge3/envs/mlp/lib/python3.8/site-packages/sklearn/ensemble/_stacking.py?line=485'>486</a>\u001b[0m \u001b[39mself\u001b[39m\u001b[39m.\u001b[39m_le \u001b[39m=\u001b[39m LabelEncoder()\u001b[39m.\u001b[39mfit(y)\n\u001b[1;32m    <a href='file:///Users/anuv/miniforge3/envs/mlp/lib/python3.8/site-packages/sklearn/ensemble/_stacking.py?line=486'>487</a>\u001b[0m \u001b[39mself\u001b[39m\u001b[39m.\u001b[39mclasses_ \u001b[39m=\u001b[39m \u001b[39mself\u001b[39m\u001b[39m.\u001b[39m_le\u001b[39m.\u001b[39mclasses_\n\u001b[0;32m--> <a href='file:///Users/anuv/miniforge3/envs/mlp/lib/python3.8/site-packages/sklearn/ensemble/_stacking.py?line=487'>488</a>\u001b[0m \u001b[39mreturn\u001b[39;00m \u001b[39msuper\u001b[39;49m()\u001b[39m.\u001b[39;49mfit(X, \u001b[39mself\u001b[39;49m\u001b[39m.\u001b[39;49m_le\u001b[39m.\u001b[39;49mtransform(y), sample_weight)\n",
            "File \u001b[0;32m~/miniforge3/envs/mlp/lib/python3.8/site-packages/sklearn/ensemble/_stacking.py:193\u001b[0m, in \u001b[0;36m_BaseStacking.fit\u001b[0;34m(self, X, y, sample_weight)\u001b[0m\n\u001b[1;32m    <a href='file:///Users/anuv/miniforge3/envs/mlp/lib/python3.8/site-packages/sklearn/ensemble/_stacking.py?line=185'>186</a>\u001b[0m \u001b[39mself\u001b[39m\u001b[39m.\u001b[39mstack_method_ \u001b[39m=\u001b[39m [\n\u001b[1;32m    <a href='file:///Users/anuv/miniforge3/envs/mlp/lib/python3.8/site-packages/sklearn/ensemble/_stacking.py?line=186'>187</a>\u001b[0m     \u001b[39mself\u001b[39m\u001b[39m.\u001b[39m_method_name(name, est, meth)\n\u001b[1;32m    <a href='file:///Users/anuv/miniforge3/envs/mlp/lib/python3.8/site-packages/sklearn/ensemble/_stacking.py?line=187'>188</a>\u001b[0m     \u001b[39mfor\u001b[39;00m name, est, meth \u001b[39min\u001b[39;00m \u001b[39mzip\u001b[39m(names, all_estimators, stack_method)\n\u001b[1;32m    <a href='file:///Users/anuv/miniforge3/envs/mlp/lib/python3.8/site-packages/sklearn/ensemble/_stacking.py?line=188'>189</a>\u001b[0m ]\n\u001b[1;32m    <a href='file:///Users/anuv/miniforge3/envs/mlp/lib/python3.8/site-packages/sklearn/ensemble/_stacking.py?line=189'>190</a>\u001b[0m fit_params \u001b[39m=\u001b[39m (\n\u001b[1;32m    <a href='file:///Users/anuv/miniforge3/envs/mlp/lib/python3.8/site-packages/sklearn/ensemble/_stacking.py?line=190'>191</a>\u001b[0m     {\u001b[39m\"\u001b[39m\u001b[39msample_weight\u001b[39m\u001b[39m\"\u001b[39m: sample_weight} \u001b[39mif\u001b[39;00m sample_weight \u001b[39mis\u001b[39;00m \u001b[39mnot\u001b[39;00m \u001b[39mNone\u001b[39;00m \u001b[39melse\u001b[39;00m \u001b[39mNone\u001b[39;00m\n\u001b[1;32m    <a href='file:///Users/anuv/miniforge3/envs/mlp/lib/python3.8/site-packages/sklearn/ensemble/_stacking.py?line=191'>192</a>\u001b[0m )\n\u001b[0;32m--> <a href='file:///Users/anuv/miniforge3/envs/mlp/lib/python3.8/site-packages/sklearn/ensemble/_stacking.py?line=192'>193</a>\u001b[0m predictions \u001b[39m=\u001b[39m Parallel(n_jobs\u001b[39m=\u001b[39;49m\u001b[39mself\u001b[39;49m\u001b[39m.\u001b[39;49mn_jobs)(\n\u001b[1;32m    <a href='file:///Users/anuv/miniforge3/envs/mlp/lib/python3.8/site-packages/sklearn/ensemble/_stacking.py?line=193'>194</a>\u001b[0m     delayed(cross_val_predict)(\n\u001b[1;32m    <a href='file:///Users/anuv/miniforge3/envs/mlp/lib/python3.8/site-packages/sklearn/ensemble/_stacking.py?line=194'>195</a>\u001b[0m         clone(est),\n\u001b[1;32m    <a href='file:///Users/anuv/miniforge3/envs/mlp/lib/python3.8/site-packages/sklearn/ensemble/_stacking.py?line=195'>196</a>\u001b[0m         X,\n\u001b[1;32m    <a href='file:///Users/anuv/miniforge3/envs/mlp/lib/python3.8/site-packages/sklearn/ensemble/_stacking.py?line=196'>197</a>\u001b[0m         y,\n\u001b[1;32m    <a href='file:///Users/anuv/miniforge3/envs/mlp/lib/python3.8/site-packages/sklearn/ensemble/_stacking.py?line=197'>198</a>\u001b[0m         cv\u001b[39m=\u001b[39;49mdeepcopy(cv),\n\u001b[1;32m    <a href='file:///Users/anuv/miniforge3/envs/mlp/lib/python3.8/site-packages/sklearn/ensemble/_stacking.py?line=198'>199</a>\u001b[0m         method\u001b[39m=\u001b[39;49mmeth,\n\u001b[1;32m    <a href='file:///Users/anuv/miniforge3/envs/mlp/lib/python3.8/site-packages/sklearn/ensemble/_stacking.py?line=199'>200</a>\u001b[0m         n_jobs\u001b[39m=\u001b[39;49m\u001b[39mself\u001b[39;49m\u001b[39m.\u001b[39;49mn_jobs,\n\u001b[1;32m    <a href='file:///Users/anuv/miniforge3/envs/mlp/lib/python3.8/site-packages/sklearn/ensemble/_stacking.py?line=200'>201</a>\u001b[0m         fit_params\u001b[39m=\u001b[39;49mfit_params,\n\u001b[1;32m    <a href='file:///Users/anuv/miniforge3/envs/mlp/lib/python3.8/site-packages/sklearn/ensemble/_stacking.py?line=201'>202</a>\u001b[0m         verbose\u001b[39m=\u001b[39;49m\u001b[39mself\u001b[39;49m\u001b[39m.\u001b[39;49mverbose,\n\u001b[1;32m    <a href='file:///Users/anuv/miniforge3/envs/mlp/lib/python3.8/site-packages/sklearn/ensemble/_stacking.py?line=202'>203</a>\u001b[0m     )\n\u001b[1;32m    <a href='file:///Users/anuv/miniforge3/envs/mlp/lib/python3.8/site-packages/sklearn/ensemble/_stacking.py?line=203'>204</a>\u001b[0m     \u001b[39mfor\u001b[39;49;00m est, meth \u001b[39min\u001b[39;49;00m \u001b[39mzip\u001b[39;49m(all_estimators, \u001b[39mself\u001b[39;49m\u001b[39m.\u001b[39;49mstack_method_)\n\u001b[1;32m    <a href='file:///Users/anuv/miniforge3/envs/mlp/lib/python3.8/site-packages/sklearn/ensemble/_stacking.py?line=204'>205</a>\u001b[0m     \u001b[39mif\u001b[39;49;00m est \u001b[39m!=\u001b[39;49m \u001b[39m\"\u001b[39;49m\u001b[39mdrop\u001b[39;49m\u001b[39m\"\u001b[39;49m\n\u001b[1;32m    <a href='file:///Users/anuv/miniforge3/envs/mlp/lib/python3.8/site-packages/sklearn/ensemble/_stacking.py?line=205'>206</a>\u001b[0m )\n\u001b[1;32m    <a href='file:///Users/anuv/miniforge3/envs/mlp/lib/python3.8/site-packages/sklearn/ensemble/_stacking.py?line=207'>208</a>\u001b[0m \u001b[39m# Only not None or not 'drop' estimators will be used in transform.\u001b[39;00m\n\u001b[1;32m    <a href='file:///Users/anuv/miniforge3/envs/mlp/lib/python3.8/site-packages/sklearn/ensemble/_stacking.py?line=208'>209</a>\u001b[0m \u001b[39m# Remove the None from the method as well.\u001b[39;00m\n\u001b[1;32m    <a href='file:///Users/anuv/miniforge3/envs/mlp/lib/python3.8/site-packages/sklearn/ensemble/_stacking.py?line=209'>210</a>\u001b[0m \u001b[39mself\u001b[39m\u001b[39m.\u001b[39mstack_method_ \u001b[39m=\u001b[39m [\n\u001b[1;32m    <a href='file:///Users/anuv/miniforge3/envs/mlp/lib/python3.8/site-packages/sklearn/ensemble/_stacking.py?line=210'>211</a>\u001b[0m     meth\n\u001b[1;32m    <a href='file:///Users/anuv/miniforge3/envs/mlp/lib/python3.8/site-packages/sklearn/ensemble/_stacking.py?line=211'>212</a>\u001b[0m     \u001b[39mfor\u001b[39;00m (meth, est) \u001b[39min\u001b[39;00m \u001b[39mzip\u001b[39m(\u001b[39mself\u001b[39m\u001b[39m.\u001b[39mstack_method_, all_estimators)\n\u001b[1;32m    <a href='file:///Users/anuv/miniforge3/envs/mlp/lib/python3.8/site-packages/sklearn/ensemble/_stacking.py?line=212'>213</a>\u001b[0m     \u001b[39mif\u001b[39;00m est \u001b[39m!=\u001b[39m \u001b[39m\"\u001b[39m\u001b[39mdrop\u001b[39m\u001b[39m\"\u001b[39m\n\u001b[1;32m    <a href='file:///Users/anuv/miniforge3/envs/mlp/lib/python3.8/site-packages/sklearn/ensemble/_stacking.py?line=213'>214</a>\u001b[0m ]\n",
            "File \u001b[0;32m~/miniforge3/envs/mlp/lib/python3.8/site-packages/joblib/parallel.py:1046\u001b[0m, in \u001b[0;36mParallel.__call__\u001b[0;34m(self, iterable)\u001b[0m\n\u001b[1;32m   <a href='file:///Users/anuv/miniforge3/envs/mlp/lib/python3.8/site-packages/joblib/parallel.py?line=1042'>1043</a>\u001b[0m \u001b[39mif\u001b[39;00m \u001b[39mself\u001b[39m\u001b[39m.\u001b[39mdispatch_one_batch(iterator):\n\u001b[1;32m   <a href='file:///Users/anuv/miniforge3/envs/mlp/lib/python3.8/site-packages/joblib/parallel.py?line=1043'>1044</a>\u001b[0m     \u001b[39mself\u001b[39m\u001b[39m.\u001b[39m_iterating \u001b[39m=\u001b[39m \u001b[39mself\u001b[39m\u001b[39m.\u001b[39m_original_iterator \u001b[39mis\u001b[39;00m \u001b[39mnot\u001b[39;00m \u001b[39mNone\u001b[39;00m\n\u001b[0;32m-> <a href='file:///Users/anuv/miniforge3/envs/mlp/lib/python3.8/site-packages/joblib/parallel.py?line=1045'>1046</a>\u001b[0m \u001b[39mwhile\u001b[39;00m \u001b[39mself\u001b[39;49m\u001b[39m.\u001b[39;49mdispatch_one_batch(iterator):\n\u001b[1;32m   <a href='file:///Users/anuv/miniforge3/envs/mlp/lib/python3.8/site-packages/joblib/parallel.py?line=1046'>1047</a>\u001b[0m     \u001b[39mpass\u001b[39;00m\n\u001b[1;32m   <a href='file:///Users/anuv/miniforge3/envs/mlp/lib/python3.8/site-packages/joblib/parallel.py?line=1048'>1049</a>\u001b[0m \u001b[39mif\u001b[39;00m pre_dispatch \u001b[39m==\u001b[39m \u001b[39m\"\u001b[39m\u001b[39mall\u001b[39m\u001b[39m\"\u001b[39m \u001b[39mor\u001b[39;00m n_jobs \u001b[39m==\u001b[39m \u001b[39m1\u001b[39m:\n\u001b[1;32m   <a href='file:///Users/anuv/miniforge3/envs/mlp/lib/python3.8/site-packages/joblib/parallel.py?line=1049'>1050</a>\u001b[0m     \u001b[39m# The iterable was consumed all at once by the above for loop.\u001b[39;00m\n\u001b[1;32m   <a href='file:///Users/anuv/miniforge3/envs/mlp/lib/python3.8/site-packages/joblib/parallel.py?line=1050'>1051</a>\u001b[0m     \u001b[39m# No need to wait for async callbacks to trigger to\u001b[39;00m\n\u001b[1;32m   <a href='file:///Users/anuv/miniforge3/envs/mlp/lib/python3.8/site-packages/joblib/parallel.py?line=1051'>1052</a>\u001b[0m     \u001b[39m# consumption.\u001b[39;00m\n",
            "File \u001b[0;32m~/miniforge3/envs/mlp/lib/python3.8/site-packages/joblib/parallel.py:861\u001b[0m, in \u001b[0;36mParallel.dispatch_one_batch\u001b[0;34m(self, iterator)\u001b[0m\n\u001b[1;32m    <a href='file:///Users/anuv/miniforge3/envs/mlp/lib/python3.8/site-packages/joblib/parallel.py?line=858'>859</a>\u001b[0m     \u001b[39mreturn\u001b[39;00m \u001b[39mFalse\u001b[39;00m\n\u001b[1;32m    <a href='file:///Users/anuv/miniforge3/envs/mlp/lib/python3.8/site-packages/joblib/parallel.py?line=859'>860</a>\u001b[0m \u001b[39melse\u001b[39;00m:\n\u001b[0;32m--> <a href='file:///Users/anuv/miniforge3/envs/mlp/lib/python3.8/site-packages/joblib/parallel.py?line=860'>861</a>\u001b[0m     \u001b[39mself\u001b[39;49m\u001b[39m.\u001b[39;49m_dispatch(tasks)\n\u001b[1;32m    <a href='file:///Users/anuv/miniforge3/envs/mlp/lib/python3.8/site-packages/joblib/parallel.py?line=861'>862</a>\u001b[0m     \u001b[39mreturn\u001b[39;00m \u001b[39mTrue\u001b[39;00m\n",
            "File \u001b[0;32m~/miniforge3/envs/mlp/lib/python3.8/site-packages/joblib/parallel.py:779\u001b[0m, in \u001b[0;36mParallel._dispatch\u001b[0;34m(self, batch)\u001b[0m\n\u001b[1;32m    <a href='file:///Users/anuv/miniforge3/envs/mlp/lib/python3.8/site-packages/joblib/parallel.py?line=776'>777</a>\u001b[0m \u001b[39mwith\u001b[39;00m \u001b[39mself\u001b[39m\u001b[39m.\u001b[39m_lock:\n\u001b[1;32m    <a href='file:///Users/anuv/miniforge3/envs/mlp/lib/python3.8/site-packages/joblib/parallel.py?line=777'>778</a>\u001b[0m     job_idx \u001b[39m=\u001b[39m \u001b[39mlen\u001b[39m(\u001b[39mself\u001b[39m\u001b[39m.\u001b[39m_jobs)\n\u001b[0;32m--> <a href='file:///Users/anuv/miniforge3/envs/mlp/lib/python3.8/site-packages/joblib/parallel.py?line=778'>779</a>\u001b[0m     job \u001b[39m=\u001b[39m \u001b[39mself\u001b[39;49m\u001b[39m.\u001b[39;49m_backend\u001b[39m.\u001b[39;49mapply_async(batch, callback\u001b[39m=\u001b[39;49mcb)\n\u001b[1;32m    <a href='file:///Users/anuv/miniforge3/envs/mlp/lib/python3.8/site-packages/joblib/parallel.py?line=779'>780</a>\u001b[0m     \u001b[39m# A job can complete so quickly than its callback is\u001b[39;00m\n\u001b[1;32m    <a href='file:///Users/anuv/miniforge3/envs/mlp/lib/python3.8/site-packages/joblib/parallel.py?line=780'>781</a>\u001b[0m     \u001b[39m# called before we get here, causing self._jobs to\u001b[39;00m\n\u001b[1;32m    <a href='file:///Users/anuv/miniforge3/envs/mlp/lib/python3.8/site-packages/joblib/parallel.py?line=781'>782</a>\u001b[0m     \u001b[39m# grow. To ensure correct results ordering, .insert is\u001b[39;00m\n\u001b[1;32m    <a href='file:///Users/anuv/miniforge3/envs/mlp/lib/python3.8/site-packages/joblib/parallel.py?line=782'>783</a>\u001b[0m     \u001b[39m# used (rather than .append) in the following line\u001b[39;00m\n\u001b[1;32m    <a href='file:///Users/anuv/miniforge3/envs/mlp/lib/python3.8/site-packages/joblib/parallel.py?line=783'>784</a>\u001b[0m     \u001b[39mself\u001b[39m\u001b[39m.\u001b[39m_jobs\u001b[39m.\u001b[39minsert(job_idx, job)\n",
            "File \u001b[0;32m~/miniforge3/envs/mlp/lib/python3.8/site-packages/joblib/_parallel_backends.py:208\u001b[0m, in \u001b[0;36mSequentialBackend.apply_async\u001b[0;34m(self, func, callback)\u001b[0m\n\u001b[1;32m    <a href='file:///Users/anuv/miniforge3/envs/mlp/lib/python3.8/site-packages/joblib/_parallel_backends.py?line=205'>206</a>\u001b[0m \u001b[39mdef\u001b[39;00m \u001b[39mapply_async\u001b[39m(\u001b[39mself\u001b[39m, func, callback\u001b[39m=\u001b[39m\u001b[39mNone\u001b[39;00m):\n\u001b[1;32m    <a href='file:///Users/anuv/miniforge3/envs/mlp/lib/python3.8/site-packages/joblib/_parallel_backends.py?line=206'>207</a>\u001b[0m     \u001b[39m\"\"\"Schedule a func to be run\"\"\"\u001b[39;00m\n\u001b[0;32m--> <a href='file:///Users/anuv/miniforge3/envs/mlp/lib/python3.8/site-packages/joblib/_parallel_backends.py?line=207'>208</a>\u001b[0m     result \u001b[39m=\u001b[39m ImmediateResult(func)\n\u001b[1;32m    <a href='file:///Users/anuv/miniforge3/envs/mlp/lib/python3.8/site-packages/joblib/_parallel_backends.py?line=208'>209</a>\u001b[0m     \u001b[39mif\u001b[39;00m callback:\n\u001b[1;32m    <a href='file:///Users/anuv/miniforge3/envs/mlp/lib/python3.8/site-packages/joblib/_parallel_backends.py?line=209'>210</a>\u001b[0m         callback(result)\n",
            "File \u001b[0;32m~/miniforge3/envs/mlp/lib/python3.8/site-packages/joblib/_parallel_backends.py:572\u001b[0m, in \u001b[0;36mImmediateResult.__init__\u001b[0;34m(self, batch)\u001b[0m\n\u001b[1;32m    <a href='file:///Users/anuv/miniforge3/envs/mlp/lib/python3.8/site-packages/joblib/_parallel_backends.py?line=568'>569</a>\u001b[0m \u001b[39mdef\u001b[39;00m \u001b[39m__init__\u001b[39m(\u001b[39mself\u001b[39m, batch):\n\u001b[1;32m    <a href='file:///Users/anuv/miniforge3/envs/mlp/lib/python3.8/site-packages/joblib/_parallel_backends.py?line=569'>570</a>\u001b[0m     \u001b[39m# Don't delay the application, to avoid keeping the input\u001b[39;00m\n\u001b[1;32m    <a href='file:///Users/anuv/miniforge3/envs/mlp/lib/python3.8/site-packages/joblib/_parallel_backends.py?line=570'>571</a>\u001b[0m     \u001b[39m# arguments in memory\u001b[39;00m\n\u001b[0;32m--> <a href='file:///Users/anuv/miniforge3/envs/mlp/lib/python3.8/site-packages/joblib/_parallel_backends.py?line=571'>572</a>\u001b[0m     \u001b[39mself\u001b[39m\u001b[39m.\u001b[39mresults \u001b[39m=\u001b[39m batch()\n",
            "File \u001b[0;32m~/miniforge3/envs/mlp/lib/python3.8/site-packages/joblib/parallel.py:262\u001b[0m, in \u001b[0;36mBatchedCalls.__call__\u001b[0;34m(self)\u001b[0m\n\u001b[1;32m    <a href='file:///Users/anuv/miniforge3/envs/mlp/lib/python3.8/site-packages/joblib/parallel.py?line=257'>258</a>\u001b[0m \u001b[39mdef\u001b[39;00m \u001b[39m__call__\u001b[39m(\u001b[39mself\u001b[39m):\n\u001b[1;32m    <a href='file:///Users/anuv/miniforge3/envs/mlp/lib/python3.8/site-packages/joblib/parallel.py?line=258'>259</a>\u001b[0m     \u001b[39m# Set the default nested backend to self._backend but do not set the\u001b[39;00m\n\u001b[1;32m    <a href='file:///Users/anuv/miniforge3/envs/mlp/lib/python3.8/site-packages/joblib/parallel.py?line=259'>260</a>\u001b[0m     \u001b[39m# change the default number of processes to -1\u001b[39;00m\n\u001b[1;32m    <a href='file:///Users/anuv/miniforge3/envs/mlp/lib/python3.8/site-packages/joblib/parallel.py?line=260'>261</a>\u001b[0m     \u001b[39mwith\u001b[39;00m parallel_backend(\u001b[39mself\u001b[39m\u001b[39m.\u001b[39m_backend, n_jobs\u001b[39m=\u001b[39m\u001b[39mself\u001b[39m\u001b[39m.\u001b[39m_n_jobs):\n\u001b[0;32m--> <a href='file:///Users/anuv/miniforge3/envs/mlp/lib/python3.8/site-packages/joblib/parallel.py?line=261'>262</a>\u001b[0m         \u001b[39mreturn\u001b[39;00m [func(\u001b[39m*\u001b[39margs, \u001b[39m*\u001b[39m\u001b[39m*\u001b[39mkwargs)\n\u001b[1;32m    <a href='file:///Users/anuv/miniforge3/envs/mlp/lib/python3.8/site-packages/joblib/parallel.py?line=262'>263</a>\u001b[0m                 \u001b[39mfor\u001b[39;00m func, args, kwargs \u001b[39min\u001b[39;00m \u001b[39mself\u001b[39m\u001b[39m.\u001b[39mitems]\n",
            "File \u001b[0;32m~/miniforge3/envs/mlp/lib/python3.8/site-packages/joblib/parallel.py:262\u001b[0m, in \u001b[0;36m<listcomp>\u001b[0;34m(.0)\u001b[0m\n\u001b[1;32m    <a href='file:///Users/anuv/miniforge3/envs/mlp/lib/python3.8/site-packages/joblib/parallel.py?line=257'>258</a>\u001b[0m \u001b[39mdef\u001b[39;00m \u001b[39m__call__\u001b[39m(\u001b[39mself\u001b[39m):\n\u001b[1;32m    <a href='file:///Users/anuv/miniforge3/envs/mlp/lib/python3.8/site-packages/joblib/parallel.py?line=258'>259</a>\u001b[0m     \u001b[39m# Set the default nested backend to self._backend but do not set the\u001b[39;00m\n\u001b[1;32m    <a href='file:///Users/anuv/miniforge3/envs/mlp/lib/python3.8/site-packages/joblib/parallel.py?line=259'>260</a>\u001b[0m     \u001b[39m# change the default number of processes to -1\u001b[39;00m\n\u001b[1;32m    <a href='file:///Users/anuv/miniforge3/envs/mlp/lib/python3.8/site-packages/joblib/parallel.py?line=260'>261</a>\u001b[0m     \u001b[39mwith\u001b[39;00m parallel_backend(\u001b[39mself\u001b[39m\u001b[39m.\u001b[39m_backend, n_jobs\u001b[39m=\u001b[39m\u001b[39mself\u001b[39m\u001b[39m.\u001b[39m_n_jobs):\n\u001b[0;32m--> <a href='file:///Users/anuv/miniforge3/envs/mlp/lib/python3.8/site-packages/joblib/parallel.py?line=261'>262</a>\u001b[0m         \u001b[39mreturn\u001b[39;00m [func(\u001b[39m*\u001b[39;49margs, \u001b[39m*\u001b[39;49m\u001b[39m*\u001b[39;49mkwargs)\n\u001b[1;32m    <a href='file:///Users/anuv/miniforge3/envs/mlp/lib/python3.8/site-packages/joblib/parallel.py?line=262'>263</a>\u001b[0m                 \u001b[39mfor\u001b[39;00m func, args, kwargs \u001b[39min\u001b[39;00m \u001b[39mself\u001b[39m\u001b[39m.\u001b[39mitems]\n",
            "File \u001b[0;32m~/miniforge3/envs/mlp/lib/python3.8/site-packages/sklearn/utils/fixes.py:216\u001b[0m, in \u001b[0;36m_FuncWrapper.__call__\u001b[0;34m(self, *args, **kwargs)\u001b[0m\n\u001b[1;32m    <a href='file:///Users/anuv/miniforge3/envs/mlp/lib/python3.8/site-packages/sklearn/utils/fixes.py?line=213'>214</a>\u001b[0m \u001b[39mdef\u001b[39;00m \u001b[39m__call__\u001b[39m(\u001b[39mself\u001b[39m, \u001b[39m*\u001b[39margs, \u001b[39m*\u001b[39m\u001b[39m*\u001b[39mkwargs):\n\u001b[1;32m    <a href='file:///Users/anuv/miniforge3/envs/mlp/lib/python3.8/site-packages/sklearn/utils/fixes.py?line=214'>215</a>\u001b[0m     \u001b[39mwith\u001b[39;00m config_context(\u001b[39m*\u001b[39m\u001b[39m*\u001b[39m\u001b[39mself\u001b[39m\u001b[39m.\u001b[39mconfig):\n\u001b[0;32m--> <a href='file:///Users/anuv/miniforge3/envs/mlp/lib/python3.8/site-packages/sklearn/utils/fixes.py?line=215'>216</a>\u001b[0m         \u001b[39mreturn\u001b[39;00m \u001b[39mself\u001b[39;49m\u001b[39m.\u001b[39;49mfunction(\u001b[39m*\u001b[39;49margs, \u001b[39m*\u001b[39;49m\u001b[39m*\u001b[39;49mkwargs)\n",
            "File \u001b[0;32m~/miniforge3/envs/mlp/lib/python3.8/site-packages/sklearn/model_selection/_validation.py:962\u001b[0m, in \u001b[0;36mcross_val_predict\u001b[0;34m(estimator, X, y, groups, cv, n_jobs, verbose, fit_params, pre_dispatch, method)\u001b[0m\n\u001b[1;32m    <a href='file:///Users/anuv/miniforge3/envs/mlp/lib/python3.8/site-packages/sklearn/model_selection/_validation.py?line=958'>959</a>\u001b[0m \u001b[39m# We clone the estimator to make sure that all the folds are\u001b[39;00m\n\u001b[1;32m    <a href='file:///Users/anuv/miniforge3/envs/mlp/lib/python3.8/site-packages/sklearn/model_selection/_validation.py?line=959'>960</a>\u001b[0m \u001b[39m# independent, and that it is pickle-able.\u001b[39;00m\n\u001b[1;32m    <a href='file:///Users/anuv/miniforge3/envs/mlp/lib/python3.8/site-packages/sklearn/model_selection/_validation.py?line=960'>961</a>\u001b[0m parallel \u001b[39m=\u001b[39m Parallel(n_jobs\u001b[39m=\u001b[39mn_jobs, verbose\u001b[39m=\u001b[39mverbose, pre_dispatch\u001b[39m=\u001b[39mpre_dispatch)\n\u001b[0;32m--> <a href='file:///Users/anuv/miniforge3/envs/mlp/lib/python3.8/site-packages/sklearn/model_selection/_validation.py?line=961'>962</a>\u001b[0m predictions \u001b[39m=\u001b[39m parallel(\n\u001b[1;32m    <a href='file:///Users/anuv/miniforge3/envs/mlp/lib/python3.8/site-packages/sklearn/model_selection/_validation.py?line=962'>963</a>\u001b[0m     delayed(_fit_and_predict)(\n\u001b[1;32m    <a href='file:///Users/anuv/miniforge3/envs/mlp/lib/python3.8/site-packages/sklearn/model_selection/_validation.py?line=963'>964</a>\u001b[0m         clone(estimator), X, y, train, test, verbose, fit_params, method\n\u001b[1;32m    <a href='file:///Users/anuv/miniforge3/envs/mlp/lib/python3.8/site-packages/sklearn/model_selection/_validation.py?line=964'>965</a>\u001b[0m     )\n\u001b[1;32m    <a href='file:///Users/anuv/miniforge3/envs/mlp/lib/python3.8/site-packages/sklearn/model_selection/_validation.py?line=965'>966</a>\u001b[0m     \u001b[39mfor\u001b[39;49;00m train, test \u001b[39min\u001b[39;49;00m splits\n\u001b[1;32m    <a href='file:///Users/anuv/miniforge3/envs/mlp/lib/python3.8/site-packages/sklearn/model_selection/_validation.py?line=966'>967</a>\u001b[0m )\n\u001b[1;32m    <a href='file:///Users/anuv/miniforge3/envs/mlp/lib/python3.8/site-packages/sklearn/model_selection/_validation.py?line=968'>969</a>\u001b[0m inv_test_indices \u001b[39m=\u001b[39m np\u001b[39m.\u001b[39mempty(\u001b[39mlen\u001b[39m(test_indices), dtype\u001b[39m=\u001b[39m\u001b[39mint\u001b[39m)\n\u001b[1;32m    <a href='file:///Users/anuv/miniforge3/envs/mlp/lib/python3.8/site-packages/sklearn/model_selection/_validation.py?line=969'>970</a>\u001b[0m inv_test_indices[test_indices] \u001b[39m=\u001b[39m np\u001b[39m.\u001b[39marange(\u001b[39mlen\u001b[39m(test_indices))\n",
            "File \u001b[0;32m~/miniforge3/envs/mlp/lib/python3.8/site-packages/joblib/parallel.py:1046\u001b[0m, in \u001b[0;36mParallel.__call__\u001b[0;34m(self, iterable)\u001b[0m\n\u001b[1;32m   <a href='file:///Users/anuv/miniforge3/envs/mlp/lib/python3.8/site-packages/joblib/parallel.py?line=1042'>1043</a>\u001b[0m \u001b[39mif\u001b[39;00m \u001b[39mself\u001b[39m\u001b[39m.\u001b[39mdispatch_one_batch(iterator):\n\u001b[1;32m   <a href='file:///Users/anuv/miniforge3/envs/mlp/lib/python3.8/site-packages/joblib/parallel.py?line=1043'>1044</a>\u001b[0m     \u001b[39mself\u001b[39m\u001b[39m.\u001b[39m_iterating \u001b[39m=\u001b[39m \u001b[39mself\u001b[39m\u001b[39m.\u001b[39m_original_iterator \u001b[39mis\u001b[39;00m \u001b[39mnot\u001b[39;00m \u001b[39mNone\u001b[39;00m\n\u001b[0;32m-> <a href='file:///Users/anuv/miniforge3/envs/mlp/lib/python3.8/site-packages/joblib/parallel.py?line=1045'>1046</a>\u001b[0m \u001b[39mwhile\u001b[39;00m \u001b[39mself\u001b[39;49m\u001b[39m.\u001b[39;49mdispatch_one_batch(iterator):\n\u001b[1;32m   <a href='file:///Users/anuv/miniforge3/envs/mlp/lib/python3.8/site-packages/joblib/parallel.py?line=1046'>1047</a>\u001b[0m     \u001b[39mpass\u001b[39;00m\n\u001b[1;32m   <a href='file:///Users/anuv/miniforge3/envs/mlp/lib/python3.8/site-packages/joblib/parallel.py?line=1048'>1049</a>\u001b[0m \u001b[39mif\u001b[39;00m pre_dispatch \u001b[39m==\u001b[39m \u001b[39m\"\u001b[39m\u001b[39mall\u001b[39m\u001b[39m\"\u001b[39m \u001b[39mor\u001b[39;00m n_jobs \u001b[39m==\u001b[39m \u001b[39m1\u001b[39m:\n\u001b[1;32m   <a href='file:///Users/anuv/miniforge3/envs/mlp/lib/python3.8/site-packages/joblib/parallel.py?line=1049'>1050</a>\u001b[0m     \u001b[39m# The iterable was consumed all at once by the above for loop.\u001b[39;00m\n\u001b[1;32m   <a href='file:///Users/anuv/miniforge3/envs/mlp/lib/python3.8/site-packages/joblib/parallel.py?line=1050'>1051</a>\u001b[0m     \u001b[39m# No need to wait for async callbacks to trigger to\u001b[39;00m\n\u001b[1;32m   <a href='file:///Users/anuv/miniforge3/envs/mlp/lib/python3.8/site-packages/joblib/parallel.py?line=1051'>1052</a>\u001b[0m     \u001b[39m# consumption.\u001b[39;00m\n",
            "File \u001b[0;32m~/miniforge3/envs/mlp/lib/python3.8/site-packages/joblib/parallel.py:861\u001b[0m, in \u001b[0;36mParallel.dispatch_one_batch\u001b[0;34m(self, iterator)\u001b[0m\n\u001b[1;32m    <a href='file:///Users/anuv/miniforge3/envs/mlp/lib/python3.8/site-packages/joblib/parallel.py?line=858'>859</a>\u001b[0m     \u001b[39mreturn\u001b[39;00m \u001b[39mFalse\u001b[39;00m\n\u001b[1;32m    <a href='file:///Users/anuv/miniforge3/envs/mlp/lib/python3.8/site-packages/joblib/parallel.py?line=859'>860</a>\u001b[0m \u001b[39melse\u001b[39;00m:\n\u001b[0;32m--> <a href='file:///Users/anuv/miniforge3/envs/mlp/lib/python3.8/site-packages/joblib/parallel.py?line=860'>861</a>\u001b[0m     \u001b[39mself\u001b[39;49m\u001b[39m.\u001b[39;49m_dispatch(tasks)\n\u001b[1;32m    <a href='file:///Users/anuv/miniforge3/envs/mlp/lib/python3.8/site-packages/joblib/parallel.py?line=861'>862</a>\u001b[0m     \u001b[39mreturn\u001b[39;00m \u001b[39mTrue\u001b[39;00m\n",
            "File \u001b[0;32m~/miniforge3/envs/mlp/lib/python3.8/site-packages/joblib/parallel.py:779\u001b[0m, in \u001b[0;36mParallel._dispatch\u001b[0;34m(self, batch)\u001b[0m\n\u001b[1;32m    <a href='file:///Users/anuv/miniforge3/envs/mlp/lib/python3.8/site-packages/joblib/parallel.py?line=776'>777</a>\u001b[0m \u001b[39mwith\u001b[39;00m \u001b[39mself\u001b[39m\u001b[39m.\u001b[39m_lock:\n\u001b[1;32m    <a href='file:///Users/anuv/miniforge3/envs/mlp/lib/python3.8/site-packages/joblib/parallel.py?line=777'>778</a>\u001b[0m     job_idx \u001b[39m=\u001b[39m \u001b[39mlen\u001b[39m(\u001b[39mself\u001b[39m\u001b[39m.\u001b[39m_jobs)\n\u001b[0;32m--> <a href='file:///Users/anuv/miniforge3/envs/mlp/lib/python3.8/site-packages/joblib/parallel.py?line=778'>779</a>\u001b[0m     job \u001b[39m=\u001b[39m \u001b[39mself\u001b[39;49m\u001b[39m.\u001b[39;49m_backend\u001b[39m.\u001b[39;49mapply_async(batch, callback\u001b[39m=\u001b[39;49mcb)\n\u001b[1;32m    <a href='file:///Users/anuv/miniforge3/envs/mlp/lib/python3.8/site-packages/joblib/parallel.py?line=779'>780</a>\u001b[0m     \u001b[39m# A job can complete so quickly than its callback is\u001b[39;00m\n\u001b[1;32m    <a href='file:///Users/anuv/miniforge3/envs/mlp/lib/python3.8/site-packages/joblib/parallel.py?line=780'>781</a>\u001b[0m     \u001b[39m# called before we get here, causing self._jobs to\u001b[39;00m\n\u001b[1;32m    <a href='file:///Users/anuv/miniforge3/envs/mlp/lib/python3.8/site-packages/joblib/parallel.py?line=781'>782</a>\u001b[0m     \u001b[39m# grow. To ensure correct results ordering, .insert is\u001b[39;00m\n\u001b[1;32m    <a href='file:///Users/anuv/miniforge3/envs/mlp/lib/python3.8/site-packages/joblib/parallel.py?line=782'>783</a>\u001b[0m     \u001b[39m# used (rather than .append) in the following line\u001b[39;00m\n\u001b[1;32m    <a href='file:///Users/anuv/miniforge3/envs/mlp/lib/python3.8/site-packages/joblib/parallel.py?line=783'>784</a>\u001b[0m     \u001b[39mself\u001b[39m\u001b[39m.\u001b[39m_jobs\u001b[39m.\u001b[39minsert(job_idx, job)\n",
            "File \u001b[0;32m~/miniforge3/envs/mlp/lib/python3.8/site-packages/joblib/_parallel_backends.py:208\u001b[0m, in \u001b[0;36mSequentialBackend.apply_async\u001b[0;34m(self, func, callback)\u001b[0m\n\u001b[1;32m    <a href='file:///Users/anuv/miniforge3/envs/mlp/lib/python3.8/site-packages/joblib/_parallel_backends.py?line=205'>206</a>\u001b[0m \u001b[39mdef\u001b[39;00m \u001b[39mapply_async\u001b[39m(\u001b[39mself\u001b[39m, func, callback\u001b[39m=\u001b[39m\u001b[39mNone\u001b[39;00m):\n\u001b[1;32m    <a href='file:///Users/anuv/miniforge3/envs/mlp/lib/python3.8/site-packages/joblib/_parallel_backends.py?line=206'>207</a>\u001b[0m     \u001b[39m\"\"\"Schedule a func to be run\"\"\"\u001b[39;00m\n\u001b[0;32m--> <a href='file:///Users/anuv/miniforge3/envs/mlp/lib/python3.8/site-packages/joblib/_parallel_backends.py?line=207'>208</a>\u001b[0m     result \u001b[39m=\u001b[39m ImmediateResult(func)\n\u001b[1;32m    <a href='file:///Users/anuv/miniforge3/envs/mlp/lib/python3.8/site-packages/joblib/_parallel_backends.py?line=208'>209</a>\u001b[0m     \u001b[39mif\u001b[39;00m callback:\n\u001b[1;32m    <a href='file:///Users/anuv/miniforge3/envs/mlp/lib/python3.8/site-packages/joblib/_parallel_backends.py?line=209'>210</a>\u001b[0m         callback(result)\n",
            "File \u001b[0;32m~/miniforge3/envs/mlp/lib/python3.8/site-packages/joblib/_parallel_backends.py:572\u001b[0m, in \u001b[0;36mImmediateResult.__init__\u001b[0;34m(self, batch)\u001b[0m\n\u001b[1;32m    <a href='file:///Users/anuv/miniforge3/envs/mlp/lib/python3.8/site-packages/joblib/_parallel_backends.py?line=568'>569</a>\u001b[0m \u001b[39mdef\u001b[39;00m \u001b[39m__init__\u001b[39m(\u001b[39mself\u001b[39m, batch):\n\u001b[1;32m    <a href='file:///Users/anuv/miniforge3/envs/mlp/lib/python3.8/site-packages/joblib/_parallel_backends.py?line=569'>570</a>\u001b[0m     \u001b[39m# Don't delay the application, to avoid keeping the input\u001b[39;00m\n\u001b[1;32m    <a href='file:///Users/anuv/miniforge3/envs/mlp/lib/python3.8/site-packages/joblib/_parallel_backends.py?line=570'>571</a>\u001b[0m     \u001b[39m# arguments in memory\u001b[39;00m\n\u001b[0;32m--> <a href='file:///Users/anuv/miniforge3/envs/mlp/lib/python3.8/site-packages/joblib/_parallel_backends.py?line=571'>572</a>\u001b[0m     \u001b[39mself\u001b[39m\u001b[39m.\u001b[39mresults \u001b[39m=\u001b[39m batch()\n",
            "File \u001b[0;32m~/miniforge3/envs/mlp/lib/python3.8/site-packages/joblib/parallel.py:262\u001b[0m, in \u001b[0;36mBatchedCalls.__call__\u001b[0;34m(self)\u001b[0m\n\u001b[1;32m    <a href='file:///Users/anuv/miniforge3/envs/mlp/lib/python3.8/site-packages/joblib/parallel.py?line=257'>258</a>\u001b[0m \u001b[39mdef\u001b[39;00m \u001b[39m__call__\u001b[39m(\u001b[39mself\u001b[39m):\n\u001b[1;32m    <a href='file:///Users/anuv/miniforge3/envs/mlp/lib/python3.8/site-packages/joblib/parallel.py?line=258'>259</a>\u001b[0m     \u001b[39m# Set the default nested backend to self._backend but do not set the\u001b[39;00m\n\u001b[1;32m    <a href='file:///Users/anuv/miniforge3/envs/mlp/lib/python3.8/site-packages/joblib/parallel.py?line=259'>260</a>\u001b[0m     \u001b[39m# change the default number of processes to -1\u001b[39;00m\n\u001b[1;32m    <a href='file:///Users/anuv/miniforge3/envs/mlp/lib/python3.8/site-packages/joblib/parallel.py?line=260'>261</a>\u001b[0m     \u001b[39mwith\u001b[39;00m parallel_backend(\u001b[39mself\u001b[39m\u001b[39m.\u001b[39m_backend, n_jobs\u001b[39m=\u001b[39m\u001b[39mself\u001b[39m\u001b[39m.\u001b[39m_n_jobs):\n\u001b[0;32m--> <a href='file:///Users/anuv/miniforge3/envs/mlp/lib/python3.8/site-packages/joblib/parallel.py?line=261'>262</a>\u001b[0m         \u001b[39mreturn\u001b[39;00m [func(\u001b[39m*\u001b[39margs, \u001b[39m*\u001b[39m\u001b[39m*\u001b[39mkwargs)\n\u001b[1;32m    <a href='file:///Users/anuv/miniforge3/envs/mlp/lib/python3.8/site-packages/joblib/parallel.py?line=262'>263</a>\u001b[0m                 \u001b[39mfor\u001b[39;00m func, args, kwargs \u001b[39min\u001b[39;00m \u001b[39mself\u001b[39m\u001b[39m.\u001b[39mitems]\n",
            "File \u001b[0;32m~/miniforge3/envs/mlp/lib/python3.8/site-packages/joblib/parallel.py:262\u001b[0m, in \u001b[0;36m<listcomp>\u001b[0;34m(.0)\u001b[0m\n\u001b[1;32m    <a href='file:///Users/anuv/miniforge3/envs/mlp/lib/python3.8/site-packages/joblib/parallel.py?line=257'>258</a>\u001b[0m \u001b[39mdef\u001b[39;00m \u001b[39m__call__\u001b[39m(\u001b[39mself\u001b[39m):\n\u001b[1;32m    <a href='file:///Users/anuv/miniforge3/envs/mlp/lib/python3.8/site-packages/joblib/parallel.py?line=258'>259</a>\u001b[0m     \u001b[39m# Set the default nested backend to self._backend but do not set the\u001b[39;00m\n\u001b[1;32m    <a href='file:///Users/anuv/miniforge3/envs/mlp/lib/python3.8/site-packages/joblib/parallel.py?line=259'>260</a>\u001b[0m     \u001b[39m# change the default number of processes to -1\u001b[39;00m\n\u001b[1;32m    <a href='file:///Users/anuv/miniforge3/envs/mlp/lib/python3.8/site-packages/joblib/parallel.py?line=260'>261</a>\u001b[0m     \u001b[39mwith\u001b[39;00m parallel_backend(\u001b[39mself\u001b[39m\u001b[39m.\u001b[39m_backend, n_jobs\u001b[39m=\u001b[39m\u001b[39mself\u001b[39m\u001b[39m.\u001b[39m_n_jobs):\n\u001b[0;32m--> <a href='file:///Users/anuv/miniforge3/envs/mlp/lib/python3.8/site-packages/joblib/parallel.py?line=261'>262</a>\u001b[0m         \u001b[39mreturn\u001b[39;00m [func(\u001b[39m*\u001b[39;49margs, \u001b[39m*\u001b[39;49m\u001b[39m*\u001b[39;49mkwargs)\n\u001b[1;32m    <a href='file:///Users/anuv/miniforge3/envs/mlp/lib/python3.8/site-packages/joblib/parallel.py?line=262'>263</a>\u001b[0m                 \u001b[39mfor\u001b[39;00m func, args, kwargs \u001b[39min\u001b[39;00m \u001b[39mself\u001b[39m\u001b[39m.\u001b[39mitems]\n",
            "File \u001b[0;32m~/miniforge3/envs/mlp/lib/python3.8/site-packages/sklearn/utils/fixes.py:216\u001b[0m, in \u001b[0;36m_FuncWrapper.__call__\u001b[0;34m(self, *args, **kwargs)\u001b[0m\n\u001b[1;32m    <a href='file:///Users/anuv/miniforge3/envs/mlp/lib/python3.8/site-packages/sklearn/utils/fixes.py?line=213'>214</a>\u001b[0m \u001b[39mdef\u001b[39;00m \u001b[39m__call__\u001b[39m(\u001b[39mself\u001b[39m, \u001b[39m*\u001b[39margs, \u001b[39m*\u001b[39m\u001b[39m*\u001b[39mkwargs):\n\u001b[1;32m    <a href='file:///Users/anuv/miniforge3/envs/mlp/lib/python3.8/site-packages/sklearn/utils/fixes.py?line=214'>215</a>\u001b[0m     \u001b[39mwith\u001b[39;00m config_context(\u001b[39m*\u001b[39m\u001b[39m*\u001b[39m\u001b[39mself\u001b[39m\u001b[39m.\u001b[39mconfig):\n\u001b[0;32m--> <a href='file:///Users/anuv/miniforge3/envs/mlp/lib/python3.8/site-packages/sklearn/utils/fixes.py?line=215'>216</a>\u001b[0m         \u001b[39mreturn\u001b[39;00m \u001b[39mself\u001b[39;49m\u001b[39m.\u001b[39;49mfunction(\u001b[39m*\u001b[39;49margs, \u001b[39m*\u001b[39;49m\u001b[39m*\u001b[39;49mkwargs)\n",
            "File \u001b[0;32m~/miniforge3/envs/mlp/lib/python3.8/site-packages/sklearn/model_selection/_validation.py:1044\u001b[0m, in \u001b[0;36m_fit_and_predict\u001b[0;34m(estimator, X, y, train, test, verbose, fit_params, method)\u001b[0m\n\u001b[1;32m   <a href='file:///Users/anuv/miniforge3/envs/mlp/lib/python3.8/site-packages/sklearn/model_selection/_validation.py?line=1041'>1042</a>\u001b[0m     estimator\u001b[39m.\u001b[39mfit(X_train, \u001b[39m*\u001b[39m\u001b[39m*\u001b[39mfit_params)\n\u001b[1;32m   <a href='file:///Users/anuv/miniforge3/envs/mlp/lib/python3.8/site-packages/sklearn/model_selection/_validation.py?line=1042'>1043</a>\u001b[0m \u001b[39melse\u001b[39;00m:\n\u001b[0;32m-> <a href='file:///Users/anuv/miniforge3/envs/mlp/lib/python3.8/site-packages/sklearn/model_selection/_validation.py?line=1043'>1044</a>\u001b[0m     estimator\u001b[39m.\u001b[39;49mfit(X_train, y_train, \u001b[39m*\u001b[39;49m\u001b[39m*\u001b[39;49mfit_params)\n\u001b[1;32m   <a href='file:///Users/anuv/miniforge3/envs/mlp/lib/python3.8/site-packages/sklearn/model_selection/_validation.py?line=1044'>1045</a>\u001b[0m func \u001b[39m=\u001b[39m \u001b[39mgetattr\u001b[39m(estimator, method)\n\u001b[1;32m   <a href='file:///Users/anuv/miniforge3/envs/mlp/lib/python3.8/site-packages/sklearn/model_selection/_validation.py?line=1045'>1046</a>\u001b[0m predictions \u001b[39m=\u001b[39m func(X_test)\n",
            "File \u001b[0;32m~/miniforge3/envs/mlp/lib/python3.8/site-packages/sklearn/pipeline.py:394\u001b[0m, in \u001b[0;36mPipeline.fit\u001b[0;34m(self, X, y, **fit_params)\u001b[0m\n\u001b[1;32m    <a href='file:///Users/anuv/miniforge3/envs/mlp/lib/python3.8/site-packages/sklearn/pipeline.py?line=391'>392</a>\u001b[0m     \u001b[39mif\u001b[39;00m \u001b[39mself\u001b[39m\u001b[39m.\u001b[39m_final_estimator \u001b[39m!=\u001b[39m \u001b[39m\"\u001b[39m\u001b[39mpassthrough\u001b[39m\u001b[39m\"\u001b[39m:\n\u001b[1;32m    <a href='file:///Users/anuv/miniforge3/envs/mlp/lib/python3.8/site-packages/sklearn/pipeline.py?line=392'>393</a>\u001b[0m         fit_params_last_step \u001b[39m=\u001b[39m fit_params_steps[\u001b[39mself\u001b[39m\u001b[39m.\u001b[39msteps[\u001b[39m-\u001b[39m\u001b[39m1\u001b[39m][\u001b[39m0\u001b[39m]]\n\u001b[0;32m--> <a href='file:///Users/anuv/miniforge3/envs/mlp/lib/python3.8/site-packages/sklearn/pipeline.py?line=393'>394</a>\u001b[0m         \u001b[39mself\u001b[39;49m\u001b[39m.\u001b[39;49m_final_estimator\u001b[39m.\u001b[39;49mfit(Xt, y, \u001b[39m*\u001b[39;49m\u001b[39m*\u001b[39;49mfit_params_last_step)\n\u001b[1;32m    <a href='file:///Users/anuv/miniforge3/envs/mlp/lib/python3.8/site-packages/sklearn/pipeline.py?line=395'>396</a>\u001b[0m \u001b[39mreturn\u001b[39;00m \u001b[39mself\u001b[39m\n",
            "File \u001b[0;32m~/miniforge3/envs/mlp/lib/python3.8/site-packages/scikeras/wrappers.py:1453\u001b[0m, in \u001b[0;36mKerasClassifier.fit\u001b[0;34m(self, X, y, sample_weight, **kwargs)\u001b[0m\n\u001b[1;32m   <a href='file:///Users/anuv/miniforge3/envs/mlp/lib/python3.8/site-packages/scikeras/wrappers.py?line=1450'>1451</a>\u001b[0m     sample_weight \u001b[39m=\u001b[39m \u001b[39m1\u001b[39m \u001b[39mif\u001b[39;00m sample_weight \u001b[39mis\u001b[39;00m \u001b[39mNone\u001b[39;00m \u001b[39melse\u001b[39;00m sample_weight\n\u001b[1;32m   <a href='file:///Users/anuv/miniforge3/envs/mlp/lib/python3.8/site-packages/scikeras/wrappers.py?line=1451'>1452</a>\u001b[0m     sample_weight \u001b[39m*\u001b[39m\u001b[39m=\u001b[39m compute_sample_weight(class_weight\u001b[39m=\u001b[39m\u001b[39mself\u001b[39m\u001b[39m.\u001b[39mclass_weight, y\u001b[39m=\u001b[39my)\n\u001b[0;32m-> <a href='file:///Users/anuv/miniforge3/envs/mlp/lib/python3.8/site-packages/scikeras/wrappers.py?line=1452'>1453</a>\u001b[0m \u001b[39msuper\u001b[39;49m()\u001b[39m.\u001b[39;49mfit(X\u001b[39m=\u001b[39;49mX, y\u001b[39m=\u001b[39;49my, sample_weight\u001b[39m=\u001b[39;49msample_weight, \u001b[39m*\u001b[39;49m\u001b[39m*\u001b[39;49mkwargs)\n\u001b[1;32m   <a href='file:///Users/anuv/miniforge3/envs/mlp/lib/python3.8/site-packages/scikeras/wrappers.py?line=1453'>1454</a>\u001b[0m \u001b[39mreturn\u001b[39;00m \u001b[39mself\u001b[39m\n",
            "File \u001b[0;32m~/miniforge3/envs/mlp/lib/python3.8/site-packages/scikeras/wrappers.py:725\u001b[0m, in \u001b[0;36mBaseWrapper.fit\u001b[0;34m(self, X, y, sample_weight, **kwargs)\u001b[0m\n\u001b[1;32m    <a href='file:///Users/anuv/miniforge3/envs/mlp/lib/python3.8/site-packages/scikeras/wrappers.py?line=719'>720</a>\u001b[0m kwargs[\u001b[39m\"\u001b[39m\u001b[39mepochs\u001b[39m\u001b[39m\"\u001b[39m] \u001b[39m=\u001b[39m kwargs\u001b[39m.\u001b[39mget(\n\u001b[1;32m    <a href='file:///Users/anuv/miniforge3/envs/mlp/lib/python3.8/site-packages/scikeras/wrappers.py?line=720'>721</a>\u001b[0m     \u001b[39m\"\u001b[39m\u001b[39mepochs\u001b[39m\u001b[39m\"\u001b[39m, \u001b[39mgetattr\u001b[39m(\u001b[39mself\u001b[39m, \u001b[39m\"\u001b[39m\u001b[39mfit__epochs\u001b[39m\u001b[39m\"\u001b[39m, \u001b[39mself\u001b[39m\u001b[39m.\u001b[39mepochs)\n\u001b[1;32m    <a href='file:///Users/anuv/miniforge3/envs/mlp/lib/python3.8/site-packages/scikeras/wrappers.py?line=721'>722</a>\u001b[0m )\n\u001b[1;32m    <a href='file:///Users/anuv/miniforge3/envs/mlp/lib/python3.8/site-packages/scikeras/wrappers.py?line=722'>723</a>\u001b[0m kwargs[\u001b[39m\"\u001b[39m\u001b[39minitial_epoch\u001b[39m\u001b[39m\"\u001b[39m] \u001b[39m=\u001b[39m kwargs\u001b[39m.\u001b[39mget(\u001b[39m\"\u001b[39m\u001b[39minitial_epoch\u001b[39m\u001b[39m\"\u001b[39m, \u001b[39m0\u001b[39m)\n\u001b[0;32m--> <a href='file:///Users/anuv/miniforge3/envs/mlp/lib/python3.8/site-packages/scikeras/wrappers.py?line=724'>725</a>\u001b[0m \u001b[39mself\u001b[39;49m\u001b[39m.\u001b[39;49m_fit(\n\u001b[1;32m    <a href='file:///Users/anuv/miniforge3/envs/mlp/lib/python3.8/site-packages/scikeras/wrappers.py?line=725'>726</a>\u001b[0m     X\u001b[39m=\u001b[39;49mX, y\u001b[39m=\u001b[39;49my, sample_weight\u001b[39m=\u001b[39;49msample_weight, warm_start\u001b[39m=\u001b[39;49m\u001b[39mself\u001b[39;49m\u001b[39m.\u001b[39;49mwarm_start, \u001b[39m*\u001b[39;49m\u001b[39m*\u001b[39;49mkwargs,\n\u001b[1;32m    <a href='file:///Users/anuv/miniforge3/envs/mlp/lib/python3.8/site-packages/scikeras/wrappers.py?line=726'>727</a>\u001b[0m )\n\u001b[1;32m    <a href='file:///Users/anuv/miniforge3/envs/mlp/lib/python3.8/site-packages/scikeras/wrappers.py?line=728'>729</a>\u001b[0m \u001b[39mreturn\u001b[39;00m \u001b[39mself\u001b[39m\n",
            "File \u001b[0;32m~/miniforge3/envs/mlp/lib/python3.8/site-packages/scikeras/wrappers.py:890\u001b[0m, in \u001b[0;36mBaseWrapper._fit\u001b[0;34m(self, X, y, sample_weight, warm_start, epochs, initial_epoch, **kwargs)\u001b[0m\n\u001b[1;32m    <a href='file:///Users/anuv/miniforge3/envs/mlp/lib/python3.8/site-packages/scikeras/wrappers.py?line=885'>886</a>\u001b[0m X \u001b[39m=\u001b[39m \u001b[39mself\u001b[39m\u001b[39m.\u001b[39mfeature_encoder_\u001b[39m.\u001b[39mtransform(X)\n\u001b[1;32m    <a href='file:///Users/anuv/miniforge3/envs/mlp/lib/python3.8/site-packages/scikeras/wrappers.py?line=887'>888</a>\u001b[0m \u001b[39mself\u001b[39m\u001b[39m.\u001b[39m_check_model_compatibility(y)\n\u001b[0;32m--> <a href='file:///Users/anuv/miniforge3/envs/mlp/lib/python3.8/site-packages/scikeras/wrappers.py?line=889'>890</a>\u001b[0m \u001b[39mself\u001b[39;49m\u001b[39m.\u001b[39;49m_fit_keras_model(\n\u001b[1;32m    <a href='file:///Users/anuv/miniforge3/envs/mlp/lib/python3.8/site-packages/scikeras/wrappers.py?line=890'>891</a>\u001b[0m     X,\n\u001b[1;32m    <a href='file:///Users/anuv/miniforge3/envs/mlp/lib/python3.8/site-packages/scikeras/wrappers.py?line=891'>892</a>\u001b[0m     y,\n\u001b[1;32m    <a href='file:///Users/anuv/miniforge3/envs/mlp/lib/python3.8/site-packages/scikeras/wrappers.py?line=892'>893</a>\u001b[0m     sample_weight\u001b[39m=\u001b[39;49msample_weight,\n\u001b[1;32m    <a href='file:///Users/anuv/miniforge3/envs/mlp/lib/python3.8/site-packages/scikeras/wrappers.py?line=893'>894</a>\u001b[0m     warm_start\u001b[39m=\u001b[39;49mwarm_start,\n\u001b[1;32m    <a href='file:///Users/anuv/miniforge3/envs/mlp/lib/python3.8/site-packages/scikeras/wrappers.py?line=894'>895</a>\u001b[0m     epochs\u001b[39m=\u001b[39;49mepochs,\n\u001b[1;32m    <a href='file:///Users/anuv/miniforge3/envs/mlp/lib/python3.8/site-packages/scikeras/wrappers.py?line=895'>896</a>\u001b[0m     initial_epoch\u001b[39m=\u001b[39;49minitial_epoch,\n\u001b[1;32m    <a href='file:///Users/anuv/miniforge3/envs/mlp/lib/python3.8/site-packages/scikeras/wrappers.py?line=896'>897</a>\u001b[0m     \u001b[39m*\u001b[39;49m\u001b[39m*\u001b[39;49mkwargs,\n\u001b[1;32m    <a href='file:///Users/anuv/miniforge3/envs/mlp/lib/python3.8/site-packages/scikeras/wrappers.py?line=897'>898</a>\u001b[0m )\n",
            "File \u001b[0;32m~/miniforge3/envs/mlp/lib/python3.8/site-packages/scikeras/wrappers.py:503\u001b[0m, in \u001b[0;36mBaseWrapper._fit_keras_model\u001b[0;34m(self, X, y, sample_weight, warm_start, epochs, initial_epoch, **kwargs)\u001b[0m\n\u001b[1;32m    <a href='file:///Users/anuv/miniforge3/envs/mlp/lib/python3.8/site-packages/scikeras/wrappers.py?line=500'>501</a>\u001b[0m         hist \u001b[39m=\u001b[39m \u001b[39mself\u001b[39m\u001b[39m.\u001b[39mmodel_\u001b[39m.\u001b[39mfit(x\u001b[39m=\u001b[39mX, y\u001b[39m=\u001b[39my, \u001b[39m*\u001b[39m\u001b[39m*\u001b[39mfit_args)\n\u001b[1;32m    <a href='file:///Users/anuv/miniforge3/envs/mlp/lib/python3.8/site-packages/scikeras/wrappers.py?line=501'>502</a>\u001b[0m \u001b[39melse\u001b[39;00m:\n\u001b[0;32m--> <a href='file:///Users/anuv/miniforge3/envs/mlp/lib/python3.8/site-packages/scikeras/wrappers.py?line=502'>503</a>\u001b[0m     hist \u001b[39m=\u001b[39m \u001b[39mself\u001b[39;49m\u001b[39m.\u001b[39;49mmodel_\u001b[39m.\u001b[39;49mfit(x\u001b[39m=\u001b[39;49mX, y\u001b[39m=\u001b[39;49my, \u001b[39m*\u001b[39;49m\u001b[39m*\u001b[39;49mfit_args)\n\u001b[1;32m    <a href='file:///Users/anuv/miniforge3/envs/mlp/lib/python3.8/site-packages/scikeras/wrappers.py?line=504'>505</a>\u001b[0m \u001b[39mif\u001b[39;00m \u001b[39mnot\u001b[39;00m warm_start \u001b[39mor\u001b[39;00m \u001b[39mnot\u001b[39;00m \u001b[39mhasattr\u001b[39m(\u001b[39mself\u001b[39m, \u001b[39m\"\u001b[39m\u001b[39mhistory_\u001b[39m\u001b[39m\"\u001b[39m) \u001b[39mor\u001b[39;00m initial_epoch \u001b[39m==\u001b[39m \u001b[39m0\u001b[39m:\n\u001b[1;32m    <a href='file:///Users/anuv/miniforge3/envs/mlp/lib/python3.8/site-packages/scikeras/wrappers.py?line=505'>506</a>\u001b[0m     \u001b[39mself\u001b[39m\u001b[39m.\u001b[39mhistory_ \u001b[39m=\u001b[39m defaultdict(\u001b[39mlist\u001b[39m)\n",
            "File \u001b[0;32m~/miniforge3/envs/mlp/lib/python3.8/site-packages/keras/utils/traceback_utils.py:64\u001b[0m, in \u001b[0;36mfilter_traceback.<locals>.error_handler\u001b[0;34m(*args, **kwargs)\u001b[0m\n\u001b[1;32m     <a href='file:///Users/anuv/miniforge3/envs/mlp/lib/python3.8/site-packages/keras/utils/traceback_utils.py?line=61'>62</a>\u001b[0m filtered_tb \u001b[39m=\u001b[39m \u001b[39mNone\u001b[39;00m\n\u001b[1;32m     <a href='file:///Users/anuv/miniforge3/envs/mlp/lib/python3.8/site-packages/keras/utils/traceback_utils.py?line=62'>63</a>\u001b[0m \u001b[39mtry\u001b[39;00m:\n\u001b[0;32m---> <a href='file:///Users/anuv/miniforge3/envs/mlp/lib/python3.8/site-packages/keras/utils/traceback_utils.py?line=63'>64</a>\u001b[0m   \u001b[39mreturn\u001b[39;00m fn(\u001b[39m*\u001b[39;49margs, \u001b[39m*\u001b[39;49m\u001b[39m*\u001b[39;49mkwargs)\n\u001b[1;32m     <a href='file:///Users/anuv/miniforge3/envs/mlp/lib/python3.8/site-packages/keras/utils/traceback_utils.py?line=64'>65</a>\u001b[0m \u001b[39mexcept\u001b[39;00m \u001b[39mException\u001b[39;00m \u001b[39mas\u001b[39;00m e:  \u001b[39m# pylint: disable=broad-except\u001b[39;00m\n\u001b[1;32m     <a href='file:///Users/anuv/miniforge3/envs/mlp/lib/python3.8/site-packages/keras/utils/traceback_utils.py?line=65'>66</a>\u001b[0m   filtered_tb \u001b[39m=\u001b[39m _process_traceback_frames(e\u001b[39m.\u001b[39m__traceback__)\n",
            "File \u001b[0;32m~/miniforge3/envs/mlp/lib/python3.8/site-packages/keras/engine/training.py:1384\u001b[0m, in \u001b[0;36mModel.fit\u001b[0;34m(self, x, y, batch_size, epochs, verbose, callbacks, validation_split, validation_data, shuffle, class_weight, sample_weight, initial_epoch, steps_per_epoch, validation_steps, validation_batch_size, validation_freq, max_queue_size, workers, use_multiprocessing)\u001b[0m\n\u001b[1;32m   <a href='file:///Users/anuv/miniforge3/envs/mlp/lib/python3.8/site-packages/keras/engine/training.py?line=1376'>1377</a>\u001b[0m \u001b[39mwith\u001b[39;00m tf\u001b[39m.\u001b[39mprofiler\u001b[39m.\u001b[39mexperimental\u001b[39m.\u001b[39mTrace(\n\u001b[1;32m   <a href='file:///Users/anuv/miniforge3/envs/mlp/lib/python3.8/site-packages/keras/engine/training.py?line=1377'>1378</a>\u001b[0m     \u001b[39m'\u001b[39m\u001b[39mtrain\u001b[39m\u001b[39m'\u001b[39m,\n\u001b[1;32m   <a href='file:///Users/anuv/miniforge3/envs/mlp/lib/python3.8/site-packages/keras/engine/training.py?line=1378'>1379</a>\u001b[0m     epoch_num\u001b[39m=\u001b[39mepoch,\n\u001b[1;32m   <a href='file:///Users/anuv/miniforge3/envs/mlp/lib/python3.8/site-packages/keras/engine/training.py?line=1379'>1380</a>\u001b[0m     step_num\u001b[39m=\u001b[39mstep,\n\u001b[1;32m   <a href='file:///Users/anuv/miniforge3/envs/mlp/lib/python3.8/site-packages/keras/engine/training.py?line=1380'>1381</a>\u001b[0m     batch_size\u001b[39m=\u001b[39mbatch_size,\n\u001b[1;32m   <a href='file:///Users/anuv/miniforge3/envs/mlp/lib/python3.8/site-packages/keras/engine/training.py?line=1381'>1382</a>\u001b[0m     _r\u001b[39m=\u001b[39m\u001b[39m1\u001b[39m):\n\u001b[1;32m   <a href='file:///Users/anuv/miniforge3/envs/mlp/lib/python3.8/site-packages/keras/engine/training.py?line=1382'>1383</a>\u001b[0m   callbacks\u001b[39m.\u001b[39mon_train_batch_begin(step)\n\u001b[0;32m-> <a href='file:///Users/anuv/miniforge3/envs/mlp/lib/python3.8/site-packages/keras/engine/training.py?line=1383'>1384</a>\u001b[0m   tmp_logs \u001b[39m=\u001b[39m \u001b[39mself\u001b[39;49m\u001b[39m.\u001b[39;49mtrain_function(iterator)\n\u001b[1;32m   <a href='file:///Users/anuv/miniforge3/envs/mlp/lib/python3.8/site-packages/keras/engine/training.py?line=1384'>1385</a>\u001b[0m   \u001b[39mif\u001b[39;00m data_handler\u001b[39m.\u001b[39mshould_sync:\n\u001b[1;32m   <a href='file:///Users/anuv/miniforge3/envs/mlp/lib/python3.8/site-packages/keras/engine/training.py?line=1385'>1386</a>\u001b[0m     context\u001b[39m.\u001b[39masync_wait()\n",
            "File \u001b[0;32m~/miniforge3/envs/mlp/lib/python3.8/site-packages/tensorflow/python/util/traceback_utils.py:150\u001b[0m, in \u001b[0;36mfilter_traceback.<locals>.error_handler\u001b[0;34m(*args, **kwargs)\u001b[0m\n\u001b[1;32m    <a href='file:///Users/anuv/miniforge3/envs/mlp/lib/python3.8/site-packages/tensorflow/python/util/traceback_utils.py?line=147'>148</a>\u001b[0m filtered_tb \u001b[39m=\u001b[39m \u001b[39mNone\u001b[39;00m\n\u001b[1;32m    <a href='file:///Users/anuv/miniforge3/envs/mlp/lib/python3.8/site-packages/tensorflow/python/util/traceback_utils.py?line=148'>149</a>\u001b[0m \u001b[39mtry\u001b[39;00m:\n\u001b[0;32m--> <a href='file:///Users/anuv/miniforge3/envs/mlp/lib/python3.8/site-packages/tensorflow/python/util/traceback_utils.py?line=149'>150</a>\u001b[0m   \u001b[39mreturn\u001b[39;00m fn(\u001b[39m*\u001b[39;49margs, \u001b[39m*\u001b[39;49m\u001b[39m*\u001b[39;49mkwargs)\n\u001b[1;32m    <a href='file:///Users/anuv/miniforge3/envs/mlp/lib/python3.8/site-packages/tensorflow/python/util/traceback_utils.py?line=150'>151</a>\u001b[0m \u001b[39mexcept\u001b[39;00m \u001b[39mException\u001b[39;00m \u001b[39mas\u001b[39;00m e:\n\u001b[1;32m    <a href='file:///Users/anuv/miniforge3/envs/mlp/lib/python3.8/site-packages/tensorflow/python/util/traceback_utils.py?line=151'>152</a>\u001b[0m   filtered_tb \u001b[39m=\u001b[39m _process_traceback_frames(e\u001b[39m.\u001b[39m__traceback__)\n",
            "File \u001b[0;32m~/miniforge3/envs/mlp/lib/python3.8/site-packages/tensorflow/python/eager/def_function.py:915\u001b[0m, in \u001b[0;36mFunction.__call__\u001b[0;34m(self, *args, **kwds)\u001b[0m\n\u001b[1;32m    <a href='file:///Users/anuv/miniforge3/envs/mlp/lib/python3.8/site-packages/tensorflow/python/eager/def_function.py?line=911'>912</a>\u001b[0m compiler \u001b[39m=\u001b[39m \u001b[39m\"\u001b[39m\u001b[39mxla\u001b[39m\u001b[39m\"\u001b[39m \u001b[39mif\u001b[39;00m \u001b[39mself\u001b[39m\u001b[39m.\u001b[39m_jit_compile \u001b[39melse\u001b[39;00m \u001b[39m\"\u001b[39m\u001b[39mnonXla\u001b[39m\u001b[39m\"\u001b[39m\n\u001b[1;32m    <a href='file:///Users/anuv/miniforge3/envs/mlp/lib/python3.8/site-packages/tensorflow/python/eager/def_function.py?line=913'>914</a>\u001b[0m \u001b[39mwith\u001b[39;00m OptionalXlaContext(\u001b[39mself\u001b[39m\u001b[39m.\u001b[39m_jit_compile):\n\u001b[0;32m--> <a href='file:///Users/anuv/miniforge3/envs/mlp/lib/python3.8/site-packages/tensorflow/python/eager/def_function.py?line=914'>915</a>\u001b[0m   result \u001b[39m=\u001b[39m \u001b[39mself\u001b[39;49m\u001b[39m.\u001b[39;49m_call(\u001b[39m*\u001b[39;49margs, \u001b[39m*\u001b[39;49m\u001b[39m*\u001b[39;49mkwds)\n\u001b[1;32m    <a href='file:///Users/anuv/miniforge3/envs/mlp/lib/python3.8/site-packages/tensorflow/python/eager/def_function.py?line=916'>917</a>\u001b[0m new_tracing_count \u001b[39m=\u001b[39m \u001b[39mself\u001b[39m\u001b[39m.\u001b[39mexperimental_get_tracing_count()\n\u001b[1;32m    <a href='file:///Users/anuv/miniforge3/envs/mlp/lib/python3.8/site-packages/tensorflow/python/eager/def_function.py?line=917'>918</a>\u001b[0m without_tracing \u001b[39m=\u001b[39m (tracing_count \u001b[39m==\u001b[39m new_tracing_count)\n",
            "File \u001b[0;32m~/miniforge3/envs/mlp/lib/python3.8/site-packages/tensorflow/python/eager/def_function.py:947\u001b[0m, in \u001b[0;36mFunction._call\u001b[0;34m(self, *args, **kwds)\u001b[0m\n\u001b[1;32m    <a href='file:///Users/anuv/miniforge3/envs/mlp/lib/python3.8/site-packages/tensorflow/python/eager/def_function.py?line=943'>944</a>\u001b[0m   \u001b[39mself\u001b[39m\u001b[39m.\u001b[39m_lock\u001b[39m.\u001b[39mrelease()\n\u001b[1;32m    <a href='file:///Users/anuv/miniforge3/envs/mlp/lib/python3.8/site-packages/tensorflow/python/eager/def_function.py?line=944'>945</a>\u001b[0m   \u001b[39m# In this case we have created variables on the first call, so we run the\u001b[39;00m\n\u001b[1;32m    <a href='file:///Users/anuv/miniforge3/envs/mlp/lib/python3.8/site-packages/tensorflow/python/eager/def_function.py?line=945'>946</a>\u001b[0m   \u001b[39m# defunned version which is guaranteed to never create variables.\u001b[39;00m\n\u001b[0;32m--> <a href='file:///Users/anuv/miniforge3/envs/mlp/lib/python3.8/site-packages/tensorflow/python/eager/def_function.py?line=946'>947</a>\u001b[0m   \u001b[39mreturn\u001b[39;00m \u001b[39mself\u001b[39;49m\u001b[39m.\u001b[39;49m_stateless_fn(\u001b[39m*\u001b[39;49margs, \u001b[39m*\u001b[39;49m\u001b[39m*\u001b[39;49mkwds)  \u001b[39m# pylint: disable=not-callable\u001b[39;00m\n\u001b[1;32m    <a href='file:///Users/anuv/miniforge3/envs/mlp/lib/python3.8/site-packages/tensorflow/python/eager/def_function.py?line=947'>948</a>\u001b[0m \u001b[39melif\u001b[39;00m \u001b[39mself\u001b[39m\u001b[39m.\u001b[39m_stateful_fn \u001b[39mis\u001b[39;00m \u001b[39mnot\u001b[39;00m \u001b[39mNone\u001b[39;00m:\n\u001b[1;32m    <a href='file:///Users/anuv/miniforge3/envs/mlp/lib/python3.8/site-packages/tensorflow/python/eager/def_function.py?line=948'>949</a>\u001b[0m   \u001b[39m# Release the lock early so that multiple threads can perform the call\u001b[39;00m\n\u001b[1;32m    <a href='file:///Users/anuv/miniforge3/envs/mlp/lib/python3.8/site-packages/tensorflow/python/eager/def_function.py?line=949'>950</a>\u001b[0m   \u001b[39m# in parallel.\u001b[39;00m\n\u001b[1;32m    <a href='file:///Users/anuv/miniforge3/envs/mlp/lib/python3.8/site-packages/tensorflow/python/eager/def_function.py?line=950'>951</a>\u001b[0m   \u001b[39mself\u001b[39m\u001b[39m.\u001b[39m_lock\u001b[39m.\u001b[39mrelease()\n",
            "File \u001b[0;32m~/miniforge3/envs/mlp/lib/python3.8/site-packages/tensorflow/python/eager/function.py:2956\u001b[0m, in \u001b[0;36mFunction.__call__\u001b[0;34m(self, *args, **kwargs)\u001b[0m\n\u001b[1;32m   <a href='file:///Users/anuv/miniforge3/envs/mlp/lib/python3.8/site-packages/tensorflow/python/eager/function.py?line=2952'>2953</a>\u001b[0m \u001b[39mwith\u001b[39;00m \u001b[39mself\u001b[39m\u001b[39m.\u001b[39m_lock:\n\u001b[1;32m   <a href='file:///Users/anuv/miniforge3/envs/mlp/lib/python3.8/site-packages/tensorflow/python/eager/function.py?line=2953'>2954</a>\u001b[0m   (graph_function,\n\u001b[1;32m   <a href='file:///Users/anuv/miniforge3/envs/mlp/lib/python3.8/site-packages/tensorflow/python/eager/function.py?line=2954'>2955</a>\u001b[0m    filtered_flat_args) \u001b[39m=\u001b[39m \u001b[39mself\u001b[39m\u001b[39m.\u001b[39m_maybe_define_function(args, kwargs)\n\u001b[0;32m-> <a href='file:///Users/anuv/miniforge3/envs/mlp/lib/python3.8/site-packages/tensorflow/python/eager/function.py?line=2955'>2956</a>\u001b[0m \u001b[39mreturn\u001b[39;00m graph_function\u001b[39m.\u001b[39;49m_call_flat(\n\u001b[1;32m   <a href='file:///Users/anuv/miniforge3/envs/mlp/lib/python3.8/site-packages/tensorflow/python/eager/function.py?line=2956'>2957</a>\u001b[0m     filtered_flat_args, captured_inputs\u001b[39m=\u001b[39;49mgraph_function\u001b[39m.\u001b[39;49mcaptured_inputs)\n",
            "File \u001b[0;32m~/miniforge3/envs/mlp/lib/python3.8/site-packages/tensorflow/python/eager/function.py:1853\u001b[0m, in \u001b[0;36mConcreteFunction._call_flat\u001b[0;34m(self, args, captured_inputs, cancellation_manager)\u001b[0m\n\u001b[1;32m   <a href='file:///Users/anuv/miniforge3/envs/mlp/lib/python3.8/site-packages/tensorflow/python/eager/function.py?line=1848'>1849</a>\u001b[0m possible_gradient_type \u001b[39m=\u001b[39m gradients_util\u001b[39m.\u001b[39mPossibleTapeGradientTypes(args)\n\u001b[1;32m   <a href='file:///Users/anuv/miniforge3/envs/mlp/lib/python3.8/site-packages/tensorflow/python/eager/function.py?line=1849'>1850</a>\u001b[0m \u001b[39mif\u001b[39;00m (possible_gradient_type \u001b[39m==\u001b[39m gradients_util\u001b[39m.\u001b[39mPOSSIBLE_GRADIENT_TYPES_NONE\n\u001b[1;32m   <a href='file:///Users/anuv/miniforge3/envs/mlp/lib/python3.8/site-packages/tensorflow/python/eager/function.py?line=1850'>1851</a>\u001b[0m     \u001b[39mand\u001b[39;00m executing_eagerly):\n\u001b[1;32m   <a href='file:///Users/anuv/miniforge3/envs/mlp/lib/python3.8/site-packages/tensorflow/python/eager/function.py?line=1851'>1852</a>\u001b[0m   \u001b[39m# No tape is watching; skip to running the function.\u001b[39;00m\n\u001b[0;32m-> <a href='file:///Users/anuv/miniforge3/envs/mlp/lib/python3.8/site-packages/tensorflow/python/eager/function.py?line=1852'>1853</a>\u001b[0m   \u001b[39mreturn\u001b[39;00m \u001b[39mself\u001b[39m\u001b[39m.\u001b[39m_build_call_outputs(\u001b[39mself\u001b[39;49m\u001b[39m.\u001b[39;49m_inference_function\u001b[39m.\u001b[39;49mcall(\n\u001b[1;32m   <a href='file:///Users/anuv/miniforge3/envs/mlp/lib/python3.8/site-packages/tensorflow/python/eager/function.py?line=1853'>1854</a>\u001b[0m       ctx, args, cancellation_manager\u001b[39m=\u001b[39;49mcancellation_manager))\n\u001b[1;32m   <a href='file:///Users/anuv/miniforge3/envs/mlp/lib/python3.8/site-packages/tensorflow/python/eager/function.py?line=1854'>1855</a>\u001b[0m forward_backward \u001b[39m=\u001b[39m \u001b[39mself\u001b[39m\u001b[39m.\u001b[39m_select_forward_and_backward_functions(\n\u001b[1;32m   <a href='file:///Users/anuv/miniforge3/envs/mlp/lib/python3.8/site-packages/tensorflow/python/eager/function.py?line=1855'>1856</a>\u001b[0m     args,\n\u001b[1;32m   <a href='file:///Users/anuv/miniforge3/envs/mlp/lib/python3.8/site-packages/tensorflow/python/eager/function.py?line=1856'>1857</a>\u001b[0m     possible_gradient_type,\n\u001b[1;32m   <a href='file:///Users/anuv/miniforge3/envs/mlp/lib/python3.8/site-packages/tensorflow/python/eager/function.py?line=1857'>1858</a>\u001b[0m     executing_eagerly)\n\u001b[1;32m   <a href='file:///Users/anuv/miniforge3/envs/mlp/lib/python3.8/site-packages/tensorflow/python/eager/function.py?line=1858'>1859</a>\u001b[0m forward_function, args_with_tangents \u001b[39m=\u001b[39m forward_backward\u001b[39m.\u001b[39mforward()\n",
            "File \u001b[0;32m~/miniforge3/envs/mlp/lib/python3.8/site-packages/tensorflow/python/eager/function.py:499\u001b[0m, in \u001b[0;36m_EagerDefinedFunction.call\u001b[0;34m(self, ctx, args, cancellation_manager)\u001b[0m\n\u001b[1;32m    <a href='file:///Users/anuv/miniforge3/envs/mlp/lib/python3.8/site-packages/tensorflow/python/eager/function.py?line=496'>497</a>\u001b[0m \u001b[39mwith\u001b[39;00m _InterpolateFunctionError(\u001b[39mself\u001b[39m):\n\u001b[1;32m    <a href='file:///Users/anuv/miniforge3/envs/mlp/lib/python3.8/site-packages/tensorflow/python/eager/function.py?line=497'>498</a>\u001b[0m   \u001b[39mif\u001b[39;00m cancellation_manager \u001b[39mis\u001b[39;00m \u001b[39mNone\u001b[39;00m:\n\u001b[0;32m--> <a href='file:///Users/anuv/miniforge3/envs/mlp/lib/python3.8/site-packages/tensorflow/python/eager/function.py?line=498'>499</a>\u001b[0m     outputs \u001b[39m=\u001b[39m execute\u001b[39m.\u001b[39;49mexecute(\n\u001b[1;32m    <a href='file:///Users/anuv/miniforge3/envs/mlp/lib/python3.8/site-packages/tensorflow/python/eager/function.py?line=499'>500</a>\u001b[0m         \u001b[39mstr\u001b[39;49m(\u001b[39mself\u001b[39;49m\u001b[39m.\u001b[39;49msignature\u001b[39m.\u001b[39;49mname),\n\u001b[1;32m    <a href='file:///Users/anuv/miniforge3/envs/mlp/lib/python3.8/site-packages/tensorflow/python/eager/function.py?line=500'>501</a>\u001b[0m         num_outputs\u001b[39m=\u001b[39;49m\u001b[39mself\u001b[39;49m\u001b[39m.\u001b[39;49m_num_outputs,\n\u001b[1;32m    <a href='file:///Users/anuv/miniforge3/envs/mlp/lib/python3.8/site-packages/tensorflow/python/eager/function.py?line=501'>502</a>\u001b[0m         inputs\u001b[39m=\u001b[39;49margs,\n\u001b[1;32m    <a href='file:///Users/anuv/miniforge3/envs/mlp/lib/python3.8/site-packages/tensorflow/python/eager/function.py?line=502'>503</a>\u001b[0m         attrs\u001b[39m=\u001b[39;49mattrs,\n\u001b[1;32m    <a href='file:///Users/anuv/miniforge3/envs/mlp/lib/python3.8/site-packages/tensorflow/python/eager/function.py?line=503'>504</a>\u001b[0m         ctx\u001b[39m=\u001b[39;49mctx)\n\u001b[1;32m    <a href='file:///Users/anuv/miniforge3/envs/mlp/lib/python3.8/site-packages/tensorflow/python/eager/function.py?line=504'>505</a>\u001b[0m   \u001b[39melse\u001b[39;00m:\n\u001b[1;32m    <a href='file:///Users/anuv/miniforge3/envs/mlp/lib/python3.8/site-packages/tensorflow/python/eager/function.py?line=505'>506</a>\u001b[0m     outputs \u001b[39m=\u001b[39m execute\u001b[39m.\u001b[39mexecute_with_cancellation(\n\u001b[1;32m    <a href='file:///Users/anuv/miniforge3/envs/mlp/lib/python3.8/site-packages/tensorflow/python/eager/function.py?line=506'>507</a>\u001b[0m         \u001b[39mstr\u001b[39m(\u001b[39mself\u001b[39m\u001b[39m.\u001b[39msignature\u001b[39m.\u001b[39mname),\n\u001b[1;32m    <a href='file:///Users/anuv/miniforge3/envs/mlp/lib/python3.8/site-packages/tensorflow/python/eager/function.py?line=507'>508</a>\u001b[0m         num_outputs\u001b[39m=\u001b[39m\u001b[39mself\u001b[39m\u001b[39m.\u001b[39m_num_outputs,\n\u001b[0;32m   (...)\u001b[0m\n\u001b[1;32m    <a href='file:///Users/anuv/miniforge3/envs/mlp/lib/python3.8/site-packages/tensorflow/python/eager/function.py?line=510'>511</a>\u001b[0m         ctx\u001b[39m=\u001b[39mctx,\n\u001b[1;32m    <a href='file:///Users/anuv/miniforge3/envs/mlp/lib/python3.8/site-packages/tensorflow/python/eager/function.py?line=511'>512</a>\u001b[0m         cancellation_manager\u001b[39m=\u001b[39mcancellation_manager)\n",
            "File \u001b[0;32m~/miniforge3/envs/mlp/lib/python3.8/site-packages/tensorflow/python/eager/execute.py:54\u001b[0m, in \u001b[0;36mquick_execute\u001b[0;34m(op_name, num_outputs, inputs, attrs, ctx, name)\u001b[0m\n\u001b[1;32m     <a href='file:///Users/anuv/miniforge3/envs/mlp/lib/python3.8/site-packages/tensorflow/python/eager/execute.py?line=51'>52</a>\u001b[0m \u001b[39mtry\u001b[39;00m:\n\u001b[1;32m     <a href='file:///Users/anuv/miniforge3/envs/mlp/lib/python3.8/site-packages/tensorflow/python/eager/execute.py?line=52'>53</a>\u001b[0m   ctx\u001b[39m.\u001b[39mensure_initialized()\n\u001b[0;32m---> <a href='file:///Users/anuv/miniforge3/envs/mlp/lib/python3.8/site-packages/tensorflow/python/eager/execute.py?line=53'>54</a>\u001b[0m   tensors \u001b[39m=\u001b[39m pywrap_tfe\u001b[39m.\u001b[39;49mTFE_Py_Execute(ctx\u001b[39m.\u001b[39;49m_handle, device_name, op_name,\n\u001b[1;32m     <a href='file:///Users/anuv/miniforge3/envs/mlp/lib/python3.8/site-packages/tensorflow/python/eager/execute.py?line=54'>55</a>\u001b[0m                                       inputs, attrs, num_outputs)\n\u001b[1;32m     <a href='file:///Users/anuv/miniforge3/envs/mlp/lib/python3.8/site-packages/tensorflow/python/eager/execute.py?line=55'>56</a>\u001b[0m \u001b[39mexcept\u001b[39;00m core\u001b[39m.\u001b[39m_NotOkStatusException \u001b[39mas\u001b[39;00m e:\n\u001b[1;32m     <a href='file:///Users/anuv/miniforge3/envs/mlp/lib/python3.8/site-packages/tensorflow/python/eager/execute.py?line=56'>57</a>\u001b[0m   \u001b[39mif\u001b[39;00m name \u001b[39mis\u001b[39;00m \u001b[39mnot\u001b[39;00m \u001b[39mNone\u001b[39;00m:\n",
            "\u001b[0;31mKeyboardInterrupt\u001b[0m: "
          ]
        }
      ],
      "source": [
        "base_learners = [\n",
        "  ('rf_1', RandomForestClassifier(n_estimators=10, random_state=42)),\n",
        "  ('rf_2', KNeighborsClassifier(n_neighbors=5)),             \n",
        "  ('rf_3', GradientBoostingClassifier(n_estimators=100, learning_rate=.1, max_depth=1, random_state=1)),\n",
        "  ('rf_4', get_nn_classifier(keras_nn_baseline_model_shaped))\n",
        "]\n",
        "\n",
        "nn_stk = StackingClassifier(estimators=base_learners, final_estimator=LogisticRegression())\n",
        "\n",
        "ts_cv_start = time.time()\n",
        "cv_score = cross_val_analysis(nn_stk, x_total, y_total)\n",
        "ts_cv_end = time.time()\n",
        "print(\"Time Spent (Cross-Val): {}sec total\".format(round(ts_cv_end - ts_cv_start, 3)))\n"
      ]
    },
    {
      "cell_type": "markdown",
      "metadata": {
        "id": "-H0V0B4J16hx"
      },
      "source": [
        "Measured Accuracy: 90.06%"
      ]
    },
    {
      "cell_type": "markdown",
      "metadata": {
        "id": "7zQVW9tqtd0A"
      },
      "source": [
        "## Generate Predictions"
      ]
    },
    {
      "cell_type": "code",
      "execution_count": null,
      "metadata": {
        "id": "_1OTu_cFo3qR"
      },
      "outputs": [],
      "source": [
        "sourceData = pd.DataFrame(source_features)\n",
        "sourceData = sourceData[target_features]"
      ]
    },
    {
      "cell_type": "code",
      "execution_count": null,
      "metadata": {
        "colab": {
          "base_uri": "https://localhost:8080/",
          "height": 423
        },
        "id": "7p6y4tcWo6xp",
        "outputId": "6fabc2dd-5120-4d9a-f402-9f430034922d"
      },
      "outputs": [
        {
          "data": {
            "text/html": [
              "<div>\n",
              "<style scoped>\n",
              "    .dataframe tbody tr th:only-of-type {\n",
              "        vertical-align: middle;\n",
              "    }\n",
              "\n",
              "    .dataframe tbody tr th {\n",
              "        vertical-align: top;\n",
              "    }\n",
              "\n",
              "    .dataframe thead th {\n",
              "        text-align: right;\n",
              "    }\n",
              "</style>\n",
              "<table border=\"1\" class=\"dataframe\">\n",
              "  <thead>\n",
              "    <tr style=\"text-align: right;\">\n",
              "      <th></th>\n",
              "      <th>danceability</th>\n",
              "      <th>loudness</th>\n",
              "      <th>valence</th>\n",
              "      <th>energy</th>\n",
              "      <th>instrumentalness</th>\n",
              "      <th>acousticness</th>\n",
              "      <th>key</th>\n",
              "      <th>speechiness</th>\n",
              "      <th>duration_ms</th>\n",
              "    </tr>\n",
              "  </thead>\n",
              "  <tbody>\n",
              "    <tr>\n",
              "      <th>0</th>\n",
              "      <td>0.662</td>\n",
              "      <td>-13.606</td>\n",
              "      <td>0.9610</td>\n",
              "      <td>0.624</td>\n",
              "      <td>0.000000</td>\n",
              "      <td>0.16500</td>\n",
              "      <td>10</td>\n",
              "      <td>0.0417</td>\n",
              "      <td>252560</td>\n",
              "    </tr>\n",
              "    <tr>\n",
              "      <th>1</th>\n",
              "      <td>0.640</td>\n",
              "      <td>-8.114</td>\n",
              "      <td>0.5460</td>\n",
              "      <td>0.647</td>\n",
              "      <td>0.000000</td>\n",
              "      <td>0.12400</td>\n",
              "      <td>5</td>\n",
              "      <td>0.1860</td>\n",
              "      <td>197867</td>\n",
              "    </tr>\n",
              "    <tr>\n",
              "      <th>2</th>\n",
              "      <td>0.716</td>\n",
              "      <td>-5.313</td>\n",
              "      <td>0.9100</td>\n",
              "      <td>0.823</td>\n",
              "      <td>0.000000</td>\n",
              "      <td>0.13200</td>\n",
              "      <td>5</td>\n",
              "      <td>0.0495</td>\n",
              "      <td>161747</td>\n",
              "    </tr>\n",
              "    <tr>\n",
              "      <th>3</th>\n",
              "      <td>0.468</td>\n",
              "      <td>-6.536</td>\n",
              "      <td>0.7620</td>\n",
              "      <td>0.630</td>\n",
              "      <td>0.000000</td>\n",
              "      <td>0.31000</td>\n",
              "      <td>8</td>\n",
              "      <td>0.0843</td>\n",
              "      <td>204507</td>\n",
              "    </tr>\n",
              "    <tr>\n",
              "      <th>4</th>\n",
              "      <td>0.397</td>\n",
              "      <td>-4.577</td>\n",
              "      <td>0.5560</td>\n",
              "      <td>0.903</td>\n",
              "      <td>0.000002</td>\n",
              "      <td>0.00575</td>\n",
              "      <td>2</td>\n",
              "      <td>0.0457</td>\n",
              "      <td>201373</td>\n",
              "    </tr>\n",
              "    <tr>\n",
              "      <th>...</th>\n",
              "      <td>...</td>\n",
              "      <td>...</td>\n",
              "      <td>...</td>\n",
              "      <td>...</td>\n",
              "      <td>...</td>\n",
              "      <td>...</td>\n",
              "      <td>...</td>\n",
              "      <td>...</td>\n",
              "      <td>...</td>\n",
              "    </tr>\n",
              "    <tr>\n",
              "      <th>117</th>\n",
              "      <td>0.519</td>\n",
              "      <td>-9.982</td>\n",
              "      <td>0.4880</td>\n",
              "      <td>0.181</td>\n",
              "      <td>0.000000</td>\n",
              "      <td>0.94400</td>\n",
              "      <td>5</td>\n",
              "      <td>0.0795</td>\n",
              "      <td>82147</td>\n",
              "    </tr>\n",
              "    <tr>\n",
              "      <th>118</th>\n",
              "      <td>0.615</td>\n",
              "      <td>-8.615</td>\n",
              "      <td>0.7470</td>\n",
              "      <td>0.592</td>\n",
              "      <td>0.955000</td>\n",
              "      <td>0.04880</td>\n",
              "      <td>0</td>\n",
              "      <td>0.0443</td>\n",
              "      <td>263673</td>\n",
              "    </tr>\n",
              "    <tr>\n",
              "      <th>119</th>\n",
              "      <td>0.512</td>\n",
              "      <td>-5.128</td>\n",
              "      <td>0.8380</td>\n",
              "      <td>0.955</td>\n",
              "      <td>0.000013</td>\n",
              "      <td>0.17200</td>\n",
              "      <td>7</td>\n",
              "      <td>0.3540</td>\n",
              "      <td>40227</td>\n",
              "    </tr>\n",
              "    <tr>\n",
              "      <th>120</th>\n",
              "      <td>0.807</td>\n",
              "      <td>-9.729</td>\n",
              "      <td>0.9610</td>\n",
              "      <td>0.510</td>\n",
              "      <td>0.115000</td>\n",
              "      <td>0.04100</td>\n",
              "      <td>0</td>\n",
              "      <td>0.0433</td>\n",
              "      <td>279773</td>\n",
              "    </tr>\n",
              "    <tr>\n",
              "      <th>121</th>\n",
              "      <td>0.500</td>\n",
              "      <td>-9.995</td>\n",
              "      <td>0.0766</td>\n",
              "      <td>0.470</td>\n",
              "      <td>0.880000</td>\n",
              "      <td>0.79800</td>\n",
              "      <td>0</td>\n",
              "      <td>0.0395</td>\n",
              "      <td>157000</td>\n",
              "    </tr>\n",
              "  </tbody>\n",
              "</table>\n",
              "<p>122 rows × 9 columns</p>\n",
              "</div>"
            ],
            "text/plain": [
              "     danceability  loudness  valence  ...  key  speechiness  duration_ms\n",
              "0           0.662   -13.606   0.9610  ...   10       0.0417       252560\n",
              "1           0.640    -8.114   0.5460  ...    5       0.1860       197867\n",
              "2           0.716    -5.313   0.9100  ...    5       0.0495       161747\n",
              "3           0.468    -6.536   0.7620  ...    8       0.0843       204507\n",
              "4           0.397    -4.577   0.5560  ...    2       0.0457       201373\n",
              "..            ...       ...      ...  ...  ...          ...          ...\n",
              "117         0.519    -9.982   0.4880  ...    5       0.0795        82147\n",
              "118         0.615    -8.615   0.7470  ...    0       0.0443       263673\n",
              "119         0.512    -5.128   0.8380  ...    7       0.3540        40227\n",
              "120         0.807    -9.729   0.9610  ...    0       0.0433       279773\n",
              "121         0.500    -9.995   0.0766  ...    0       0.0395       157000\n",
              "\n",
              "[122 rows x 9 columns]"
            ]
          },
          "execution_count": 180,
          "metadata": {},
          "output_type": "execute_result"
        }
      ],
      "source": [
        "sourceData"
      ]
    },
    {
      "cell_type": "code",
      "execution_count": null,
      "metadata": {
        "id": "bSaIWkOdApE1"
      },
      "outputs": [],
      "source": [
        "# model = gbc\n",
        "# model = keras_pipeline\n",
        "model = nn_stk"
      ]
    },
    {
      "cell_type": "code",
      "execution_count": null,
      "metadata": {
        "id": "kYpvHxkVpcYZ"
      },
      "outputs": [],
      "source": [
        "ts_inference_start = time.time()\n",
        "pred = model.predict(sourceData)\n",
        "ts_inference_end = time.time()\n",
        "print(\"Time Spent Generating Predictions: {}sec\".format(round(ts_inference_end - ts_inference_start, 3)))"
      ]
    },
    {
      "cell_type": "code",
      "execution_count": null,
      "metadata": {
        "colab": {
          "base_uri": "https://localhost:8080/"
        },
        "id": "go6LrBuazxhr",
        "outputId": "87992b3d-3f67-465a-c467-8c4b1717518e"
      },
      "outputs": [
        {
          "data": {
            "text/plain": [
              "{'added_at': '2020-10-01T05:24:42Z',\n",
              " 'added_by': {'external_urls': {'spotify': 'https://open.spotify.com/user/agwx2'},\n",
              "  'href': 'https://api.spotify.com/v1/users/agwx2',\n",
              "  'id': 'agwx2',\n",
              "  'type': 'user',\n",
              "  'uri': 'spotify:user:agwx2'},\n",
              " 'is_local': False,\n",
              " 'primary_color': None,\n",
              " 'track': None,\n",
              " 'video_thumbnail': None}"
            ]
          },
          "execution_count": 183,
          "metadata": {},
          "output_type": "execute_result"
        }
      ],
      "source": [
        "source_playlist_songs = source_playlist['tracks']['items']\n",
        "source_playlist_songs[0]"
      ]
    },
    {
      "cell_type": "code",
      "execution_count": null,
      "metadata": {
        "colab": {
          "base_uri": "https://localhost:8080/"
        },
        "id": "oIe54z9npnog",
        "outputId": "c3ac7a3a-ca54-4c10-c5eb-9b994e5a3bd5"
      },
      "outputs": [
        {
          "name": "stdout",
          "output_type": "stream",
          "text": [
            "ACCEPTED\n",
            "Song: Beautiful People (feat. Khalid), By: Ed Sheeran\n",
            "Song: Revolution 909, By: Daft Punk\n",
            "Song: That's Life, By: Still Woozy\n",
            "Song: Order More (feat. Starrah), By: G-Eazy\n",
            "Song: Paper Trail$, By: Joey Bada$$\n",
            "Song: Baby, By: Brandy\n",
            "Song: I Like Dat, By: T-Pain\n",
            "Song: Lost Cause, By: Billie Eilish\n",
            "Song: STUNNAMAN (with Roddy Ricch & feat. Lil Wayne), By: Birdman\n",
            "Song: Baddest (feat. Chris Brown & 2 Chainz), By: Yung Bleu\n",
            "Song: Y U DON'T LOVE ME? (MISS AMERIKKKA), By: Joey Bada$$\n",
            "Song: Easy Love, By: Lauv\n",
            "Song: DRUGS, By: Tai Verdes\n",
            "Song: Loser, By: Beck\n",
            "Song: Run To The Sun, By: N.E.R.D\n",
            "Song: Crush, By: Souly Had\n",
            "Song: Didn't Cha Know, By: Erykah Badu\n",
            "Song: Red (Brothel Remix), By: Lucy Daydream\n",
            "Song: Rocky, By: Still Woozy\n",
            "Song: Butterflies, By: Michael Jackson\n",
            "Song: Bake Sale (feat. Travis Scott), By: Wiz Khalifa\n",
            "Song: CASINO, By: Ashton Travis\n",
            "Song: favorable colours, By: slenderbodies\n",
            "Song: Outside, By: Weston Estate\n",
            "Song: Another One Bites The Dust - Remastered 2011, By: Queen\n",
            "REJECTED\n",
            "Song: Part-Time Lover, By: Stevie Wonder\n",
            "Song: Antisocial (with Travis Scott), By: Ed Sheeran\n",
            "Song: I Don't Want Your Money (feat. H.E.R.), By: Ed Sheeran\n",
            "Song: Meant to Live, By: Switchfoot\n",
            "Song: Meant To Live - Acoustic Version, By: Switchfoot\n",
            "Song: Chamber Of Reflection, By: Mac DeMarco\n",
            "Song: Wavy, By: Janko Nilovic\n",
            "Song: Malibu 1992, By: COIN\n",
            "Song: Soap On Your Skin, By: The Solids\n",
            "Song: Across The Overpass, By: The Solids\n",
            "Song: Hey Beautiful - From \"How I Met Your Mother\"/Theme, By: The Solids\n",
            "Song: Twenty Something, By: Nightly\n",
            "Song: BYE, By: Jaden\n",
            "Song: Lost In Yesterday, By: Tame Impala\n",
            "Song: Miss The Rage (feat. Playboi Carti), By: Trippie Redd\n",
            "Song: Starchild, By: Burn Pilot\n",
            "Song: Young Blood, By: The Naked And Famous\n",
            "Song: Saturday, By: Twenty One Pilots\n",
            "Song: LMLY, By: Jackson Wang\n",
            "Song: My Hero, By: Foo Fighters\n",
            "Song: Everlong, By: Foo Fighters\n",
            "Song: Times Like These, By: Foo Fighters\n",
            "Song: the angel of 8th ave., By: Gang of Youths\n",
            "Song: love race (feat. Kellin Quinn), By: Machine Gun Kelly\n",
            "Song: Enghave, By: Marco Egeberg\n",
            "Song: Under Pressure, By: Queen\n",
            "Song: Relax, By: Frankie Goes To Hollywood\n",
            "Song: Mr. Roboto, By: Styx\n",
            "Song: Rockstar, By: Mallrat\n",
            "Song: Galaxies, By: Laura Veirs\n",
            "Song: A Man And A Woman, By: Charlie Byrd\n",
            "Song: Over Now (with The Weeknd), By: Calvin Harris\n",
            "Song: If I Got It (Your Love Brought It), By: Aaron Frazer\n",
            "Song: Cane Shuga, By: Glass Animals\n",
            "Song: Moon Rider (feat. Wrabel), By: Jai Wolf\n",
            "Song: When Am I Gonna Lose You, By: Local Natives\n",
            "Song: Electric Feel, By: Lucy Daydream\n",
            "Song: Shout, By: Tears For Fears\n",
            "Song: Fully Alive, By: Flyleaf\n",
            "Song: Broken, By: Tears For Fears\n",
            "Song: Head Over Heels / Broken, By: Tears For Fears\n",
            "Song: Don't You (Forget About Me), By: Simple Minds\n",
            "Song: Animal, By: Def Leppard\n",
            "Song: Mad World (Feat. Michael Andrews), By: Gary Jules\n",
            "Song: Thing For You, By: Randall Bramblett\n",
            "Song: Don't You (Forget About Me), By: David Cook\n",
            "Song: More Than This, By: Roxy Music\n",
            "Song: cherry blossom, By: slenderbodies\n",
            "Song: out 4 a breather, By: dad sports\n",
            "Song: Horizon, By: Nujabes\n",
            "Song: Two Hearts, By: Zola Blood\n",
            "Song: Nightfall, By: Mimi Page\n",
            "Song: Secunda, By: Jeremy Soule\n",
            "Song: The World Retreats, By: David O'Dowda\n",
            "Song: Atlas - From “The Hunger Games: Catching Fire” Soundtrack, By: Coldplay\n",
            "Song: Weird Fishes/ Arpeggi, By: Radiohead\n",
            "Song: Tur, By: Marco Egeberg\n",
            "Song: With you, By: Cécile Corbel\n",
            "Song: Exploration, By: Bruno Coulais\n",
            "Song: Broken Sleep, By: Agnes Obel\n",
            "Song: Midnight, By: Coldplay\n",
            "Song: Blood Pressurize, By: RemoteTreeChildren\n",
            "Song: Under The Pressure, By: The War On Drugs\n",
            "Song: Round and Round, By: Ratt\n",
            "Song: Everybody Wants To Rule The World, By: Tears For Fears\n",
            "Song: Eminence Front, By: The Who\n",
            "Song: Grab as Much (as you can), By: The Black Angels\n",
            "Song: Take on Me, By: a-ha\n",
            "Song: Metal Gods, By: Judas Priest\n",
            "Song: Wake Me Up Before You Go-Go, By: Wham!\n",
            "Song: Mad World, By: Tears For Fears\n",
            "Song: Hysteria, By: Def Leppard\n",
            "Song: Who Are You, By: The Who\n",
            "Song: Diamonds and Rust, By: Judas Priest\n",
            "Song: Helter Skelter - Live, By: U2\n",
            "Song: Secrets, By: The Weeknd\n",
            "Song: Pale Shelter - 2nd Single Version, By: Tears For Fears\n",
            "Song: Armageddon It, By: Def Leppard\n",
            "Song: Careless Whisper, By: George Michael\n",
            "Song: Strangers, By: Roosevelt\n",
            "Song: Photograph, By: Def Leppard\n",
            "Song: Walk This Way, By: Aerosmith\n",
            "Song: Where The Streets Have No Name - Remastered, By: U2\n",
            "Song: Helter Skelter - Outtake - 1975, By: Aerosmith\n",
            "Song: Dancing Queen, By: ABBA\n",
            "Song: BoJack's Theme, By: Patrick Carney\n",
            "Song: Cold Cold Man, By: Saint Motel\n",
            "Song: A Horse with No Name, By: Patrick Carney\n",
            "Song: Back in the 90's, By: Grouplove\n",
            "Song: Stars (Live at Montreux), By: Nina Simone\n",
            "Song: A Horse with No Name, By: America\n",
            "Song: Hallway, By: Jesse Novak\n",
            "Song: I Will Always Think of You, By: Jane Krakowski\n",
            "Song: BoJack's Theme (Full Length), By: Patrick Carney\n",
            "Song: Mr. Peanutbutter's House Theme, By: Jesse Novak\n",
            "Song: Fragments of Time (feat. Todd Edwards), By: Daft Punk\n",
            "Song: For the Damaged Coda, By: Blonde Redhead\n"
          ]
        }
      ],
      "source": [
        "print(\"ACCEPTED\")\n",
        "\n",
        "\n",
        "i = 0\n",
        "for prediction in pred:\n",
        "    if prediction == 1 and i + 1 < len(source_playlist_songs):\n",
        "        song_title = source_playlist_songs[i + 1]['track']['name']\n",
        "        artist_name = source_playlist_songs[i + 1]['track']['artists'][0]['name']\n",
        "        print (\"Song: \" + song_title + \", By: \"+ artist_name)\n",
        "    i = i + 1"
      ]
    },
    {
      "cell_type": "code",
      "execution_count": null,
      "metadata": {},
      "outputs": [],
      "source": [
        "print(\"REJECTED\")\n",
        "\n",
        "i = 0\n",
        "for prediction in pred:\n",
        "    if prediction == 0 and i + 1 < len(source_playlist_songs):\n",
        "        song_title = source_playlist_songs[i + 1]['track']['name']\n",
        "        artist_name = source_playlist_songs[i +\n",
        "                                            1]['track']['artists'][0]['name']\n",
        "        print(\"Song: \" + song_title + \", By: \" + artist_name)\n",
        "    i = i + 1"
      ]
    }
  ],
  "metadata": {
    "colab": {
      "collapsed_sections": [
        "QK7_salHtjAo",
        "DzcmdM3xtoWp",
        "0dLN8eo3uiQV",
        "VEGoAt1lrb-m",
        "9zoUecGcAfMd",
        "XhxUGWglrGfk",
        "L80OacIGx71q"
      ],
      "name": "Spotify Suggestion Model V3.ipynb",
      "provenance": []
    },
    "kernelspec": {
      "display_name": "Python 3",
      "name": "python3"
    },
    "language_info": {
      "codemirror_mode": {
        "name": "ipython",
        "version": 3
      },
      "file_extension": ".py",
      "mimetype": "text/x-python",
      "name": "python",
      "nbconvert_exporter": "python",
      "pygments_lexer": "ipython3",
      "version": "3.8.13"
    }
  },
  "nbformat": 4,
  "nbformat_minor": 0
}
