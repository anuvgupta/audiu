{
  "cells": [
    {
      "cell_type": "markdown",
      "metadata": {
        "id": "n7CFK0vovSNF"
      },
      "source": [
        "# Spotify Suggestion Model V3"
      ]
    },
    {
      "cell_type": "markdown",
      "metadata": {
        "id": "QK7_salHtjAo"
      },
      "source": [
        "## Infrastructure"
      ]
    },
    {
      "cell_type": "code",
      "execution_count": 5,
      "metadata": {
        "id": "0qdIGCbJiiqQ"
      },
      "outputs": [
        {
          "name": "stdout",
          "output_type": "stream",
          "text": [
            "Requirement already satisfied: spotipy in /Users/anuv/miniforge3/envs/mlp/lib/python3.8/site-packages (2.19.0)\n",
            "Requirement already satisfied: six>=1.15.0 in /Users/anuv/miniforge3/envs/mlp/lib/python3.8/site-packages (from spotipy) (1.16.0)\n",
            "Requirement already satisfied: requests>=2.25.0 in /Users/anuv/miniforge3/envs/mlp/lib/python3.8/site-packages (from spotipy) (2.27.1)\n",
            "Requirement already satisfied: urllib3>=1.26.0 in /Users/anuv/miniforge3/envs/mlp/lib/python3.8/site-packages (from spotipy) (1.26.9)\n",
            "Requirement already satisfied: idna<4,>=2.5 in /Users/anuv/miniforge3/envs/mlp/lib/python3.8/site-packages (from requests>=2.25.0->spotipy) (3.3)\n",
            "Requirement already satisfied: certifi>=2017.4.17 in /Users/anuv/miniforge3/envs/mlp/lib/python3.8/site-packages (from requests>=2.25.0->spotipy) (2021.10.8)\n",
            "Requirement already satisfied: charset-normalizer~=2.0.0 in /Users/anuv/miniforge3/envs/mlp/lib/python3.8/site-packages (from requests>=2.25.0->spotipy) (2.0.12)\n"
          ]
        }
      ],
      "source": [
        "import sys\n",
        "!{sys.executable} -m pip install spotipy\n",
        "# !{sys.executable} -m pip install tensorflow\n",
        "# !{sys.executable} -m pip install pandas numpy scikit-learn keras"
      ]
    },
    {
      "cell_type": "code",
      "execution_count": 9,
      "metadata": {
        "id": "66Ln0z2NilEK"
      },
      "outputs": [],
      "source": [
        "username = \"agwx2\"\n",
        "cid = \"17c11cf9271f4980a85e6aab83cba6bb\" \n",
        "secret = \"015c9abf126340a7981e7ba64dbe7828\"\n",
        "# good_playlist_id = \"61BmnG6d7ifmj8Dr5tuCBK\"\n",
        "# bad_playlist_ids = \"53FPslFSIAGvVyERcNG4J3\"\n",
        "# source_playlist_id = \"5ghFHvZmV4FDK5YLeZQRu9\"\n",
        "good_playlist_ids = [\n",
        "    \"37i9dQZF1DX48TTZL62Yht\",   # Hip Hop Favourites\n",
        "    \"37i9dQZF1EQnqst5TRi17F\",   # Hip Hop Mix\n",
        "    \"37i9dQZF1DX7FY5ma9162x\",   # R&B Favourites\n",
        "    \"37i9dQZF1EQoqCH7BwIYb7\",   # R&B Mix\n",
        "    \"53FPslFSIAGvVyERcNG4J3\",   # Trap/R&B (personal mix)\n",
        "    # \"37i9dQZF1DWWEcRhUVtL8n\"    # Indie Pop\n",
        "]\n",
        "bad_playlist_ids = [\n",
        "    \"37i9dQZF1EQpj7X7UK8OOF\",   # Rock Mix\n",
        "    \"37i9dQZF1DX1kCIzMYtzum\",   # EDM\n",
        "    \"37i9dQZF1DXbITWG1ZJKYt\",   # Jazz Classics\n",
        "    \"37i9dQZF1EQmPV0vrce2QZ\",   # Country Mix\n",
        "    \"37i9dQZF1EQncLwOalG3K7\",   # Pop Mix\n",
        "    \"61BmnG6d7ifmj8Dr5tuCBK\"    # Classic Rock (personal mix)\n",
        "]\n",
        "source_playlist_ids = [\n",
        "    # \"37i9dQZF1DXb57FjYWz00c\",   # 80s Hits\n",
        "    # \"37i9dQZF1EQn2GRFTFMl2A\",   # 90s Mix\n",
        "    # \"37i9dQZF1DWUZv12GM5cFk\",   # 2000s Hits\n",
        "    # \"37i9dQZF1DXc6IFF23C9jj\",   # 2010s Hits\n",
        "    \"5ghFHvZmV4FDK5YLeZQRu9\",   # Top 100 (personal mix)\n",
        "]\n",
        "source_playlist_id = source_playlist_ids[0]"
      ]
    },
    {
      "cell_type": "code",
      "execution_count": 6,
      "metadata": {
        "id": "Zv-9hy3IimF4"
      },
      "outputs": [],
      "source": [
        "import spotipy\n",
        "import spotipy.util as util\n",
        "from spotipy.oauth2 import SpotifyClientCredentials\n",
        "\n",
        "import pandas as pd\n",
        "from sklearn.metrics import accuracy_score, mean_squared_error, r2_score\n",
        "from sklearn.model_selection import StratifiedKFold, cross_val_score, train_test_split\n",
        "\n",
        "\n",
        "from sklearn.neighbors import KNeighborsClassifier\n",
        "from sklearn.tree import DecisionTreeClassifier\n",
        "from sklearn.ensemble import RandomForestClassifier, AdaBoostClassifier, GradientBoostingClassifier, StackingClassifier\n",
        "from sklearn.linear_model import LinearRegression, LogisticRegression\n",
        "\n",
        "from keras.models import Sequential\n",
        "from keras.layers import Dense\n",
        "from keras.wrappers.scikit_learn import KerasClassifier\n",
        "from sklearn.preprocessing import StandardScaler\n",
        "from sklearn.pipeline import Pipeline"
      ]
    },
    {
      "cell_type": "markdown",
      "metadata": {
        "id": "DzcmdM3xtoWp"
      },
      "source": [
        "## Data Collection"
      ]
    },
    {
      "cell_type": "code",
      "execution_count": 10,
      "metadata": {
        "id": "4yjbU7XGis6h"
      },
      "outputs": [],
      "source": [
        "sp_cred = SpotifyClientCredentials(\n",
        "    client_id=cid,\n",
        "    client_secret=secret\n",
        ")\n",
        "sp = spotipy.Spotify(client_credentials_manager=sp_cred)"
      ]
    },
    {
      "cell_type": "code",
      "execution_count": 11,
      "metadata": {
        "colab": {
          "base_uri": "https://localhost:8080/"
        },
        "id": "MlI1GrsRi3l3",
        "outputId": "b4b5e8e9-7439-43e8-a2ce-9ead02d6fcc4"
      },
      "outputs": [
        {
          "name": "stdout",
          "output_type": "stream",
          "text": [
            "100\n",
            "50\n",
            "100\n",
            "50\n",
            "217\n",
            "\n",
            "517\n",
            "['2BcMwX1MPV6ZHP4tUT9uq6', '5yY9lUy8nbvjM1Uyo1Uqoc', '62Yo3FDddWY8ydu6PW2wyz', '5W8jRrZ6tWrTrqnKRtIQBf', '1fxYz1s15pyZLsJT0Hdh1m', '40uMIn2zJLAQhNXghRjBed', '4ZUNw5tDBZTOqzPEVIYyOy', '0RbW8kWozrVSIGb4V13o0o', '1MIGkQxcdAt2lDx6ySpsc5', '2bPI4TKM4oTxl2SijUXM2J', '5IUtvfNvOyVYZUa6AJFrnP', '6qHhHEBX3W1ahFasgShdih', '4TIqzdAssasqx3DAe6cG9J', '1HvTxgCj0mTzQlEo0zLvFb', '21AJQhGZpujjZQXByZAXpr', '6ZoZ4KGIDD23DohdVk0Ybw', '33gwZOGJWEZ7dRWPqPxBEZ', '0lEjxUUlKqjqXrVlIHFduD', '57VeLYXrvNxe8Vs18K2M9W', '3BMG9dnjNymT1OGUXQTAXl', '5sBplhIrmzA4kQGyIOpmDf', '6rTInqW3YECMkQsBEHw4sd', '1JXBNvlDEl2epKSJ9EOgKX', '3w1WjD2zJqjBjDz5fwqQPJ', '0k1WUmIRnG3xU6fvvDVfRG', '3J4VKkUpLvomXJbn9ZAypO', '5ChX0Yt1wPpRJFPPecJZPh', '18vXApRmJSgQ6wG2ll9AOg', '7uLFOXgLrS90tEYPO1DGXy', '2lUDBd7JrgAMltcp6dcd7D', '0P2P1AxcRYhiZvoF5MyRmM', '2SAqBLGA283SUiwJ3xOUVI', '2MbdDtCv5LUVjYy9RuGTgC', '13EW51DKru044OJDJ9Bm8o', '2DTpP3caqX3QdJIEoS83mD', '7Bpx2vsWfQFBACRz4h3IqH', '04VO6VICgMJgTe2dLxFBoW', '5KQxun2WxwDMsV7HCN2ONK', '37Nqx7iavZpotJSDXZWbJ3', '1EWkw4Fa6IlnsAihLUlFFM', '7o4gBbTM6UBLkOYPw9xMCz', '15qKrPi4Kg0z7g9HlwWyeb', '4wuMS7NGVbU7hdu94K5icd', '27NovPIUIRrOZoCHxABJwK', '1VLtjHwRWOVJiE5Py7JxoQ', '2t7D3y0jvYjR8IP9Bosyew', '0cu0rhnlCnJ7JIeHRiLpj3', '3mDFLytDotXo2p0rvfGbkA', '5T0ahhwM0f4YYExfIGEHVw', '0k7wmahjkn389wAZdz19Cv', '7v96VvFLS0wSYT8kewNLRy', '6UFEJuDXQMWhL5UH5f9fUR', '1tkg4EHVoqnhR6iFEXb60y', '16P74BcksSSwjJqL2D7BGt', '4huBDGP4I3S0pYI0EaRN1c', '3McTpsUQfEDrlNd2ikro2E', '3RoCi49XvcidDK7OqGw7fb', '0PJ4dXVkpNAtoOZsEjqktc', '52ekzF7DfQBszZq87MIbPY', '1inQjfrPjWSM8DehYMfIxi', '3zs87EV3EZSh2UpiXxT52Y', '70pwY1UfPmSVE3ybPjFy0p', '1IeCWMwZs4rCmwPOjZYWN7', '0mG6igzxbH55XRyq3ygEh8', '1H7KnK26kc1YyellpbINEn', '7sO5G9EABYOXQKNPNiE9NR', '3ATol3XapQQYmtD4vFud79', '419H26ltVH4jd7d6CdyOHF', '3Ho13bRS28xEvGvgW4LOFM', '26UxwWl9xCb83OynXELJcL', '5gub2bpJRgJP4m4MliqtdV', '2cnKST6T9qUo2i907lm8zX', '2hx8cZug1bgRMXgW5RCTUV', '0qJeyYAgv6UpvewUxRXAhb', '341lTIxmhybbQsgydwJiFx', '7Fege3yv4dvehB3NdRBGwI', '5q9Et9kJTWvRg80uQLBW4s', '35RJhm1pEovTBwnNR0zWad', '3SLu421u9hMKwcFNxGFrGk', '1xzDWLTZ233MPC6TuJmQOH', '7qM1BWAsZMTYh4BcYLb0uQ', '6CN7FuZ7o1xle9TNxApGeQ', '6EDO9iiTtwNv6waLwa1UUq', '6g6FfeozIEkVUXecpSq16Q', '7zl7kehxesNEo2pYkKXTSe', '5vUnjhBzRJJIAOJPde6zDx', '25r6MZ4Gtd76l43qnZI1DG', '5YSHygGN9D0mID1NsVd5my', '1YmyHCxLKjLBBNQU51yQOh', '5Mt2ygfSPAEOCeZ03tbc7u', '2T5NBwKRySiCR78vVk08vr', '4RQvgOmRgrrfrkCqAvy9TE', '78QR3Wp35dqAhFEc2qAGjE', '3AMxuq6id3YGB57eWeheZQ', '527k23H0A4Q0UJN3vGs0Da', '0C1T6YOwB7MMzspV0UbKKA', '7E2C5rBLpCKwQlhJPVFBRS', '6wQlQrTY5mVS8EGaFZVwVF', '2Nc1v8I86FUGorwjXKo0in', '6HPRxfAFmvHZqQHtB1OPPu', '5cKilVQ9iZamOzodVcYQZ2', '1TFlvQ12TtF9nHmvXCaLpx', '5RUDslCh5maxKZ7a7QyCTk', '5bx4stZRInFwFz40fHDa7h', '4erg578HXlAcoJRaeI03Jh', '2kGlp16MjSJRPbFShyTjXb', '7lQ8MOhq6IN2w8EYcFNSUk', '0whPNuKZ7Nu9oft8WmMvVf', '7i62d3VDVY7HRiy849CGBO', '4SCGuSoP9wyKhZ8yAhFplI', '05yJ4zGSH2HP9cSVE4pfOW', '5HfICLgQFsCltw5f9nWFtd', '1HvTxgCj0mTzQlEo0zLvFb', '68GdZAAowWDac3SkdNWOwo', '0Z2J91b2iTGLVTZC4fKgxf', '4JwyFcT6SWYirpZRSrnTn9', '0i0ZCP4Yh3kLl1Z0k9BhBX', '6iuEK9IFiwlbchU6Fg35x4', '36dsnMrrnD7tDqLdEACgMx', '5S3JUCSK7SAkjEW7yoqjlP', '37IQEsFfN0vShGeJ6QhZy6', '4JShHeXN09OK3021PagQGO', '6zZQeNkt7q7WlSW6j4DAQV', '6Pqrm55DFjQZQi8jC2yBVa', '4wGFTaengFG4o6nYZAK1Xg', '0pHeYnigEgjN0vbQhUwXqd', '422lbxDt4LGd8EvqwNLLq9', '6f1zuPgMf9KtmZYnqEqski', '1rDQ4oMwGJI7B4tovsBOxc', '4EWCNWgDS8707fNSZ1oaA5', '3oF1ZBHm7qDn3bOxIrDEjy', '5tB3935lICfBBLAfe5Un6l', '6YbhspuOar1D9WSSnfe7ds', '0fv2KH6hac06J86hBUTcSf', '5RbbypMC1xhw1Kqdmu5uDd', '6jpdmZj65fT9jX9izk2B6n', '1cYuDwSoUfeS90ie7kV7c5', '0YdaLD97uhero6WpO4HfMe', '79s5XnCN4TJKTVMSmOx8Ep', '6uFn47ACjqYkc0jADwEdj1', '1JEVK6gqfGPM5CIhGyIVnI', '0QovRRlEC2IiM8UXlBKhIS', '2Ch0tZqLGNr0qngAib5ddp', '68Dni7IE4VyPkTOH9mRWHr', '6mDcLPGVCmdhMN4gBzNb7s', '3RZ9e3e7Rrmd9Se8dFOV46', '4ZWq7fQvITB8D3CngAErG2', '7rwijx2xejRaPkEXUftI11', '3yfqSUWxFvZELEM4PmlwIR', '0JAy5tWDfKLAFNWWIXbF1y', '4HDCLYli2SUdkq9OjmvhSD', '3TTMUI5dFcbeNSDTTDY9M8', '61Emqg95O9zo1GNOcyxq4Y', '3YJJjQPAbDT7mGpX3WtQ9A', '6RBfz4bNLNzvt37HycN1Xf', '0VAuyz8H8mgh89sjdR983P', '3B5yl01KF06NkYG39BdTBa', '00Blm7zeNqgYLPtW6zg8cj', '5QEapWx3ryjwtg0E89b02h', '3xRH6FPVtheDyNla3T1FE7', '08SB2OtZkaliju77WYEKxk', '0iI53Ty4M5byQAudFhTo9D', '5waFNguEkggHt2R05RxNBp', '4lsHZ92XCFOQfzJFBTluk8', '4XkrlDVc8UQUvsyRsxvU0M', '6zIen2DYr2t19vbwqgORY2', '48WidxP9CqyYtk97pwGZ3c', '5XqDJFVCyRTm5J7cIfRmR1', '0k4d5YPDr1r7FX77VdqWez', '1mSdbey7RstGLY2udgXv74', '6QqF0MqjQVotftZIuQUbvf', '0LGtMvQJ37SsEYbkP6TcVJ', '7Bar1kLTmsRmH6FCKKMEyU', '3FAJ6O0NOHQV8Mc5Ri6ENp', '18O00Y7yrkJ0pRXm1n21Og', '7fzFOW9v8IyprQjiyXfaMA', '453dwxD9JW2YcKvTriSUmN', '4rvzmiYWfzfQ3tnXEt1KQv', '501mFwKeLnybf8JO3XL66O', '26aJMMLBSOQmiC4JenVjjl', '58H8cWvvaFLFg2g7SdOO44', '2cZbLHnTKtdSYUsVYlrnSi', '1IIKrJVP1C9N7iPtG6eOsK', '2CGIIXw8elzjB7EO8pvQsy', '0xOnej2rwWRGRAwXFvTaYa', '1ndeyZurGdaWqLh3srX0ia', '5tmxPmmXvgJPU7bIukFX8p', '1gsYCXkisSnnjBb3qwYZoc', '1DOgkaR5Gqa8JtPEIbQORC', '5d6qTZOLnj4zbgFGRoJiNz', '0mL82sxCRjrs3br407IdJh', '2PpURDy2rnoBDC0PlBgiqd', '3MEruRteiUZXkStfTlZqRn', '2CDVqsGGkf2v1tMETt3fq5', '24SDeYAeTFda8OUzVI1VR6', '7M4fSXTAUQih72cf0FbMgA', '5OdNjYTpLjuDDPCBNWonRX', '6VFKuuqSbA1GpMEosUgTwQ', '1IZGMPe57hATuLJgmMR4eP', '1rdTdOTRfGXjQ9Auwn1gzx', '3U62bHMhP7bKAFYMkn3fNx', '0FFsgUoFibYISzMxuGS61W', '5BQHyj5Pb3dUY8W6TSjeTF', '0uDdI4fAXCuNhQbmxENdsO', '6BkYYJzfpG3u4Rs4VLXAie', '7LJZyNjN5U0LdYSBQ9hlLz', '2rKvIY6fovwoog9Iaez5kY', '23S3Ec0TsHifidDXWL0hzR', '0BKuCr5M2nggLQnUjllayK', '1R6bPOBdZkxEztiXNiW3X4', '6ElfCM1XppU0YWkkFYh4s2', '0lk5tzmaJWVAv5GBvpm3xu', '3cIYfp1jvO622pUW5zaeEF', '6ZRuF2n1CQxyxxAAWsKJOy', '1yCaGeVkeiHwM0EnErYDrR', '4iN16F8JtVxG2UTzp3avGl', '5s0e986tlNvseDl2YydUc6', '3T9VLKYbT0pGWPqhy415G0', '2A4h80LMeI4pHiTf4vTrli', '18ddJHQ7CUzNBiy55L0Xjj', '7CQnSQ9VsReCY3vHapw6Qi', '63wx9vdskaXbYxyDx4oJCZ', '7DHNcoR73yUYCSn6PqBgkH', '4MOUAKzdy6wa2AJHuuxIi8', '3eZYOQO4UzKrUDYDghtnFw', '6EsOT4Yq4BavQSJ4sEe9dw', '0CmQgwV3Bmzh9nZb9TNVEI', '3Bi3ws3uigvFSmfTcSLjnp', '6LUHCk4qqqupsz0yF48Opr', '1psvnQxSDdIKTDM2Jm8QKt', '6gdhHMWUv1pvkOHqCUGvCp', '6u3CPnFMKANYgfdiifFOiJ', '2GoXtcbzgBUrvYv6ac7zA9', '3IXAiQPAN5FXsETn9Gk3PR', '60wMNCIWYZwbOywZXgfQ9P', '6Ok5DivyUJjsLVUUWLzz6o', '7beY8mXJuC4l0J2WgVoCfm', '1lf6VaHYg3I1blTNrPOSDB', '1caYuDcVSxd8qZBEqzrXQk', '6IH4PecYwWfC1aV43ZVcRS', '43DC4xda0mFek23gGgMUz2', '45s98gUcOcj5nJeFDNLH2g', '5bvnqVuq7UFl0txSlHpsfS', '3PqAnW2bB5TQnMoBivyFOb', '5ziNnhZ1hK100fIUvkDZUH', '6uIR8eWWsyRgYG5LDAR7Po', '7E1jVNoWuemqUryI4FxsVD', '6XHVuErjQ4XNm6nDPVCxVX', '3Vi5XqYrmQgOYBajMWSvCi', '7CmNyEQUpNSX6RMM5Fw3os', '1hGy2eLcmC8eKx7qr1tOqx', '5rb9QrpfcKFHM1EUbSIurX', '34xTFwjPQ1dC6uJmleno7x', '5dXWFMwD7I7zXsInONVl0H', '6brl7bwOHmGFkNw3MBqssT', '08SB2OtZkaliju77WYEKxk', '4NpDZPwSXmL0cCTaJuVrCw', '4PhsKqMdgMEUSstTDAmMpg', '7GaFYUqP2WdR4KTPk7cXoP', '3xVZYkcuWalGudeKl861wb', '0f8eRy9A0n6zXpKSHSCAEp', '4E5P1XyAFtrjpiIxkydly4', '0TwBtDAWpkpM3srywFVOV5', '6cmm1LMvZdB5zsCwX5BjqE', '7y3xU9vEC1s8DSuuoSYKih', '09mEdoA6zrmBPgTEN5qXmN', '43PuMrRfbyyuz4QpZ3oAwN', '4S4Mfvv03M1cHgIOJcbUCL', '2J6OF7CkpdQGSfm1wdclqn', '23CKxEwKWsLs6LD5poGOLM', '1bpdLkA2MDdMAx043uDIQM', '2WP8G2pdddDmnh1xbfKBOI', '34ceTg8ChN5HjrqiIYCn9Q', '6ZRuF2n1CQxyxxAAWsKJOy', '6u3CPnFMKANYgfdiifFOiJ', '3YJJjQPAbDT7mGpX3WtQ9A', '3FAJ6O0NOHQV8Mc5Ri6ENp', '4NOZ35Dhucr6UlVyLOtktd', '3xKsf9qdS1CyvXSMEid6g8', '5rgrBsAFYMun6yhtnLKRPz', '0PJIbOdMs3bd5AT8liULMQ', '3aw9iWUQ3VrPQltgwvN9Xu', '0Q0IVlqMV64kNLlwjPj0Hl', '3DZQ6mzUkAdHqZWzqxBKIK', '14SaZBTjxlorHJQxXh01Hu', '2kQuhkFX7uSVepCD3h29g5', '3RmKpob8xzv1pzHEQrMJah', '0Odu228D0yGcFySGuxU4rY', '79MSEdtXuudhGhC5AtG07g', '3A4cpTBPaIQdtPFb5JxtaX', '3M5azWqeZbfoVkGXygatlb', '1dIWPXMX4kRHj6Dt2DStUQ', '1IIKrJVP1C9N7iPtG6eOsK', '2WC4sK0ryyysQhtDok9Ytr', '7k0wVBW3cvV6Xmb87JikIf', '2xyx0o4xNOLLjBSbOOdcbA', '3GZD6HmiNUhxXYf8Gch723', '04KTF78FFg8sOHC1BADqbY', '2vXgyN14LX2zl7JEASw242', '3GCdLUSnKSMJhs4Tj6CV3s', '5KVciTEfXvpcFHR3RFbtJy', '6iyp6udVpLuq3MCUulZT4h', '6YyvzSFCx1qogS5VWfXc6B', '7iaw359G2XT14uTfV9feip', '51rXHuKN8Loc4sUlKPODgH', '42XnD59SFcomCJu55EPhqJ', '5tFep7dXGd7vEJ668wTPux', '40oKW22ZNNkEdZLJTScaQI', '7DuvVy7JfFgXwWlVzyyPys', '0ESJlaM8CE1jRWaNtwSNj8', '4bJX21zvsGJELwVNf902qk', '07pJdL0L9XDGW0HBj0rIS2', '1cTZMwcBJT0Ka3UJPXOeeN', '6urLjX35oXXRYtcH1b3dCh', '6HmWy7ttkeZGG2KEtt8AqX', '1yxgsra98r3qAtxqiGZPiX', '3be3kLKYYLtAb8WERUM1sS', '4DTpngLjoHj5gFxEZFeD3J', '4qKcDkK6siZ7Jp1Jb4m0aL', '24lORMRGMv9sXpZJdN1PVm', '6Vur2D5ks3pdAZqqmLIeab', '2eMwDehkIC1j68U6FA3Eiq', '2yUbCEiaolfSMluDo9RMmG', '2nYwV62UABTH0NanrwVIdQ', '263le58t0LrdRlCZDcGQXd', '795qeY9x7NmfYJOZ9dQY0Y', '1xfFPJdRjgDAaMcDgbXwyh', '08Tbfp1GXta9Gb4RhoTuoX', '0H8XeaJunhvpBdBFIYi6Sh', '4fndbjoz1qJyK6JcLdKfzm', '5jyyPsIGM2yqkZN9R3TmvN', '4vIhvFLrnDD9fEjpjWs0Ky', '2D2w9943rsnJOGCrI4aMQp', '628Ueb4sRiXApObhcU9iPU', '1pF3VcWYHeuVPflRwGBaWV', '2Bv0MbaqYx2IrQa7Z6xBT0', '2Jlx7CGCVi3mRbKcA53YOn', '1cZlBZwnwGPtYeRIeQcoFh', '4TirSuqIbDcbaPZWYYcqli', '2XW4DbS6NddZxRPm5rMCeY', '4dVpf9jZjcORqGTLUaeYj9', '3ncgNpxLoBQ65ABk4djDyd', '2DQ1ITjI0YoLFzuADN1ZBW', '4pYZLpX23Vx8rwDpJCpPTA', '6JjEVlMkfHWMeYavkEYzNO', '42CeaId2XNlxugDvyqHfDf', '1OmcAT5Y8eg5bUPv9qJT4R', '3rbNV2GI8Vtd8byhUtXZID', '2MYl0er3UZ1RlKwRb5LODh', '6kl1qtQXQsFiIWRBK24Cfp', '2tbvAGoLMQgjvfgW7naBiE', '28KTX2uEk6n9UiE7J8YDKF', '7Ed6BkggCS2KaKY5YlINaF', '4ckuS4Nj4FZ7i3Def3Br8W', '4zGvb8hxGLB2jEPRFiRRqw', '2n5gVJ9fzeX2SSWlLQuyS9', '4oRqSiVyGrwb8dnJBO6FNu', '7KXjTSCq5nL1LoYtL7XAwS', '2fQrGHiQOvpL9UgPvtYy6G', '6fujklziTHa8uoM5OQSfIo', '0SGkqnVQo9KPytSri1H6cF', '6HZILIRieu8S0iqY8kIKhj', '3eaZlarqKQ4oAceRwJHfF5', '2ng5lhEsASy6jgbOLg877a', '3Z2sglqDj1rDRMF5x0Sz2R', '2rmq49FcJ4U3wh1Z7C9UxE', '4JDZl9nKIAhAhDjw753u4X', '6V2D8Lls36APk0THDjBDfE', '5hMxgvMmI99alD8JJpjO0w', '2peoIrd4v8r4HXNPXePIXQ', '3CEyM9wliTj7TeuuG84KZU', '7xq3uN2toVZ8IbNzfTucyJ', '27GmP9AWRs744SzKcpJsTZ', '0Fv5N0cHBsl4bzCbollCAS', '1r0faljjM2b876iNoaDUh5', '4HW5kSQ8M2IQWZhSxERvla', '4knL4iPxPOZjQzTUlELGSY', '7sO5G9EABYOXQKNPNiE9NR', '6H0AwSQ20mo62jGlPGB8S6', '0E6PsO3ymCfUh7pJQjBgkj', '7gkWXbAxIYuvtOpcN3p9GJ', '5IaHrVsrferBYDm0bDyABy', '0KmgnnbSO6Iqye27Rdtv13', '79XrkTOfV1AqySNjVlygpW', '5PTG6rrL6EPFD9E2QMI2pl', '58q2HKrzhC3ozto2nDdN4z', '5uqphUYsR45kPYplrYSAQh', '0k6DnZMLoEUH8NGD5zh2SE', '1ung2kajpw24AaHjBtPY3j', '0YA2A2cJtfkIopVtIrcIxG', '37eNjXNfxGEKpWP7VIwMtI', '3qkBZ5HegR5YzxGWor650h', '0TZSaqUU0c7ehvjlvUJChn', '6MWtB6iiXyIwun0YzU6DFP', '3keUgTGEoZJt0QkzTB6kHg', '0TlLq3lA83rQOYtrqBqSct', '2JvzF1RMd7lE3KmFlsyZD8', '2t8yVaLvJ0RenpXUIAC52d', '25F6MWrnFBCXVnpN4n76EK', '4fGT0JiaqoHShrg6uSsKfB', '1A8r8fxWqHbK56gvBy3fTQ', '6RWa3fCOR5QQrQ9A3Wd3KR', '6SPYOjTjqvidDI24Hy9lwX', '2E124GmJRnBJuXbTb4cPUB', '0MrRAUcB8AZiB9ue2VOBYe', '2ckdCyLxBPx4FpLMUn5fkf', '0qy1xNhQvnRhEpvKxdXYUR', '2aIdVb8v9KTpEZnftkz2mD', '5MUxrNd7Gr2HksLcAlB0IO', '5H1toFD9cweYd4nxFV85DO', '0PowxVSTY2uh1CPc8EPKyX', '6YVf5YQ0CJpS0MaxgU39gV', '0iQQZocRizgAKfXxvTC7Pl', '6iQuUaqpBnMUaJy3jBJyxe', '5pf8okYXecUDoVggFuKxPz', '7pdF27mSDuPWhppnHAmWHa', '0Qd2KYCmwGYiTF3A0opS6b', '5C1tQCTSaCa4hJw3eQu46g', '4jaH6whRB6Zgy5EzvKN5ZL', '2r5RLpr2fFC06vHOpczIdb', '0DsXQUA2OJW70LFmC95C7S', '37EDnGj3yFe5Hs4Zk3s3YF', '0gHcxtyWQT0HrlGxaxP1KT', '1j6kDJttn6wbVyMaM42Nxm', '2pMl9Sx4glsuk5ikZtFBtX', '05t7JMip6JrLuSrMV5yYjX', '1HDaPtZuixue2q6VGNRdVO', '6kzsKMaeuAnZW8CRONW125', '15XQJZSzKCiO0iubqcDsZy', '2IpGdrWvIZipmaxo1YRxw5', '6PXhPHhZy1MpxuTNA1Ad4L', '3Ul6f7ip8dmZ8VuwfB9Xq5', '17N5FdRwJuv3UXQ7MHnbhF', '00QZFUVhoROpLy94lvdj8O', '6YbhspuOar1D9WSSnfe7ds', '6V81K1OcvYgHEnCA6A2Qx9', '2J7IDapWgrILBNqwnv0Vr0', '0ZN72tCEgbwPXEtj6TPMxK', '6kqPWdv1pNXp6A2CowGSFA', '5fPZ5rlUHzHfNY0Eda4T8o', '2npJP0YTkykkqjezhA1g8f', '798nzni0JSUWMVJJBCYYF1', '5tnGoXhKnh5WpMX4BfMCiR', '7ms3VzLTfr7fXNOqA4Mkx9', '3VyjsVV24RmBIbWJAeUJNu', '1RagpNpkD3KcjXMLGMe99V', '0hCHNYL8ApQCGNwJrYN1FY', '0QIjsbm2fh1cJ45XO9eGqq', '4iEWnkDewJ72copeODWuOw', '4aNJ0WZCsawOOzu6sQ2h1w', '0Lw6aQcBFWTQ9m4MSwwwes', '4eqrNsKy9Mvg1fvfsTVIAE', '566MMmfMJwlR7oQgRyW2w8', '3YFdwzFuwDC6D0SttvR7WY', '6vN61JHkrDJYYhupL4y2tJ', '68poZGRClFTzLdeRz9X0M2', '6tZ3b7ik1QDXFAZlXib0YZ', '7yotKA30dwTKNEGomV9ZsI', '5VnpYqIzm02X9gOhVElQo3', '0WQcnrsEqrY2e5nexGe3HX', '2rqUblDWJKlMVwh9uJc0Vv', '6lq0OqAXfxnwtFGqdARtRU', '2t7ntd09hu7KHFStVhBQEH', '5nN8BwAQDJDguq7Dpd3JQQ', '4PvVX27CitqLAamcc0PCRU', '5YbrqNUUleF39Ai3b3ruQy', '5Ipt6cMFvzrjvK1cSnrhfI', '5NqOsPI4rA9Bl6LcCftzI2', '71SbmXsy5H0bqxJAVBcfsG', '62vpWI1CHwFy7tMIcSStl8', '0NqZ65jPelNB13gzsvH2Ma', '3TvoVoQbDSXYfeKs12dxpl', '6XHVuErjQ4XNm6nDPVCxVX', '60FfHeVTvpLeOew9l4Ku5P', '6nsyYPCDUSacgXci9mvWln', '0hGH0S74Eoyv6mXZcOKtdQ', '77Y7tccX9Hx5iClDr39uy9', '1Bqxj0aH5KewYHKUg1IdrF', '1jQsKN68yE94tMYml0wHMd', '1Uq3IOIy1CUlHUgP6vWpum', '4paAidoE8VAemwU4jgCc6l', '1QgTBfRN5m81a5K01qens6', '56Sng0NtW0YYy4Edtpybm8', '5WoaF1B5XIEnWfmb5NZikf', '7qvsl2pYzrsYgPeFBN5jxp', '43C2Q0wSw19wkIfwbDjbIb', '67XyC1GdSkKb9sbRRkUDXS', '2wUwC1gBJIC05JH87v2hgN', '0VjkjJ1vNCrbdk0EhM6Phw', '5AFXAnmid4MBfUGJHISTqT', '0uqJQ1k1N63nl4tAYW8t2A', '3GX2hFAekmSduZzcS52OnR', '6o4nVtywF4F75RkOcDxrtd', '3VFI494i8DoYzkA5boYxCw', '0MdSezTbC54SIPQkXrvHrp', '0HCnj7pfrvshnocOJUFeit', '3hRgJDDSSv7ldLVlWUlas9', '1oUudyBYVGMIC8JXeIsFzq', '5ravc2aiNoYmu9m37diYXW', '75FDPwaULRdYDn4StFN2rT', '2plFaDNZayLbtA9Ht1yCEo', '7bDqSfQ7Sj0mA4hiswGr3t', '4cQrSREMqBSvJ8ZzBZjVb8', '7G8UwvJwgslJV178akfeIf', '7yfg0Eer6UZZt5tZ1XdsWz', '38844QuZDlnt44uHPrSA3S', '2aRlninB1fG0Rom4i9efSH', '5hDAT527wXWNBnJlujhuUs', '7floNISpH8VF4z4459Qo18', '7MFL1GD1NtffPkogskoilF', '3aaRK3htdVkK2pqOI64FEb', '3WyRgi8CzQnhzO0xw79tTS', '40IQooNkPRVtn4zlE3ZFpA', '5hVghJ4KaYES3BFUATCYn0', '4S7YHmlWwfwArgd8LfSPud', '696DnlkuDOXcMAnKlTgXXK', '55qzzLcMsximHzw1HHPfAN']\n"
          ]
        }
      ],
      "source": [
        "all_good_ids = []\n",
        "for good_playlist_id in good_playlist_ids:\n",
        "  good_playlist = sp.user_playlist(username, good_playlist_id)\n",
        "  good_tracks = good_playlist[\"tracks\"]\n",
        "  good_songs = good_tracks[\"items\"]\n",
        "\n",
        "  while good_tracks['next']:\n",
        "      good_tracks = sp.next(good_tracks)\n",
        "      for item in good_tracks[\"items\"]:\n",
        "          good_songs.append(item)\n",
        "\n",
        "  good_ids = []\n",
        "  for i in range(len(good_songs)):\n",
        "      good_ids.append(good_songs[i]['track']['id'])\n",
        "  print(len(good_ids))\n",
        "  all_good_ids += good_ids\n",
        "print(\"\")\n",
        "print(len(all_good_ids))\n",
        "print(all_good_ids)"
      ]
    },
    {
      "cell_type": "code",
      "execution_count": 12,
      "metadata": {
        "colab": {
          "base_uri": "https://localhost:8080/"
        },
        "id": "tmxlK5lqjXu5",
        "outputId": "88b82104-fe98-49b6-ff26-aed9bdb8be6c"
      },
      "outputs": [
        {
          "name": "stdout",
          "output_type": "stream",
          "text": [
            "50\n",
            "50\n",
            "250\n",
            "50\n",
            "50\n",
            "132\n",
            "\n",
            "582\n",
            "['07q0QVgO56EorrSGHC48y3', '7jwDuO7UZvWs77KNj9HbvF', '6Qyc6fS4DsZjB2mRW9DsQs', '70LcF31zb1H0PyJoS1Sx1r', '0v1XpBHnsbkCn7iJ9Ucr1l', '2fuCquhmrzHpu5xcA1ci9x', '20OFwXhEXf12DzwXmaV7fj', '59WN2psjkt1tyaxjspN8fp', '1JSTJqkT5qHq8MDJnJbRE1', '1QEEqeFIZktqIpPI4jSVSF', '2DlHlPMa4M17kufBvI2lEN', '7e89621JPkKaeDSTQ3avtg', '5qqabIl2vWzo9ApSC317sa', '0bVtevEgtDIeRjCJbK3Lmv', '549Go7a66CX6k523uK9kUv', '1n7xFAY4xoPeqRvrkzAtsw', '4BP3uh0hFLFRb5cjsgLqDh', '08mG3Y1vljYA6bvDt4Wqkj', '7nsO4eXkY7DvrWbjYUDLJS', '3d9DChrdc6BOeFsbrZ3Is0', '4bHsxqR3GMrXTxEPLuK5ue', '0gucTLf7trAf37Ua1uAyAu', '1nQRg9q9uwALGzouOX5OyQ', '7o2CTH4ctstm8TNelqjb51', '0rmGAIH9LNJewFw7nKzZnc', '2oDqmfa2g8W893LlwJG1qu', '1QFh8OH1e78dGd3VyJZCAC', '776AftMmFFAWUIEAb3lHhw', '4gMgiXfqyzZLMhsksGmbQV', '3lPr8ghNDBLc2uZovNyLs9', '78lgmZwycJ3nzsdgmPPGNx', '5MMnwYs0hIxkENRsbkWJ2G', '3BQHpFgAp4l80e1XslIjNI', '57bgtoPSgt236HzfBOd8kj', '5UWwZ5lm5PKu6eKsHAGxOk', '0ofHAoxe9vBkTCp2UQIavz', '7MB22jLCA12Ev7Jjp3e1aU', '3gdewACMIVMEWVbyb8O9sY', '1hwJKpe0BPUsq6UUrwBWTw', '6wpGqhRvJGNNXwWlPmkMyO', '4rDbp1vnvEhieiccprPMdI', '0ntQJM78wzOLVeCUAW7Y45', '39shmbIHICJ2Wxnk1fPSdz', '5XcZRgJv3zMhTqCyESjQrF', '2WL6GQzPuK9Nrpy9XwNEbz', '5W8YXBz9MTIDyrpYaCg2Ky', '3IyCL4Em1GOpNGDf451Hg1', '37ZJ0p5Jm13JPevGcx4SkF', '1brpdmqkx3kSxyqzqXfW7J', '0pQskrTITgmCMyr85tb9qq', '3nEHrvNNtgLv9rneTAYVr4', '3Dr0xDJwXy6JkiHNJfv5zd', '10oKSzRcwbZsog2uq2gb4b', '2TlhOVwPyMJ0CbdgHS34JQ', '5aXTfpNOqLj35ydEiLio67', '2gZwBmkSmsVfEPFWGuWTDk', '76A1RRDEyHKtmV3Vh6PeVN', '1OU3OPHczBcfFU8cDzSzKT', '1rSUNzMXSxspf02RRQ3p5m', '6UMbXtJQL8dRQfiLdFh63O', '3hQpBuFdNnFM38NjTeg0XQ', '4548LyFomXQmDAINcFizEq', '2YUVIkvZ2tPEZYTepX6oT9', '1uGsxm2hkpBHiPvn8g2zwH', '5wM6LOw2U6XeIFHfsgI6wU', '7GiozRoMk95aFl1WbrDdjX', '0WCEclDlYBnZXxpqaCbPIv', '3AygCrAj6TZZ6mGkcvD9To', '5pF92bDyufEHqAOEf2Dtuu', '2wG7MgpfXMCzQcTPCt78Tb', '46nvQpUDsxpS08UTFOeKTA', '1suqXPrYygZ7BYiSfaVZE4', '7Jhhj33A2qNRpLuo51Aqwt', '6D9pncRlZZoq4oc1tzAC1y', '2dyrLrVopYKGc3H9oOYSmZ', '6IzwNz9jjHpvEqWmyLYUXa', '0g8YU2bR0QlBv7G9L9nDXU', '7mXNYEVh9FW72c12qBaO3p', '4AoUdMZGoPZZQxVFnoVQEl', '0PMNxtgeNSmPPp4aiA4T8F', '6OK7OQyyvNPd2XQIHCB1wz', '3UTnoLehZjISbFueAmhGvY', '7yfnNGWg10OgBjpGx1G2M7', '2cXlDeF2sUoZRQgYQZ2nb0', '7clsGP3ea7rhBaEK9ga898', '7pDdE5FLqcNCvjxzRzm80r', '7tVVAfQ4zG2r0WVL5pQjVX', '3DKWSWJsNtRQil4FsytGHD', '4pXG8Q82L8WvypAm5Wo86y', '0jitsmziKMI9MpzENnB0Tc', '0cvMWzztDy1wNQkBqae8w4', '2lxoIZS8tpFwbiJyrDYguI', '0ha2skoePlU0BDDySj8qf2', '3S2ArNKZEcb9JiBX9WAv4z', '2Q8fFORnsDE6I3RNvSLXSf', '1gs7LWmkKWpJ8M6cnWkK5e', '0F9fZwEu2cWSgqoRWzAtAS', '2cGnOx17iac6m7R5YDUZac', '45srzqej6QL7I5CQtorj0d', '1O3Jlr6ksM6meUe1atDAxY', '3Gcpi1CwKoQtc8B3H2ZOIX', '0f2489MzoisF9pKduawvce', '5doczA8CcUYo0J9H7uvHgU', '5uNtaTmigAubx5fLfO92AW', '5z7deaTe21B7QVPhSDouL1', '3NmLBig4t7RZWbLT3U2eBb', '1pZn8AX1WulW8IO338hE5D', '7yYgBAj3yaMdTgq7fIvDlQ', '016HKF7A4O7tatoJ9BgZM1', '4Y5fyQ5fBysC32Na5sZT3J', '0HEU3berJ5OBojU8XmEk1c', '5S31HUP7cg0iOFxZ3QGFN5', '6ffJxrVKkPVW4hiRoiteB2', '1wnbi9NzQPBCobZ6OYCpqH', '5PXIzyJURVKyO1cwVDuGEK', '0zQE77yszbyv61M4NboU2u', '4rrLFMxzVVwAJjmvHLPL8y', '5gPetRvxQKyOjjwZX1dzbt', '1GhDF8jJYkDtwH4NYXsDuh', '5BLr7EEgi2JdKbMbYjFXas', '6yKkA8HzwWTZ5taIMaG4Nm', '6Kr25pa3pTd4no3yA0EcW1', '2IdwQxhJn9ZE4zIotcCefR', '0GUUhTWMylAx5pHDI42t1V', '7Kc3hZoCRTs5dNHU7GqT9x', '3iFlfQ0CXc9URaAvai8VUe', '7GBPpRMtLyGA6svXQMNfIN', '1BPmVDqR4cX9aFC0Qx0eWn', '6PKCEB5JzjCizpz9hUQcpX', '2GIqdPK9c8npWf07kU6bqH', '0ldmR2mJJNEoBIINfZWdv6', '4vWMrM0AwlhRlkAdQtC2zn', '6CDQBADsdzJwc3qZ3OPDHH', '4z1E9GltZHciLum0ybby9h', '1M0bEJicvT2qmdJej9wjyk', '2oMaXY0yiWhAEWD7SutXh2', '3pfbQmD5xGH9Tcc7GqGfSL', '2bOUrmH6OljKtXOLjvVEU8', '0DXb75jBHund71iIpnBBZv', '6YYu8qFzcY1ZyzzsJIQM12', '1tbzRQCZUoKYMCxzK0Jx5p', '0Rk9byjmZksAJX15onGns5', '3kYrQXSao9IXp3EzMZQt5J', '30QD4VRP9yEneOh0eGTrtJ', '21HG0QIgIcVQ2EZeXubaqL', '2Ob1A4itFyJWUa6fpwqAOs', '7gHFBNy0Qn86xGKJ9OdFTw', '7KsJkshpIjjeIwyKnkhQUc', '34zhjduFdQFhkRUJ230h9T', '3MRu7wA7ziRNf2cZr9gqtb', '2TPRvPvUotVn4tGHAWWcog', '3bYBPyLGsa1unDrVaNzN4y', '7hvZ6vMAnO0cDkkKKJok4Y', '4F0sSQCicLl5tme407ubvS', '09g9OlH3RDjbffMAnvBPgw', '47xU4Sm1RWZgRgugWPFxzz', '6UkKOXXYGcKMR9X9S3f7Qi', '0m8tSPLHhjhGToD6LW0RPp', '2C3rh8eX5vltOmwrz9I78n', '5TNpCThzzXHEipXGKgNG8T', '10El9hxviSBm7pChWxG1ib', '2iUrcZcAuVIahQD0dg9HLe', '4N6JkrGD78eLooaTDmwo9s', '34xixFi5y3I5FIOH1ZWisx', '6f7r5i4xVwePkHDHwwMK75', '1cpANF6zMBoFoxkoIjZHjv', '5eMz1VtT2zNtsyh1bDgDhb', '4FMI4Ln1LhyxGldkNXan5e', '6oSm3mBWFxJHEnjE2IqhmA', '1JXxyiihPJrMLotLklU0Cb', '1wl5b2lw3YagQtZiYZbQWP', '4bRNH9mxHDszZGskpBFhPq', '0Otf1ZfYNIjhqFIuJk0fsy', '6tL1ZlPRSihc6gyWhVfA8X', '7CnOzCWGrTINcDExG6u99y', '0cNc2tivyPqzgp13BSM7St', '16KZuJfRKqMZQvmOibsVqX', '6linlPbVWEecMEMfNcul1e', '3341eBppSCetzo507uJU06', '2FnTwpi1PdHLjgHv4XQEFn', '6W25U2EbDixQbLbqpjz0TT', '5PfcpDnzz8VdUoziFWnhrU', '5UPJdlkMWG2G2UwTfGSjOe', '4xGFcQEIjtmbPD6Jsxq14M', '4zxd4tiXPlWMqoJltbVTbE', '78MI7mu1LV1k4IA2HzKmHe', '2CBfYM9el9Sh15s9NCeYFP', '6RqomqKVORIwNJCKNxvc3F', '4gFlHAye7To29Fs4UszQUH', '4zPDjRgceGrR0Sm54YDTTf', '6OH7UCFY7SEJxxQkaYfAv8', '1Lh7U5c3EvLBb6lSgHVFlR', '0DUyHDBRaxFiXDf6Jhh4JD', '6qqK0oeBRapZn8f9hJJENw', '13hLjPatKentvawsFceF9a', '6NF8MZ2trxckVBr82pyyPt', '74HwaWwtVa2buG8OIHZkgs', '6eimz6jvlZaPwtflDWCTa0', '373yGkNo74RZgmQgTiR8xK', '18A1V1vsy5YgHFqb4galTw', '67fFApZyHZ9LjsvkUQJShY', '0iEtT7O43pat2fu6jdaCKl', '4p4XgwnZJCYOWSvz8ruiOY', '3Sqv7KrLRowdwRwgpT4FAh', '1duGF26RKaTntfsJ0cTkzj', '7Kwi4xmgY4qQwOhBe0zsbh', '6KawDsALZTY6FA8CE1NLZK', '3AJSnSiVDz37q85LP2Rop0', '2cOSF20k8VkEoXllO0PsbG', '3YiuJ3OstUEa93UBqb1vcn', '0DuWyzeLH09PQcnOMJiRgE', '1ebZEQLe2lfwyMnuhnIDjx', '2xm9ihELo6xwrRKrBbPql9', '4l9hml2UCnxoNI3yCdL1BW', '3TSdkwPeUfvgLwNTF8gfC0', '5z8eOnPiOC22EYpniAX3Qg', '0xcJPMoBe9FenntXbfyx97', '12cMYRYTV2RTz4YTlOpgSu', '2F0cAwp8zmQ8McgBzjFWO0', '5wcAcShxT5qvLJvuM6jkZt', '0aWMVrwxPNYkKmFthzmpRi', '71KwWlZvuikRRORNH3xvCq', '1GZD0TZJHmdQaZsucHBmWT', '1LGqJ3nvxpVXDWpEzq4DJD', '5F8rPLt2c52p0SK7kiH26b', '4f0D7T8yswXUJ62AKLoMtS', '2EW1mFJaikQh0vxOoB7uGp', '7z4EbJbnbvWcP9Bg15fpgC', '1WygPWqmNs4s2fxtjmtI3O', '0E8q2Fx2XuzXCO2NSAppkR', '5eFFsShr8vchESCk8HGxvn', '2kF9Ijd7I2Kk2P4bYqUmzG', '0BFCbH1cxzeUSJBVwJGRLg', '0Dt1B5dNfajRczQKZA87aL', '5DIVWgTeJ2fPIxaY9e7ZKn', '0MfK7lsLUvMq2CURkt61uF', '5f0n6K8hW2RIVXuZjxO0bu', '0sQ9ee2jJNTQgjy55Pse5H', '0KDn1UsD2ym34dCT4P9ebj', '2JOEPbuwVf0nafGnMSVEhH', '4R6rf3KbP45JST6Cr3Enry', '0X5DcGkbxCXSadgj01ZXd7', '6YRVj7ZJyFrr6tso0QV15e', '5z161QQZMgQxSILnv3QoJk', '4G3EKvGtqcUSZqPQIWJFxd', '0gutl81vbXX1JGp5M0OoiE', '6oWhUfePc5h9r5pfw7wvPN', '1xicvSO4CJ2ymqYgpk7DFh', '2QZtOFPATNgKpUJiGUARZk', '1cfMdMmJqBlLn4auevv0iB', '11vaRXRIFXJTRr3BuzNbk5', '6MXrGG7nff0FXBQJa5UF9P', '2dPWP7FMCxnv4u9Api6WWU', '2qswPLZD9CbUoSidGNyxwm', '7yzM0pEseQUpb6BMViOPEA', '4rmCI9VWrwrJTJ8XQ80BMN', '3Ysj0cl3Jlb6Ysp6um8QI7', '0RNxWy0PC3AyH4ThH3aGK6', '1iCAi2GzGYqCEm1t3Zpx8O', '2wjHWYJVAs5TYSRP83JLmc', '7unF2ARDGldwWxZWCmlwDM', '1CDBaGlisZlOJzvx88lL8A', '1ChYuSIoOFDVY6fHSXF6zS', '3GOZbK2epuHzCt5YvvVFHO', '7tQ7e28gdQNhLcIbqc1PXY', '57B6gMEI1E4E3kKLKvfX3U', '7kDlGHJVjuMGVZWNDlH9Ru', '4ol2UyMTiklHVujAWg02nE', '7yCEzOAfijmD88IA1DHgSo', '5FLQmLjjeNIuC8U5mDnXC8', '4dUVpbIu8FW7R76gejw3cq', '5KQ6uddno2Hht84gJDHsPF', '2Ef24NcyyZAMngL4uQd3xC', '4KGcpnAbGlvVgd2HFQvexI', '2n0nSu6H5KrAYRfI6iKtwT', '6ZgaUtMlUzUf7SqbUUnfbu', '4w7EnqiLksvE6rcuR8F8bn', '6VTbbVjKOC2qWagIDbkJrC', '7hDq6sOZ5Rl1XnSSfoOBRK', '1xXydFs62EqOXFMPizVhn4', '7f4svguucdFTOv6gOjOvhO', '5TGGsgsY7WS5Q1w8N581wD', '0ivpUENLpheuPoa6VuY1ax', '648TTtYB0bH0P8Hfy0FmkL', '0CLbmkYmQIWiEwnsbOkLpd', '0ADAFZE0bYIuaIyPNFl3LE', '4Vkk3iD1VrENHJEACNddvt', '0FKnknau5UBXgN2Q6vVHgC', '4smkJW6uzoHxGReZqqwHS5', '4vLYewWIvqHfKtJDk8c8tq', '1hVRTl4yhWmGW7ImZoO22e', '4qRJ7ZJyfzchEd2fjle7Bz', '0sRAziWSeUedBSKjapsy9F', '1czzmAtPTw287TyMQEfCfg', '6rK27cC9hX0e1Chrnxo9Vn', '0IffIW3eyCx9aZ36IqOu5o', '4ow1XH4hwe3yOGXG2eTTTY', '08lUeu1CxXvAoaKkemoEk8', '0tUq1zaYNoV6ZiYRU2bjqf', '6TAW00MAPvS59yEoIgtOEI', '2BhU0Hl5OatWiCW93pE2b8', '3hY3MPL9hAITPgVfiVlL5K', '1J9iVCaEriyoMXpj2XszhU', '76XN6m7RzGYwnzngUGD6Tt', '3Wadbk42UtsJOT5mCx9Bb0', '3Y0LpU5kqQ3vSZvwcGjl1M', '3NvYPUNu6nwQgN31UnoDbn', '0d6m2xfXqMyEKOeRvfL7Ot', '16nJl8NnriCJxraco5Zssm', '1ZXu0ib26kWfQQngREMcU2', '2PGjqrXgOBqP8G4R6EKmpR', '2dR5WkrpwylTuT3jRWNufa', '5vze3yFdib2nLOqpmzl5wO', '36MLLjFug6TJYNODUVR7av', '5vb7At47uO0yPGfmYnAHuw', '013grywiX7Qu6WVfnJ1opa', '3rXJbXaRGLK1A6vPmRafRR', '1CTex49P0iWwzUGsMNjgaV', '6cRsRBzSaGwfnMMqNSjtFY', '3X3p3u03P8eFL8WTH0oaaU', '66iKqUazBbTlAEjcZrpDkD', '1YQWosTIljIvxAgHWTp7KP', '2kHsFZZipGAI168yh21B0p', '4ZAcQgIlpV5z7k7evEF0MJ', '0qxiaagtTvTeNvzxHHc441', '05aZ2boQ1yuAD4p4HyORbK', '0IxLWzmafWC5VTnpnvykJq', '2eUzG1r6YcEXQeiiFWyaaV', '2gG3ivmsfylVXLyIJvLXyN', '3QxZooLdeJBAf0x405DDI7', '7DUGRxCf9NFJffb5Eei8Ar', '489alJQIWUauqzKTMuXRjm', '5p95DUZplmVxY0XCQ3hxUV', '3PJMsxg6rz9FOo6xNiASXz', '0xZlk9LU0mS1ACYOupmpVp', '1dZHIbmuBDAwXfQOM4dyM3', '08rTZ8jNknn8VBS3v2o8pT', '72PqmnVj86bfTnkFiQ9Mx9', '4LSplRZj1Xk5JUCARpUV8j', '6MN6yRVriszuyAVlyF8ndB', '2wHIDNvfYyZWPpMqX3fDE4', '0sCeNwt8xRCMR4NhKpMyBe', '1BKp2En4K35hf0KQ8oPAlZ', '2JITVZu8o6ls9k8SoMRy7w', '3QuSHJUfvuOyeKMS32Wckj', '0Xfq6BeOHdzf16gk9y8a1P', '58ylMBq2yqYdHyevarkNWa', '7ysmJhXFQtiBQlk6EZ6sks', '38xcUjiTP1ivfb7ObwjyGA', '0T1EaGm6b9eM7xBf4F1hlc', '28cnXtME493VX9NOw9cIUh', '07KYRDFf8Q6sqj4PWCP9vh', '3X7H1FAiWAW937WvsFeMhe', '2EvddT8rcO99bKH0rDHAYG', '4e4fqjx0Izh4svvTef1z7e', '0kPeZAyIhIfeZNrtfjJGDB', '6apPqjW8ezpKEicAkkBlvO', '2Fs18NaCDuluPG1DHGw1XG', '0LQtEJt7x0s6knb6RKdRYc', '1TKPfF2fvn6gVLVfp3iG4j', '0uRrG2jRR5tuifsYIJHEao', '2Dct3GykKZ58hpWRFfe2Qd', '16MVSD0mGI4RMQT83Qzm69', '1yTTMcUhL7rtz08Dsgb7Qb', '0ysCB1Jg4hli0XlEWlipo7', '0ZUo4YjG4saFnEJhdWp9Bt', '6IBcOGPsniK3Pso1wHIhew', '4hPpVbbakQNv8YTHYaOJP4', '7GAaTpSoTWUTbP2Yxlt4Hd', '59kHPbwyyCApYA8RQQEuXm', '2yBWKK84uebv35lGajIMhc', '1KhrAWvLIjRlQIJtSTgvsi', '6H7nDglS6xWpRidbhMwI2L', '7kv7zBjMtVf0eIJle2VZxn', '4GyD3o5hWoyCuYpdlzZlRL', '4FUfoWMypAyWbOavmYyeNu', '4u26EevCNXMhlvE1xFBJwX', '4j5ffIFh7bFT7GZciP1TCy', '0TjPmXpkn1y0qoxElssQMd', '4xInIiKipU1mtUogJ3ZdYr', '68JS5SFTnW5Yv9Vzw81Jf0', '4ejNoyrhgjrioqJbgTNPu3', '0HCFZGK3c1TQorbyPHcj1l', '4aGG4VOWGv9RwlYQNsBrkE', '30VHURM5NOfoZmqp2iKawS', '4NbVF82bdlZgZkiWOTAKdS', '6c9mvipi1OooFPcU2dbwxq', '2rxQMGVafnNaRaXlRMWPde', '4ly1QBXEwYoDmje9rmEgC4', '0De9jFjJ4eRLl7Yww2eBw1', '3cqWSJzuxZCsglpaxWtosT', '3iYEsBl8NBq1o1j5uY2Noe', '4w3tQBXhn5345eUXDGBWZG', '4CkgMiMqZ5JzW9iYXSTMTL', '79qxwHypONUt3AFq0WPpT9', '6oo0HD3mrcYtzApYeYsS4L', '6iblnklMzUKIXAtjk5lzIy', '064SVQsmWl5EF0zahmzkQk', '0AQquaENerGps8BQmbPw14', '3oV2RVOmwdWdf9BmGS4Oad', '4LRPiXqCikLlN15c3yImP7', '0E4Y1XIbs8GrAT1YqVy6dq', '4fouWK6XVHhzl78KzQ1UjL', '5lkpeJwmQKgY3bX2zChjxX', '7DFNE7NO0raLIUbgzY2rzm', '5g7sDjBhZ4I3gcFIpkrLuI', '4bJygwUKrRgq1stlNXcgMg', '5nujrmhLynf4yMoMtj8AQF', '6YUTL4dYpB9xZO5qExPf05', '5QO79kh1waicV47BqGRL3g', '3AJwUDP919kvQ9QcozQPxg', '3fVnlF4pGqWI9flVENcT28', '6I3mqTwhRpn34SLVafSH7G', '6HU7h9RYOaPRFeh0R3UeAr', '6JIC3hbC28JZKZ8AlAqX8h', '1dzQoRqT5ucxXVaAhTcT0J', '7pYfyrMNPn3wtoCyqcTVoI', '58HvfVOeJY7lUuCqF0m3ly', '4ZtFanR9U6ndgddUvNcjcG', '2gam98EZKrF9XuOkU13ApN', '6IAZHEBUIGJ6NJKxxOBIEr', '360Wr96ywrCQq4kTAJ8Pq6', '60ynsPSSKe6O3sfwRnIBRf', '3C0nOe05EIt1390bVABLyN', '02dRkCEc8Q5ch4TTcnLxOn', '0nrRP2bk19rLc0orkWPQk2', '6UelLqGlWMcVH1E5c4H7lY', '1c1sdxrYLIiuJOlE7PPttb', '5PjdY0CKGZdEuoNab3yDmX', '5CZ40GBx1sQ9agT82CLQCT', '6SKwQghsR8AISlxhcwyA9R', '3rmo8F54jFF8OgYsqTxm5d', '25ZttbpeUKDOm3aghD2oBJ', '3dYD57lRAUcMHufyqn9GcI', '0UKUfxIkDAMZz7hMdiVX3m', '1oHNvJVbFkexQc0BpQp7Y4', '50kpGaPAhYJ3sGmk6vplg0', '2VxeLyX666F8uXCJ0dZF8B', '3cHyrEgdyYRjgJKSOiOtcS', '5Ohxk2dO5COHF1krpoPigN', '6I9VzXrHxO9rA9A5euc8Ak', '3DarAbFujv6eYNliUTyqtz', '0e8nrvls4Qqv5Rfa2UhqmO', '7vGuf3Y35N4wmASOKLUVVU', '5wANPM4fQCJwkGd4rN57mH', '0zqBZqm5czQ3A4EoSdKFHj', '0B7wvvmu9EISAwZnOpjhNI', '1HhNoOuqm1a5MXYEgAFl8o', '0VO8gYVDSwM1Qdd2GsMoYK', '5O2P9iiztwhomNh8xkR9lJ', '4DMKwE2E2iYDKY01C335Uw', '1QEEqeFIZktqIpPI4jSVSF', '5QTxFnGygVM4jFQiBovmRo', '05GhiSRMv34B1N6BsixbmL', '2V0yBHMWB8GoMm80AXH4ot', '7GqWnsKhMtEW0nzki5o0d8', '1EID0aupOLdv4ZDQu2Jbrz', '790YJcgHlN3SaosQCHlWzn', '7tFiyTwD0nx5a1eklYtX2J', '6cFZ4PLC19taNlpl9pbGMf', '54flyrjcdnQdco7300avMJ', '7ccI9cStQbQdystvc6TvxD', '4igIYHF3B5VBxEafHauVo3', '7hQJA50XrCWABAu5v6QZ4i', '57JVGBtBLCfHw2muk5416J', '35ItUJlMtjOQW3SSiTCrrw', '11IzgLRXV7Cgek3tEgGgjw', '2htmMitogin6NMGABye6YG', '59CsbfwLNCAUGbBQV3Tki4', '78lgmZwycJ3nzsdgmPPGNx', '4PRGxHpCpF2yoOHYKQIEwD', '5CQ30WqJwcep0pYcV4AMNc', '3BGwxsmbbOe2jmZfh5CUAO', '24NwBd5vZ2CK8VOQVnqdxr', '5SZ6zX4rOrEQferfFC2MfP', '4iihDHIoKZdOeOW1kFDUtR', '0c1gHntWjKD7QShC8s99sq', '5MxNLUsfh7uzROypsoO5qe', '3ZqnF9T5vtvIPqHmloNb0o', '0ZGLuduCPjgWY1n85ykgMe', '64yPXtpdrGRsFKc06nb39l', '5svBTKTKa8S8jaZqV3XZgv', '0sjPYRacvarCBduZaKdbJW', '7K2e29mEjxVx4Dwbiqtrji', '0nHfNZYzI3cXMgc4pN4kRi', '5voO100jVn9PK4NUETgM8W', '4u9f8hqstB7iITDJNzKhQx', '5wzYIbYrLZ3OiLCUyYISc2', '5zOoNBMAXnU0EAPZDDAqFl', '02DurCgOvDdX0uKEjqcl3W', '0LN5gIsS5tQSmRzQrHSaTR', '6FRwDxXsvSasw0y2eDArsz', '2kkvB3RNRzwjFdGhaUA0tz', '3Xls4cNOwy01dtrNXb1inG', '40riOy7x9W7GXjyGp4pjAv', '7BY005dacJkbO6EPiOh2wb', '5SAUIWdZ04OxYfJFDchC7S', '4gVTozEmzwAUXpwj3jEetX', '5s8IEEjgCTrujK3aUalvfF', '1JtH2MUufNfhV6350BC1Wp', '6cr6UDpkjEaMQ80OjWqEBQ', '4yqtwO7MQIIXqoiRBPHAgR', '0wJoRiX5K5BxlqZTolB2LD', '6ToM0uwxtPKo9CMpbPGYvM', '6weAJYgtmoJeRObdOHxqxi', '3IOQZRcEkplCXg6LofKqE9', '3Jl5GohfNwozDmpzmQBLDI', '2b9lp5A6CqSzwOrBfAFhof', '5X0bLSho0KTiSQYCI0IOcl', '3TgfrEgwR6yUPpjq20xozv', '31xggSg8hkeLhYYvvJPOjw', '0YJZuKyU7vWbxwkrMBQLqA', '34gDEAcnon6oeRMiEXm8jx', '772K2oHttS2C7zTCfL9mHC', '3RnYLgMnh9WOWfB2k0UQUB', '0J6mQxEZnlRt9ymzFntA6z', '3KYiA4vq6RPO1dE2XROXd8', '2fY6tqgrlrg1ky9fgs0t5u', '6BHtTBtKb4BppT3ykEl8GZ', '7nemcVsXVFZF01iqpIIo2Y', '7LRMbd3LEoV5wZJvXT1Lwb', '4wYq5wugZDzQiMZQYG4wVB', '753KutoAy00apPsplMRetG', '2zYzyRzz6pRmhPzyfMEC8s', '7w04gIWA7mIbqR03Ghyrkl', '08mG3Y1vljYA6bvDt4Wqkj', '69QHm3pustz01CJRwdo20z', '2SiXAy7TuUkycRVbbWDEpo', '17lu4tymfnhmcIDlzBbtAb', '5ahPl557niKxia8Kquw1yh', '3zR16RvuoDiglmh4iTacvN', '4NQJn1aSV9r6UmYErgzS4s', '57bgtoPSgt236HzfBOd8kj', '3Axmw41lmMoXih3NJYzbXb', '6qBsycveOWdiWnjJT9gzN8', '23aT0N006BZf43hZYTKoaz', '7riTER54Xy8xAila5pBfZM', '3Ld1v9sHJchem4iXIn3CNO', '0L7zm6afBEtrNKo6C6Gj08', '0MU1TyyAbuoXLGiQBgW9CI', '0rNlVZUc3L9o9q5YgbOiH3', '3kubJ2b1Rad7NXZtnZAZmO', '55cd3NlqktNjhAZcPvaUvk', '0VFfZVCFNe1I2IIChVBR5m', '2RaA6kIcvomt77qlIgGhCT', '0IXpUl1fn2QZcBavfuq0H4', '7vix78VAZBiWLLHPoTnYdy', '2Z17Q91PB11tzkDh0QQtd6', '1EwGeoBQltKO1rYry1493Y', '5KOHd90fkcnS37GkBUjsdW', '6wNF6hphTxhUiAmQG3uzbf', '4sAjWbPq6iSI6I0Ovr9CkY', '1QklCxKx0feqQOIiPOzDEl', '5zk6Pr95UfgJEtlhE1Dk0N', '1aKupds8s3qgeIO0eDIP5W', '6KH4jlQVhFzhFXVPfYHQnQ', '0MXXUmFl0OEKd6xRbj0fGP', '5dtdDxI45qW6GRr2YyC0mX', '58XWGx7KNNkKneHdprcprX', '15RpfmFhrE5RRkf4vZ6kZu', '2tAeN2TKlQLOoSPXtARzBV', '0SFS1LxNP5wgnoDA7nGKQu', '2KH16WveTQWT6KOG9Rg6e2', '4ECNtOnqzxutZkXP4TE3n3', '4bHsxqR3GMrXTxEPLuK5ue', '5BIMPccDwShpXq784RJlJp', '7KA66zSwthBv5X9bNQEeX1', '7LygtNjQ65PSdzVjUnHXQb', '4MhTFsyqIJnjsOweVcU8ug', '5NIPsWpDjJTFBoPxCUUeXp', '5Q41NLTmGbVPozwHKK7bk2', '5j6WdDC183izbbjedKsSAe', '71SvEDmsOwIWw1IozsZoMA', '0t7ttzoe3dV0mah4lBI2kx', '2PzU4IB8Dr6mxV3lHuaG34', '3MrRksHupTVEQ7YbA0FsZK', '6s0NHplywwr1IjnQpUpWJk', '6HjE9DWhhPLSlmIMEyZzRc', '3aoDEt6zSuYQ47gzarlaVo', '2gCf9PqIvpKbxwfJMBWwbn', '4nla8cAvm6AQFnNou9WiR1', '4F1esmkLF97197hL1Ty8bx']\n"
          ]
        }
      ],
      "source": [
        "all_bad_ids = []\n",
        "for bad_playlist_id in bad_playlist_ids:\n",
        "  bad_playlist = sp.user_playlist(username, bad_playlist_id)\n",
        "  bad_tracks = bad_playlist[\"tracks\"]\n",
        "  bad_songs = bad_tracks[\"items\"]\n",
        "\n",
        "  while bad_tracks['next']:\n",
        "      bad_tracks = sp.next(bad_tracks)\n",
        "      for item in bad_tracks[\"items\"]:\n",
        "          bad_songs.append(item)\n",
        "\n",
        "  bad_ids = []\n",
        "  for i in range(len(bad_songs)):\n",
        "      bad_ids.append(bad_songs[i]['track']['id'])\n",
        "  print(len(bad_ids))\n",
        "  all_bad_ids += bad_ids\n",
        "print(\"\")\n",
        "print(len(all_bad_ids))\n",
        "print(all_bad_ids)"
      ]
    },
    {
      "cell_type": "code",
      "execution_count": 13,
      "metadata": {
        "colab": {
          "base_uri": "https://localhost:8080/"
        },
        "id": "22yVFnRptZTM",
        "outputId": "3a3f76fe-0985-423a-fdf7-dfdc9bcc0202"
      },
      "outputs": [
        {
          "name": "stdout",
          "output_type": "stream",
          "text": [
            "146\n",
            "['0ipgd8PPFza3NNmN3Rn2uF', '0L85ulFcACgbFRdIXJkoZy', '2ZlgqiomIrjvkuWFDSVOLY', '658qcSLPvoU4IZJhjxPHRo', '3U3Oh7QDHUjRgLX9e0bniB', '6CplRWasnvBmi33sFv6xYn', '5JwK7v6XhG0YgqDuCgzOy8', '5Bkw0lMhwk8tF4kMgCCJLv', '7bflxkOfkG69y26oyP70W3', '3KdoeNlEN0BoAKWzaRLNZa', '23oxJmDc1V9uLUSmN2LIvx', '1HNE2PX70ztbEl6MLxrpNL', '5FG7Tl93LdH117jEKYl3Cm', '5OQsiBsky2k2kDKy2bX2eT', '6QewNVIDKdSl8Y3ycuHIei', '4o0LyB69tylqDG6eTGhmig', '3Pzh926pXggbMe2ZpXyMV7', '2GIe4LtZZG82p4jrmVy2cJ', '7mCQK9YB25WZw1saUjfL4e', '6OGogr19zPTM4BALXuMQpF', '4ACxa9buEUnOdYEoPcnMpi', '0p2tzBrHAB2xLzcZvkrUdc', '4xlpJ99yL9xYQtzG6c3hwk', '6txWz9UapYHVxEd7dDIHXT', '1C4UvUowRdsJKvyWLnn9PK', '6ubPFMzlIg73d1jzzWcC8B', '1sxUaLi0G2vB7dl4ogtCxH', '7bjNmIrstK9rUA5oYzabv8', '7cz70nyRXlCJOE85whEkgU', '7wc7uopM5GO8dKBOJ7iWqh', '42GQcljXZyP8nZquRDwVt9', '7Bpx2vsWfQFBACRz4h3IqH', '4yhE1n4xco029io48mtLCv', '4JJcP0Rv9AgyPD6ZGaC8EE', '34D6FJysnQioVingDKufuf', '5u6vkDnOyaf8LsteDAj2ub', '1wRSOWVqpLIrMCo4vevEef', '5xT8JXJSyHYNfC11OFqzFL', '6q4aoWgTQ8td2AvqQXuFqm', '3O7wLnOCqJTLxE07ADcSlo', '3zpGIFghtnVlwMXWyKW474', '6vVftwBiIaM9xDVZhSwTCJ', '46fk9wjYcPm0sgym2b7EEE', '2Qk8dVhZgVpAftReOcXM2I', '3dh2LlmeMqKJbzn2WUgt3d', '3ItzRpwvKtkDSNdRSjXu7Z', '5HsJGA8P5fPzR06i9FQKBr', '6RZmhpvukfyeSURhf4kZ0d', '2zWtoPb6Xy3xZQ7o3ImBri', '3awBLJoDSXa3TjQeDNhGlq', '61wUA5kA0F88dsakAPSjPg', '1h1CX2ovWU4EJV3ZwlGf2B', '2KD4n8bpJJMp5AKEy0JvZG', '4v50THJgMM8eBDEw7HQ3Ij', '30k138Im9nmWZwJD00pFow', '1cQlcn0ffgwbUKAe7FxxmC', '7GOWALXAX9YVwJyYxrpVd2', '5ARrtxJLVCeTv5TWo1oKgC', '545g4jlvOqZo1sj6k1f9j9', '0X5C4WjQNubRysTkHOubz3', '0brBOx8ejPXvBYnQkWquYK', '5ug2bpyUHVOR7Y3TUPH3J7', '239RFmkTfBL2VmExbgkuBm', '5dmPNuHmRRJuHmJTDa7NuJ', '6aFxp3szJUOyI8MSDBKbFB', '63OC8cNa4ZnFB3bbvbWCOc', '4949EepUpFVoyfi7vMq1f3', '5xG01jQ4BCxsatRCRTssWO', '2jw7rDos3bc6xtgx9ALjCs', '4gvea7UlDkAvsJBPZAd4oB', '2g8HN35AnVGIk7B8yMucww', '0PldjOTKRt45S9MrLnlwVM', '0a4ZGSRZOgspQy2HYzU82l', '6xMHglHoafdDFGXS6qfwSH', '7HKxTNVlkHsfMLhigmhC0I', '43LjRHyyetSWnPpW7CWThG', '5YScXJKtefsgdskIy60N7A', '0sKlV58cODrjxGFOyf9IXY', '7klz88sOMuFmVjfJSf2QDb', '41DB59gjQcplKWlQPI89lt', '6dUeoDzQ3kENDYo6F1nj6E', '1aFP0G0GHQAAH9gfC95wT1', '1NvMdqluLEFt93Qqq60CBC', '2I2oQwW0HzlBNxFAo7j6C8', '7nm6DlSzzJTH1rk2e6EgJz', '0ZdALxNt3mWQoRGTWC3Z3V', '1eaTrBr0DNKGJzmhQsIbG0', '7fPUzdTdRD8xIJUOq0uX6n', '2ouFrmMwYik8nQX2n9SeZu', '5bB4eyM0bd4i5YIB3SyfBF', '58olJWloaSPj0AzvMsEB0f', '6tQQYvGkmpjWLVmJKc0Rpr', '7gGOZlpGzkfRIIt4iEJ6gY', '2cfhFcqpEoM65MNc5cVZse', '1NFNa1nGPnwdmcHO5XQ7Ui', '2UvMgTm9y3lStOyQE2yxKA', '07FZOq9SUuITVCNE0oTm1k', '7HoWiIdwg7A2vomrmGmW6N', '7MOfd4p6F95lVrNYjZ1jKp', '6Q38XO45oFOXXNkrCgFxgH', '3YW6aFxrkTMSWw6en3E4o6', '0wokCRaKD0zPNhMRXAgVsr', '7EHmKkyAr6MZv5Y2FdZbXw', '2TctyZ6BMrifNwN3iL7DFJ', '28eg5bkYvIHT7HPmzZFwLN', '6lI4JjlAx8SPm6N79ETaDU', '1VKXBgsRK7lWDSVbfANlf3', '3XXrgXegRLPSJMj54bMrNT', '0xMEF2WiqKWTIG7Krjungw', '3LbZIhU0smEU5SUnxod4j4', '4WugVoKEajXnwN3JjqmUdC', '4FR9OKDQUI1CeHSBwGjOn0', '5gys5nzVQIYhgHIfiOJYva', '7j74lucZ59vqN67Ipe2ZcY', '0ZYf6N5eBeXStMri0mf3DZ', '3N7jSaAgvGc12t9ds3cy0w', '2qOm7ukLyHUXWyR4ZWLwxA', '3GfOAdcoc3X5GPiiXmpBjK', '3dvynJHFt37j6R8CIIEZh5', '7JPCmcpoksjaGssvqua0Sl', '17kyc3Zt4WlmBu99DArFdT', '0BJU4rYOfj43xHw6gvTIwE', '2gc5CL6GnAZ5IlHiBsoDR6', '5lWRaa0fBxDE5yU91npPq7', '4rPkN1FMzQyFNP9cLUGIIB', '0BJU4rYOfj43xHw6gvTIwE', '6zSpb8dQRaw0M1dK8PBwQz', '3ibAzRj9JnowdoLkyllk3n', '1EFjbeFr7WhVhN7eoTOgR2', '4JGKZS7h4Qa16gOU3oNETV', '2fdfsGuqb6SBX5ocoBWHUd', '1qwMkkRiD5jqLeUUjfgblh', '7M54dxUoajr92rRyEDTJqj', '7FIWs0pqAYbP91WWM0vlTQ', '6Jc69KjFo9QNailcyDJh2I', '7Eh9gJVa2B0uCb4SVEqDwG', '63VzPkoz5BzivuDW7kK5fq', '2AYEOC02WLhUiOoaig2SEH', '6Dt6bZ7QoJAQWmCpZZ1GTb', '2iQrO375Rb4SSVmtqd8yTW', '06nKF46jG8p1zwyP4ziAyG', '2G3l5uYzMqVAgEjcF8XtRj', '2FHdkquBesDIZZ0IcVYaFc', '2cOCunrzyHVpTrTwSIKRbt', '7jYDnZbPuStlOxYV086moY', '2dzBQyI2fettAzCDN8w5ZE']\n"
          ]
        }
      ],
      "source": [
        "source_playlist = sp.user_playlist(username, source_playlist_id)\n",
        "source_tracks = source_playlist[\"tracks\"]\n",
        "source_songs = source_tracks[\"items\"]\n",
        "\n",
        "while source_tracks['next']:\n",
        "    source_tracks = sp.next(source_tracks)\n",
        "    for item in source_tracks[\"items\"]:\n",
        "        source_songs.append(item)\n",
        "\n",
        "source_ids = []\n",
        "for i in range(len(source_songs)):\n",
        "    if source_songs[i]['track'] != None:\n",
        "      source_ids.append(source_songs[i]['track']['id'])\n",
        "print(len(source_ids))\n",
        "print(source_ids)"
      ]
    },
    {
      "cell_type": "code",
      "execution_count": 16,
      "metadata": {
        "colab": {
          "base_uri": "https://localhost:8080/"
        },
        "id": "N7VQZzZ8jJ9D",
        "outputId": "f909629f-4efb-4451-af73-24ee9cf85f27"
      },
      "outputs": [
        {
          "name": "stdout",
          "output_type": "stream",
          "text": [
            "1099\n",
            "{'danceability': 0.849, 'energy': 0.424, 'key': 5, 'loudness': -9.579, 'mode': 0, 'speechiness': 0.324, 'acousticness': 0.0635, 'instrumentalness': 0, 'liveness': 0.0834, 'valence': 0.153, 'tempo': 145.887, 'type': 'audio_features', 'id': '2BcMwX1MPV6ZHP4tUT9uq6', 'uri': 'spotify:track:2BcMwX1MPV6ZHP4tUT9uq6', 'track_href': 'https://api.spotify.com/v1/tracks/2BcMwX1MPV6ZHP4tUT9uq6', 'analysis_url': 'https://api.spotify.com/v1/audio-analysis/2BcMwX1MPV6ZHP4tUT9uq6', 'duration_ms': 242966, 'time_signature': 4, 'target': 1}\n"
          ]
        }
      ],
      "source": [
        "training_features = []\n",
        "\n",
        "for i in range(0, len(all_good_ids), 50):\n",
        "  audio_features = sp.audio_features(all_good_ids[i : i + 50])\n",
        "  for track in audio_features:\n",
        "    if track != None:\n",
        "\n",
        "      track['target'] = 1\n",
        "      training_features.append(track)\n",
        "      # training_features[-1]['target'] = 1\n",
        "\n",
        "for i in range(0, len(all_bad_ids), 50):\n",
        "  audio_features = sp.audio_features(all_bad_ids[i : i + 50])\n",
        "  for track in audio_features:\n",
        "    if track != None:\n",
        "      track['target'] = 0\n",
        "      training_features.append(track)\n",
        "      # training_features[-1]['target'] = 0\n",
        "\n",
        "print(len(training_features))\n",
        "print(training_features[0])"
      ]
    },
    {
      "cell_type": "code",
      "execution_count": 17,
      "metadata": {
        "colab": {
          "base_uri": "https://localhost:8080/"
        },
        "id": "Qfv8qNtJt1bR",
        "outputId": "2c314cc8-f258-469c-f4f6-4e00f56b4473"
      },
      "outputs": [
        {
          "name": "stdout",
          "output_type": "stream",
          "text": [
            "146\n",
            "{'danceability': 0.816, 'energy': 0.754, 'key': 2, 'loudness': -5.922, 'mode': 1, 'speechiness': 0.152, 'acousticness': 0.163, 'instrumentalness': 0.00199, 'liveness': 0.105, 'valence': 0.704, 'tempo': 92.023, 'type': 'audio_features', 'id': '0ipgd8PPFza3NNmN3Rn2uF', 'uri': 'spotify:track:0ipgd8PPFza3NNmN3Rn2uF', 'track_href': 'https://api.spotify.com/v1/tracks/0ipgd8PPFza3NNmN3Rn2uF', 'analysis_url': 'https://api.spotify.com/v1/audio-analysis/0ipgd8PPFza3NNmN3Rn2uF', 'duration_ms': 125217, 'time_signature': 4, 'target': 0}\n"
          ]
        }
      ],
      "source": [
        "source_features = []\n",
        "for i in range(0, len(source_ids), 50):\n",
        "    audio_features = sp.audio_features(source_ids[i : i + 50])\n",
        "    for track in audio_features:\n",
        "        track['target'] = 0\n",
        "        source_features.append(track)\n",
        "        # source_features[-1]['target'] = 0  # arbitrary\n",
        "\n",
        "print(len(source_features))\n",
        "print(source_features[0])"
      ]
    },
    {
      "cell_type": "markdown",
      "metadata": {
        "id": "0dLN8eo3uiQV"
      },
      "source": [
        "## Data Preparation"
      ]
    },
    {
      "cell_type": "code",
      "execution_count": null,
      "metadata": {
        "id": "mXJC5u2EkvBx"
      },
      "outputs": [],
      "source": [
        "trainingData = pd.DataFrame(training_features)"
      ]
    },
    {
      "cell_type": "code",
      "execution_count": null,
      "metadata": {
        "colab": {
          "base_uri": "https://localhost:8080/",
          "height": 617
        },
        "id": "Y5mJO335pN6t",
        "outputId": "f2b427c0-4361-4d46-a10b-d5e7cd700d42"
      },
      "outputs": [
        {
          "data": {
            "text/html": [
              "<div>\n",
              "<style scoped>\n",
              "    .dataframe tbody tr th:only-of-type {\n",
              "        vertical-align: middle;\n",
              "    }\n",
              "\n",
              "    .dataframe tbody tr th {\n",
              "        vertical-align: top;\n",
              "    }\n",
              "\n",
              "    .dataframe thead th {\n",
              "        text-align: right;\n",
              "    }\n",
              "</style>\n",
              "<table border=\"1\" class=\"dataframe\">\n",
              "  <thead>\n",
              "    <tr style=\"text-align: right;\">\n",
              "      <th></th>\n",
              "      <th>danceability</th>\n",
              "      <th>energy</th>\n",
              "      <th>key</th>\n",
              "      <th>loudness</th>\n",
              "      <th>mode</th>\n",
              "      <th>speechiness</th>\n",
              "      <th>acousticness</th>\n",
              "      <th>instrumentalness</th>\n",
              "      <th>liveness</th>\n",
              "      <th>valence</th>\n",
              "      <th>tempo</th>\n",
              "      <th>type</th>\n",
              "      <th>id</th>\n",
              "      <th>uri</th>\n",
              "      <th>track_href</th>\n",
              "      <th>analysis_url</th>\n",
              "      <th>duration_ms</th>\n",
              "      <th>time_signature</th>\n",
              "      <th>target</th>\n",
              "    </tr>\n",
              "  </thead>\n",
              "  <tbody>\n",
              "    <tr>\n",
              "      <th>0</th>\n",
              "      <td>0.761</td>\n",
              "      <td>0.518</td>\n",
              "      <td>0</td>\n",
              "      <td>-8.871</td>\n",
              "      <td>1</td>\n",
              "      <td>0.1340</td>\n",
              "      <td>0.24400</td>\n",
              "      <td>0.000035</td>\n",
              "      <td>0.107</td>\n",
              "      <td>0.522</td>\n",
              "      <td>133.976</td>\n",
              "      <td>audio_features</td>\n",
              "      <td>2SAqBLGA283SUiwJ3xOUVI</td>\n",
              "      <td>spotify:track:2SAqBLGA283SUiwJ3xOUVI</td>\n",
              "      <td>https://api.spotify.com/v1/tracks/2SAqBLGA283S...</td>\n",
              "      <td>https://api.spotify.com/v1/audio-analysis/2SAq...</td>\n",
              "      <td>261493</td>\n",
              "      <td>4</td>\n",
              "      <td>1</td>\n",
              "    </tr>\n",
              "    <tr>\n",
              "      <th>1</th>\n",
              "      <td>0.643</td>\n",
              "      <td>0.403</td>\n",
              "      <td>1</td>\n",
              "      <td>-11.254</td>\n",
              "      <td>0</td>\n",
              "      <td>0.4100</td>\n",
              "      <td>0.34300</td>\n",
              "      <td>0.000000</td>\n",
              "      <td>0.138</td>\n",
              "      <td>0.111</td>\n",
              "      <td>98.540</td>\n",
              "      <td>audio_features</td>\n",
              "      <td>1fxYz1s15pyZLsJT0Hdh1m</td>\n",
              "      <td>spotify:track:1fxYz1s15pyZLsJT0Hdh1m</td>\n",
              "      <td>https://api.spotify.com/v1/tracks/1fxYz1s15pyZ...</td>\n",
              "      <td>https://api.spotify.com/v1/audio-analysis/1fxY...</td>\n",
              "      <td>174682</td>\n",
              "      <td>4</td>\n",
              "      <td>1</td>\n",
              "    </tr>\n",
              "    <tr>\n",
              "      <th>2</th>\n",
              "      <td>0.829</td>\n",
              "      <td>0.512</td>\n",
              "      <td>6</td>\n",
              "      <td>-5.865</td>\n",
              "      <td>0</td>\n",
              "      <td>0.1870</td>\n",
              "      <td>0.49200</td>\n",
              "      <td>0.000000</td>\n",
              "      <td>0.120</td>\n",
              "      <td>0.638</td>\n",
              "      <td>80.511</td>\n",
              "      <td>audio_features</td>\n",
              "      <td>4XvcHTUfIlWfyJTRG0aqlo</td>\n",
              "      <td>spotify:track:4XvcHTUfIlWfyJTRG0aqlo</td>\n",
              "      <td>https://api.spotify.com/v1/tracks/4XvcHTUfIlWf...</td>\n",
              "      <td>https://api.spotify.com/v1/audio-analysis/4Xvc...</td>\n",
              "      <td>123987</td>\n",
              "      <td>4</td>\n",
              "      <td>1</td>\n",
              "    </tr>\n",
              "    <tr>\n",
              "      <th>3</th>\n",
              "      <td>0.904</td>\n",
              "      <td>0.723</td>\n",
              "      <td>11</td>\n",
              "      <td>-5.224</td>\n",
              "      <td>0</td>\n",
              "      <td>0.2600</td>\n",
              "      <td>0.06310</td>\n",
              "      <td>0.000000</td>\n",
              "      <td>0.185</td>\n",
              "      <td>0.835</td>\n",
              "      <td>145.013</td>\n",
              "      <td>audio_features</td>\n",
              "      <td>2MbdDtCv5LUVjYy9RuGTgC</td>\n",
              "      <td>spotify:track:2MbdDtCv5LUVjYy9RuGTgC</td>\n",
              "      <td>https://api.spotify.com/v1/tracks/2MbdDtCv5LUV...</td>\n",
              "      <td>https://api.spotify.com/v1/audio-analysis/2Mbd...</td>\n",
              "      <td>227478</td>\n",
              "      <td>4</td>\n",
              "      <td>1</td>\n",
              "    </tr>\n",
              "    <tr>\n",
              "      <th>4</th>\n",
              "      <td>0.782</td>\n",
              "      <td>0.510</td>\n",
              "      <td>4</td>\n",
              "      <td>-5.724</td>\n",
              "      <td>0</td>\n",
              "      <td>0.0419</td>\n",
              "      <td>0.14300</td>\n",
              "      <td>0.000000</td>\n",
              "      <td>0.115</td>\n",
              "      <td>0.118</td>\n",
              "      <td>99.993</td>\n",
              "      <td>audio_features</td>\n",
              "      <td>5IUtvfNvOyVYZUa6AJFrnP</td>\n",
              "      <td>spotify:track:5IUtvfNvOyVYZUa6AJFrnP</td>\n",
              "      <td>https://api.spotify.com/v1/tracks/5IUtvfNvOyVY...</td>\n",
              "      <td>https://api.spotify.com/v1/audio-analysis/5IUt...</td>\n",
              "      <td>143375</td>\n",
              "      <td>4</td>\n",
              "      <td>1</td>\n",
              "    </tr>\n",
              "    <tr>\n",
              "      <th>...</th>\n",
              "      <td>...</td>\n",
              "      <td>...</td>\n",
              "      <td>...</td>\n",
              "      <td>...</td>\n",
              "      <td>...</td>\n",
              "      <td>...</td>\n",
              "      <td>...</td>\n",
              "      <td>...</td>\n",
              "      <td>...</td>\n",
              "      <td>...</td>\n",
              "      <td>...</td>\n",
              "      <td>...</td>\n",
              "      <td>...</td>\n",
              "      <td>...</td>\n",
              "      <td>...</td>\n",
              "      <td>...</td>\n",
              "      <td>...</td>\n",
              "      <td>...</td>\n",
              "      <td>...</td>\n",
              "    </tr>\n",
              "    <tr>\n",
              "      <th>1068</th>\n",
              "      <td>0.547</td>\n",
              "      <td>0.987</td>\n",
              "      <td>8</td>\n",
              "      <td>-3.146</td>\n",
              "      <td>1</td>\n",
              "      <td>0.0839</td>\n",
              "      <td>0.00191</td>\n",
              "      <td>0.006190</td>\n",
              "      <td>0.322</td>\n",
              "      <td>0.901</td>\n",
              "      <td>79.976</td>\n",
              "      <td>audio_features</td>\n",
              "      <td>6HjE9DWhhPLSlmIMEyZzRc</td>\n",
              "      <td>spotify:track:6HjE9DWhhPLSlmIMEyZzRc</td>\n",
              "      <td>https://api.spotify.com/v1/tracks/6HjE9DWhhPLS...</td>\n",
              "      <td>https://api.spotify.com/v1/audio-analysis/6HjE...</td>\n",
              "      <td>178627</td>\n",
              "      <td>4</td>\n",
              "      <td>0</td>\n",
              "    </tr>\n",
              "    <tr>\n",
              "      <th>1069</th>\n",
              "      <td>0.469</td>\n",
              "      <td>0.537</td>\n",
              "      <td>9</td>\n",
              "      <td>-10.421</td>\n",
              "      <td>1</td>\n",
              "      <td>0.1520</td>\n",
              "      <td>0.02410</td>\n",
              "      <td>0.002010</td>\n",
              "      <td>0.269</td>\n",
              "      <td>0.783</td>\n",
              "      <td>124.193</td>\n",
              "      <td>audio_features</td>\n",
              "      <td>3aoDEt6zSuYQ47gzarlaVo</td>\n",
              "      <td>spotify:track:3aoDEt6zSuYQ47gzarlaVo</td>\n",
              "      <td>https://api.spotify.com/v1/tracks/3aoDEt6zSuYQ...</td>\n",
              "      <td>https://api.spotify.com/v1/audio-analysis/3aoD...</td>\n",
              "      <td>382834</td>\n",
              "      <td>1</td>\n",
              "      <td>0</td>\n",
              "    </tr>\n",
              "    <tr>\n",
              "      <th>1070</th>\n",
              "      <td>0.322</td>\n",
              "      <td>0.265</td>\n",
              "      <td>2</td>\n",
              "      <td>-13.398</td>\n",
              "      <td>1</td>\n",
              "      <td>0.0302</td>\n",
              "      <td>0.07260</td>\n",
              "      <td>0.340000</td>\n",
              "      <td>0.366</td>\n",
              "      <td>0.207</td>\n",
              "      <td>133.577</td>\n",
              "      <td>audio_features</td>\n",
              "      <td>2gCf9PqIvpKbxwfJMBWwbn</td>\n",
              "      <td>spotify:track:2gCf9PqIvpKbxwfJMBWwbn</td>\n",
              "      <td>https://api.spotify.com/v1/tracks/2gCf9PqIvpKb...</td>\n",
              "      <td>https://api.spotify.com/v1/audio-analysis/2gCf...</td>\n",
              "      <td>226667</td>\n",
              "      <td>4</td>\n",
              "      <td>0</td>\n",
              "    </tr>\n",
              "    <tr>\n",
              "      <th>1071</th>\n",
              "      <td>0.373</td>\n",
              "      <td>0.453</td>\n",
              "      <td>9</td>\n",
              "      <td>-9.224</td>\n",
              "      <td>1</td>\n",
              "      <td>0.0419</td>\n",
              "      <td>0.26100</td>\n",
              "      <td>0.000046</td>\n",
              "      <td>0.160</td>\n",
              "      <td>0.418</td>\n",
              "      <td>95.384</td>\n",
              "      <td>audio_features</td>\n",
              "      <td>4nla8cAvm6AQFnNou9WiR1</td>\n",
              "      <td>spotify:track:4nla8cAvm6AQFnNou9WiR1</td>\n",
              "      <td>https://api.spotify.com/v1/tracks/4nla8cAvm6AQ...</td>\n",
              "      <td>https://api.spotify.com/v1/audio-analysis/4nla...</td>\n",
              "      <td>196841</td>\n",
              "      <td>4</td>\n",
              "      <td>0</td>\n",
              "    </tr>\n",
              "    <tr>\n",
              "      <th>1072</th>\n",
              "      <td>0.659</td>\n",
              "      <td>0.838</td>\n",
              "      <td>1</td>\n",
              "      <td>-10.933</td>\n",
              "      <td>0</td>\n",
              "      <td>0.0328</td>\n",
              "      <td>0.18100</td>\n",
              "      <td>0.006660</td>\n",
              "      <td>0.388</td>\n",
              "      <td>0.619</td>\n",
              "      <td>108.552</td>\n",
              "      <td>audio_features</td>\n",
              "      <td>4F1esmkLF97197hL1Ty8bx</td>\n",
              "      <td>spotify:track:4F1esmkLF97197hL1Ty8bx</td>\n",
              "      <td>https://api.spotify.com/v1/tracks/4F1esmkLF971...</td>\n",
              "      <td>https://api.spotify.com/v1/audio-analysis/4F1e...</td>\n",
              "      <td>240400</td>\n",
              "      <td>4</td>\n",
              "      <td>0</td>\n",
              "    </tr>\n",
              "  </tbody>\n",
              "</table>\n",
              "<p>1073 rows × 19 columns</p>\n",
              "</div>"
            ],
            "text/plain": [
              "      danceability  energy  key  ...  duration_ms  time_signature  target\n",
              "0            0.761   0.518    0  ...       261493               4       1\n",
              "1            0.643   0.403    1  ...       174682               4       1\n",
              "2            0.829   0.512    6  ...       123987               4       1\n",
              "3            0.904   0.723   11  ...       227478               4       1\n",
              "4            0.782   0.510    4  ...       143375               4       1\n",
              "...            ...     ...  ...  ...          ...             ...     ...\n",
              "1068         0.547   0.987    8  ...       178627               4       0\n",
              "1069         0.469   0.537    9  ...       382834               1       0\n",
              "1070         0.322   0.265    2  ...       226667               4       0\n",
              "1071         0.373   0.453    9  ...       196841               4       0\n",
              "1072         0.659   0.838    1  ...       240400               4       0\n",
              "\n",
              "[1073 rows x 19 columns]"
            ]
          },
          "execution_count": 51,
          "metadata": {},
          "output_type": "execute_result"
        }
      ],
      "source": [
        "trainingData"
      ]
    },
    {
      "cell_type": "code",
      "execution_count": null,
      "metadata": {
        "id": "tnmUDrrhkzSv"
      },
      "outputs": [],
      "source": [
        "train, test = train_test_split(trainingData, test_size = 0.15)"
      ]
    },
    {
      "cell_type": "code",
      "execution_count": null,
      "metadata": {
        "id": "tzjJXNrwk2b4"
      },
      "outputs": [],
      "source": [
        "target_features = [\"danceability\", \"loudness\", \"valence\", \"energy\", \"instrumentalness\", \"acousticness\", \"key\", \"speechiness\", \"duration_ms\"]\n",
        "\n",
        "x_train = train[target_features]\n",
        "y_train = train[\"target\"]\n",
        "x_test = test[target_features]\n",
        "y_test = test[\"target\"]"
      ]
    },
    {
      "cell_type": "code",
      "execution_count": null,
      "metadata": {
        "colab": {
          "base_uri": "https://localhost:8080/",
          "height": 423
        },
        "id": "CIc_1Sb_pPOf",
        "outputId": "b8571f86-374c-4594-afa8-3ac0225b07cc"
      },
      "outputs": [
        {
          "data": {
            "text/html": [
              "<div>\n",
              "<style scoped>\n",
              "    .dataframe tbody tr th:only-of-type {\n",
              "        vertical-align: middle;\n",
              "    }\n",
              "\n",
              "    .dataframe tbody tr th {\n",
              "        vertical-align: top;\n",
              "    }\n",
              "\n",
              "    .dataframe thead th {\n",
              "        text-align: right;\n",
              "    }\n",
              "</style>\n",
              "<table border=\"1\" class=\"dataframe\">\n",
              "  <thead>\n",
              "    <tr style=\"text-align: right;\">\n",
              "      <th></th>\n",
              "      <th>danceability</th>\n",
              "      <th>loudness</th>\n",
              "      <th>valence</th>\n",
              "      <th>energy</th>\n",
              "      <th>instrumentalness</th>\n",
              "      <th>acousticness</th>\n",
              "      <th>key</th>\n",
              "      <th>speechiness</th>\n",
              "      <th>duration_ms</th>\n",
              "    </tr>\n",
              "  </thead>\n",
              "  <tbody>\n",
              "    <tr>\n",
              "      <th>742</th>\n",
              "      <td>0.470</td>\n",
              "      <td>-12.824</td>\n",
              "      <td>0.243</td>\n",
              "      <td>0.144</td>\n",
              "      <td>0.000118</td>\n",
              "      <td>0.912000</td>\n",
              "      <td>10</td>\n",
              "      <td>0.0365</td>\n",
              "      <td>284560</td>\n",
              "    </tr>\n",
              "    <tr>\n",
              "      <th>282</th>\n",
              "      <td>0.630</td>\n",
              "      <td>-6.152</td>\n",
              "      <td>0.487</td>\n",
              "      <td>0.504</td>\n",
              "      <td>0.000000</td>\n",
              "      <td>0.095300</td>\n",
              "      <td>6</td>\n",
              "      <td>0.0334</td>\n",
              "      <td>249867</td>\n",
              "    </tr>\n",
              "    <tr>\n",
              "      <th>82</th>\n",
              "      <td>0.829</td>\n",
              "      <td>-4.937</td>\n",
              "      <td>0.312</td>\n",
              "      <td>0.343</td>\n",
              "      <td>0.000000</td>\n",
              "      <td>0.007340</td>\n",
              "      <td>2</td>\n",
              "      <td>0.1020</td>\n",
              "      <td>135431</td>\n",
              "    </tr>\n",
              "    <tr>\n",
              "      <th>401</th>\n",
              "      <td>0.769</td>\n",
              "      <td>-4.064</td>\n",
              "      <td>0.490</td>\n",
              "      <td>0.627</td>\n",
              "      <td>0.000000</td>\n",
              "      <td>0.394000</td>\n",
              "      <td>7</td>\n",
              "      <td>0.2620</td>\n",
              "      <td>164038</td>\n",
              "    </tr>\n",
              "    <tr>\n",
              "      <th>528</th>\n",
              "      <td>0.502</td>\n",
              "      <td>-4.556</td>\n",
              "      <td>0.720</td>\n",
              "      <td>0.912</td>\n",
              "      <td>0.000173</td>\n",
              "      <td>0.000025</td>\n",
              "      <td>1</td>\n",
              "      <td>0.0564</td>\n",
              "      <td>301920</td>\n",
              "    </tr>\n",
              "    <tr>\n",
              "      <th>...</th>\n",
              "      <td>...</td>\n",
              "      <td>...</td>\n",
              "      <td>...</td>\n",
              "      <td>...</td>\n",
              "      <td>...</td>\n",
              "      <td>...</td>\n",
              "      <td>...</td>\n",
              "      <td>...</td>\n",
              "      <td>...</td>\n",
              "    </tr>\n",
              "    <tr>\n",
              "      <th>117</th>\n",
              "      <td>0.766</td>\n",
              "      <td>-12.561</td>\n",
              "      <td>0.816</td>\n",
              "      <td>0.618</td>\n",
              "      <td>0.000050</td>\n",
              "      <td>0.032800</td>\n",
              "      <td>10</td>\n",
              "      <td>0.0790</td>\n",
              "      <td>184800</td>\n",
              "    </tr>\n",
              "    <tr>\n",
              "      <th>517</th>\n",
              "      <td>0.500</td>\n",
              "      <td>-5.846</td>\n",
              "      <td>0.539</td>\n",
              "      <td>0.824</td>\n",
              "      <td>0.001610</td>\n",
              "      <td>0.000160</td>\n",
              "      <td>4</td>\n",
              "      <td>0.0388</td>\n",
              "      <td>218920</td>\n",
              "    </tr>\n",
              "    <tr>\n",
              "      <th>42</th>\n",
              "      <td>0.719</td>\n",
              "      <td>-7.600</td>\n",
              "      <td>0.660</td>\n",
              "      <td>0.648</td>\n",
              "      <td>0.000000</td>\n",
              "      <td>0.200000</td>\n",
              "      <td>3</td>\n",
              "      <td>0.1250</td>\n",
              "      <td>123263</td>\n",
              "    </tr>\n",
              "    <tr>\n",
              "      <th>870</th>\n",
              "      <td>0.616</td>\n",
              "      <td>-5.968</td>\n",
              "      <td>0.386</td>\n",
              "      <td>0.438</td>\n",
              "      <td>0.000000</td>\n",
              "      <td>0.356000</td>\n",
              "      <td>1</td>\n",
              "      <td>0.0298</td>\n",
              "      <td>213387</td>\n",
              "    </tr>\n",
              "    <tr>\n",
              "      <th>380</th>\n",
              "      <td>0.604</td>\n",
              "      <td>-5.979</td>\n",
              "      <td>0.287</td>\n",
              "      <td>0.673</td>\n",
              "      <td>0.000033</td>\n",
              "      <td>0.026800</td>\n",
              "      <td>1</td>\n",
              "      <td>0.0545</td>\n",
              "      <td>197573</td>\n",
              "    </tr>\n",
              "  </tbody>\n",
              "</table>\n",
              "<p>912 rows × 9 columns</p>\n",
              "</div>"
            ],
            "text/plain": [
              "     danceability  loudness  valence  ...  key  speechiness  duration_ms\n",
              "742         0.470   -12.824    0.243  ...   10       0.0365       284560\n",
              "282         0.630    -6.152    0.487  ...    6       0.0334       249867\n",
              "82          0.829    -4.937    0.312  ...    2       0.1020       135431\n",
              "401         0.769    -4.064    0.490  ...    7       0.2620       164038\n",
              "528         0.502    -4.556    0.720  ...    1       0.0564       301920\n",
              "..            ...       ...      ...  ...  ...          ...          ...\n",
              "117         0.766   -12.561    0.816  ...   10       0.0790       184800\n",
              "517         0.500    -5.846    0.539  ...    4       0.0388       218920\n",
              "42          0.719    -7.600    0.660  ...    3       0.1250       123263\n",
              "870         0.616    -5.968    0.386  ...    1       0.0298       213387\n",
              "380         0.604    -5.979    0.287  ...    1       0.0545       197573\n",
              "\n",
              "[912 rows x 9 columns]"
            ]
          },
          "execution_count": 54,
          "metadata": {},
          "output_type": "execute_result"
        }
      ],
      "source": [
        "x_train"
      ]
    },
    {
      "cell_type": "code",
      "execution_count": null,
      "metadata": {
        "colab": {
          "base_uri": "https://localhost:8080/"
        },
        "id": "jBIgqGofpS9m",
        "outputId": "540741fb-af7c-4553-edce-60983cf04389"
      },
      "outputs": [
        {
          "data": {
            "text/plain": [
              "742    0\n",
              "282    1\n",
              "82     1\n",
              "401    1\n",
              "528    0\n",
              "      ..\n",
              "117    1\n",
              "517    0\n",
              "42     1\n",
              "870    0\n",
              "380    1\n",
              "Name: target, Length: 912, dtype: int64"
            ]
          },
          "execution_count": 55,
          "metadata": {},
          "output_type": "execute_result"
        }
      ],
      "source": [
        "y_train"
      ]
    },
    {
      "cell_type": "code",
      "execution_count": null,
      "metadata": {
        "colab": {
          "base_uri": "https://localhost:8080/",
          "height": 423
        },
        "id": "UTJHfAmopUvQ",
        "outputId": "8ebf3a4b-5d1d-4a45-d3f1-572a8747eebc"
      },
      "outputs": [
        {
          "data": {
            "text/html": [
              "<div>\n",
              "<style scoped>\n",
              "    .dataframe tbody tr th:only-of-type {\n",
              "        vertical-align: middle;\n",
              "    }\n",
              "\n",
              "    .dataframe tbody tr th {\n",
              "        vertical-align: top;\n",
              "    }\n",
              "\n",
              "    .dataframe thead th {\n",
              "        text-align: right;\n",
              "    }\n",
              "</style>\n",
              "<table border=\"1\" class=\"dataframe\">\n",
              "  <thead>\n",
              "    <tr style=\"text-align: right;\">\n",
              "      <th></th>\n",
              "      <th>danceability</th>\n",
              "      <th>loudness</th>\n",
              "      <th>valence</th>\n",
              "      <th>energy</th>\n",
              "      <th>instrumentalness</th>\n",
              "      <th>acousticness</th>\n",
              "      <th>key</th>\n",
              "      <th>speechiness</th>\n",
              "      <th>duration_ms</th>\n",
              "    </tr>\n",
              "  </thead>\n",
              "  <tbody>\n",
              "    <tr>\n",
              "      <th>400</th>\n",
              "      <td>0.570</td>\n",
              "      <td>-7.562</td>\n",
              "      <td>0.2700</td>\n",
              "      <td>0.703</td>\n",
              "      <td>0.000000</td>\n",
              "      <td>0.02000</td>\n",
              "      <td>6</td>\n",
              "      <td>0.2220</td>\n",
              "      <td>180016</td>\n",
              "    </tr>\n",
              "    <tr>\n",
              "      <th>263</th>\n",
              "      <td>0.793</td>\n",
              "      <td>-8.134</td>\n",
              "      <td>0.8980</td>\n",
              "      <td>0.465</td>\n",
              "      <td>0.000132</td>\n",
              "      <td>0.64800</td>\n",
              "      <td>5</td>\n",
              "      <td>0.2710</td>\n",
              "      <td>193740</td>\n",
              "    </tr>\n",
              "    <tr>\n",
              "      <th>752</th>\n",
              "      <td>0.597</td>\n",
              "      <td>-16.656</td>\n",
              "      <td>0.3400</td>\n",
              "      <td>0.128</td>\n",
              "      <td>0.000704</td>\n",
              "      <td>0.95900</td>\n",
              "      <td>9</td>\n",
              "      <td>0.0491</td>\n",
              "      <td>254400</td>\n",
              "    </tr>\n",
              "    <tr>\n",
              "      <th>536</th>\n",
              "      <td>0.579</td>\n",
              "      <td>-9.484</td>\n",
              "      <td>0.6090</td>\n",
              "      <td>0.508</td>\n",
              "      <td>0.000494</td>\n",
              "      <td>0.00574</td>\n",
              "      <td>2</td>\n",
              "      <td>0.0270</td>\n",
              "      <td>391376</td>\n",
              "    </tr>\n",
              "    <tr>\n",
              "      <th>569</th>\n",
              "      <td>0.521</td>\n",
              "      <td>-3.184</td>\n",
              "      <td>0.0868</td>\n",
              "      <td>0.831</td>\n",
              "      <td>0.000000</td>\n",
              "      <td>0.02900</td>\n",
              "      <td>1</td>\n",
              "      <td>0.0558</td>\n",
              "      <td>195000</td>\n",
              "    </tr>\n",
              "    <tr>\n",
              "      <th>...</th>\n",
              "      <td>...</td>\n",
              "      <td>...</td>\n",
              "      <td>...</td>\n",
              "      <td>...</td>\n",
              "      <td>...</td>\n",
              "      <td>...</td>\n",
              "      <td>...</td>\n",
              "      <td>...</td>\n",
              "      <td>...</td>\n",
              "    </tr>\n",
              "    <tr>\n",
              "      <th>925</th>\n",
              "      <td>0.685</td>\n",
              "      <td>-8.285</td>\n",
              "      <td>0.5780</td>\n",
              "      <td>0.521</td>\n",
              "      <td>0.000004</td>\n",
              "      <td>0.18500</td>\n",
              "      <td>2</td>\n",
              "      <td>0.0345</td>\n",
              "      <td>190779</td>\n",
              "    </tr>\n",
              "    <tr>\n",
              "      <th>996</th>\n",
              "      <td>0.336</td>\n",
              "      <td>-10.875</td>\n",
              "      <td>0.4270</td>\n",
              "      <td>0.792</td>\n",
              "      <td>0.001750</td>\n",
              "      <td>0.00351</td>\n",
              "      <td>9</td>\n",
              "      <td>0.0840</td>\n",
              "      <td>355304</td>\n",
              "    </tr>\n",
              "    <tr>\n",
              "      <th>329</th>\n",
              "      <td>0.813</td>\n",
              "      <td>-5.541</td>\n",
              "      <td>0.5470</td>\n",
              "      <td>0.808</td>\n",
              "      <td>0.000000</td>\n",
              "      <td>0.00693</td>\n",
              "      <td>2</td>\n",
              "      <td>0.2860</td>\n",
              "      <td>192132</td>\n",
              "    </tr>\n",
              "    <tr>\n",
              "      <th>725</th>\n",
              "      <td>0.421</td>\n",
              "      <td>-21.795</td>\n",
              "      <td>0.0546</td>\n",
              "      <td>0.080</td>\n",
              "      <td>0.859000</td>\n",
              "      <td>0.90300</td>\n",
              "      <td>7</td>\n",
              "      <td>0.0400</td>\n",
              "      <td>257693</td>\n",
              "    </tr>\n",
              "    <tr>\n",
              "      <th>176</th>\n",
              "      <td>0.762</td>\n",
              "      <td>-8.937</td>\n",
              "      <td>0.3940</td>\n",
              "      <td>0.433</td>\n",
              "      <td>0.000000</td>\n",
              "      <td>0.14300</td>\n",
              "      <td>5</td>\n",
              "      <td>0.1870</td>\n",
              "      <td>203145</td>\n",
              "    </tr>\n",
              "  </tbody>\n",
              "</table>\n",
              "<p>161 rows × 9 columns</p>\n",
              "</div>"
            ],
            "text/plain": [
              "     danceability  loudness  valence  ...  key  speechiness  duration_ms\n",
              "400         0.570    -7.562   0.2700  ...    6       0.2220       180016\n",
              "263         0.793    -8.134   0.8980  ...    5       0.2710       193740\n",
              "752         0.597   -16.656   0.3400  ...    9       0.0491       254400\n",
              "536         0.579    -9.484   0.6090  ...    2       0.0270       391376\n",
              "569         0.521    -3.184   0.0868  ...    1       0.0558       195000\n",
              "..            ...       ...      ...  ...  ...          ...          ...\n",
              "925         0.685    -8.285   0.5780  ...    2       0.0345       190779\n",
              "996         0.336   -10.875   0.4270  ...    9       0.0840       355304\n",
              "329         0.813    -5.541   0.5470  ...    2       0.2860       192132\n",
              "725         0.421   -21.795   0.0546  ...    7       0.0400       257693\n",
              "176         0.762    -8.937   0.3940  ...    5       0.1870       203145\n",
              "\n",
              "[161 rows x 9 columns]"
            ]
          },
          "execution_count": 56,
          "metadata": {},
          "output_type": "execute_result"
        }
      ],
      "source": [
        "x_test"
      ]
    },
    {
      "cell_type": "code",
      "execution_count": null,
      "metadata": {
        "colab": {
          "base_uri": "https://localhost:8080/"
        },
        "id": "xb5berAfpZp9",
        "outputId": "c20ed62b-76f0-4e8f-ecf2-8e29561652ff"
      },
      "outputs": [
        {
          "data": {
            "text/plain": [
              "400    1\n",
              "263    1\n",
              "752    0\n",
              "536    0\n",
              "569    0\n",
              "      ..\n",
              "925    0\n",
              "996    0\n",
              "329    1\n",
              "725    0\n",
              "176    1\n",
              "Name: target, Length: 161, dtype: int64"
            ]
          },
          "execution_count": 57,
          "metadata": {},
          "output_type": "execute_result"
        }
      ],
      "source": [
        "y_test"
      ]
    },
    {
      "cell_type": "markdown",
      "metadata": {
        "id": "312pbWMAumua"
      },
      "source": [
        "## Model Evaluation"
      ]
    },
    {
      "cell_type": "markdown",
      "metadata": {
        "id": "VEGoAt1lrb-m"
      },
      "source": [
        "### Random Forest"
      ]
    },
    {
      "cell_type": "code",
      "execution_count": null,
      "metadata": {
        "colab": {
          "base_uri": "https://localhost:8080/"
        },
        "id": "zBPsaj7mrdR5",
        "outputId": "710b4247-9fc4-4dd4-8ee4-b2819895dd41"
      },
      "outputs": [
        {
          "name": "stdout",
          "output_type": "stream",
          "text": [
            "Accuracy using Random Forest:  88.82 %\n",
            "Mean squared error: 0.11\n"
          ]
        }
      ],
      "source": [
        "# random forest combines multiple decision trees and uses bagging\n",
        "# (training multiple trees on different sections of training data, averaging the result)\n",
        "rfc = RandomForestClassifier(n_jobs=1, random_state=1)\n",
        "rfc.fit(x_train, y_train)\n",
        "rfc_pred = rfc.predict(x_test)\n",
        "\n",
        "score = accuracy_score(y_test, rfc_pred) * 100\n",
        "print(\"Accuracy using Random Forest: \", round(score, 2), \"%\")\n",
        "print('Mean squared error: %.2f' % mean_squared_error(y_test, rfc_pred))"
      ]
    },
    {
      "cell_type": "markdown",
      "metadata": {
        "id": "llMokWbT2rYX"
      },
      "source": [
        "Measured Accuracy: 88.82%"
      ]
    },
    {
      "cell_type": "markdown",
      "metadata": {
        "id": "9zoUecGcAfMd"
      },
      "source": [
        "### Gradient Boosting"
      ]
    },
    {
      "cell_type": "code",
      "execution_count": null,
      "metadata": {
        "colab": {
          "base_uri": "https://localhost:8080/"
        },
        "id": "Qs9ABJuAlirT",
        "outputId": "d4088c1b-971a-4984-936f-adabed729be6"
      },
      "outputs": [
        {
          "name": "stdout",
          "output_type": "stream",
          "text": [
            "Accuracy using Gradient Boost:  90.68 %\n",
            "Mean squared error: 0.09\n"
          ]
        }
      ],
      "source": [
        "# I <3 gradient boost\n",
        "gbc = GradientBoostingClassifier(n_estimators=100, learning_rate=.1, max_depth=1, random_state=1)\n",
        "gbc.fit(x_train, y_train)\n",
        "gbc_pred = gbc.predict(x_test)\n",
        "\n",
        "score = accuracy_score(y_test, gbc_pred) * 100\n",
        "print(\"Accuracy using Gradient Boost: \", round(score, 2), \"%\")\n",
        "print('Mean squared error: %.2f' % mean_squared_error(y_test, gbc_pred))"
      ]
    },
    {
      "cell_type": "markdown",
      "metadata": {
        "id": "RcenLfJ82ouB"
      },
      "source": [
        "Measured Accuracy: 90.68%"
      ]
    },
    {
      "cell_type": "markdown",
      "metadata": {
        "id": "ZEB8ISelq_LY"
      },
      "source": [
        "### Gradient Boosting w/ Manual Stacking (Random Forest)"
      ]
    },
    {
      "cell_type": "code",
      "execution_count": null,
      "metadata": {
        "id": "N5RYFAlqsWNN"
      },
      "outputs": [],
      "source": [
        "x_train_rfc = (x_train.iloc[0:int(len(x_train) / 2)]).copy()\n",
        "y_train_rfc = (y_train.iloc[0:int(len(y_train) / 2)]).copy()\n",
        "x_train_gbc = (x_train.iloc[int(len(x_train) / 2):len(x_train)]).copy()\n",
        "y_train_gbc = (y_train.iloc[int(len(y_train) / 2):len(y_train)]).copy()"
      ]
    },
    {
      "cell_type": "code",
      "execution_count": null,
      "metadata": {
        "id": "2k71EKAjuuby"
      },
      "outputs": [],
      "source": [
        "x_test_rfc = x_train_gbc\n",
        "y_test_rfc = y_train_gbc\n",
        "x_test_gbc = x_test.copy()\n",
        "y_test_gbc = y_test.copy()"
      ]
    },
    {
      "cell_type": "code",
      "execution_count": null,
      "metadata": {
        "colab": {
          "base_uri": "https://localhost:8080/"
        },
        "id": "w2ozr-rLtTdI",
        "outputId": "8ba7b0c8-fb93-4db4-8e13-288f73ca99ef"
      },
      "outputs": [
        {
          "name": "stdout",
          "output_type": "stream",
          "text": [
            "Accuracy using Random Forest:  87.72 %\n",
            "Mean squared error: 0.12\n"
          ]
        }
      ],
      "source": [
        "rfc_stack = RandomForestClassifier(n_jobs=1, random_state=1)\n",
        "rfc_stack.fit(x_train_rfc, y_train_rfc)\n",
        "rfc_stack_pred_train = rfc_stack.predict(x_test_rfc)\n",
        "\n",
        "score = accuracy_score(y_test_rfc, rfc_stack_pred) * 100\n",
        "print(\"Accuracy using Random Forest: \", round(score, 2), \"%\")\n",
        "print('Mean squared error: %.2f' % mean_squared_error(y_test_rfc, rfc_stack_pred))"
      ]
    },
    {
      "cell_type": "code",
      "execution_count": null,
      "metadata": {
        "id": "bo_yrxK4vSJc"
      },
      "outputs": [],
      "source": [
        "rfc_stack_pred_test = rfc_stack.predict(x_test_gbc)"
      ]
    },
    {
      "cell_type": "code",
      "execution_count": null,
      "metadata": {
        "id": "qoY1wcz1ttrB"
      },
      "outputs": [],
      "source": [
        "# stack\n",
        "x_train_gbc['rfc_stack_pred'] = rfc_stack_pred_train.tolist()\n",
        "x_test_gbc['rfc_stack_pred'] = rfc_stack_pred_test.tolist()"
      ]
    },
    {
      "cell_type": "code",
      "execution_count": null,
      "metadata": {
        "colab": {
          "base_uri": "https://localhost:8080/",
          "height": 423
        },
        "id": "_2HtMc-MvFYF",
        "outputId": "8db05fe4-2a2c-4330-cbb8-5fe6a31c913f"
      },
      "outputs": [
        {
          "data": {
            "text/html": [
              "<div>\n",
              "<style scoped>\n",
              "    .dataframe tbody tr th:only-of-type {\n",
              "        vertical-align: middle;\n",
              "    }\n",
              "\n",
              "    .dataframe tbody tr th {\n",
              "        vertical-align: top;\n",
              "    }\n",
              "\n",
              "    .dataframe thead th {\n",
              "        text-align: right;\n",
              "    }\n",
              "</style>\n",
              "<table border=\"1\" class=\"dataframe\">\n",
              "  <thead>\n",
              "    <tr style=\"text-align: right;\">\n",
              "      <th></th>\n",
              "      <th>danceability</th>\n",
              "      <th>loudness</th>\n",
              "      <th>valence</th>\n",
              "      <th>energy</th>\n",
              "      <th>instrumentalness</th>\n",
              "      <th>acousticness</th>\n",
              "      <th>key</th>\n",
              "      <th>speechiness</th>\n",
              "      <th>duration_ms</th>\n",
              "      <th>rfc_stack_pred</th>\n",
              "    </tr>\n",
              "  </thead>\n",
              "  <tbody>\n",
              "    <tr>\n",
              "      <th>1046</th>\n",
              "      <td>0.263</td>\n",
              "      <td>-6.189</td>\n",
              "      <td>0.504</td>\n",
              "      <td>0.922</td>\n",
              "      <td>0.001320</td>\n",
              "      <td>0.000029</td>\n",
              "      <td>9</td>\n",
              "      <td>0.0982</td>\n",
              "      <td>408853</td>\n",
              "      <td>0</td>\n",
              "    </tr>\n",
              "    <tr>\n",
              "      <th>57</th>\n",
              "      <td>0.751</td>\n",
              "      <td>-6.859</td>\n",
              "      <td>0.634</td>\n",
              "      <td>0.744</td>\n",
              "      <td>0.000568</td>\n",
              "      <td>0.152000</td>\n",
              "      <td>1</td>\n",
              "      <td>0.1770</td>\n",
              "      <td>171892</td>\n",
              "      <td>1</td>\n",
              "    </tr>\n",
              "    <tr>\n",
              "      <th>157</th>\n",
              "      <td>0.771</td>\n",
              "      <td>-6.844</td>\n",
              "      <td>0.182</td>\n",
              "      <td>0.526</td>\n",
              "      <td>0.000000</td>\n",
              "      <td>0.080400</td>\n",
              "      <td>1</td>\n",
              "      <td>0.0718</td>\n",
              "      <td>148927</td>\n",
              "      <td>1</td>\n",
              "    </tr>\n",
              "    <tr>\n",
              "      <th>179</th>\n",
              "      <td>0.697</td>\n",
              "      <td>-9.774</td>\n",
              "      <td>0.805</td>\n",
              "      <td>0.411</td>\n",
              "      <td>0.000000</td>\n",
              "      <td>0.407000</td>\n",
              "      <td>10</td>\n",
              "      <td>0.0891</td>\n",
              "      <td>166717</td>\n",
              "      <td>1</td>\n",
              "    </tr>\n",
              "    <tr>\n",
              "      <th>809</th>\n",
              "      <td>0.653</td>\n",
              "      <td>-11.567</td>\n",
              "      <td>0.249</td>\n",
              "      <td>0.368</td>\n",
              "      <td>0.003050</td>\n",
              "      <td>0.875000</td>\n",
              "      <td>10</td>\n",
              "      <td>0.0439</td>\n",
              "      <td>524093</td>\n",
              "      <td>0</td>\n",
              "    </tr>\n",
              "    <tr>\n",
              "      <th>...</th>\n",
              "      <td>...</td>\n",
              "      <td>...</td>\n",
              "      <td>...</td>\n",
              "      <td>...</td>\n",
              "      <td>...</td>\n",
              "      <td>...</td>\n",
              "      <td>...</td>\n",
              "      <td>...</td>\n",
              "      <td>...</td>\n",
              "      <td>...</td>\n",
              "    </tr>\n",
              "    <tr>\n",
              "      <th>117</th>\n",
              "      <td>0.766</td>\n",
              "      <td>-12.561</td>\n",
              "      <td>0.816</td>\n",
              "      <td>0.618</td>\n",
              "      <td>0.000050</td>\n",
              "      <td>0.032800</td>\n",
              "      <td>10</td>\n",
              "      <td>0.0790</td>\n",
              "      <td>184800</td>\n",
              "      <td>1</td>\n",
              "    </tr>\n",
              "    <tr>\n",
              "      <th>517</th>\n",
              "      <td>0.500</td>\n",
              "      <td>-5.846</td>\n",
              "      <td>0.539</td>\n",
              "      <td>0.824</td>\n",
              "      <td>0.001610</td>\n",
              "      <td>0.000160</td>\n",
              "      <td>4</td>\n",
              "      <td>0.0388</td>\n",
              "      <td>218920</td>\n",
              "      <td>0</td>\n",
              "    </tr>\n",
              "    <tr>\n",
              "      <th>42</th>\n",
              "      <td>0.719</td>\n",
              "      <td>-7.600</td>\n",
              "      <td>0.660</td>\n",
              "      <td>0.648</td>\n",
              "      <td>0.000000</td>\n",
              "      <td>0.200000</td>\n",
              "      <td>3</td>\n",
              "      <td>0.1250</td>\n",
              "      <td>123263</td>\n",
              "      <td>1</td>\n",
              "    </tr>\n",
              "    <tr>\n",
              "      <th>870</th>\n",
              "      <td>0.616</td>\n",
              "      <td>-5.968</td>\n",
              "      <td>0.386</td>\n",
              "      <td>0.438</td>\n",
              "      <td>0.000000</td>\n",
              "      <td>0.356000</td>\n",
              "      <td>1</td>\n",
              "      <td>0.0298</td>\n",
              "      <td>213387</td>\n",
              "      <td>0</td>\n",
              "    </tr>\n",
              "    <tr>\n",
              "      <th>380</th>\n",
              "      <td>0.604</td>\n",
              "      <td>-5.979</td>\n",
              "      <td>0.287</td>\n",
              "      <td>0.673</td>\n",
              "      <td>0.000033</td>\n",
              "      <td>0.026800</td>\n",
              "      <td>1</td>\n",
              "      <td>0.0545</td>\n",
              "      <td>197573</td>\n",
              "      <td>0</td>\n",
              "    </tr>\n",
              "  </tbody>\n",
              "</table>\n",
              "<p>456 rows × 10 columns</p>\n",
              "</div>"
            ],
            "text/plain": [
              "      danceability  loudness  valence  ...  speechiness  duration_ms  rfc_stack_pred\n",
              "1046         0.263    -6.189    0.504  ...       0.0982       408853               0\n",
              "57           0.751    -6.859    0.634  ...       0.1770       171892               1\n",
              "157          0.771    -6.844    0.182  ...       0.0718       148927               1\n",
              "179          0.697    -9.774    0.805  ...       0.0891       166717               1\n",
              "809          0.653   -11.567    0.249  ...       0.0439       524093               0\n",
              "...            ...       ...      ...  ...          ...          ...             ...\n",
              "117          0.766   -12.561    0.816  ...       0.0790       184800               1\n",
              "517          0.500    -5.846    0.539  ...       0.0388       218920               0\n",
              "42           0.719    -7.600    0.660  ...       0.1250       123263               1\n",
              "870          0.616    -5.968    0.386  ...       0.0298       213387               0\n",
              "380          0.604    -5.979    0.287  ...       0.0545       197573               0\n",
              "\n",
              "[456 rows x 10 columns]"
            ]
          },
          "execution_count": 147,
          "metadata": {},
          "output_type": "execute_result"
        }
      ],
      "source": [
        "x_train_gbc"
      ]
    },
    {
      "cell_type": "code",
      "execution_count": null,
      "metadata": {
        "colab": {
          "base_uri": "https://localhost:8080/",
          "height": 423
        },
        "id": "t8Te7Pw4vpsF",
        "outputId": "29cdb94f-f4a4-4c7b-b602-f44232365107"
      },
      "outputs": [
        {
          "data": {
            "text/html": [
              "<div>\n",
              "<style scoped>\n",
              "    .dataframe tbody tr th:only-of-type {\n",
              "        vertical-align: middle;\n",
              "    }\n",
              "\n",
              "    .dataframe tbody tr th {\n",
              "        vertical-align: top;\n",
              "    }\n",
              "\n",
              "    .dataframe thead th {\n",
              "        text-align: right;\n",
              "    }\n",
              "</style>\n",
              "<table border=\"1\" class=\"dataframe\">\n",
              "  <thead>\n",
              "    <tr style=\"text-align: right;\">\n",
              "      <th></th>\n",
              "      <th>danceability</th>\n",
              "      <th>loudness</th>\n",
              "      <th>valence</th>\n",
              "      <th>energy</th>\n",
              "      <th>instrumentalness</th>\n",
              "      <th>acousticness</th>\n",
              "      <th>key</th>\n",
              "      <th>speechiness</th>\n",
              "      <th>duration_ms</th>\n",
              "      <th>rfc_stack_pred</th>\n",
              "    </tr>\n",
              "  </thead>\n",
              "  <tbody>\n",
              "    <tr>\n",
              "      <th>400</th>\n",
              "      <td>0.570</td>\n",
              "      <td>-7.562</td>\n",
              "      <td>0.2700</td>\n",
              "      <td>0.703</td>\n",
              "      <td>0.000000</td>\n",
              "      <td>0.02000</td>\n",
              "      <td>6</td>\n",
              "      <td>0.2220</td>\n",
              "      <td>180016</td>\n",
              "      <td>1</td>\n",
              "    </tr>\n",
              "    <tr>\n",
              "      <th>263</th>\n",
              "      <td>0.793</td>\n",
              "      <td>-8.134</td>\n",
              "      <td>0.8980</td>\n",
              "      <td>0.465</td>\n",
              "      <td>0.000132</td>\n",
              "      <td>0.64800</td>\n",
              "      <td>5</td>\n",
              "      <td>0.2710</td>\n",
              "      <td>193740</td>\n",
              "      <td>1</td>\n",
              "    </tr>\n",
              "    <tr>\n",
              "      <th>752</th>\n",
              "      <td>0.597</td>\n",
              "      <td>-16.656</td>\n",
              "      <td>0.3400</td>\n",
              "      <td>0.128</td>\n",
              "      <td>0.000704</td>\n",
              "      <td>0.95900</td>\n",
              "      <td>9</td>\n",
              "      <td>0.0491</td>\n",
              "      <td>254400</td>\n",
              "      <td>0</td>\n",
              "    </tr>\n",
              "    <tr>\n",
              "      <th>536</th>\n",
              "      <td>0.579</td>\n",
              "      <td>-9.484</td>\n",
              "      <td>0.6090</td>\n",
              "      <td>0.508</td>\n",
              "      <td>0.000494</td>\n",
              "      <td>0.00574</td>\n",
              "      <td>2</td>\n",
              "      <td>0.0270</td>\n",
              "      <td>391376</td>\n",
              "      <td>0</td>\n",
              "    </tr>\n",
              "    <tr>\n",
              "      <th>569</th>\n",
              "      <td>0.521</td>\n",
              "      <td>-3.184</td>\n",
              "      <td>0.0868</td>\n",
              "      <td>0.831</td>\n",
              "      <td>0.000000</td>\n",
              "      <td>0.02900</td>\n",
              "      <td>1</td>\n",
              "      <td>0.0558</td>\n",
              "      <td>195000</td>\n",
              "      <td>0</td>\n",
              "    </tr>\n",
              "    <tr>\n",
              "      <th>...</th>\n",
              "      <td>...</td>\n",
              "      <td>...</td>\n",
              "      <td>...</td>\n",
              "      <td>...</td>\n",
              "      <td>...</td>\n",
              "      <td>...</td>\n",
              "      <td>...</td>\n",
              "      <td>...</td>\n",
              "      <td>...</td>\n",
              "      <td>...</td>\n",
              "    </tr>\n",
              "    <tr>\n",
              "      <th>925</th>\n",
              "      <td>0.685</td>\n",
              "      <td>-8.285</td>\n",
              "      <td>0.5780</td>\n",
              "      <td>0.521</td>\n",
              "      <td>0.000004</td>\n",
              "      <td>0.18500</td>\n",
              "      <td>2</td>\n",
              "      <td>0.0345</td>\n",
              "      <td>190779</td>\n",
              "      <td>1</td>\n",
              "    </tr>\n",
              "    <tr>\n",
              "      <th>996</th>\n",
              "      <td>0.336</td>\n",
              "      <td>-10.875</td>\n",
              "      <td>0.4270</td>\n",
              "      <td>0.792</td>\n",
              "      <td>0.001750</td>\n",
              "      <td>0.00351</td>\n",
              "      <td>9</td>\n",
              "      <td>0.0840</td>\n",
              "      <td>355304</td>\n",
              "      <td>0</td>\n",
              "    </tr>\n",
              "    <tr>\n",
              "      <th>329</th>\n",
              "      <td>0.813</td>\n",
              "      <td>-5.541</td>\n",
              "      <td>0.5470</td>\n",
              "      <td>0.808</td>\n",
              "      <td>0.000000</td>\n",
              "      <td>0.00693</td>\n",
              "      <td>2</td>\n",
              "      <td>0.2860</td>\n",
              "      <td>192132</td>\n",
              "      <td>1</td>\n",
              "    </tr>\n",
              "    <tr>\n",
              "      <th>725</th>\n",
              "      <td>0.421</td>\n",
              "      <td>-21.795</td>\n",
              "      <td>0.0546</td>\n",
              "      <td>0.080</td>\n",
              "      <td>0.859000</td>\n",
              "      <td>0.90300</td>\n",
              "      <td>7</td>\n",
              "      <td>0.0400</td>\n",
              "      <td>257693</td>\n",
              "      <td>0</td>\n",
              "    </tr>\n",
              "    <tr>\n",
              "      <th>176</th>\n",
              "      <td>0.762</td>\n",
              "      <td>-8.937</td>\n",
              "      <td>0.3940</td>\n",
              "      <td>0.433</td>\n",
              "      <td>0.000000</td>\n",
              "      <td>0.14300</td>\n",
              "      <td>5</td>\n",
              "      <td>0.1870</td>\n",
              "      <td>203145</td>\n",
              "      <td>1</td>\n",
              "    </tr>\n",
              "  </tbody>\n",
              "</table>\n",
              "<p>161 rows × 10 columns</p>\n",
              "</div>"
            ],
            "text/plain": [
              "     danceability  loudness  valence  ...  speechiness  duration_ms  rfc_stack_pred\n",
              "400         0.570    -7.562   0.2700  ...       0.2220       180016               1\n",
              "263         0.793    -8.134   0.8980  ...       0.2710       193740               1\n",
              "752         0.597   -16.656   0.3400  ...       0.0491       254400               0\n",
              "536         0.579    -9.484   0.6090  ...       0.0270       391376               0\n",
              "569         0.521    -3.184   0.0868  ...       0.0558       195000               0\n",
              "..            ...       ...      ...  ...          ...          ...             ...\n",
              "925         0.685    -8.285   0.5780  ...       0.0345       190779               1\n",
              "996         0.336   -10.875   0.4270  ...       0.0840       355304               0\n",
              "329         0.813    -5.541   0.5470  ...       0.2860       192132               1\n",
              "725         0.421   -21.795   0.0546  ...       0.0400       257693               0\n",
              "176         0.762    -8.937   0.3940  ...       0.1870       203145               1\n",
              "\n",
              "[161 rows x 10 columns]"
            ]
          },
          "execution_count": 148,
          "metadata": {},
          "output_type": "execute_result"
        }
      ],
      "source": [
        "x_test_gbc"
      ]
    },
    {
      "cell_type": "code",
      "execution_count": null,
      "metadata": {
        "colab": {
          "base_uri": "https://localhost:8080/"
        },
        "id": "7z4xgvKXq-qO",
        "outputId": "4a1f7f98-dcec-459a-df72-7518c9933211"
      },
      "outputs": [
        {
          "name": "stdout",
          "output_type": "stream",
          "text": [
            "Accuracy using Gradient Boost:  88.2 %\n",
            "Mean squared error: 0.12\n"
          ]
        }
      ],
      "source": [
        "gbc_stack = GradientBoostingClassifier(n_estimators=100, learning_rate=.1, max_depth=1, random_state=1)\n",
        "gbc_stack.fit(x_train_gbc, y_train_gbc)\n",
        "gbc_stack_pred = gbc_stack.predict(x_test_gbc)\n",
        "\n",
        "score = accuracy_score(y_test_gbc, gbc_stack_pred) * 100\n",
        "print(\"Accuracy using Gradient Boost: \", round(score, 2), \"%\")\n",
        "print('Mean squared error: %.2f' % mean_squared_error(y_test_gbc, gbc_stack_pred))"
      ]
    },
    {
      "cell_type": "markdown",
      "metadata": {
        "id": "SaQBkLPI2aGt"
      },
      "source": [
        "Measured Accuracy: 88.2%"
      ]
    },
    {
      "cell_type": "markdown",
      "metadata": {
        "id": "XhxUGWglrGfk"
      },
      "source": [
        "### Stacking Classifier"
      ]
    },
    {
      "cell_type": "code",
      "execution_count": null,
      "metadata": {
        "colab": {
          "base_uri": "https://localhost:8080/"
        },
        "id": "EMIMN76GrFP-",
        "outputId": "bbc5d916-7783-422e-daeb-b330c30ec49c"
      },
      "outputs": [
        {
          "name": "stdout",
          "output_type": "stream",
          "text": [
            "Accuracy using Gradient Boost:  88.2 %\n",
            "Mean squared error: 0.12\n"
          ]
        }
      ],
      "source": [
        "base_learners = [\n",
        "  ('rf_1', RandomForestClassifier(n_estimators=10, random_state=42)),\n",
        "  ('rf_2', KNeighborsClassifier(n_neighbors=5)),             \n",
        "]\n",
        "\n",
        "stk = StackingClassifier(estimators=base_learners, final_estimator=LogisticRegression())\n",
        "stk.fit(x_train, y_train)\n",
        "stk_pred = stk.predict(x_test)\n",
        "\n",
        "score = accuracy_score(y_test, stk_pred) * 100\n",
        "print(\"Accuracy using Gradient Boost: \", round(score, 2), \"%\")\n",
        "print('Mean squared error: %.2f' % mean_squared_error(y_test, stk_pred))"
      ]
    },
    {
      "cell_type": "markdown",
      "metadata": {
        "id": "10TzlFTk2OnD"
      },
      "source": [
        "Measured Accuracy: 88.2%"
      ]
    },
    {
      "cell_type": "code",
      "execution_count": null,
      "metadata": {
        "colab": {
          "base_uri": "https://localhost:8080/"
        },
        "id": "jnzuwB4UxnVI",
        "outputId": "2c76e832-60bd-4150-fae4-c361a0687690"
      },
      "outputs": [
        {
          "name": "stdout",
          "output_type": "stream",
          "text": [
            "Accuracy using Gradient Boost:  89.44 %\n",
            "Mean squared error: 0.11\n"
          ]
        }
      ],
      "source": [
        "base_learners = [\n",
        "  ('rf_1', RandomForestClassifier(n_estimators=10, random_state=42)),\n",
        "  ('rf_2', KNeighborsClassifier(n_neighbors=5)),             \n",
        "  ('rf_3', GradientBoostingClassifier(n_estimators=100, learning_rate=.1, max_depth=1, random_state=1))\n",
        "]\n",
        "\n",
        "stk = StackingClassifier(estimators=base_learners, final_estimator=LogisticRegression())\n",
        "stk.fit(x_train, y_train)\n",
        "stk_pred = stk.predict(x_test)\n",
        "\n",
        "score = accuracy_score(y_test, stk_pred) * 100\n",
        "print(\"Accuracy using Gradient Boost: \", round(score, 2), \"%\")\n",
        "print('Mean squared error: %.2f' % mean_squared_error(y_test, stk_pred))"
      ]
    },
    {
      "cell_type": "markdown",
      "metadata": {
        "id": "uVYS-V322TuQ"
      },
      "source": [
        "Measured Accuracy: 89.44%"
      ]
    },
    {
      "cell_type": "markdown",
      "metadata": {
        "id": "vFxMNx4wAh_G"
      },
      "source": [
        "### Neural Networks"
      ]
    },
    {
      "cell_type": "markdown",
      "metadata": {
        "id": "uE8TBKtJBcq4"
      },
      "source": [
        "#### Baseline"
      ]
    },
    {
      "cell_type": "code",
      "execution_count": null,
      "metadata": {
        "id": "NIxykyhUjoeK"
      },
      "outputs": [],
      "source": [
        "def keras_nn_baseline_model_small():\n",
        "  model = Sequential()\n",
        "  model.add(Dense(9, input_dim=9, activation='relu'))\n",
        "  model.add(Dense(1, activation='sigmoid'))\n",
        "  model.compile(loss='binary_crossentropy', optimizer='adam', metrics=['accuracy'])\n",
        "  return model"
      ]
    },
    {
      "cell_type": "code",
      "execution_count": null,
      "metadata": {
        "id": "JCHjgGWp01iR"
      },
      "outputs": [],
      "source": [
        "def keras_nn_baseline_model_big():\n",
        "  model = Sequential()\n",
        "  model.add(Dense(9, input_dim=9, activation='relu'))\n",
        "  model.add(Dense(18, input_dim=9, activation='relu'))\n",
        "  model.add(Dense(90, input_dim=18, activation='sigmoid'))\n",
        "  model.add(Dense(1, activation='sigmoid'))\n",
        "  model.compile(loss='binary_crossentropy', optimizer='adam', metrics=['accuracy'])\n",
        "  return model"
      ]
    },
    {
      "cell_type": "code",
      "execution_count": null,
      "metadata": {
        "id": "gpllzZRBlxmp"
      },
      "outputs": [],
      "source": [
        "def keras_nn_baseline_model_shaped():\n",
        "  model = Sequential()\n",
        "  model.add(Dense(5, input_dim=9, activation='relu'))\n",
        "  model.add(Dense(60, input_dim=5, activation='sigmoid'))\n",
        "  model.add(Dense(5, input_dim=60, activation='relu'))\n",
        "  model.add(Dense(1, activation='sigmoid'))\n",
        "  model.compile(loss='binary_crossentropy', optimizer='adam', metrics=['accuracy'])\n",
        "  return model"
      ]
    },
    {
      "cell_type": "markdown",
      "metadata": {
        "id": "L80OacIGx71q"
      },
      "source": [
        "#### Pipeline w/ Normalization"
      ]
    },
    {
      "cell_type": "code",
      "execution_count": null,
      "metadata": {
        "id": "YuHHvuZwBU_P"
      },
      "outputs": [],
      "source": [
        "estimators = []\n",
        "estimators.append(('standardize', StandardScaler()))\n",
        "estimators.append(('mlp', KerasClassifier(build_fn=keras_nn_baseline_model_shaped, epochs=200, batch_size=5, verbose=0)))\n",
        "keras_pipeline = Pipeline(estimators)"
      ]
    },
    {
      "cell_type": "code",
      "execution_count": null,
      "metadata": {
        "colab": {
          "base_uri": "https://localhost:8080/"
        },
        "id": "6zY6LyunBZnV",
        "outputId": "7d3308bb-910b-45ac-ed71-3ea2855d46fb"
      },
      "outputs": [
        {
          "name": "stdout",
          "output_type": "stream",
          "text": [
            "Standardized: 88.27% (2.06%)\n"
          ]
        }
      ],
      "source": [
        "kfold = StratifiedKFold(n_splits=10, shuffle=True)\n",
        "results = cross_val_score(keras_pipeline, x_train, y_train, cv=kfold)\n",
        "print(\"Standardized: %.2f%% (%.2f%%)\" % (results.mean() * 100, results.std() * 100))"
      ]
    },
    {
      "cell_type": "markdown",
      "metadata": {
        "id": "phMhkBsejgCv"
      },
      "source": [
        "**Cross-Validation Scores**  \n",
        "keras_nn_baseline_model_small: 87.51%  \n",
        "keras_nn_baseline_model_big: 85.09%  \n",
        "keras_nn_baseline_model_shaped: 88.27%  "
      ]
    },
    {
      "cell_type": "code",
      "execution_count": null,
      "metadata": {
        "colab": {
          "base_uri": "https://localhost:8080/"
        },
        "id": "4bKX46xOu7YY",
        "outputId": "650009bd-8a2e-496a-89fc-3bfb59e82957"
      },
      "outputs": [
        {
          "name": "stdout",
          "output_type": "stream",
          "text": [
            "Accuracy using NN:  90.68 %\n",
            "Mean squared error: 0.09\n"
          ]
        }
      ],
      "source": [
        "keras_pipeline.fit(x_train, y_train)\n",
        "keras_pred = keras_pipeline.predict(x_test)\n",
        "\n",
        "score = accuracy_score(y_test, keras_pred) * 100\n",
        "print(\"Accuracy using NN: \", round(score, 2), \"%\")\n",
        "print('Mean squared error: %.2f' % mean_squared_error(y_test, keras_pred))"
      ]
    },
    {
      "cell_type": "markdown",
      "metadata": {
        "id": "P_V9rRgFyeBb"
      },
      "source": [
        "### Neural Networks w/ Stacking"
      ]
    },
    {
      "cell_type": "code",
      "execution_count": null,
      "metadata": {
        "id": "RIBdCZbuy1rf"
      },
      "outputs": [],
      "source": [
        "def get_nn_classifier():\n",
        "  nn_clf = KerasClassifier(build_fn=keras_nn_baseline_model_shaped, epochs=200, batch_size=5, verbose=0)\n",
        "  nn_clf._estimator_type = \"classifier\"\n",
        "  estimators = []\n",
        "  estimators.append(('standardize', StandardScaler()))\n",
        "  estimators.append(('mlp', nn_clf))\n",
        "  return Pipeline(estimators)"
      ]
    },
    {
      "cell_type": "code",
      "execution_count": null,
      "metadata": {
        "colab": {
          "base_uri": "https://localhost:8080/"
        },
        "id": "6ZK_iHurymSc",
        "outputId": "8881fae0-8d79-4919-c69f-b45bba915cbc"
      },
      "outputs": [
        {
          "name": "stdout",
          "output_type": "stream",
          "text": [
            "Accuracy using Gradient Boost:  90.06 %\n",
            "Mean squared error: 0.10\n"
          ]
        }
      ],
      "source": [
        "base_learners = [\n",
        "  ('rf_1', RandomForestClassifier(n_estimators=10, random_state=42)),\n",
        "  ('rf_2', KNeighborsClassifier(n_neighbors=5)),             \n",
        "  ('rf_3', GradientBoostingClassifier(n_estimators=100, learning_rate=.1, max_depth=1, random_state=1)),\n",
        "  ('rf_4', get_nn_classifier())\n",
        "]\n",
        "\n",
        "nn_stk = StackingClassifier(estimators=base_learners, final_estimator=LogisticRegression())\n",
        "nn_stk.fit(x_train, y_train)\n",
        "nn_stk_pred = nn_stk.predict(x_test)\n",
        "\n",
        "score = accuracy_score(y_test, nn_stk_pred) * 100\n",
        "print(\"Accuracy using NN & Stacking: \", round(score, 2), \"%\")\n",
        "print('Mean squared error: %.2f' % mean_squared_error(y_test, nn_stk_pred))"
      ]
    },
    {
      "cell_type": "markdown",
      "metadata": {
        "id": "-H0V0B4J16hx"
      },
      "source": [
        "Measured Accuracy: 90.06%"
      ]
    },
    {
      "cell_type": "markdown",
      "metadata": {
        "id": "7zQVW9tqtd0A"
      },
      "source": [
        "## Generate Predictions"
      ]
    },
    {
      "cell_type": "code",
      "execution_count": null,
      "metadata": {
        "id": "_1OTu_cFo3qR"
      },
      "outputs": [],
      "source": [
        "sourceData = pd.DataFrame(source_features)\n",
        "sourceData = sourceData[target_features]"
      ]
    },
    {
      "cell_type": "code",
      "execution_count": null,
      "metadata": {
        "colab": {
          "base_uri": "https://localhost:8080/",
          "height": 423
        },
        "id": "7p6y4tcWo6xp",
        "outputId": "6fabc2dd-5120-4d9a-f402-9f430034922d"
      },
      "outputs": [
        {
          "data": {
            "text/html": [
              "<div>\n",
              "<style scoped>\n",
              "    .dataframe tbody tr th:only-of-type {\n",
              "        vertical-align: middle;\n",
              "    }\n",
              "\n",
              "    .dataframe tbody tr th {\n",
              "        vertical-align: top;\n",
              "    }\n",
              "\n",
              "    .dataframe thead th {\n",
              "        text-align: right;\n",
              "    }\n",
              "</style>\n",
              "<table border=\"1\" class=\"dataframe\">\n",
              "  <thead>\n",
              "    <tr style=\"text-align: right;\">\n",
              "      <th></th>\n",
              "      <th>danceability</th>\n",
              "      <th>loudness</th>\n",
              "      <th>valence</th>\n",
              "      <th>energy</th>\n",
              "      <th>instrumentalness</th>\n",
              "      <th>acousticness</th>\n",
              "      <th>key</th>\n",
              "      <th>speechiness</th>\n",
              "      <th>duration_ms</th>\n",
              "    </tr>\n",
              "  </thead>\n",
              "  <tbody>\n",
              "    <tr>\n",
              "      <th>0</th>\n",
              "      <td>0.662</td>\n",
              "      <td>-13.606</td>\n",
              "      <td>0.9610</td>\n",
              "      <td>0.624</td>\n",
              "      <td>0.000000</td>\n",
              "      <td>0.16500</td>\n",
              "      <td>10</td>\n",
              "      <td>0.0417</td>\n",
              "      <td>252560</td>\n",
              "    </tr>\n",
              "    <tr>\n",
              "      <th>1</th>\n",
              "      <td>0.640</td>\n",
              "      <td>-8.114</td>\n",
              "      <td>0.5460</td>\n",
              "      <td>0.647</td>\n",
              "      <td>0.000000</td>\n",
              "      <td>0.12400</td>\n",
              "      <td>5</td>\n",
              "      <td>0.1860</td>\n",
              "      <td>197867</td>\n",
              "    </tr>\n",
              "    <tr>\n",
              "      <th>2</th>\n",
              "      <td>0.716</td>\n",
              "      <td>-5.313</td>\n",
              "      <td>0.9100</td>\n",
              "      <td>0.823</td>\n",
              "      <td>0.000000</td>\n",
              "      <td>0.13200</td>\n",
              "      <td>5</td>\n",
              "      <td>0.0495</td>\n",
              "      <td>161747</td>\n",
              "    </tr>\n",
              "    <tr>\n",
              "      <th>3</th>\n",
              "      <td>0.468</td>\n",
              "      <td>-6.536</td>\n",
              "      <td>0.7620</td>\n",
              "      <td>0.630</td>\n",
              "      <td>0.000000</td>\n",
              "      <td>0.31000</td>\n",
              "      <td>8</td>\n",
              "      <td>0.0843</td>\n",
              "      <td>204507</td>\n",
              "    </tr>\n",
              "    <tr>\n",
              "      <th>4</th>\n",
              "      <td>0.397</td>\n",
              "      <td>-4.577</td>\n",
              "      <td>0.5560</td>\n",
              "      <td>0.903</td>\n",
              "      <td>0.000002</td>\n",
              "      <td>0.00575</td>\n",
              "      <td>2</td>\n",
              "      <td>0.0457</td>\n",
              "      <td>201373</td>\n",
              "    </tr>\n",
              "    <tr>\n",
              "      <th>...</th>\n",
              "      <td>...</td>\n",
              "      <td>...</td>\n",
              "      <td>...</td>\n",
              "      <td>...</td>\n",
              "      <td>...</td>\n",
              "      <td>...</td>\n",
              "      <td>...</td>\n",
              "      <td>...</td>\n",
              "      <td>...</td>\n",
              "    </tr>\n",
              "    <tr>\n",
              "      <th>117</th>\n",
              "      <td>0.519</td>\n",
              "      <td>-9.982</td>\n",
              "      <td>0.4880</td>\n",
              "      <td>0.181</td>\n",
              "      <td>0.000000</td>\n",
              "      <td>0.94400</td>\n",
              "      <td>5</td>\n",
              "      <td>0.0795</td>\n",
              "      <td>82147</td>\n",
              "    </tr>\n",
              "    <tr>\n",
              "      <th>118</th>\n",
              "      <td>0.615</td>\n",
              "      <td>-8.615</td>\n",
              "      <td>0.7470</td>\n",
              "      <td>0.592</td>\n",
              "      <td>0.955000</td>\n",
              "      <td>0.04880</td>\n",
              "      <td>0</td>\n",
              "      <td>0.0443</td>\n",
              "      <td>263673</td>\n",
              "    </tr>\n",
              "    <tr>\n",
              "      <th>119</th>\n",
              "      <td>0.512</td>\n",
              "      <td>-5.128</td>\n",
              "      <td>0.8380</td>\n",
              "      <td>0.955</td>\n",
              "      <td>0.000013</td>\n",
              "      <td>0.17200</td>\n",
              "      <td>7</td>\n",
              "      <td>0.3540</td>\n",
              "      <td>40227</td>\n",
              "    </tr>\n",
              "    <tr>\n",
              "      <th>120</th>\n",
              "      <td>0.807</td>\n",
              "      <td>-9.729</td>\n",
              "      <td>0.9610</td>\n",
              "      <td>0.510</td>\n",
              "      <td>0.115000</td>\n",
              "      <td>0.04100</td>\n",
              "      <td>0</td>\n",
              "      <td>0.0433</td>\n",
              "      <td>279773</td>\n",
              "    </tr>\n",
              "    <tr>\n",
              "      <th>121</th>\n",
              "      <td>0.500</td>\n",
              "      <td>-9.995</td>\n",
              "      <td>0.0766</td>\n",
              "      <td>0.470</td>\n",
              "      <td>0.880000</td>\n",
              "      <td>0.79800</td>\n",
              "      <td>0</td>\n",
              "      <td>0.0395</td>\n",
              "      <td>157000</td>\n",
              "    </tr>\n",
              "  </tbody>\n",
              "</table>\n",
              "<p>122 rows × 9 columns</p>\n",
              "</div>"
            ],
            "text/plain": [
              "     danceability  loudness  valence  ...  key  speechiness  duration_ms\n",
              "0           0.662   -13.606   0.9610  ...   10       0.0417       252560\n",
              "1           0.640    -8.114   0.5460  ...    5       0.1860       197867\n",
              "2           0.716    -5.313   0.9100  ...    5       0.0495       161747\n",
              "3           0.468    -6.536   0.7620  ...    8       0.0843       204507\n",
              "4           0.397    -4.577   0.5560  ...    2       0.0457       201373\n",
              "..            ...       ...      ...  ...  ...          ...          ...\n",
              "117         0.519    -9.982   0.4880  ...    5       0.0795        82147\n",
              "118         0.615    -8.615   0.7470  ...    0       0.0443       263673\n",
              "119         0.512    -5.128   0.8380  ...    7       0.3540        40227\n",
              "120         0.807    -9.729   0.9610  ...    0       0.0433       279773\n",
              "121         0.500    -9.995   0.0766  ...    0       0.0395       157000\n",
              "\n",
              "[122 rows x 9 columns]"
            ]
          },
          "execution_count": 180,
          "metadata": {},
          "output_type": "execute_result"
        }
      ],
      "source": [
        "sourceData"
      ]
    },
    {
      "cell_type": "code",
      "execution_count": null,
      "metadata": {
        "id": "bSaIWkOdApE1"
      },
      "outputs": [],
      "source": [
        "# model = gbc\n",
        "# model = keras_pipeline\n",
        "model = nn_stk"
      ]
    },
    {
      "cell_type": "code",
      "execution_count": null,
      "metadata": {
        "id": "kYpvHxkVpcYZ"
      },
      "outputs": [],
      "source": [
        "pred = model.predict(sourceData)"
      ]
    },
    {
      "cell_type": "code",
      "execution_count": null,
      "metadata": {
        "colab": {
          "base_uri": "https://localhost:8080/"
        },
        "id": "go6LrBuazxhr",
        "outputId": "87992b3d-3f67-465a-c467-8c4b1717518e"
      },
      "outputs": [
        {
          "data": {
            "text/plain": [
              "{'added_at': '2020-10-01T05:24:42Z',\n",
              " 'added_by': {'external_urls': {'spotify': 'https://open.spotify.com/user/agwx2'},\n",
              "  'href': 'https://api.spotify.com/v1/users/agwx2',\n",
              "  'id': 'agwx2',\n",
              "  'type': 'user',\n",
              "  'uri': 'spotify:user:agwx2'},\n",
              " 'is_local': False,\n",
              " 'primary_color': None,\n",
              " 'track': None,\n",
              " 'video_thumbnail': None}"
            ]
          },
          "execution_count": 183,
          "metadata": {},
          "output_type": "execute_result"
        }
      ],
      "source": [
        "source_playlist_songs[0]"
      ]
    },
    {
      "cell_type": "code",
      "execution_count": null,
      "metadata": {
        "colab": {
          "base_uri": "https://localhost:8080/"
        },
        "id": "oIe54z9npnog",
        "outputId": "c3ac7a3a-ca54-4c10-c5eb-9b994e5a3bd5"
      },
      "outputs": [
        {
          "name": "stdout",
          "output_type": "stream",
          "text": [
            "ACCEPTED\n",
            "Song: Beautiful People (feat. Khalid), By: Ed Sheeran\n",
            "Song: Revolution 909, By: Daft Punk\n",
            "Song: That's Life, By: Still Woozy\n",
            "Song: Order More (feat. Starrah), By: G-Eazy\n",
            "Song: Paper Trail$, By: Joey Bada$$\n",
            "Song: Baby, By: Brandy\n",
            "Song: I Like Dat, By: T-Pain\n",
            "Song: Lost Cause, By: Billie Eilish\n",
            "Song: STUNNAMAN (with Roddy Ricch & feat. Lil Wayne), By: Birdman\n",
            "Song: Baddest (feat. Chris Brown & 2 Chainz), By: Yung Bleu\n",
            "Song: Y U DON'T LOVE ME? (MISS AMERIKKKA), By: Joey Bada$$\n",
            "Song: Easy Love, By: Lauv\n",
            "Song: DRUGS, By: Tai Verdes\n",
            "Song: Loser, By: Beck\n",
            "Song: Run To The Sun, By: N.E.R.D\n",
            "Song: Crush, By: Souly Had\n",
            "Song: Didn't Cha Know, By: Erykah Badu\n",
            "Song: Red (Brothel Remix), By: Lucy Daydream\n",
            "Song: Rocky, By: Still Woozy\n",
            "Song: Butterflies, By: Michael Jackson\n",
            "Song: Bake Sale (feat. Travis Scott), By: Wiz Khalifa\n",
            "Song: CASINO, By: Ashton Travis\n",
            "Song: favorable colours, By: slenderbodies\n",
            "Song: Outside, By: Weston Estate\n",
            "Song: Another One Bites The Dust - Remastered 2011, By: Queen\n",
            "REJECTED\n",
            "Song: Part-Time Lover, By: Stevie Wonder\n",
            "Song: Antisocial (with Travis Scott), By: Ed Sheeran\n",
            "Song: I Don't Want Your Money (feat. H.E.R.), By: Ed Sheeran\n",
            "Song: Meant to Live, By: Switchfoot\n",
            "Song: Meant To Live - Acoustic Version, By: Switchfoot\n",
            "Song: Chamber Of Reflection, By: Mac DeMarco\n",
            "Song: Wavy, By: Janko Nilovic\n",
            "Song: Malibu 1992, By: COIN\n",
            "Song: Soap On Your Skin, By: The Solids\n",
            "Song: Across The Overpass, By: The Solids\n",
            "Song: Hey Beautiful - From \"How I Met Your Mother\"/Theme, By: The Solids\n",
            "Song: Twenty Something, By: Nightly\n",
            "Song: BYE, By: Jaden\n",
            "Song: Lost In Yesterday, By: Tame Impala\n",
            "Song: Miss The Rage (feat. Playboi Carti), By: Trippie Redd\n",
            "Song: Starchild, By: Burn Pilot\n",
            "Song: Young Blood, By: The Naked And Famous\n",
            "Song: Saturday, By: Twenty One Pilots\n",
            "Song: LMLY, By: Jackson Wang\n",
            "Song: My Hero, By: Foo Fighters\n",
            "Song: Everlong, By: Foo Fighters\n",
            "Song: Times Like These, By: Foo Fighters\n",
            "Song: the angel of 8th ave., By: Gang of Youths\n",
            "Song: love race (feat. Kellin Quinn), By: Machine Gun Kelly\n",
            "Song: Enghave, By: Marco Egeberg\n",
            "Song: Under Pressure, By: Queen\n",
            "Song: Relax, By: Frankie Goes To Hollywood\n",
            "Song: Mr. Roboto, By: Styx\n",
            "Song: Rockstar, By: Mallrat\n",
            "Song: Galaxies, By: Laura Veirs\n",
            "Song: A Man And A Woman, By: Charlie Byrd\n",
            "Song: Over Now (with The Weeknd), By: Calvin Harris\n",
            "Song: If I Got It (Your Love Brought It), By: Aaron Frazer\n",
            "Song: Cane Shuga, By: Glass Animals\n",
            "Song: Moon Rider (feat. Wrabel), By: Jai Wolf\n",
            "Song: When Am I Gonna Lose You, By: Local Natives\n",
            "Song: Electric Feel, By: Lucy Daydream\n",
            "Song: Shout, By: Tears For Fears\n",
            "Song: Fully Alive, By: Flyleaf\n",
            "Song: Broken, By: Tears For Fears\n",
            "Song: Head Over Heels / Broken, By: Tears For Fears\n",
            "Song: Don't You (Forget About Me), By: Simple Minds\n",
            "Song: Animal, By: Def Leppard\n",
            "Song: Mad World (Feat. Michael Andrews), By: Gary Jules\n",
            "Song: Thing For You, By: Randall Bramblett\n",
            "Song: Don't You (Forget About Me), By: David Cook\n",
            "Song: More Than This, By: Roxy Music\n",
            "Song: cherry blossom, By: slenderbodies\n",
            "Song: out 4 a breather, By: dad sports\n",
            "Song: Horizon, By: Nujabes\n",
            "Song: Two Hearts, By: Zola Blood\n",
            "Song: Nightfall, By: Mimi Page\n",
            "Song: Secunda, By: Jeremy Soule\n",
            "Song: The World Retreats, By: David O'Dowda\n",
            "Song: Atlas - From “The Hunger Games: Catching Fire” Soundtrack, By: Coldplay\n",
            "Song: Weird Fishes/ Arpeggi, By: Radiohead\n",
            "Song: Tur, By: Marco Egeberg\n",
            "Song: With you, By: Cécile Corbel\n",
            "Song: Exploration, By: Bruno Coulais\n",
            "Song: Broken Sleep, By: Agnes Obel\n",
            "Song: Midnight, By: Coldplay\n",
            "Song: Blood Pressurize, By: RemoteTreeChildren\n",
            "Song: Under The Pressure, By: The War On Drugs\n",
            "Song: Round and Round, By: Ratt\n",
            "Song: Everybody Wants To Rule The World, By: Tears For Fears\n",
            "Song: Eminence Front, By: The Who\n",
            "Song: Grab as Much (as you can), By: The Black Angels\n",
            "Song: Take on Me, By: a-ha\n",
            "Song: Metal Gods, By: Judas Priest\n",
            "Song: Wake Me Up Before You Go-Go, By: Wham!\n",
            "Song: Mad World, By: Tears For Fears\n",
            "Song: Hysteria, By: Def Leppard\n",
            "Song: Who Are You, By: The Who\n",
            "Song: Diamonds and Rust, By: Judas Priest\n",
            "Song: Helter Skelter - Live, By: U2\n",
            "Song: Secrets, By: The Weeknd\n",
            "Song: Pale Shelter - 2nd Single Version, By: Tears For Fears\n",
            "Song: Armageddon It, By: Def Leppard\n",
            "Song: Careless Whisper, By: George Michael\n",
            "Song: Strangers, By: Roosevelt\n",
            "Song: Photograph, By: Def Leppard\n",
            "Song: Walk This Way, By: Aerosmith\n",
            "Song: Where The Streets Have No Name - Remastered, By: U2\n",
            "Song: Helter Skelter - Outtake - 1975, By: Aerosmith\n",
            "Song: Dancing Queen, By: ABBA\n",
            "Song: BoJack's Theme, By: Patrick Carney\n",
            "Song: Cold Cold Man, By: Saint Motel\n",
            "Song: A Horse with No Name, By: Patrick Carney\n",
            "Song: Back in the 90's, By: Grouplove\n",
            "Song: Stars (Live at Montreux), By: Nina Simone\n",
            "Song: A Horse with No Name, By: America\n",
            "Song: Hallway, By: Jesse Novak\n",
            "Song: I Will Always Think of You, By: Jane Krakowski\n",
            "Song: BoJack's Theme (Full Length), By: Patrick Carney\n",
            "Song: Mr. Peanutbutter's House Theme, By: Jesse Novak\n",
            "Song: Fragments of Time (feat. Todd Edwards), By: Daft Punk\n",
            "Song: For the Damaged Coda, By: Blonde Redhead\n"
          ]
        }
      ],
      "source": [
        "\n",
        "source_playlist_songs = source_playlist['tracks']['items']\n",
        "\n",
        "print(\"ACCEPTED\")\n",
        "\n",
        "\n",
        "i = 0\n",
        "for prediction in pred:\n",
        "    if prediction == 1 and i + 1 < len(source_playlist_songs):\n",
        "        song_title = source_playlist_songs[i + 1]['track']['name']\n",
        "        artist_name = source_playlist_songs[i + 1]['track']['artists'][0]['name']\n",
        "        print (\"Song: \" + song_title + \", By: \"+ artist_name)\n",
        "    i = i + 1\n",
        "\n",
        "\n",
        "print(\"REJECTED\")\n",
        "\n",
        "i = 0\n",
        "for prediction in pred:\n",
        "    if prediction == 0 and i + 1 < len(source_playlist_songs):\n",
        "        song_title = source_playlist_songs[i + 1]['track']['name']\n",
        "        artist_name = source_playlist_songs[i + 1]['track']['artists'][0]['name']\n",
        "        print (\"Song: \" + song_title + \", By: \"+ artist_name)\n",
        "    i = i + 1"
      ]
    }
  ],
  "metadata": {
    "colab": {
      "collapsed_sections": [
        "QK7_salHtjAo",
        "DzcmdM3xtoWp",
        "0dLN8eo3uiQV",
        "VEGoAt1lrb-m",
        "9zoUecGcAfMd",
        "XhxUGWglrGfk",
        "L80OacIGx71q"
      ],
      "name": "Spotify Suggestion Model V3.ipynb",
      "provenance": []
    },
    "kernelspec": {
      "display_name": "Python 3",
      "name": "python3"
    },
    "language_info": {
      "codemirror_mode": {
        "name": "ipython",
        "version": 3
      },
      "file_extension": ".py",
      "mimetype": "text/x-python",
      "name": "python",
      "nbconvert_exporter": "python",
      "pygments_lexer": "ipython3",
      "version": "3.8.13"
    }
  },
  "nbformat": 4,
  "nbformat_minor": 0
}
